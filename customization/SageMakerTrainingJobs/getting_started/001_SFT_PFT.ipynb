{
 "cells": [
  {
   "cell_type": "markdown",
   "id": "4ad542e7-9ef8-41d1-9d6c-3c6c2efb7f19",
   "metadata": {},
   "source": [
    "# Supervised Fine-Tuning (SFT) with Parameter Efficient Fine Tuning(PEFT LoRA) of Amazon Nova using Amazon SageMaker Training Job\n",
    "\n",
    "You can customize Amazon Nova models through base recipes using Amazon SageMaker training jobs. These recipes support Supervised Fine-Tuning (SFT) and Direct Preference Optimization (DPO), with both Full-Rank and Low-Rank Adaptation (LoRA) options.\n",
    "\n",
    "The end-to-end customization workflow involves stages like model training, model evaluation, and deployment for inference. This model customization approach on SageMaker AI provides greater flexibility and control to fine-tune its supported Amazon Nova models, optimize hyperparameters with precision, and implement techniques including LoRA Parameter-Efficient Fine-Tuning (PEFT), Full-Rank Supervised Fine-Tuning, and Direct Preference Optimization (DPO).\n",
    "\n",
    "This notebook demonstrates Supervised Fine-Tuning (SFT) with Parameter-Efficient Fine-Tuning (PEFT) of Amazon Nova using Amazon SageMaker Training Job. SFT is a technique that allows fine-tuning language models on specific tasks using labeled examples, while PEFT enables efficient fine-tuning by updating only a small subset of the model's parameters.\n",
    "\n",
    "\n",
    "> _**Note:** This notebook demonstrates fine-tuning using Nova Lite, but the same techniques can be applied to Nova Pro or Nova Micro models with appropriate adjustments to the configuration._\n"
   ]
  },
  {
   "cell_type": "markdown",
   "id": "2e809d78-c38c-4de2-b5ee-b77c0aa9b843",
   "metadata": {},
   "source": [
    "## Installing Dependencies\n",
    "\n",
    "The first cell installs the required Python packages for this notebook. For more details on other pre-requisites needed check out [AWS Documentation](https://docs.aws.amazon.com/sagemaker/latest/dg/nova-model-general-prerequisites.html)"
   ]
  },
  {
   "cell_type": "code",
   "execution_count": 1,
   "id": "907944ea-dbfb-4de0-9e13-1fd28c901031",
   "metadata": {
    "scrolled": true,
    "tags": []
   },
   "outputs": [
    {
     "name": "stdout",
     "output_type": "stream",
     "text": [
      "Looking in indexes: https://pypi.python.org/simple\n",
      "Requirement already satisfied: sagemaker in /Users/dewanup/.pyenv/versions/3.11.0/lib/python3.11/site-packages (from -r ./requirements.txt (line 1)) (2.248.1)\n",
      "Requirement already satisfied: boto3 in /Users/dewanup/.pyenv/versions/3.11.0/lib/python3.11/site-packages (from -r ./requirements.txt (line 2)) (1.39.4)\n",
      "Collecting boto3\n",
      "  Downloading boto3-1.39.6-py3-none-any.whl (139 kB)\n",
      "\u001b[2K     \u001b[90m━━━━━━━━━━━━━━━━━━━━━━━━━━━━━━━━━━━━━━━\u001b[0m \u001b[32m139.9/139.9 kB\u001b[0m \u001b[31m5.8 MB/s\u001b[0m eta \u001b[36m0:00:00\u001b[0m\n",
      "\u001b[?25hRequirement already satisfied: datasets==3.5.1 in /Users/dewanup/.pyenv/versions/3.11.0/lib/python3.11/site-packages (from -r ./requirements.txt (line 3)) (3.5.1)\n",
      "Requirement already satisfied: sagemaker-mlflow==0.1.0 in /Users/dewanup/.pyenv/versions/3.11.0/lib/python3.11/site-packages (from -r ./requirements.txt (line 4)) (0.1.0)\n",
      "Requirement already satisfied: scikit-learn==1.6.1 in /Users/dewanup/.pyenv/versions/3.11.0/lib/python3.11/site-packages (from -r ./requirements.txt (line 5)) (1.6.1)\n",
      "Requirement already satisfied: psutil in /Users/dewanup/.pyenv/versions/3.11.0/lib/python3.11/site-packages (from -r ./requirements.txt (line 6)) (7.0.0)\n",
      "Requirement already satisfied: py7zr in /Users/dewanup/.pyenv/versions/3.11.0/lib/python3.11/site-packages (from -r ./requirements.txt (line 7)) (1.0.0)\n",
      "Requirement already satisfied: filelock in /Users/dewanup/.pyenv/versions/3.11.0/lib/python3.11/site-packages (from datasets==3.5.1->-r ./requirements.txt (line 3)) (3.18.0)\n",
      "Requirement already satisfied: numpy>=1.17 in /Users/dewanup/.pyenv/versions/3.11.0/lib/python3.11/site-packages (from datasets==3.5.1->-r ./requirements.txt (line 3)) (1.26.4)\n",
      "Requirement already satisfied: pyarrow>=15.0.0 in /Users/dewanup/.pyenv/versions/3.11.0/lib/python3.11/site-packages (from datasets==3.5.1->-r ./requirements.txt (line 3)) (20.0.0)\n",
      "Requirement already satisfied: dill<0.3.9,>=0.3.0 in /Users/dewanup/.pyenv/versions/3.11.0/lib/python3.11/site-packages (from datasets==3.5.1->-r ./requirements.txt (line 3)) (0.3.8)\n",
      "Requirement already satisfied: pandas in /Users/dewanup/.pyenv/versions/3.11.0/lib/python3.11/site-packages (from datasets==3.5.1->-r ./requirements.txt (line 3)) (2.3.0)\n",
      "Requirement already satisfied: requests>=2.32.2 in /Users/dewanup/.pyenv/versions/3.11.0/lib/python3.11/site-packages (from datasets==3.5.1->-r ./requirements.txt (line 3)) (2.32.4)\n",
      "Requirement already satisfied: tqdm>=4.66.3 in /Users/dewanup/.pyenv/versions/3.11.0/lib/python3.11/site-packages (from datasets==3.5.1->-r ./requirements.txt (line 3)) (4.66.5)\n",
      "Requirement already satisfied: xxhash in /Users/dewanup/.pyenv/versions/3.11.0/lib/python3.11/site-packages (from datasets==3.5.1->-r ./requirements.txt (line 3)) (3.5.0)\n",
      "Requirement already satisfied: multiprocess<0.70.17 in /Users/dewanup/.pyenv/versions/3.11.0/lib/python3.11/site-packages (from datasets==3.5.1->-r ./requirements.txt (line 3)) (0.70.16)\n",
      "Requirement already satisfied: fsspec[http]<=2025.3.0,>=2023.1.0 in /Users/dewanup/.pyenv/versions/3.11.0/lib/python3.11/site-packages (from datasets==3.5.1->-r ./requirements.txt (line 3)) (2025.3.0)\n",
      "Requirement already satisfied: aiohttp in /Users/dewanup/.pyenv/versions/3.11.0/lib/python3.11/site-packages (from datasets==3.5.1->-r ./requirements.txt (line 3)) (3.12.13)\n",
      "Requirement already satisfied: huggingface-hub>=0.24.0 in /Users/dewanup/.pyenv/versions/3.11.0/lib/python3.11/site-packages (from datasets==3.5.1->-r ./requirements.txt (line 3)) (0.33.0)\n",
      "Requirement already satisfied: packaging in /Users/dewanup/.pyenv/versions/3.11.0/lib/python3.11/site-packages (from datasets==3.5.1->-r ./requirements.txt (line 3)) (24.2)\n",
      "Requirement already satisfied: pyyaml>=5.1 in /Users/dewanup/.pyenv/versions/3.11.0/lib/python3.11/site-packages (from datasets==3.5.1->-r ./requirements.txt (line 3)) (6.0.2)\n",
      "Requirement already satisfied: mlflow>=2.8 in /Users/dewanup/.pyenv/versions/3.11.0/lib/python3.11/site-packages (from sagemaker-mlflow==0.1.0->-r ./requirements.txt (line 4)) (3.1.0)\n",
      "Requirement already satisfied: scipy>=1.6.0 in /Users/dewanup/.pyenv/versions/3.11.0/lib/python3.11/site-packages (from scikit-learn==1.6.1->-r ./requirements.txt (line 5)) (1.16.0)\n",
      "Requirement already satisfied: joblib>=1.2.0 in /Users/dewanup/.pyenv/versions/3.11.0/lib/python3.11/site-packages (from scikit-learn==1.6.1->-r ./requirements.txt (line 5)) (1.5.1)\n",
      "Requirement already satisfied: threadpoolctl>=3.1.0 in /Users/dewanup/.pyenv/versions/3.11.0/lib/python3.11/site-packages (from scikit-learn==1.6.1->-r ./requirements.txt (line 5)) (3.6.0)\n",
      "Requirement already satisfied: attrs<26,>=24 in /Users/dewanup/.pyenv/versions/3.11.0/lib/python3.11/site-packages (from sagemaker->-r ./requirements.txt (line 1)) (25.3.0)\n",
      "Requirement already satisfied: cloudpickle>=2.2.1 in /Users/dewanup/.pyenv/versions/3.11.0/lib/python3.11/site-packages (from sagemaker->-r ./requirements.txt (line 1)) (3.1.1)\n",
      "Requirement already satisfied: docker in /Users/dewanup/.pyenv/versions/3.11.0/lib/python3.11/site-packages (from sagemaker->-r ./requirements.txt (line 1)) (7.1.0)\n",
      "Requirement already satisfied: fastapi in /Users/dewanup/.pyenv/versions/3.11.0/lib/python3.11/site-packages (from sagemaker->-r ./requirements.txt (line 1)) (0.115.13)\n",
      "Requirement already satisfied: google-pasta in /Users/dewanup/.pyenv/versions/3.11.0/lib/python3.11/site-packages (from sagemaker->-r ./requirements.txt (line 1)) (0.2.0)\n",
      "Requirement already satisfied: graphene<4,>=3 in /Users/dewanup/.pyenv/versions/3.11.0/lib/python3.11/site-packages (from sagemaker->-r ./requirements.txt (line 1)) (3.4.3)\n",
      "Requirement already satisfied: importlib-metadata<7.0,>=1.4.0 in /Users/dewanup/.pyenv/versions/3.11.0/lib/python3.11/site-packages (from sagemaker->-r ./requirements.txt (line 1)) (6.11.0)\n",
      "Requirement already satisfied: jsonschema in /Users/dewanup/.pyenv/versions/3.11.0/lib/python3.11/site-packages (from sagemaker->-r ./requirements.txt (line 1)) (4.24.0)\n",
      "Requirement already satisfied: omegaconf<3,>=2.2 in /Users/dewanup/.pyenv/versions/3.11.0/lib/python3.11/site-packages (from sagemaker->-r ./requirements.txt (line 1)) (2.3.0)\n",
      "Requirement already satisfied: pathos in /Users/dewanup/.pyenv/versions/3.11.0/lib/python3.11/site-packages (from sagemaker->-r ./requirements.txt (line 1)) (0.3.2)\n",
      "Requirement already satisfied: platformdirs in /Users/dewanup/.pyenv/versions/3.11.0/lib/python3.11/site-packages (from sagemaker->-r ./requirements.txt (line 1)) (4.3.8)\n",
      "Requirement already satisfied: protobuf<6.32,>=3.12 in /Users/dewanup/.pyenv/versions/3.11.0/lib/python3.11/site-packages (from sagemaker->-r ./requirements.txt (line 1)) (5.29.5)\n",
      "Requirement already satisfied: sagemaker-core<2.0.0,>=1.0.17 in /Users/dewanup/.pyenv/versions/3.11.0/lib/python3.11/site-packages (from sagemaker->-r ./requirements.txt (line 1)) (1.0.40)\n",
      "Requirement already satisfied: schema in /Users/dewanup/.pyenv/versions/3.11.0/lib/python3.11/site-packages (from sagemaker->-r ./requirements.txt (line 1)) (0.7.7)\n",
      "Requirement already satisfied: smdebug-rulesconfig==1.0.1 in /Users/dewanup/.pyenv/versions/3.11.0/lib/python3.11/site-packages (from sagemaker->-r ./requirements.txt (line 1)) (1.0.1)\n",
      "Requirement already satisfied: tblib<4,>=1.7.0 in /Users/dewanup/.pyenv/versions/3.11.0/lib/python3.11/site-packages (from sagemaker->-r ./requirements.txt (line 1)) (3.1.0)\n",
      "Requirement already satisfied: urllib3<3.0.0,>=1.26.8 in /Users/dewanup/.pyenv/versions/3.11.0/lib/python3.11/site-packages (from sagemaker->-r ./requirements.txt (line 1)) (2.5.0)\n",
      "Requirement already satisfied: uvicorn in /Users/dewanup/.pyenv/versions/3.11.0/lib/python3.11/site-packages (from sagemaker->-r ./requirements.txt (line 1)) (0.34.3)\n",
      "Collecting botocore<1.40.0,>=1.39.6\n",
      "  Downloading botocore-1.39.6-py3-none-any.whl (13.8 MB)\n",
      "\u001b[2K     \u001b[90m━━━━━━━━━━━━━━━━━━━━━━━━━━━━━━━━━━━━━━━━\u001b[0m \u001b[32m13.8/13.8 MB\u001b[0m \u001b[31m13.3 MB/s\u001b[0m eta \u001b[36m0:00:00\u001b[0m00:01\u001b[0m00:01\u001b[0m\n",
      "\u001b[?25hRequirement already satisfied: jmespath<2.0.0,>=0.7.1 in /Users/dewanup/.pyenv/versions/3.11.0/lib/python3.11/site-packages (from boto3->-r ./requirements.txt (line 2)) (1.0.1)\n",
      "Requirement already satisfied: s3transfer<0.14.0,>=0.13.0 in /Users/dewanup/.pyenv/versions/3.11.0/lib/python3.11/site-packages (from boto3->-r ./requirements.txt (line 2)) (0.13.0)\n",
      "Requirement already satisfied: texttable in /Users/dewanup/.pyenv/versions/3.11.0/lib/python3.11/site-packages (from py7zr->-r ./requirements.txt (line 7)) (1.7.0)\n",
      "Requirement already satisfied: pycryptodomex>=3.20.0 in /Users/dewanup/.pyenv/versions/3.11.0/lib/python3.11/site-packages (from py7zr->-r ./requirements.txt (line 7)) (3.23.0)\n",
      "Requirement already satisfied: brotli>=1.1.0 in /Users/dewanup/.pyenv/versions/3.11.0/lib/python3.11/site-packages (from py7zr->-r ./requirements.txt (line 7)) (1.1.0)\n",
      "Requirement already satisfied: pyzstd>=0.16.1 in /Users/dewanup/.pyenv/versions/3.11.0/lib/python3.11/site-packages (from py7zr->-r ./requirements.txt (line 7)) (0.17.0)\n",
      "Requirement already satisfied: pyppmd<1.3.0,>=1.1.0 in /Users/dewanup/.pyenv/versions/3.11.0/lib/python3.11/site-packages (from py7zr->-r ./requirements.txt (line 7)) (1.2.0)\n",
      "Requirement already satisfied: pybcj<1.1.0,>=1.0.0 in /Users/dewanup/.pyenv/versions/3.11.0/lib/python3.11/site-packages (from py7zr->-r ./requirements.txt (line 7)) (1.0.6)\n",
      "Requirement already satisfied: multivolumefile>=0.2.3 in /Users/dewanup/.pyenv/versions/3.11.0/lib/python3.11/site-packages (from py7zr->-r ./requirements.txt (line 7)) (0.2.3)\n",
      "Requirement already satisfied: inflate64<1.1.0,>=1.0.0 in /Users/dewanup/.pyenv/versions/3.11.0/lib/python3.11/site-packages (from py7zr->-r ./requirements.txt (line 7)) (1.0.3)\n",
      "Requirement already satisfied: python-dateutil<3.0.0,>=2.1 in /Users/dewanup/.pyenv/versions/3.11.0/lib/python3.11/site-packages (from botocore<1.40.0,>=1.39.6->boto3->-r ./requirements.txt (line 2)) (2.9.0.post0)\n",
      "Requirement already satisfied: aiohappyeyeballs>=2.5.0 in /Users/dewanup/.pyenv/versions/3.11.0/lib/python3.11/site-packages (from aiohttp->datasets==3.5.1->-r ./requirements.txt (line 3)) (2.6.1)\n",
      "Requirement already satisfied: aiosignal>=1.1.2 in /Users/dewanup/.pyenv/versions/3.11.0/lib/python3.11/site-packages (from aiohttp->datasets==3.5.1->-r ./requirements.txt (line 3)) (1.3.2)\n",
      "Requirement already satisfied: frozenlist>=1.1.1 in /Users/dewanup/.pyenv/versions/3.11.0/lib/python3.11/site-packages (from aiohttp->datasets==3.5.1->-r ./requirements.txt (line 3)) (1.7.0)\n",
      "Requirement already satisfied: multidict<7.0,>=4.5 in /Users/dewanup/.pyenv/versions/3.11.0/lib/python3.11/site-packages (from aiohttp->datasets==3.5.1->-r ./requirements.txt (line 3)) (6.5.0)\n",
      "Requirement already satisfied: propcache>=0.2.0 in /Users/dewanup/.pyenv/versions/3.11.0/lib/python3.11/site-packages (from aiohttp->datasets==3.5.1->-r ./requirements.txt (line 3)) (0.3.2)\n",
      "Requirement already satisfied: yarl<2.0,>=1.17.0 in /Users/dewanup/.pyenv/versions/3.11.0/lib/python3.11/site-packages (from aiohttp->datasets==3.5.1->-r ./requirements.txt (line 3)) (1.20.1)\n",
      "Requirement already satisfied: graphql-core<3.3,>=3.1 in /Users/dewanup/.pyenv/versions/3.11.0/lib/python3.11/site-packages (from graphene<4,>=3->sagemaker->-r ./requirements.txt (line 1)) (3.2.6)\n",
      "Requirement already satisfied: graphql-relay<3.3,>=3.1 in /Users/dewanup/.pyenv/versions/3.11.0/lib/python3.11/site-packages (from graphene<4,>=3->sagemaker->-r ./requirements.txt (line 1)) (3.2.0)\n",
      "Requirement already satisfied: typing-extensions<5,>=4.7.1 in /Users/dewanup/.pyenv/versions/3.11.0/lib/python3.11/site-packages (from graphene<4,>=3->sagemaker->-r ./requirements.txt (line 1)) (4.14.0)\n",
      "Requirement already satisfied: hf-xet<2.0.0,>=1.1.2 in /Users/dewanup/.pyenv/versions/3.11.0/lib/python3.11/site-packages (from huggingface-hub>=0.24.0->datasets==3.5.1->-r ./requirements.txt (line 3)) (1.1.5)\n",
      "Requirement already satisfied: zipp>=0.5 in /Users/dewanup/.pyenv/versions/3.11.0/lib/python3.11/site-packages (from importlib-metadata<7.0,>=1.4.0->sagemaker->-r ./requirements.txt (line 1)) (3.23.0)\n",
      "Requirement already satisfied: mlflow-skinny==3.1.0 in /Users/dewanup/.pyenv/versions/3.11.0/lib/python3.11/site-packages (from mlflow>=2.8->sagemaker-mlflow==0.1.0->-r ./requirements.txt (line 4)) (3.1.0)\n",
      "Requirement already satisfied: Flask<4 in /Users/dewanup/.pyenv/versions/3.11.0/lib/python3.11/site-packages (from mlflow>=2.8->sagemaker-mlflow==0.1.0->-r ./requirements.txt (line 4)) (3.1.1)\n",
      "Requirement already satisfied: alembic!=1.10.0,<2 in /Users/dewanup/.pyenv/versions/3.11.0/lib/python3.11/site-packages (from mlflow>=2.8->sagemaker-mlflow==0.1.0->-r ./requirements.txt (line 4)) (1.16.2)\n",
      "Requirement already satisfied: gunicorn<24 in /Users/dewanup/.pyenv/versions/3.11.0/lib/python3.11/site-packages (from mlflow>=2.8->sagemaker-mlflow==0.1.0->-r ./requirements.txt (line 4)) (23.0.0)\n",
      "Requirement already satisfied: matplotlib<4 in /Users/dewanup/.pyenv/versions/3.11.0/lib/python3.11/site-packages (from mlflow>=2.8->sagemaker-mlflow==0.1.0->-r ./requirements.txt (line 4)) (3.10.3)\n",
      "Requirement already satisfied: sqlalchemy<3,>=1.4.0 in /Users/dewanup/.pyenv/versions/3.11.0/lib/python3.11/site-packages (from mlflow>=2.8->sagemaker-mlflow==0.1.0->-r ./requirements.txt (line 4)) (2.0.41)\n",
      "Requirement already satisfied: cachetools<7,>=5.0.0 in /Users/dewanup/.pyenv/versions/3.11.0/lib/python3.11/site-packages (from mlflow-skinny==3.1.0->mlflow>=2.8->sagemaker-mlflow==0.1.0->-r ./requirements.txt (line 4)) (5.5.2)\n",
      "Requirement already satisfied: click<9,>=7.0 in /Users/dewanup/.pyenv/versions/3.11.0/lib/python3.11/site-packages (from mlflow-skinny==3.1.0->mlflow>=2.8->sagemaker-mlflow==0.1.0->-r ./requirements.txt (line 4)) (8.1.7)\n",
      "Requirement already satisfied: databricks-sdk<1,>=0.20.0 in /Users/dewanup/.pyenv/versions/3.11.0/lib/python3.11/site-packages (from mlflow-skinny==3.1.0->mlflow>=2.8->sagemaker-mlflow==0.1.0->-r ./requirements.txt (line 4)) (0.57.0)\n",
      "Requirement already satisfied: gitpython<4,>=3.1.9 in /Users/dewanup/.pyenv/versions/3.11.0/lib/python3.11/site-packages (from mlflow-skinny==3.1.0->mlflow>=2.8->sagemaker-mlflow==0.1.0->-r ./requirements.txt (line 4)) (3.1.44)\n",
      "Requirement already satisfied: opentelemetry-api<3,>=1.9.0 in /Users/dewanup/.pyenv/versions/3.11.0/lib/python3.11/site-packages (from mlflow-skinny==3.1.0->mlflow>=2.8->sagemaker-mlflow==0.1.0->-r ./requirements.txt (line 4)) (1.34.1)\n",
      "Requirement already satisfied: opentelemetry-sdk<3,>=1.9.0 in /Users/dewanup/.pyenv/versions/3.11.0/lib/python3.11/site-packages (from mlflow-skinny==3.1.0->mlflow>=2.8->sagemaker-mlflow==0.1.0->-r ./requirements.txt (line 4)) (1.34.1)\n",
      "Requirement already satisfied: pydantic<3,>=1.10.8 in /Users/dewanup/.pyenv/versions/3.11.0/lib/python3.11/site-packages (from mlflow-skinny==3.1.0->mlflow>=2.8->sagemaker-mlflow==0.1.0->-r ./requirements.txt (line 4)) (2.11.7)\n",
      "Requirement already satisfied: sqlparse<1,>=0.4.0 in /Users/dewanup/.pyenv/versions/3.11.0/lib/python3.11/site-packages (from mlflow-skinny==3.1.0->mlflow>=2.8->sagemaker-mlflow==0.1.0->-r ./requirements.txt (line 4)) (0.5.3)\n",
      "Requirement already satisfied: starlette<0.47.0,>=0.40.0 in /Users/dewanup/.pyenv/versions/3.11.0/lib/python3.11/site-packages (from fastapi->sagemaker->-r ./requirements.txt (line 1)) (0.46.2)\n",
      "Requirement already satisfied: antlr4-python3-runtime==4.9.* in /Users/dewanup/.pyenv/versions/3.11.0/lib/python3.11/site-packages (from omegaconf<3,>=2.2->sagemaker->-r ./requirements.txt (line 1)) (4.9.3)\n",
      "Requirement already satisfied: pytz>=2020.1 in /Users/dewanup/.pyenv/versions/3.11.0/lib/python3.11/site-packages (from pandas->datasets==3.5.1->-r ./requirements.txt (line 3)) (2025.2)\n",
      "Requirement already satisfied: tzdata>=2022.7 in /Users/dewanup/.pyenv/versions/3.11.0/lib/python3.11/site-packages (from pandas->datasets==3.5.1->-r ./requirements.txt (line 3)) (2025.2)\n",
      "Requirement already satisfied: charset_normalizer<4,>=2 in /Users/dewanup/.pyenv/versions/3.11.0/lib/python3.11/site-packages (from requests>=2.32.2->datasets==3.5.1->-r ./requirements.txt (line 3)) (3.4.2)\n",
      "Requirement already satisfied: idna<4,>=2.5 in /Users/dewanup/.pyenv/versions/3.11.0/lib/python3.11/site-packages (from requests>=2.32.2->datasets==3.5.1->-r ./requirements.txt (line 3)) (3.10)\n",
      "Requirement already satisfied: certifi>=2017.4.17 in /Users/dewanup/.pyenv/versions/3.11.0/lib/python3.11/site-packages (from requests>=2.32.2->datasets==3.5.1->-r ./requirements.txt (line 3)) (2025.6.15)\n",
      "Requirement already satisfied: rich<15.0.0,>=14.0.0 in /Users/dewanup/.pyenv/versions/3.11.0/lib/python3.11/site-packages (from sagemaker-core<2.0.0,>=1.0.17->sagemaker->-r ./requirements.txt (line 1)) (14.0.0)\n",
      "Requirement already satisfied: mock<5.0,>4.0 in /Users/dewanup/.pyenv/versions/3.11.0/lib/python3.11/site-packages (from sagemaker-core<2.0.0,>=1.0.17->sagemaker->-r ./requirements.txt (line 1)) (4.0.3)\n",
      "Requirement already satisfied: jsonschema-specifications>=2023.03.6 in /Users/dewanup/.pyenv/versions/3.11.0/lib/python3.11/site-packages (from jsonschema->sagemaker->-r ./requirements.txt (line 1)) (2025.4.1)\n",
      "Requirement already satisfied: referencing>=0.28.4 in /Users/dewanup/.pyenv/versions/3.11.0/lib/python3.11/site-packages (from jsonschema->sagemaker->-r ./requirements.txt (line 1)) (0.36.2)\n",
      "Requirement already satisfied: rpds-py>=0.7.1 in /Users/dewanup/.pyenv/versions/3.11.0/lib/python3.11/site-packages (from jsonschema->sagemaker->-r ./requirements.txt (line 1)) (0.25.1)\n",
      "Requirement already satisfied: h11>=0.8 in /Users/dewanup/.pyenv/versions/3.11.0/lib/python3.11/site-packages (from uvicorn->sagemaker->-r ./requirements.txt (line 1)) (0.16.0)\n",
      "Requirement already satisfied: six in /Users/dewanup/.pyenv/versions/3.11.0/lib/python3.11/site-packages (from google-pasta->sagemaker->-r ./requirements.txt (line 1)) (1.17.0)\n",
      "Requirement already satisfied: ppft>=1.7.6.8 in /Users/dewanup/.pyenv/versions/3.11.0/lib/python3.11/site-packages (from pathos->sagemaker->-r ./requirements.txt (line 1)) (1.7.7)\n",
      "Requirement already satisfied: pox>=0.3.4 in /Users/dewanup/.pyenv/versions/3.11.0/lib/python3.11/site-packages (from pathos->sagemaker->-r ./requirements.txt (line 1)) (0.3.6)\n",
      "Requirement already satisfied: Mako in /Users/dewanup/.pyenv/versions/3.11.0/lib/python3.11/site-packages (from alembic!=1.10.0,<2->mlflow>=2.8->sagemaker-mlflow==0.1.0->-r ./requirements.txt (line 4)) (1.3.10)\n",
      "Requirement already satisfied: blinker>=1.9.0 in /Users/dewanup/.pyenv/versions/3.11.0/lib/python3.11/site-packages (from Flask<4->mlflow>=2.8->sagemaker-mlflow==0.1.0->-r ./requirements.txt (line 4)) (1.9.0)\n",
      "Requirement already satisfied: itsdangerous>=2.2.0 in /Users/dewanup/.pyenv/versions/3.11.0/lib/python3.11/site-packages (from Flask<4->mlflow>=2.8->sagemaker-mlflow==0.1.0->-r ./requirements.txt (line 4)) (2.2.0)\n",
      "Requirement already satisfied: jinja2>=3.1.2 in /Users/dewanup/.pyenv/versions/3.11.0/lib/python3.11/site-packages (from Flask<4->mlflow>=2.8->sagemaker-mlflow==0.1.0->-r ./requirements.txt (line 4)) (3.1.6)\n",
      "Requirement already satisfied: markupsafe>=2.1.1 in /Users/dewanup/.pyenv/versions/3.11.0/lib/python3.11/site-packages (from Flask<4->mlflow>=2.8->sagemaker-mlflow==0.1.0->-r ./requirements.txt (line 4)) (3.0.2)\n",
      "Requirement already satisfied: werkzeug>=3.1.0 in /Users/dewanup/.pyenv/versions/3.11.0/lib/python3.11/site-packages (from Flask<4->mlflow>=2.8->sagemaker-mlflow==0.1.0->-r ./requirements.txt (line 4)) (3.1.3)\n",
      "Requirement already satisfied: contourpy>=1.0.1 in /Users/dewanup/.pyenv/versions/3.11.0/lib/python3.11/site-packages (from matplotlib<4->mlflow>=2.8->sagemaker-mlflow==0.1.0->-r ./requirements.txt (line 4)) (1.3.2)\n",
      "Requirement already satisfied: cycler>=0.10 in /Users/dewanup/.pyenv/versions/3.11.0/lib/python3.11/site-packages (from matplotlib<4->mlflow>=2.8->sagemaker-mlflow==0.1.0->-r ./requirements.txt (line 4)) (0.12.1)\n",
      "Requirement already satisfied: fonttools>=4.22.0 in /Users/dewanup/.pyenv/versions/3.11.0/lib/python3.11/site-packages (from matplotlib<4->mlflow>=2.8->sagemaker-mlflow==0.1.0->-r ./requirements.txt (line 4)) (4.58.4)\n",
      "Requirement already satisfied: kiwisolver>=1.3.1 in /Users/dewanup/.pyenv/versions/3.11.0/lib/python3.11/site-packages (from matplotlib<4->mlflow>=2.8->sagemaker-mlflow==0.1.0->-r ./requirements.txt (line 4)) (1.4.8)\n",
      "Requirement already satisfied: pillow>=8 in /Users/dewanup/.pyenv/versions/3.11.0/lib/python3.11/site-packages (from matplotlib<4->mlflow>=2.8->sagemaker-mlflow==0.1.0->-r ./requirements.txt (line 4)) (11.2.1)\n",
      "Requirement already satisfied: pyparsing>=2.3.1 in /Users/dewanup/.pyenv/versions/3.11.0/lib/python3.11/site-packages (from matplotlib<4->mlflow>=2.8->sagemaker-mlflow==0.1.0->-r ./requirements.txt (line 4)) (3.2.3)\n",
      "Requirement already satisfied: annotated-types>=0.6.0 in /Users/dewanup/.pyenv/versions/3.11.0/lib/python3.11/site-packages (from pydantic<3,>=1.10.8->mlflow-skinny==3.1.0->mlflow>=2.8->sagemaker-mlflow==0.1.0->-r ./requirements.txt (line 4)) (0.7.0)\n",
      "Requirement already satisfied: pydantic-core==2.33.2 in /Users/dewanup/.pyenv/versions/3.11.0/lib/python3.11/site-packages (from pydantic<3,>=1.10.8->mlflow-skinny==3.1.0->mlflow>=2.8->sagemaker-mlflow==0.1.0->-r ./requirements.txt (line 4)) (2.33.2)\n",
      "Requirement already satisfied: typing-inspection>=0.4.0 in /Users/dewanup/.pyenv/versions/3.11.0/lib/python3.11/site-packages (from pydantic<3,>=1.10.8->mlflow-skinny==3.1.0->mlflow>=2.8->sagemaker-mlflow==0.1.0->-r ./requirements.txt (line 4)) (0.4.1)\n",
      "Requirement already satisfied: markdown-it-py>=2.2.0 in /Users/dewanup/.pyenv/versions/3.11.0/lib/python3.11/site-packages (from rich<15.0.0,>=14.0.0->sagemaker-core<2.0.0,>=1.0.17->sagemaker->-r ./requirements.txt (line 1)) (3.0.0)\n",
      "Requirement already satisfied: pygments<3.0.0,>=2.13.0 in /Users/dewanup/.pyenv/versions/3.11.0/lib/python3.11/site-packages (from rich<15.0.0,>=14.0.0->sagemaker-core<2.0.0,>=1.0.17->sagemaker->-r ./requirements.txt (line 1)) (2.19.2)\n",
      "Requirement already satisfied: anyio<5,>=3.6.2 in /Users/dewanup/.pyenv/versions/3.11.0/lib/python3.11/site-packages (from starlette<0.47.0,>=0.40.0->fastapi->sagemaker->-r ./requirements.txt (line 1)) (4.9.0)\n",
      "Requirement already satisfied: sniffio>=1.1 in /Users/dewanup/.pyenv/versions/3.11.0/lib/python3.11/site-packages (from anyio<5,>=3.6.2->starlette<0.47.0,>=0.40.0->fastapi->sagemaker->-r ./requirements.txt (line 1)) (1.3.1)\n",
      "Requirement already satisfied: google-auth~=2.0 in /Users/dewanup/.pyenv/versions/3.11.0/lib/python3.11/site-packages (from databricks-sdk<1,>=0.20.0->mlflow-skinny==3.1.0->mlflow>=2.8->sagemaker-mlflow==0.1.0->-r ./requirements.txt (line 4)) (2.40.3)\n",
      "Requirement already satisfied: gitdb<5,>=4.0.1 in /Users/dewanup/.pyenv/versions/3.11.0/lib/python3.11/site-packages (from gitpython<4,>=3.1.9->mlflow-skinny==3.1.0->mlflow>=2.8->sagemaker-mlflow==0.1.0->-r ./requirements.txt (line 4)) (4.0.12)\n",
      "Requirement already satisfied: mdurl~=0.1 in /Users/dewanup/.pyenv/versions/3.11.0/lib/python3.11/site-packages (from markdown-it-py>=2.2.0->rich<15.0.0,>=14.0.0->sagemaker-core<2.0.0,>=1.0.17->sagemaker->-r ./requirements.txt (line 1)) (0.1.2)\n",
      "Requirement already satisfied: opentelemetry-semantic-conventions==0.55b1 in /Users/dewanup/.pyenv/versions/3.11.0/lib/python3.11/site-packages (from opentelemetry-sdk<3,>=1.9.0->mlflow-skinny==3.1.0->mlflow>=2.8->sagemaker-mlflow==0.1.0->-r ./requirements.txt (line 4)) (0.55b1)\n",
      "Requirement already satisfied: smmap<6,>=3.0.1 in /Users/dewanup/.pyenv/versions/3.11.0/lib/python3.11/site-packages (from gitdb<5,>=4.0.1->gitpython<4,>=3.1.9->mlflow-skinny==3.1.0->mlflow>=2.8->sagemaker-mlflow==0.1.0->-r ./requirements.txt (line 4)) (5.0.2)\n",
      "Requirement already satisfied: pyasn1-modules>=0.2.1 in /Users/dewanup/.pyenv/versions/3.11.0/lib/python3.11/site-packages (from google-auth~=2.0->databricks-sdk<1,>=0.20.0->mlflow-skinny==3.1.0->mlflow>=2.8->sagemaker-mlflow==0.1.0->-r ./requirements.txt (line 4)) (0.4.2)\n",
      "Requirement already satisfied: rsa<5,>=3.1.4 in /Users/dewanup/.pyenv/versions/3.11.0/lib/python3.11/site-packages (from google-auth~=2.0->databricks-sdk<1,>=0.20.0->mlflow-skinny==3.1.0->mlflow>=2.8->sagemaker-mlflow==0.1.0->-r ./requirements.txt (line 4)) (4.7.2)\n",
      "Requirement already satisfied: pyasn1<0.7.0,>=0.6.1 in /Users/dewanup/.pyenv/versions/3.11.0/lib/python3.11/site-packages (from pyasn1-modules>=0.2.1->google-auth~=2.0->databricks-sdk<1,>=0.20.0->mlflow-skinny==3.1.0->mlflow>=2.8->sagemaker-mlflow==0.1.0->-r ./requirements.txt (line 4)) (0.6.1)\n",
      "Installing collected packages: botocore, boto3\n",
      "  Attempting uninstall: botocore\n",
      "    Found existing installation: botocore 1.39.4\n",
      "    Uninstalling botocore-1.39.4:\n",
      "      Successfully uninstalled botocore-1.39.4\n",
      "  Attempting uninstall: boto3\n",
      "    Found existing installation: boto3 1.39.4\n",
      "    Uninstalling boto3-1.39.4:\n",
      "      Successfully uninstalled boto3-1.39.4\n",
      "\u001b[31mERROR: pip's dependency resolver does not currently take into account all the packages that are installed. This behaviour is the source of the following dependency conflicts.\n",
      "awscli 1.41.4 requires botocore==1.39.4, but you have botocore 1.39.6 which is incompatible.\u001b[0m\u001b[31m\n",
      "\u001b[0mSuccessfully installed boto3-1.39.6 botocore-1.39.6\n",
      "\n",
      "\u001b[1m[\u001b[0m\u001b[34;49mnotice\u001b[0m\u001b[1;39;49m]\u001b[0m\u001b[39;49m A new release of pip available: \u001b[0m\u001b[31;49m22.3\u001b[0m\u001b[39;49m -> \u001b[0m\u001b[32;49m25.1.1\u001b[0m\n",
      "\u001b[1m[\u001b[0m\u001b[34;49mnotice\u001b[0m\u001b[1;39;49m]\u001b[0m\u001b[39;49m To update, run: \u001b[0m\u001b[32;49mpip install --upgrade pip\u001b[0m\n"
     ]
    }
   ],
   "source": [
    "! pip install -r ./requirements.txt --upgrade"
   ]
  },
  {
   "cell_type": "markdown",
   "id": "2f6c9e5c-c57c-42cd-baf4-e139422cc147",
   "metadata": {},
   "source": [
    "***"
   ]
  },
  {
   "cell_type": "markdown",
   "id": "7a8b6105-ecec-4213-b56d-589238844dca",
   "metadata": {},
   "source": [
    "## Step 0: Prerequisites\n",
    "\n",
    "This section sets up the necessary AWS credentials and SageMaker session to run the notebook. You'll need proper IAM permissions to use SageMaker.\n",
    "\n",
    "\n",
    "If you are going to use Sagemaker in a local environment. You need access to an IAM Role with the required permissions for Sagemaker. You can find [here](https://docs.aws.amazon.com/sagemaker/latest/dg/sagemaker-roles.html) more about it.\n",
    "\n",
    "The code initializes a SageMaker session, sets up the IAM role, and configures the S3 bucket for storing training data and model artifacts.\n"
   ]
  },
  {
   "cell_type": "code",
   "execution_count": 3,
   "id": "1ce51663-0171-4d54-b16e-f85e3cadb692",
   "metadata": {
    "tags": []
   },
   "outputs": [
    {
     "name": "stdout",
     "output_type": "stream",
     "text": [
      "sagemaker.config INFO - Not applying SDK defaults from location: /Library/Application Support/sagemaker/config.yaml\n",
      "sagemaker.config INFO - Not applying SDK defaults from location: /Users/dewanup/Library/Application Support/sagemaker/config.yaml\n",
      "sagemaker role arn: arn:aws:iam::905418197933:role/NovaCustomizationRole\n",
      "sagemaker bucket: sagemaker-us-east-1-905418197933\n",
      "sagemaker session region: us-east-1\n"
     ]
    }
   ],
   "source": [
    "import sagemaker\n",
    "import boto3\n",
    "\n",
    "sess = sagemaker.Session()\n",
    "sagemaker_session_bucket = None\n",
    "\n",
    "if sagemaker_session_bucket is None and sess is not None:\n",
    "    # set to default bucket if a bucket name is not given\n",
    "    sagemaker_session_bucket = sess.default_bucket()\n",
    "\n",
    "try:\n",
    "    role = sagemaker.get_execution_role()\n",
    "    role= \"arn:aws:iam::905418197933:role/NovaCustomizationRole\"\n",
    "except ValueError:\n",
    "    iam = boto3.client(\"iam\")\n",
    "    role = iam.get_role(RoleName=\"sagemaker_execution_role\")[\"Role\"][\"Arn\"]\n",
    "    role = \"arn:aws:iam::905418197933:role/NovaCustomizationRole\"\n",
    "\n",
    "sess = sagemaker.Session(default_bucket=sagemaker_session_bucket)\n",
    "bucket_name = sess.default_bucket()\n",
    "default_prefix = sess.default_bucket_prefix\n",
    "\n",
    "print(f\"sagemaker role arn: {role}\")\n",
    "print(f\"sagemaker bucket: {sess.default_bucket()}\")\n",
    "print(f\"sagemaker session region: {sess.boto_region_name}\")"
   ]
  },
  {
   "cell_type": "markdown",
   "id": "cab0eea1",
   "metadata": {},
   "source": [
    "### Low-rank adapter fine tuning\n",
    "\n",
    "\n",
    "The most effective and cost-efficient method to enhance the base model performance is through the utilization of Low Rank Adapter (LoRA) fine-tuning. The underlying principle of LoRA is that only a small number of additional weights requires updating to adapt it to new tasks or domains. LoRA efficiently fine-tunes large language models by introducing low-rank trainable weight matrices into specific model layers, reducing the number of trainable parameters while maintaining model quality. A LoRA adapter augments the base foundation model by incorporating lightweight adapter layers that modify the model’s weights during inference, while keeping the original model parameters frozen. This approach is also considered one of the most cost-effective fine-tuning techniques. For more information, see Fine-tune models with adapter inference components\n",
    "\n",
    "In what cases is Low-rank Adapter Fine tuning recommended?\n",
    "\n",
    "* Developers are recommended to generally start with Low-rank Adapter Fine tuning due to its fast training procedure.\n",
    "* It is recommended to use Low-rank Adapter (LoRA) fine-tuning in cases where the base model performance is already satisfactory, and the goal is to enhance the model's capabilities across multiple related tasks, such as text summarization and language translation. LoRA's regularization properties help prevent over-fitting and mitigate the \"forgetting\" of the source domain, ensuring the model remains versatile and adaptable to various applications.\n",
    "* Consider using LoRA for instruction fine-tuning (IFT) scenarios with relatively small datasets. LoRA performs better with smaller, task-specific datasets than broader larger datasets.\n",
    "* It is recommended to leverage Low-rank Adapter (LoRA) fine-tuning on Amazon SageMaker AI when the developer has a larger labeled dataset that exceeds the Bedrock Customization Data Limits.\n",
    "* Additionally, LoRA on SageMaker AI is recommended when the developer has already achieved promising results through Bedrock Customization, and seeks to further optimize hyper-parameters.\n",
    "\n",
    "![imgs/lora_based_arch.png](imgs/lora_based_arch.png)\n"
   ]
  },
  {
   "cell_type": "markdown",
   "id": "d3b95b61-8666-4015-bf2e-fcf68ce38c5b",
   "metadata": {},
   "source": [
    "***"
   ]
  },
  {
   "cell_type": "markdown",
   "id": "82089d28-b97a-4956-83fb-d8c46d44fdb5",
   "metadata": {},
   "source": [
    "## Step 1: Prepare the dataset\n",
    "\n",
    "In this example, we are going to load [glaiveai/glaive-function-calling-v2](https://huggingface.co/datasets/glaiveai/glaive-function-calling-v2) dataset, an open-source dataset and model suite focused on enabling and improving function calling capabilities for large language models (LLMs)"
   ]
  },
  {
   "cell_type": "markdown",
   "id": "06af0c5b",
   "metadata": {},
   "source": [
    "### Step 1.1: Data Loading\n",
    "\n",
    "This code loads the first 10,000 examples from the glaive-function-calling-v2 dataset from Hugging Face.\n"
   ]
  },
  {
   "cell_type": "code",
   "execution_count": 4,
   "id": "d481791d-9c86-4d32-a39a-918aff5e432f",
   "metadata": {
    "scrolled": true,
    "tags": []
   },
   "outputs": [
    {
     "data": {
      "text/plain": [
       "Dataset({\n",
       "    features: ['system', 'chat'],\n",
       "    num_rows: 10000\n",
       "})"
      ]
     },
     "execution_count": 4,
     "metadata": {},
     "output_type": "execute_result"
    }
   ],
   "source": [
    "from datasets import load_dataset\n",
    "\n",
    "dataset = load_dataset(\"glaiveai/glaive-function-calling-v2\", split=\"train[:10000]\")\n",
    "\n",
    "dataset"
   ]
  },
  {
   "cell_type": "markdown",
   "id": "9a886915-851d-44aa-9acc-5791076567d3",
   "metadata": {},
   "source": [
    "Converting the dataset to a pandas DataFrame makes it easier to work with and manipulate.\n"
   ]
  },
  {
   "cell_type": "code",
   "execution_count": 5,
   "id": "8db8dc84",
   "metadata": {
    "tags": []
   },
   "outputs": [],
   "source": [
    "from utils.preprocessing import glaive_to_standard_format\n",
    "\n",
    "processed_dataset = glaive_to_standard_format(dataset)"
   ]
  },
  {
   "cell_type": "code",
   "execution_count": 6,
   "id": "731e78ec",
   "metadata": {
    "tags": []
   },
   "outputs": [
    {
     "data": {
      "text/html": [
       "<div>\n",
       "<style scoped>\n",
       "    .dataframe tbody tr th:only-of-type {\n",
       "        vertical-align: middle;\n",
       "    }\n",
       "\n",
       "    .dataframe tbody tr th {\n",
       "        vertical-align: top;\n",
       "    }\n",
       "\n",
       "    .dataframe thead th {\n",
       "        text-align: right;\n",
       "    }\n",
       "</style>\n",
       "<table border=\"1\" class=\"dataframe\">\n",
       "  <thead>\n",
       "    <tr style=\"text-align: right;\">\n",
       "      <th></th>\n",
       "      <th>system</th>\n",
       "      <th>chat</th>\n",
       "      <th>messages</th>\n",
       "      <th>tools</th>\n",
       "    </tr>\n",
       "  </thead>\n",
       "  <tbody>\n",
       "    <tr>\n",
       "      <th>0</th>\n",
       "      <td>SYSTEM: You are a helpful assistant with acces...</td>\n",
       "      <td>USER: Can you book a flight for me from New Yo...</td>\n",
       "      <td>[{'content': 'You are a helpful assistant.', '...</td>\n",
       "      <td>[{\"type\": \"function\", \"function\": {\"name\": \"ge...</td>\n",
       "    </tr>\n",
       "    <tr>\n",
       "      <th>1</th>\n",
       "      <td>SYSTEM: You are a helpful assistant with acces...</td>\n",
       "      <td>USER: Can you tell me the latest news headline...</td>\n",
       "      <td>[{'content': 'You are a helpful assistant.', '...</td>\n",
       "      <td>[{\"type\": \"function\", \"function\": {\"name\": \"ge...</td>\n",
       "    </tr>\n",
       "    <tr>\n",
       "      <th>2</th>\n",
       "      <td>SYSTEM: You are a helpful assistant with acces...</td>\n",
       "      <td>USER: I need a new password. Can you generate ...</td>\n",
       "      <td>[{'content': 'You are a helpful assistant.', '...</td>\n",
       "      <td>[{\"type\": \"function\", \"function\": {\"name\": \"ge...</td>\n",
       "    </tr>\n",
       "    <tr>\n",
       "      <th>3</th>\n",
       "      <td>SYSTEM: You are a helpful assistant with acces...</td>\n",
       "      <td>USER: I need a new password. Can you generate ...</td>\n",
       "      <td>[{'content': 'You are a helpful assistant.', '...</td>\n",
       "      <td>[{\"type\": \"function\", \"function\": {\"name\": \"ge...</td>\n",
       "    </tr>\n",
       "    <tr>\n",
       "      <th>4</th>\n",
       "      <td>SYSTEM: You are a helpful assistant with acces...</td>\n",
       "      <td>USER: Hi, I have a list of numbers and I need ...</td>\n",
       "      <td>[{'content': 'You are a helpful assistant.', '...</td>\n",
       "      <td>[{\"type\": \"function\", \"function\": {\"name\": \"ca...</td>\n",
       "    </tr>\n",
       "  </tbody>\n",
       "</table>\n",
       "</div>"
      ],
      "text/plain": [
       "                                              system  \\\n",
       "0  SYSTEM: You are a helpful assistant with acces...   \n",
       "1  SYSTEM: You are a helpful assistant with acces...   \n",
       "2  SYSTEM: You are a helpful assistant with acces...   \n",
       "3  SYSTEM: You are a helpful assistant with acces...   \n",
       "4  SYSTEM: You are a helpful assistant with acces...   \n",
       "\n",
       "                                                chat  \\\n",
       "0  USER: Can you book a flight for me from New Yo...   \n",
       "1  USER: Can you tell me the latest news headline...   \n",
       "2  USER: I need a new password. Can you generate ...   \n",
       "3  USER: I need a new password. Can you generate ...   \n",
       "4  USER: Hi, I have a list of numbers and I need ...   \n",
       "\n",
       "                                            messages  \\\n",
       "0  [{'content': 'You are a helpful assistant.', '...   \n",
       "1  [{'content': 'You are a helpful assistant.', '...   \n",
       "2  [{'content': 'You are a helpful assistant.', '...   \n",
       "3  [{'content': 'You are a helpful assistant.', '...   \n",
       "4  [{'content': 'You are a helpful assistant.', '...   \n",
       "\n",
       "                                               tools  \n",
       "0  [{\"type\": \"function\", \"function\": {\"name\": \"ge...  \n",
       "1  [{\"type\": \"function\", \"function\": {\"name\": \"ge...  \n",
       "2  [{\"type\": \"function\", \"function\": {\"name\": \"ge...  \n",
       "3  [{\"type\": \"function\", \"function\": {\"name\": \"ge...  \n",
       "4  [{\"type\": \"function\", \"function\": {\"name\": \"ca...  "
      ]
     },
     "execution_count": 6,
     "metadata": {},
     "output_type": "execute_result"
    }
   ],
   "source": [
    "import pandas as pd\n",
    "\n",
    "df = pd.DataFrame(processed_dataset)\n",
    "\n",
    "df.head()"
   ]
  },
  {
   "cell_type": "markdown",
   "id": "60219605",
   "metadata": {},
   "source": [
    "### Step 1.2: Train/Val/Test Split\n",
    "\n",
    "The dataset is split into training (72%), validation (18%), and test (10%) sets to properly evaluate the model. "
   ]
  },
  {
   "cell_type": "code",
   "execution_count": 7,
   "id": "df908a2c",
   "metadata": {
    "tags": []
   },
   "outputs": [
    {
     "name": "stdout",
     "output_type": "stream",
     "text": [
      "Number of train elements:  7178\n",
      "Number of test elements:  998\n",
      "Number of val elements:  1795\n"
     ]
    }
   ],
   "source": [
    "from sklearn.model_selection import train_test_split\n",
    "\n",
    "temp, test = train_test_split(df, test_size=0.1, random_state=42)\n",
    "train, val = train_test_split(temp, test_size=0.2, random_state=42)\n",
    "\n",
    "print(\"Number of train elements: \", len(train))\n",
    "print(\"Number of test elements: \", len(test))\n",
    "print(\"Number of val elements: \", len(val))"
   ]
  },
  {
   "cell_type": "markdown",
   "id": "f368c020-e9a3-48b3-a53b-45404bba9482",
   "metadata": {},
   "source": [
    "### Understanding the Nova Format\n",
    "\n",
    "Let's format the dataset by using the prompt style for Amazon Nova:\n",
    "\n",
    "```\n",
    "{\n",
    "    \"system\": [{\"text\": Content of the System prompt}],\n",
    "    \"messages\": [\n",
    "        {\n",
    "            \"role\": \"user\",\n",
    "            \"content\": [\"text\": Content of the user prompt]\n",
    "        },\n",
    "        {\n",
    "            \"role\": \"assistant\",\n",
    "            \"content\": [\"text\": Content of the answer]\n",
    "        },\n",
    "        ...\n",
    "    ]\n",
    "}\n",
    "```"
   ]
  },
  {
   "cell_type": "markdown",
   "id": "1ec5c7b6",
   "metadata": {},
   "source": [
    "### Step 1.3: Data Preprocessing "
   ]
  },
  {
   "cell_type": "markdown",
   "id": "d5efd8ac",
   "metadata": {},
   "source": [
    "The notebook defines utility functions to clean the dataset content by removing prefixes and handling special cases:\n",
    "\n",
    "```python\n",
    "def clean_prefix(content):\n",
    "    # Removes prefixes like \"USER:\", \"ASSISTANT:\", etc.\n",
    "    ...\n",
    "\n",
    "def clean_message_list(message_list):\n",
    "    # Cleans message lists from None values and converts to proper format\n",
    "    ...\n",
    "\n",
    "def clean_numbered_conversation(message_list):\n",
    "    # Cleans message lists from None values and converts to proper format\n",
    "    ...\n",
    "```"
   ]
  },
  {
   "cell_type": "code",
   "execution_count": 8,
   "id": "43a43702",
   "metadata": {
    "tags": []
   },
   "outputs": [],
   "source": [
    "import json\n",
    "import re\n",
    "\n",
    "\n",
    "def clean_prefix(content):\n",
    "    \"\"\"Remove prefixes from content, according to Nova data_validator\"\"\"\n",
    "    prefixes = [\n",
    "        \"SYSTEM:\",\n",
    "        \"System:\",\n",
    "        \"USER:\",\n",
    "        \"User:\",\n",
    "        \"ASSISTANT:\",\n",
    "        \"Assistant:\",\n",
    "        \"Bot:\",\n",
    "        \"BOT:\",\n",
    "    ]\n",
    "\n",
    "    # Handle array case (list of content items)\n",
    "    if hasattr(content, \"__iter__\") and not isinstance(content, str):\n",
    "        for i, item in enumerate(content):\n",
    "            if isinstance(item, dict) and \"text\" in item:\n",
    "                text = item[\"text\"]\n",
    "                if isinstance(text, str):\n",
    "                    # Clean line by line for multi-line text\n",
    "                    lines = text.split(\"\\n\")\n",
    "                    cleaned_lines = []\n",
    "                    for line in lines:\n",
    "                        cleaned_line = line.strip()\n",
    "                        for prefix in prefixes:\n",
    "                            if cleaned_line.startswith(prefix):\n",
    "                                cleaned_line = cleaned_line[len(prefix) :].strip()\n",
    "                                break\n",
    "                        cleaned_lines.append(cleaned_line)\n",
    "                    item[\"text\"] = \"\\n\".join(cleaned_lines)\n",
    "        return content\n",
    "\n",
    "    # Handle string case\n",
    "    if isinstance(content, str):\n",
    "        lines = content.split(\"\\n\")\n",
    "        cleaned_lines = []\n",
    "        for line in lines:\n",
    "            cleaned_line = line.strip()\n",
    "            for prefix in prefixes:\n",
    "                if cleaned_line.startswith(prefix):\n",
    "                    cleaned_line = cleaned_line[len(prefix) :].strip()\n",
    "                    break\n",
    "            cleaned_lines.append(cleaned_line)\n",
    "        return \"\\n\".join(cleaned_lines)\n",
    "\n",
    "    return content\n",
    "\n",
    "\n",
    "def clean_message_list(message_list):\n",
    "    \"\"\"Clean message list from None values and convert to list of dicts if needed.\"\"\"\n",
    "    if isinstance(message_list, str):\n",
    "        message_list = json.loads(message_list)\n",
    "\n",
    "    tmp_cleaned = []\n",
    "    for msg in message_list:\n",
    "        new_msg = {}\n",
    "        for key, value in msg.items():\n",
    "            if key in [\"content\"]:\n",
    "                if value is None or str(value).lower() == \"None\":\n",
    "                    continue\n",
    "            new_msg[key] = value\n",
    "        tmp_cleaned.append(new_msg)\n",
    "\n",
    "    cleaned = []\n",
    "    for item in tmp_cleaned:\n",
    "        content = item[\"content\"]\n",
    "        for content_item in content:\n",
    "            if isinstance(content_item, dict) and \"text\" in content_item:\n",
    "                text = clean_numbered_conversation(content_item[\"text\"])\n",
    "                content_item[\"text\"] = clean_prefix(text)\n",
    "        cleaned.append({\"role\": item[\"role\"], \"content\": content})\n",
    "\n",
    "    return cleaned\n",
    "\n",
    "\n",
    "# Additional function to specifically handle the numbered conversation format\n",
    "def clean_numbered_conversation(text):\n",
    "    \"\"\"Clean numbered conversation format like '1. User: ...'\"\"\"\n",
    "    if not isinstance(text, str):\n",
    "        return text\n",
    "\n",
    "    # Pattern to match numbered items with User: or Assistant: prefixes\n",
    "    pattern = r\"(\\d+\\.\\s*)(User:|Assistant:)\\s*\"\n",
    "\n",
    "    # Replace the pattern, keeping the number but removing the role prefix\n",
    "    cleaned_text = re.sub(pattern, r\"\\1\", text)\n",
    "\n",
    "    return cleaned_text"
   ]
  },
  {
   "cell_type": "markdown",
   "id": "8dc9f300",
   "metadata": {},
   "source": [
    "These functions transform the dataset into the format required by Nova models, handling tool calls and formatting:\n",
    "\n",
    "```python\n",
    "\n",
    "def transform_tool_format(tool):\n",
    "    # Transforms tool format to Nova's expected format\n",
    "    ...\n",
    "\n",
    "def prepare_dataset(sample):\n",
    "    # Prepares dataset in the required format for Nova models\n",
    "    ...\n",
    "\n",
    "def prepare_dataset_test(sample):\n",
    "    # Formats validation dataset for evaluation\n",
    "    ...\n",
    "```\n"
   ]
  },
  {
   "cell_type": "code",
   "execution_count": 9,
   "id": "86eb8edd-35c0-4cf1-82d3-54417bdabd6a",
   "metadata": {
    "ExecuteTime": {
     "end_time": "2023-09-03T00:02:01.435195Z",
     "start_time": "2023-09-03T00:02:01.429794Z"
    },
    "collapsed": false,
    "jupyter": {
     "outputs_hidden": false
    },
    "tags": []
   },
   "outputs": [],
   "source": [
    "import json\n",
    "\n",
    "def transform_tool_format(tool):\n",
    "    \"\"\"Transform tool from old format to Nova format.\"\"\"\n",
    "    if \"function\" not in tool:\n",
    "        return tool\n",
    "\n",
    "    function = tool[\"function\"]\n",
    "    return {\n",
    "        \"toolSpec\": {\n",
    "            \"name\": function[\"name\"],\n",
    "            \"description\": function[\"description\"],\n",
    "            \"inputSchema\": {\"json\": function[\"parameters\"]},\n",
    "        }\n",
    "    }\n",
    "\n",
    "\n",
    "def prepare_dataset(sample):\n",
    "    \"\"\"Prepare dataset in the required format for Nova models\"\"\"\n",
    "    messages = {\"system\": [], \"messages\": []}\n",
    "\n",
    "    # Process tools upfront if they exist\n",
    "    tools = json.loads(sample[\"tools\"]) if sample.get(\"tools\") else []\n",
    "    transformed_tools = [transform_tool_format(tool) for tool in tools]\n",
    "\n",
    "    formatted_text = (\n",
    "        \"\"  # Initialize outside the loop to avoid undefined variable issues\n",
    "    )\n",
    "\n",
    "    for message in sample[\"messages\"]:\n",
    "        role = message[\"role\"]\n",
    "\n",
    "        if role == \"system\" and tools:\n",
    "            # Build system message with tools\n",
    "            system_text = (\n",
    "                f\"{message['content']}\\n\"\n",
    "                \"You may call one or more functions to assist with the user query.\\n\\n\"\n",
    "                \"You are provided with function signatures within <tools></tools> XML tags:\\n\"\n",
    "                \"<tools>\\n\"\n",
    "                f\"{json.dumps({'tools': transformed_tools})}\\n\"\n",
    "                \"</tools>\\n\\n\"\n",
    "                \"For each function call, return a json object with function name and parameters:\\n\"\n",
    "                '{\"name\": function name, \"parameters\": dictionary of argument name and its value}'\n",
    "            )\n",
    "            messages[\"system\"] = [{\"text\": system_text.lower()}]\n",
    "\n",
    "        elif role == \"user\":\n",
    "            messages[\"messages\"].append(\n",
    "                {\"role\": \"user\", \"content\": [{\"text\": message[\"content\"].lower()}]}\n",
    "            )\n",
    "\n",
    "        elif role == \"tool\":\n",
    "            formatted_text += message[\"content\"]\n",
    "            messages[\"messages\"].append(\n",
    "                {\"role\": \"user\", \"content\": [{\"text\": formatted_text.lower()}]}\n",
    "            )\n",
    "\n",
    "        elif role == \"assistant\":\n",
    "            if message.get(\"tool_calls\"):\n",
    "                # Process tool calls\n",
    "                tool_calls_text = []\n",
    "                for tool_call in message[\"tool_calls\"]:\n",
    "                    function_data = tool_call[\"function\"]\n",
    "                    arguments = (\n",
    "                        json.loads(function_data[\"arguments\"])\n",
    "                        if isinstance(function_data[\"arguments\"], str)\n",
    "                        else function_data[\"arguments\"]\n",
    "                    )\n",
    "                    tool_call_json = {\n",
    "                        \"name\": function_data[\"name\"],\n",
    "                        \"parameters\": arguments,\n",
    "                    }\n",
    "                    tool_calls_text.append(json.dumps(tool_call_json))\n",
    "\n",
    "                messages[\"messages\"].append(\n",
    "                    {\n",
    "                        \"role\": \"assistant\",\n",
    "                        \"content\": [{\"text\": \"\".join(tool_calls_text).lower()}],\n",
    "                    }\n",
    "                )\n",
    "            else:\n",
    "                messages[\"messages\"].append(\n",
    "                    {\"role\": \"assistant\", \"content\": [{\"text\": message[\"content\"].lower()}]}\n",
    "                )\n",
    "\n",
    "    # Remove the last message if it's not from assistant\n",
    "    if messages[\"messages\"] and messages[\"messages\"][-1][\"role\"] != \"assistant\":\n",
    "        messages[\"messages\"].pop()\n",
    "\n",
    "    return messages"
   ]
  },
  {
   "cell_type": "code",
   "execution_count": 10,
   "id": "b41dd482",
   "metadata": {
    "tags": []
   },
   "outputs": [],
   "source": [
    "def prepare_dataset_test(sample):\n",
    "    \"\"\"Parse sample and format it for validation dataset.\"\"\"\n",
    "    # Process tools\n",
    "    tools = json.loads(sample[\"tools\"]) if sample.get(\"tools\") else []\n",
    "    transformed_tools = [transform_tool_format(tool) for tool in tools]\n",
    "\n",
    "    # Initialize result\n",
    "    result = []\n",
    "    conversation_history = []\n",
    "\n",
    "    # Extract system message\n",
    "    system_content = \"\"\n",
    "    for message in sample[\"messages\"]:\n",
    "        if message[\"role\"] == \"system\":\n",
    "            system_content = message[\"content\"]\n",
    "            if tools:\n",
    "                system_content += (\n",
    "                    \"\\nYou may call one or more functions to assist with the user query.\\n\\n\"\n",
    "                    \"You are provided with function signatures within <tools></tools> XML tags:\\n\"\n",
    "                    \"<tools>\\n\"\n",
    "                    f\"{json.dumps({'tools': transformed_tools})}\\n\"\n",
    "                    \"</tools>\\n\\n\"\n",
    "                    \"For each function call, return a json object with function name and parameters:\\n\"\n",
    "                    '{\"name\": function name, \"parameters\": dictionary of argument name and its value}'\n",
    "                )\n",
    "            break\n",
    "\n",
    "    # Process conversation turns\n",
    "    for i, message in enumerate(sample[\"messages\"]):\n",
    "        if message[\"role\"] == \"system\":\n",
    "            continue\n",
    "\n",
    "        # Add message to conversation history\n",
    "        if message[\"role\"] == \"user\":\n",
    "            conversation_history.append(f\"## User: {message['content']}\")\n",
    "        elif message[\"role\"] == \"assistant\":\n",
    "            if message.get(\"tool_calls\"):\n",
    "                # Format tool calls\n",
    "                target_parts = []\n",
    "                for tool_call in message[\"tool_calls\"]:\n",
    "                    function_data = tool_call[\"function\"]\n",
    "                    arguments = (\n",
    "                        json.loads(function_data[\"arguments\"])\n",
    "                        if isinstance(function_data[\"arguments\"], str)\n",
    "                        else function_data[\"arguments\"]\n",
    "                    )\n",
    "                    target_parts.append(\n",
    "                        json.dumps(\n",
    "                            {\"name\": function_data[\"name\"], \"parameters\": arguments}\n",
    "                        )\n",
    "                    )\n",
    "                target = \"\".join(target_parts)\n",
    "\n",
    "                conversation_history.append(f\"## Assistant: {target}\")\n",
    "            else:\n",
    "                conversation_history.append(f\"## Assistant: {message['content']}\")\n",
    "        elif message[\"role\"] == \"tool\":\n",
    "            conversation_history.append(f\"## Function: {message['content']}\")\n",
    "\n",
    "        # Create input-target pair when we have an assistant message\n",
    "        if message[\"role\"] == \"assistant\":\n",
    "            # Input is system message + all previous conversation\n",
    "            input_text = \"\\n\".join(conversation_history[:-1])\n",
    "\n",
    "            # Target is the assistant's response\n",
    "            if message.get(\"tool_calls\"):\n",
    "                # Format tool calls\n",
    "                target_parts = []\n",
    "                for tool_call in message[\"tool_calls\"]:\n",
    "                    function_data = tool_call[\"function\"]\n",
    "                    arguments = (\n",
    "                        json.loads(function_data[\"arguments\"])\n",
    "                        if isinstance(function_data[\"arguments\"], str)\n",
    "                        else function_data[\"arguments\"]\n",
    "                    )\n",
    "                    target_parts.append(\n",
    "                        json.dumps(\n",
    "                            {\"name\": function_data[\"name\"], \"parameters\": arguments}\n",
    "                        )\n",
    "                    )\n",
    "                target = \"\".join(target_parts)\n",
    "            else:\n",
    "                target = message[\"content\"]\n",
    "\n",
    "            result.append({\"system\": system_content.lower(), \"query\": input_text.lower(), \"response\": target.lower()})\n",
    "\n",
    "    return {\"messages\": result}"
   ]
  },
  {
   "cell_type": "markdown",
   "id": "d5278d2e",
   "metadata": {},
   "source": [
    "### Step 1.4: Data Preperation in Converse Format for Train and Validation Datasets"
   ]
  },
  {
   "cell_type": "code",
   "execution_count": 11,
   "id": "2e9cbedd-7403-467e-8cc6-1d2550d8b8e8",
   "metadata": {
    "ExecuteTime": {
     "end_time": "2023-09-03T00:02:10.364459Z",
     "start_time": "2023-09-03T00:02:09.672705Z"
    },
    "scrolled": true,
    "tags": []
   },
   "outputs": [
    {
     "data": {
      "application/vnd.jupyter.widget-view+json": {
       "model_id": "984d6e9930b44866ac11d3c040855f46",
       "version_major": 2,
       "version_minor": 0
      },
      "text/plain": [
       "Map:   0%|          | 0/7178 [00:00<?, ? examples/s]"
      ]
     },
     "metadata": {},
     "output_type": "display_data"
    },
    {
     "name": "stdout",
     "output_type": "stream",
     "text": [
      "{\"system\":[{\"text\":\"you are a helpful assistant.\\nyou may call one or more functions to assist with the user query.\\n\\nyou are provided with function signatures within <tools><\\/tools> xml tags:\\n<tools>\\n{\\\"tools\\\": [{\\\"toolspec\\\": {\\\"name\\\": \\\"search_books\\\", \\\"description\\\": \\\"search for books based on given criteria\\\", \\\"inputschema\\\": {\\\"json\\\": {\\\"type\\\": \\\"object\\\", \\\"properties\\\": {\\\"title\\\": {\\\"type\\\": \\\"string\\\", \\\"description\\\": \\\"the title of the book\\\"}, \\\"author\\\": {\\\"type\\\": \\\"string\\\", \\\"description\\\": \\\"the author of the book\\\"}, \\\"genre\\\": {\\\"type\\\": \\\"string\\\", \\\"description\\\": \\\"the genre of the book\\\"}}}}}}]}\\n<\\/tools>\\n\\nfor each function call, return a json object with function name and parameters:\\n{\\\"name\\\": function name, \\\"parameters\\\": dictionary of argument name and its value}\"}],\"messages\":[{\"role\":\"user\",\"content\":[{\"text\":\"i am looking for a book but i can't remember the title. i know it's a mystery novel by agatha christie.\"}]},{\"role\":\"assistant\",\"content\":[{\"text\":\"{\\\"name\\\": \\\"search_books\\\", \\\"parameters\\\": {\\\"author\\\": \\\"agatha christie\\\", \\\"genre\\\": \\\"mystery\\\"}}\"}]},{\"role\":\"user\",\"content\":[{\"text\":\"{\\\"results\\\": [{\\\"title\\\": \\\"and then there were none\\\", \\\"author\\\": \\\"agatha christie\\\", \\\"genre\\\": \\\"mystery\\\"}, {\\\"title\\\": \\\"murder on the orient express\\\", \\\"author\\\": \\\"agatha christie\\\", \\\"genre\\\": \\\"mystery\\\"}, {\\\"title\\\": \\\"the murder of roger ackroyd\\\", \\\"author\\\": \\\"agatha christie\\\", \\\"genre\\\": \\\"mystery\\\"}]}\"}]},{\"role\":\"assistant\",\"content\":[{\"text\":\"i found several mystery novels by agatha christie. here are a few: \\\"and then there were none\\\", \\\"murder on the orient express\\\", and \\\"the murder of roger ackroyd\\\". does any of these sound familiar?\"}]},{\"role\":\"user\",\"content\":[{\"text\":\"yes, it was \\\"and then there were none\\\". thank you!\"}]},{\"role\":\"assistant\",\"content\":[{\"text\":\"you're welcome! if you need help with anything else, feel free to ask.\"}]}]}\n"
     ]
    },
    {
     "data": {
      "application/vnd.jupyter.widget-view+json": {
       "model_id": "0801870a3dbd40899ee2057479d9ced1",
       "version_major": 2,
       "version_minor": 0
      },
      "text/plain": [
       "Map:   0%|          | 0/1795 [00:00<?, ? examples/s]"
      ]
     },
     "metadata": {},
     "output_type": "display_data"
    },
    {
     "name": "stdout",
     "output_type": "stream",
     "text": [
      "{\"system\":[],\"messages\":[{\"role\":\"user\",\"content\":[{\"text\":\"can you demonstrate your proficiency by finding the highest number within a set of numbers enclosed within a  tag in an xml data? you are required to use logical reasoning to figure out the solution as opposed to formulas or built-in functions. you cannot rely on sorting the numbers or utilizing any built-in function. you will need to apply multiple-step reasoning to uncover the answer. please refer to the following xml data:\\n\\n9\\n12\\n4\\n7\\n2\"}]},{\"role\":\"assistant\",\"content\":[{\"text\":\"certainly! here's how i would approach this problem:\\n1. first, i would retrieve the xml data and parse it to extract the individual numbers.\\n2. then, i would initialize a variable called \\\"highest\\\" to 0, which will be used to keep track of the highest number found so far.\\n3. next, i would loop through each of the numbers extracted from the xml data.\\n4. for each number, i would compare it to the current value of \\\"highest\\\". if the number is greater than \\\"highest\\\", i would update the value of \\\"highest\\\" to be the number instead.\\n5. once all of the numbers have been checked, the final value of \\\"highest\\\" will be the highest number within the set.\\nhere's the python code to implement this logic:\\n```python\\nimport xml.etree.elementtree as et\\nxml_data = '''\\n\\n9\\n12\\n4\\n7\\n2\\n\\n'''\\nroot = et.fromstring(xml_data)\\nhighest = 0\\nfor number in root.iter('number'):\\nnum = int(number.text)\\nif num > highest:\\nhighest = num\\nprint(highest)\\n```\\nthe output of this code will be:\\n```\\n12\\n```\\nwhich is the highest number within the set.\"}]},{\"role\":\"user\",\"content\":[{\"text\":\"can the same approach be used to find the lowest number in the set? if not, what changes would have to be made to the approach?\"}]},{\"role\":\"assistant\",\"content\":[{\"text\":\"yes, the same approach can be used to find the lowest number in the set as well. to do this, we would just need to change the initialization of the `highest` variable to be very large instead of zero, and then update it with the lowest number found so far during the loop. here is the modified python code to find the lowest number:\\n```python\\nimport xml.etree.elementtree as et\\nxml_data = '''\\n\\n9\\n12\\n4\\n7\\n2\\n\\n'''\\nroot = et.fromstring(xml_data)\\nlowest = float('inf')\\nfor number in root.iter('number'):\\nnum = int(number.text)\\nif num < lowest:\\nlowest = num\\nprint(lowest)\\n```\\nthe output of this code will be:\\n```\\n2\\n```\"}]},{\"role\":\"user\",\"content\":[{\"text\":\"can a similar method be used to find the second-highest number in the set? if so, what changes would have to be made to the approach?\"}]},{\"role\":\"assistant\",\"content\":[{\"text\":\"yes, we can modify our previous approach slightly to find the second-highest number in the set. instead of keeping track of only the highest number found so far, we can keep track of both the highest and second-highest numbers. here's the modified python code to find the second-highest number:\\n```python\\nimport xml.etree.elementtree as et\\nxml_data = '''\\n\\n9\\n12\\n4\\n7\\n2\\n\\n'''\\nroot = et.fromstring(xml_data)\\nhighest = second_highest = float('-inf')\\nfor number in root.iter('number'):\\nnum = int(number.text)\\nif num > highest:\\nsecond_highest = highest\\nhighest = num\\nelif num > second_highest and num != highest:\\nsecond_highest = num\\nprint(second_highest)\\n```\\nthe output of this code will be:\\n```\\n9\\n```\"}]},{\"role\":\"user\",\"content\":[{\"text\":\"can the same approach be used to find the second-lowest number in the set? if not, what changes would have to be made to the approach?\"}]},{\"role\":\"assistant\",\"content\":[{\"text\":\"yes, we can modify our previous approach slightly to find the second-lowest number in the set. instead of keeping track of only the lowest number found so far, we can keep track of both the lowest and second-lowest numbers. here's the modified python code to find the second-lowest number:\\n```python\\nimport xml.etree.elementtree as et\\nxml_data = '''\\n\\n9\\n12\\n4\\n7\\n2\\n\\n'''\\nroot = et.fromstring(xml_data)\\nlowest = second_lowest = float('inf')\\nfor number in root.iter('number'):\\nnum = int(number.text)\\nif num < lowest:\\nsecond_lowest = lowest\\nlowest = num\\nelif num < second_lowest and num != lowest:\\nsecond_lowest = num\\nprint(second_lowest)\\n```\\nthe output of this code will be:\\n```\\n4\\n```\"}]},{\"role\":\"user\",\"content\":[{\"text\":\"can the same approach be used to find the median of the set? if not, what changes would have to be made to the approach?\"}]},{\"role\":\"assistant\",\"content\":[{\"text\":\"no, the same approach cannot be used to find the median of the set. to find the median, we first need to sort the set and then take the middle number (or the average of the two middle numbers if the set has an even number of elements). however, as per your initial requirements, we cannot rely on sorting the numbers or using any built-in function. so we would need a different approach to find the median. one way to do this is to use a selection algorithm, such as the quickselect algorithm, which can find the kth smallest element in o(n) expected time. the median is simply the n\\/2th smallest element in the set. however, implementing a selection algorithm from scratch can be complex and time-consuming.\"}]}]}\n"
     ]
    },
    {
     "data": {
      "application/vnd.jupyter.widget-view+json": {
       "model_id": "0e8ed07577de4361af036c938dff6f6a",
       "version_major": 2,
       "version_minor": 0
      },
      "text/plain": [
       "Map:   0%|          | 0/998 [00:00<?, ? examples/s]"
      ]
     },
     "metadata": {},
     "output_type": "display_data"
    },
    {
     "name": "stdout",
     "output_type": "stream",
     "text": [
      "{'messages': [{'query': \"## user: formulate a problem statement for the following scenario.\\nscenario: mcdonald's is introducing a new type of food delivery service.\", 'response': \"problem statement: mcdonald's needs to develop an efficient and effective food delivery service that meets the changing needs of its customers and delivers meals quickly and accurately to their desired locations in order to remain competitive in the food delivery industry. \", 'system': 'you are a helpful assistant.'}, {'query': \"## user: formulate a problem statement for the following scenario.\\nscenario: mcdonald's is introducing a new type of food delivery service.\\n## assistant: problem statement: mcdonald's needs to develop an efficient and effective food delivery service that meets the changing needs of its customers and delivers meals quickly and accurately to their desired locations in order to remain competitive in the food delivery industry. \\n## user: how can mcdonald's ensure that its new food delivery service is reliable and efficient for customers?\", 'response': \"mcdonald's can ensure that its new food delivery service is reliable and efficient for customers by implementing a number of strategies, such as using advanced technology to track orders and delivery times, optimizing its delivery routes, and providing training and support for its delivery drivers. additionally, the company could consider partnering with third-party delivery services to expand its reach and improve overall efficiency. by focusing on these areas, mcdonald's can successfully compete in the highly competitive food delivery industry. \", 'system': 'you are a helpful assistant.'}, {'query': \"## user: formulate a problem statement for the following scenario.\\nscenario: mcdonald's is introducing a new type of food delivery service.\\n## assistant: problem statement: mcdonald's needs to develop an efficient and effective food delivery service that meets the changing needs of its customers and delivers meals quickly and accurately to their desired locations in order to remain competitive in the food delivery industry. \\n## user: how can mcdonald's ensure that its new food delivery service is reliable and efficient for customers?\\n## assistant: mcdonald's can ensure that its new food delivery service is reliable and efficient for customers by implementing a number of strategies, such as using advanced technology to track orders and delivery times, optimizing its delivery routes, and providing training and support for its delivery drivers. additionally, the company could consider partnering with third-party delivery services to expand its reach and improve overall efficiency. by focusing on these areas, mcdonald's can successfully compete in the highly competitive food delivery industry. \\n## user: what are some potential challenges that mcdonald's may face when introducing its new food delivery service?\", 'response': \"some potential challenges that mcdonald's may face when introducing its new food delivery service include issues related to logistics, such as ensuring timely and accurate deliveries over long distances, managing the costs associated with transportation and delivery, and dealing with fluctuations in demand. additionally, the company may need to address concerns related to food safety and quality control during the delivery process, as well as potential customer service issues that arise when orders are delayed or incorrect. to overcome these challenges, mcdonald's will need to invest in strong infrastructure, advanced technology, and effective training and support for its employees. \", 'system': 'you are a helpful assistant.'}, {'query': \"## user: formulate a problem statement for the following scenario.\\nscenario: mcdonald's is introducing a new type of food delivery service.\\n## assistant: problem statement: mcdonald's needs to develop an efficient and effective food delivery service that meets the changing needs of its customers and delivers meals quickly and accurately to their desired locations in order to remain competitive in the food delivery industry. \\n## user: how can mcdonald's ensure that its new food delivery service is reliable and efficient for customers?\\n## assistant: mcdonald's can ensure that its new food delivery service is reliable and efficient for customers by implementing a number of strategies, such as using advanced technology to track orders and delivery times, optimizing its delivery routes, and providing training and support for its delivery drivers. additionally, the company could consider partnering with third-party delivery services to expand its reach and improve overall efficiency. by focusing on these areas, mcdonald's can successfully compete in the highly competitive food delivery industry. \\n## user: what are some potential challenges that mcdonald's may face when introducing its new food delivery service?\\n## assistant: some potential challenges that mcdonald's may face when introducing its new food delivery service include issues related to logistics, such as ensuring timely and accurate deliveries over long distances, managing the costs associated with transportation and delivery, and dealing with fluctuations in demand. additionally, the company may need to address concerns related to food safety and quality control during the delivery process, as well as potential customer service issues that arise when orders are delayed or incorrect. to overcome these challenges, mcdonald's will need to invest in strong infrastructure, advanced technology, and effective training and support for its employees. \\n## user: how can mcdonald's differentiate its food delivery service from competitors such as ubereats and grubhub?\", 'response': \"to differentiate its food delivery service from competitors such as ubereats and grubhub, mcdonald's could focus on offering unique value propositions, such as faster delivery times, lower prices, or exclusive menu items not available through other platforms. the company could also leverage its global brand recognition to create powerful marketing campaigns that highlight the convenience and reliability of its delivery service. additionally, mcdonald's could explore partnerships with other companies in the food and beverage industry to offer bundled deals and cross-promotional opportunities, further distinguishing itself from competitors. ultimately, effective differentiation will require a deep understanding of customers' needs and preferences, as well as an ongoing commitment to innovation and improvement. \", 'system': 'you are a helpful assistant.'}, {'query': \"## user: formulate a problem statement for the following scenario.\\nscenario: mcdonald's is introducing a new type of food delivery service.\\n## assistant: problem statement: mcdonald's needs to develop an efficient and effective food delivery service that meets the changing needs of its customers and delivers meals quickly and accurately to their desired locations in order to remain competitive in the food delivery industry. \\n## user: how can mcdonald's ensure that its new food delivery service is reliable and efficient for customers?\\n## assistant: mcdonald's can ensure that its new food delivery service is reliable and efficient for customers by implementing a number of strategies, such as using advanced technology to track orders and delivery times, optimizing its delivery routes, and providing training and support for its delivery drivers. additionally, the company could consider partnering with third-party delivery services to expand its reach and improve overall efficiency. by focusing on these areas, mcdonald's can successfully compete in the highly competitive food delivery industry. \\n## user: what are some potential challenges that mcdonald's may face when introducing its new food delivery service?\\n## assistant: some potential challenges that mcdonald's may face when introducing its new food delivery service include issues related to logistics, such as ensuring timely and accurate deliveries over long distances, managing the costs associated with transportation and delivery, and dealing with fluctuations in demand. additionally, the company may need to address concerns related to food safety and quality control during the delivery process, as well as potential customer service issues that arise when orders are delayed or incorrect. to overcome these challenges, mcdonald's will need to invest in strong infrastructure, advanced technology, and effective training and support for its employees. \\n## user: how can mcdonald's differentiate its food delivery service from competitors such as ubereats and grubhub?\\n## assistant: to differentiate its food delivery service from competitors such as ubereats and grubhub, mcdonald's could focus on offering unique value propositions, such as faster delivery times, lower prices, or exclusive menu items not available through other platforms. the company could also leverage its global brand recognition to create powerful marketing campaigns that highlight the convenience and reliability of its delivery service. additionally, mcdonald's could explore partnerships with other companies in the food and beverage industry to offer bundled deals and cross-promotional opportunities, further distinguishing itself from competitors. ultimately, effective differentiation will require a deep understanding of customers' needs and preferences, as well as an ongoing commitment to innovation and improvement. \\n## user: what impact might mcdonald's new food delivery service have on its physical restaurant locations?\", 'response': \"mcdonald's new food delivery service has the potential to impact its physical restaurant locations in a number of ways. on one hand, increased demand for delivery could result in decreased foot traffic at brick-and-mortar locations, potentially leading to lower sales volumes and reduced profitability. however, the introduction of a successful delivery service could also lead to increased customer loyalty and brand recognition, driving more customers to visit mcdonald's restaurants both in-person and online. additionally, the company may be able to leverage its existing restaurant infrastructure to support its delivery operations, potentially reducing overhead costs and increasing overall efficiency. the net impact on mcdonald's physical locations will depend on a variety of factors, including the success of the delivery service, changing consumer preferences, and competitive pressures within the food industry. \", 'system': 'you are a helpful assistant.'}]}\n"
     ]
    }
   ],
   "source": [
    "from datasets import Dataset, DatasetDict\n",
    "from random import randint\n",
    "\n",
    "train_dataset = Dataset.from_pandas(train)\n",
    "val_dataset = Dataset.from_pandas(val)\n",
    "test_dataset = Dataset.from_pandas(test)\n",
    "\n",
    "\n",
    "dataset = DatasetDict(\n",
    "    {\"train\": train_dataset, \"test\": test_dataset, \"val\": val_dataset}\n",
    ")\n",
    "\n",
    "train_dataset = dataset[\"train\"].map(\n",
    "    prepare_dataset, remove_columns=train_dataset.features\n",
    ")\n",
    "\n",
    "train_dataset = train_dataset.to_pandas()\n",
    "\n",
    "train_dataset[\"messages\"] = train_dataset[\"messages\"].apply(clean_message_list)\n",
    "\n",
    "print(train_dataset.iloc[randint(0, len(train_dataset))].to_json())\n",
    "\n",
    "val_dataset = dataset[\"val\"].map(prepare_dataset, remove_columns=val_dataset.features)\n",
    "\n",
    "val_dataset = val_dataset.to_pandas()\n",
    "\n",
    "val_dataset[\"messages\"] = val_dataset[\"messages\"].apply(clean_message_list)\n",
    "\n",
    "print(val_dataset.iloc[randint(0, len(val_dataset))].to_json())\n",
    "\n",
    "test_dataset = dataset[\"test\"].map(\n",
    "    prepare_dataset_test, remove_columns=test_dataset.features\n",
    ")\n",
    "print(test_dataset[randint(0, len(test_dataset))])"
   ]
  },
  {
   "cell_type": "markdown",
   "id": "b4dd6bac",
   "metadata": {},
   "source": [
    "### Step 1.5: Data Preperation on test data for Offline Evaluation post fine tuning"
   ]
  },
  {
   "cell_type": "markdown",
   "id": "7cc7f8ba",
   "metadata": {},
   "source": [
    "Let's format the test dataset in the format:\n",
    "\n",
    "Required Fields:\n",
    "\n",
    "* query: String containing the question or instruction that needs an answer\n",
    "* response: String containing the expected model output\n",
    "\n",
    "Optional Fields:\n",
    "\n",
    "* system: String containing the system prompt that sets the behavior, role, or personality of the AI model before it processes the query\n",
    "\n",
    "Example Entry\n",
    "```\n",
    "\n",
    "{\n",
    "   \"system\":\"You are a english major with top marks in class who likes to give minimal word responses: \",\n",
    "   \"query\":\"What is the symbol that ends the sentence as a question\",\n",
    "   \"response\":\"?\"\n",
    "}\n",
    "{\n",
    "   \"system\":\"You are a pattern analysis specialist that provides succinct answers: \",\n",
    "   \"query\":\"What is the next number in this series? 1, 2, 4, 8, 16, ?\",\n",
    "   \"response\":\"32\"\n",
    "}\n",
    "{\n",
    "   \"system\":\"You have great attention to detail that follows instructions accurately: \",\n",
    "   \"query\":\"Repeat only the last two words of the following: I ate a hamburger today and it was kind of dry\",\n",
    "   \"response\":\"of dry\"\n",
    "}\n",
    "```"
   ]
  },
  {
   "cell_type": "code",
   "execution_count": 12,
   "id": "5005b1e7",
   "metadata": {
    "tags": []
   },
   "outputs": [
    {
     "name": "stdout",
     "output_type": "stream",
     "text": [
      "{'system': 'you are a helpful assistant.\\nyou may call one or more functions to assist with the user query.\\n\\nyou are provided with function signatures within <tools></tools> xml tags:\\n<tools>\\n{\"tools\": [{\"toolspec\": {\"name\": \"generate_random_password\", \"description\": \"generate a random password\", \"inputschema\": {\"json\": {\"type\": \"object\", \"properties\": {\"length\": {\"type\": \"integer\", \"description\": \"the length of the password\"}}, \"required\": [\"length\"]}}}}]}\\n</tools>\\n\\nfor each function call, return a json object with function name and parameters:\\n{\"name\": function name, \"parameters\": dictionary of argument name and its value}', 'query': '## user: hi, i need a new password. can you generate one for me?', 'response': 'of course, i can help with that. how long would you like your password to be? '}\n"
     ]
    }
   ],
   "source": [
    "from datasets import Dataset\n",
    "\n",
    "# Flatten the dataset\n",
    "all_examples = []\n",
    "for examples_list in test_dataset:\n",
    "    # The first column contains the list of examples\n",
    "    column_name = test_dataset.column_names[0]\n",
    "    examples = examples_list[column_name]\n",
    "    all_examples.extend(examples)\n",
    "\n",
    "# Create a new dataset with the desired structure\n",
    "test_dataset = Dataset.from_dict(\n",
    "    {\n",
    "        \"system\": [example[\"system\"] for example in all_examples],\n",
    "        \"query\": [example[\"query\"] for example in all_examples],\n",
    "        \"response\": [example[\"response\"] for example in all_examples],\n",
    "    }\n",
    ")\n",
    "\n",
    "print(test_dataset[randint(0, len(val_dataset))])"
   ]
  },
  {
   "cell_type": "markdown",
   "id": "d5e667af-8197-4d2f-8432-82db6a1d3006",
   "metadata": {
    "execution": {
     "iopub.execute_input": "2024-12-17T16:46:36.592759Z",
     "iopub.status.busy": "2024-12-17T16:46:36.591798Z",
     "iopub.status.idle": "2024-12-17T16:46:36.603128Z",
     "shell.execute_reply": "2024-12-17T16:46:36.598965Z",
     "shell.execute_reply.started": "2024-12-17T16:46:36.592728Z"
    }
   },
   "source": [
    "### Step 1.6: Upload all 3 curated datasets (train, test, val) to Amazon S3\n",
    "\n",
    "The notebook applies the functions to transform the datasets into the required formats\n",
    "\n",
    "\n",
    "The processed datasets are saved locally and then uploaded to Amazon S3 for use in SageMaker training:\n",
    "\n"
   ]
  },
  {
   "cell_type": "code",
   "execution_count": 13,
   "id": "d97f29e5-4aed-4939-8d51-ad3c5268299f",
   "metadata": {
    "tags": []
   },
   "outputs": [],
   "source": [
    "import boto3\n",
    "import shutil"
   ]
  },
  {
   "cell_type": "code",
   "execution_count": 14,
   "id": "8db05863-3acb-483b-8e34-2aacbdbc68a5",
   "metadata": {
    "tags": []
   },
   "outputs": [],
   "source": [
    "s3_client = boto3.client('s3')\n",
    "\n",
    "# save train_dataset to s3 using our SageMaker session\n",
    "if default_prefix:\n",
    "    input_path = f\"{default_prefix}/datasets/nova-sft-peft\"\n",
    "else:\n",
    "    input_path = f\"datasets/nova-sft-peft\"\n",
    "\n",
    "train_dataset_s3_path = f\"s3://{bucket_name}/{input_path}/train/dataset.jsonl\"\n",
    "val_dataset_s3_path = f\"s3://{bucket_name}/{input_path}/val/dataset.jsonl\"\n",
    "test_dataset_s3_path = f\"s3://{bucket_name}/{input_path}/test/gen_qa.jsonl\""
   ]
  },
  {
   "cell_type": "code",
   "execution_count": 15,
   "id": "064d0321-1bd5-4c62-845a-bb1b9a3891a2",
   "metadata": {
    "tags": []
   },
   "outputs": [
    {
     "data": {
      "application/vnd.jupyter.widget-view+json": {
       "model_id": "6070da1cf66d4e4a862a85b24cb18d95",
       "version_major": 2,
       "version_minor": 0
      },
      "text/plain": [
       "Creating json from Arrow format:   0%|          | 0/4 [00:00<?, ?ba/s]"
      ]
     },
     "metadata": {},
     "output_type": "display_data"
    },
    {
     "name": "stdout",
     "output_type": "stream",
     "text": [
      "Training data uploaded to:\n",
      "s3://sagemaker-us-east-1-905418197933/datasets/nova-sft-peft/train/dataset.jsonl\n",
      "s3://sagemaker-us-east-1-905418197933/datasets/nova-sft-peft/test/gen_qa.jsonl\n",
      "s3://sagemaker-us-east-1-905418197933/datasets/nova-sft-peft/val/dataset.jsonl\n"
     ]
    }
   ],
   "source": [
    "import os\n",
    "\n",
    "# Save datasets to s3\n",
    "os.makedirs(\"./data/train\", exist_ok=True)\n",
    "os.makedirs(\"./data/val\", exist_ok=True)\n",
    "\n",
    "train_dataset.to_json(\"./data/train/dataset.jsonl\", orient=\"records\", lines=True)\n",
    "val_dataset.to_json(\"./data/val/dataset.jsonl\", orient=\"records\", lines=True)\n",
    "test_dataset.to_json(\"./data/test/gen_qa.jsonl\")\n",
    "\n",
    "s3_client.upload_file(\n",
    "    \"./data/train/dataset.jsonl\", bucket_name, f\"{input_path}/train/dataset.jsonl\"\n",
    ")\n",
    "\n",
    "s3_client.upload_file(\n",
    "    \"./data/val/dataset.jsonl\", bucket_name, f\"{input_path}/val/dataset.jsonl\"\n",
    ")\n",
    "\n",
    "s3_client.upload_file(\n",
    "    \"./data/test/gen_qa.jsonl\", bucket_name, f\"{input_path}/test/gen_qa.jsonl\"\n",
    ")\n",
    "\n",
    "shutil.rmtree(\"./data\")\n",
    "\n",
    "print(f\"Training data uploaded to:\")\n",
    "print(train_dataset_s3_path)\n",
    "print(test_dataset_s3_path)\n",
    "print(val_dataset_s3_path)"
   ]
  },
  {
   "cell_type": "markdown",
   "id": "0af9c237-28bd-474e-9444-94aaea8e6979",
   "metadata": {},
   "source": [
    "***"
   ]
  },
  {
   "cell_type": "markdown",
   "id": "4457beda-117d-4782-9f04-0680c199e98a",
   "metadata": {},
   "source": [
    "## Step 2: Model fine-tuning\n",
    "\n",
    "We now define the PyTorch estimator to run the supervised fine-tuning on a tool-calling dataset for our Amazon Nova model\n",
    "\n",
    "This section sets up and runs the fine-tuning job using SageMaker. It uses Supervised Fine-Tuning (SFT) with Parameter-Efficient Fine-Tuning (PEFT) to efficiently train the model.\n"
   ]
  },
  {
   "cell_type": "markdown",
   "id": "f6758cba-f81e-4ca9-84d9-452107235ca3",
   "metadata": {},
   "source": [
    "#### Instance Type and Count\n",
    "\n",
    "P5 instances are optimized for deep learning workloads, providing high-performance GPUs.\n"
   ]
  },
  {
   "cell_type": "code",
   "execution_count": 16,
   "id": "4b8cecfd-e640-4527-99d4-cb3cec9093b5",
   "metadata": {
    "tags": []
   },
   "outputs": [
    {
     "data": {
      "text/plain": [
       "'ml.p5.48xlarge'"
      ]
     },
     "execution_count": 16,
     "metadata": {},
     "output_type": "execute_result"
    }
   ],
   "source": [
    "instance_type = \"ml.p5.48xlarge\"\n",
    "instance_count = 4\n",
    "\n",
    "instance_type"
   ]
  },
  {
   "cell_type": "markdown",
   "id": "00f43862-c99b-481d-a858-707d59977b02",
   "metadata": {
    "tags": []
   },
   "source": [
    "#### Image URI\n",
    "\n",
    "This specifies the pre-built container for SFT fine-tuning, which is different from the DPO container.\n"
   ]
  },
  {
   "cell_type": "code",
   "execution_count": 17,
   "id": "b5df7700-7c66-4af8-aea0-da0e5af493bf",
   "metadata": {
    "tags": []
   },
   "outputs": [
    {
     "data": {
      "text/plain": [
       "'708977205387.dkr.ecr.us-east-1.amazonaws.com/nova-fine-tune-repo:SM-TJ-SFT-latest'"
      ]
     },
     "execution_count": 17,
     "metadata": {},
     "output_type": "execute_result"
    }
   ],
   "source": [
    "image_uri = f\"708977205387.dkr.ecr.{sess.boto_region_name}.amazonaws.com/nova-fine-tune-repo:SM-TJ-SFT-latest\"\n",
    "\n",
    "image_uri"
   ]
  },
  {
   "cell_type": "markdown",
   "id": "433811bb-461e-4ac7-ab05-175bff7fdf61",
   "metadata": {},
   "source": [
    "#### Configuring the Model and Recipe\n",
    "\n",
    "This specifies which model to fine-tune and the recipe to use. The recipe includes \"lora\" indicating parameter-efficient fine-tuning, and \"sft\" indicating supervised fine-tuning.\n"
   ]
  },
  {
   "cell_type": "code",
   "execution_count": 18,
   "id": "d100cecc",
   "metadata": {
    "tags": []
   },
   "outputs": [],
   "source": [
    "model_id = \"nova-lite/prod\"\n",
    "recipe = \"fine-tuning/nova/nova_lite_p5_gpu_lora_sft\""
   ]
  },
  {
   "cell_type": "code",
   "execution_count": 25,
   "id": "b95841fc",
   "metadata": {
    "tags": []
   },
   "outputs": [
    {
     "name": "stderr",
     "output_type": "stream",
     "text": [
      "Cloning into '/var/folders/rs/nxh2tnrd6d5gmrtsmx2_ybzh0000gr/T/launcher_4kqc92r4'...\n",
      "INFO:sagemaker:Remote debugging, profiler and debugger hooks are disabled for Nova recipes.\n",
      "WARNING:sagemaker:Using instance_count argument to estimator to set number of nodes. Ignoring run -> replicas in recipe.\n"
     ]
    }
   ],
   "source": [
    "from sagemaker.pytorch import PyTorch\n",
    "\n",
    "# define Training Job Name\n",
    "job_name = f\"train-{model_id.split('/')[0].replace('.', '-')}-peft-sft\"\n",
    "\n",
    "# define OutputDataConfig path\n",
    "if default_prefix:\n",
    "    output_path = f\"s3://{bucket_name}/{default_prefix}/{job_name}\"\n",
    "else:\n",
    "    output_path = f\"s3://{bucket_name}/{job_name}\"\n",
    "\n",
    "recipe_overrides = {\n",
    "    \"run\": {\n",
    "        \"replicas\": instance_count,  # Required\n",
    "    },\n",
    "}\n",
    "\n",
    "estimator = PyTorch(\n",
    "    output_path=output_path,\n",
    "    base_job_name=job_name,\n",
    "    role=role,\n",
    "    disable_profiler=True,\n",
    "    debugger_hook_config=False,\n",
    "    instance_count=instance_count,\n",
    "    instance_type=instance_type,\n",
    "    training_recipe=recipe,\n",
    "    recipe_overrides=recipe_overrides,\n",
    "    max_run=432000,\n",
    "    sagemaker_session=sess,\n",
    "    image_uri=image_uri\n",
    ")"
   ]
  },
  {
   "cell_type": "markdown",
   "id": "4241e1ea-38e7-47db-9e5a-827d63f1e278",
   "metadata": {},
   "source": [
    "#### Configuring the Data Channels\n",
    "\n",
    "Configure the Data Channels"
   ]
  },
  {
   "cell_type": "code",
   "execution_count": 26,
   "id": "2a386bd9-172c-485c-af45-ebc1d126470b",
   "metadata": {
    "collapsed": false,
    "jupyter": {
     "outputs_hidden": false
    },
    "scrolled": true,
    "tags": []
   },
   "outputs": [],
   "source": [
    "from sagemaker.inputs import TrainingInput\n",
    "\n",
    "train_input = TrainingInput(\n",
    "    s3_data=train_dataset_s3_path,\n",
    "    distribution=\"FullyReplicated\",\n",
    "    s3_data_type=\"Converse\",\n",
    ")\n",
    "\n",
    "val_input = TrainingInput(\n",
    "    s3_data=val_dataset_s3_path,\n",
    "    distribution=\"FullyReplicated\",\n",
    "    s3_data_type=\"Converse\",\n",
    ")"
   ]
  },
  {
   "cell_type": "markdown",
   "id": "96e1cec0-4b88-41df-9015-bca465fc1b67",
   "metadata": {},
   "source": [
    "### Starting the Training Job\n",
    "This starts the training job with the configured estimator and datasets. Note that it uses the test dataset for validation during training.\n"
   ]
  },
  {
   "cell_type": "code",
   "execution_count": 27,
   "id": "b25e13aa-1df2-43fc-bae4-15f5b7113191",
   "metadata": {
    "scrolled": true,
    "tags": []
   },
   "outputs": [
    {
     "name": "stderr",
     "output_type": "stream",
     "text": [
      "INFO:sagemaker.telemetry.telemetry_logging:SageMaker Python SDK will collect telemetry to help us better understand our user's needs, diagnose issues, and deliver additional features.\n",
      "To opt out of telemetry, please disable via TelemetryOptOut parameter in SDK defaults config. For more information, refer to https://sagemaker.readthedocs.io/en/stable/overview.html#configuring-and-using-defaults-with-the-sagemaker-python-sdk.\n",
      "INFO:sagemaker:Creating training-job with name: train-nova-lite-peft-sft-2025-07-16-14-53-47-874\n"
     ]
    }
   ],
   "source": [
    "# starting the train job with our uploaded datasets as input\n",
    "estimator.fit(inputs={\"train\": train_input, \"validation\": val_input}, wait=False)"
   ]
  },
  {
   "cell_type": "code",
   "execution_count": 28,
   "id": "8f849fce-08f0-4a5d-a733-2c040b0e7c18",
   "metadata": {
    "tags": []
   },
   "outputs": [
    {
     "name": "stdout",
     "output_type": "stream",
     "text": [
      "Training Job Name:  train-nova-lite-peft-sft-2025-07-16-14-53-47-874\n"
     ]
    }
   ],
   "source": [
    "training_job_name = estimator.latest_training_job.name\n",
    "print('Training Job Name:  {}'.format(training_job_name))"
   ]
  },
  {
   "cell_type": "code",
   "execution_count": 29,
   "id": "befdf22a-8b72-409c-84c1-0fd1d2f30946",
   "metadata": {
    "tags": []
   },
   "outputs": [
    {
     "data": {
      "text/html": [
       "<b>Review <a target=\"blank\" href=\"https://console.aws.amazon.com/sagemaker/home?region=us-east-1#/jobs/train-nova-lite-peft-sft-2025-07-16-14-53-47-874\">Training Job</a> After About 5 Minutes</b>"
      ],
      "text/plain": [
       "<IPython.core.display.HTML object>"
      ]
     },
     "metadata": {},
     "output_type": "display_data"
    },
    {
     "data": {
      "text/html": [
       "<b>Review <a target=\"blank\" href=\"https://console.aws.amazon.com/cloudwatch/home?region=us-east-1#logStream:group=/aws/sagemaker/TrainingJobs;prefix=train-nova-lite-peft-sft-2025-07-16-14-53-47-874;streamFilter=typeLogStreamPrefix\">CloudWatch Logs</a> After About 5 Minutes</b>"
      ],
      "text/plain": [
       "<IPython.core.display.HTML object>"
      ]
     },
     "metadata": {},
     "output_type": "display_data"
    },
    {
     "data": {
      "text/html": [
       "<b>Review <a target=\"blank\" href=\"https://s3.console.aws.amazon.com/s3/buckets/sagemaker-us-east-1-905418197933/train-nova-lite-peft-sft-2025-07-16-14-53-47-874/?region=us-east-1&tab=overview\">S3 Output Data</a> After The Training Job Has Completed</b>"
      ],
      "text/plain": [
       "<IPython.core.display.HTML object>"
      ]
     },
     "metadata": {},
     "output_type": "display_data"
    }
   ],
   "source": [
    "from IPython.display import HTML, Markdown, Image\n",
    "\n",
    "display(HTML('<b>Review <a target=\"blank\" href=\"https://console.aws.amazon.com/sagemaker/home?region={}#/jobs/{}\">Training Job</a> After About 5 Minutes</b>'.format(\"us-east-1\", training_job_name)))\n",
    "\n",
    "\n",
    "\n",
    "from IPython.display import HTML, Markdown, Image\n",
    "\n",
    "display(HTML('<b>Review <a target=\"blank\" href=\"https://console.aws.amazon.com/cloudwatch/home?region={}#logStream:group=/aws/sagemaker/TrainingJobs;prefix={};streamFilter=typeLogStreamPrefix\">CloudWatch Logs</a> After About 5 Minutes</b>'.format(\"us-east-1\", training_job_name)))\n",
    "\n",
    "\n",
    "\n",
    "\n",
    "from IPython.display import HTML, Markdown, Image\n",
    "\n",
    "display(HTML('<b>Review <a target=\"blank\" href=\"https://s3.console.aws.amazon.com/s3/buckets/{}/{}/?region={}&tab=overview\">S3 Output Data</a> After The Training Job Has Completed</b>'.format(bucket_name, training_job_name, \"us-east-1\")))\n",
    "\n"
   ]
  },
  {
   "cell_type": "markdown",
   "id": "44498e29",
   "metadata": {},
   "source": [
    "---\n",
    "## _Wait Until the ^^ Training Job ^^ Completes Above!( 20-40 mins)_\n",
    "---"
   ]
  },
  {
   "cell_type": "markdown",
   "id": "5603ad40-69ed-4144-9c75-b4640bd829e0",
   "metadata": {
    "tags": []
   },
   "source": [
    "### Reading the Output Content after training job completion"
   ]
  },
  {
   "cell_type": "code",
   "execution_count": 30,
   "id": "e894a73a-ac0f-4f8d-8230-abfa9dbce0ac",
   "metadata": {
    "tags": []
   },
   "outputs": [
    {
     "name": "stdout",
     "output_type": "stream",
     "text": [
      "s3://sagemaker-us-east-1-905418197933/train-nova-lite-peft-sft/train-nova-lite-peft-sft-2025-07-16-14-53-47-874/output/model.tar.gz\n"
     ]
    }
   ],
   "source": [
    "model_s3_uri = estimator.model_data\n",
    "print(model_s3_uri)\n",
    "\n",
    "output_s3_uri = \"/\".join(model_s3_uri.split(\"/\")[:-1])+\"/output.tar.gz\""
   ]
  },
  {
   "cell_type": "markdown",
   "id": "a3aff07c-4920-4cc6-b797-e6b4063be925",
   "metadata": {},
   "source": [
    "### Downloading and Extracting the Artifacts"
   ]
  },
  {
   "cell_type": "code",
   "execution_count": 31,
   "id": "ec7c2532-546f-4f23-8d45-20fe7de734f9",
   "metadata": {
    "tags": []
   },
   "outputs": [],
   "source": [
    "!mkdir -p ./tmp/train_output/"
   ]
  },
  {
   "cell_type": "code",
   "execution_count": 32,
   "id": "a52a1683-9105-40e7-ab61-44cb4ec38d1a",
   "metadata": {
    "tags": []
   },
   "outputs": [
    {
     "name": "stdout",
     "output_type": "stream",
     "text": [
      "download: s3://sagemaker-us-east-1-905418197933/train-nova-lite-peft-sft/train-nova-lite-peft-sft-2025-07-16-14-53-47-874/output/output.tar.gz to tmp/train_output/output.tar.gz\n"
     ]
    }
   ],
   "source": [
    "!aws s3 cp $output_s3_uri ./tmp/train_output/output.tar.gz"
   ]
  },
  {
   "cell_type": "code",
   "execution_count": 33,
   "id": "6706c446-4a6b-457e-84eb-6a696665e06e",
   "metadata": {
    "tags": []
   },
   "outputs": [
    {
     "name": "stdout",
     "output_type": "stream",
     "text": [
      "x step_wise_training_metrics.csv\n",
      "x manifest.json\n"
     ]
    }
   ],
   "source": [
    "!tar -xvzf ./tmp/train_output/output.tar.gz -C ./tmp/train_output/"
   ]
  },
  {
   "cell_type": "code",
   "execution_count": 34,
   "id": "0264e1d0-b218-4ea7-9008-884a6e3bec32",
   "metadata": {
    "tags": []
   },
   "outputs": [],
   "source": [
    "escrow_model_uri = json.load(open('./tmp/train_output/manifest.json'))['checkpoint_s3_bucket']"
   ]
  },
  {
   "cell_type": "code",
   "execution_count": 35,
   "id": "2d6e806d-8a85-4291-9fc6-59af355d53c1",
   "metadata": {
    "tags": []
   },
   "outputs": [
    {
     "data": {
      "text/plain": [
       "'s3://customer-escrow-905418197933-smtj-4a214be3/train-nova-lite-peft-sft-2025-07-16-14-53-47-874'"
      ]
     },
     "execution_count": 35,
     "metadata": {},
     "output_type": "execute_result"
    }
   ],
   "source": [
    "escrow_model_uri"
   ]
  },
  {
   "cell_type": "markdown",
   "id": "aabea137-16b5-48bb-bc31-845fe3f389fd",
   "metadata": {},
   "source": [
    "### Plotting the Train/Loss Curve "
   ]
  },
  {
   "cell_type": "code",
   "execution_count": 9,
   "id": "f66fba4e-b634-41e6-92f1-31396f489984",
   "metadata": {
    "tags": []
   },
   "outputs": [
    {
     "data": {
      "image/png": "[encoded data removed]",
      "text/plain": [
       "<Figure size 1000x600 with 1 Axes>"
      ]
     },
     "metadata": {},
     "output_type": "display_data"
    }
   ],
   "source": [
    "import pandas as pd\n",
    "import matplotlib.pyplot as plt\n",
    "\n",
    "# Read the CSV files\n",
    "train_df = pd.read_csv('./tmp/train_output/step_wise_training_metrics.csv')\n",
    "# val_df = pd.read_csv('./tmp/train_output/validation_metrics.csv')\n",
    "\n",
    "# Create the plot\n",
    "plt.figure(figsize=(10, 6))\n",
    "plt.plot(train_df['step_number'], train_df['training_loss'], label='Training Loss', color='blue')\n",
    "# plt.plot(val_df['step_number'], val_df['validation_loss'], label='Validation Loss', color='red')\n",
    "\n",
    "plt.xlabel('Step Number')\n",
    "plt.ylabel('Loss')\n",
    "plt.title('Training vs Validation Loss')\n",
    "plt.legend()\n",
    "plt.grid(True, alpha=0.3)\n",
    "plt.show()"
   ]
  },
  {
   "cell_type": "markdown",
   "id": "6bf0d2fb",
   "metadata": {},
   "source": [
    "***"
   ]
  },
  {
   "cell_type": "markdown",
   "id": "47ccfa57",
   "metadata": {},
   "source": [
    "## Step 3: Offline Model evaluation"
   ]
  },
  {
   "cell_type": "markdown",
   "id": "fdc63b26-824b-480d-8c57-08343593ee98",
   "metadata": {},
   "source": [
    "The purpose of the evaluation process is to assess trained-model performance against benchmarks or custom dataset. The evaluation process typically involves steps to create evaluation recipe pointing to the trained model, specify evaluation datasets and metrics, submit a separate training job for the evaluation, and evaluate against standard benchmarks or custom data. The evaluation process will output performance metrics stored in your Amazon S3 bucket."
   ]
  },
  {
   "cell_type": "markdown",
   "id": "bd11ce3c",
   "metadata": {},
   "source": [
    "Create minimal recipe for `gen_qa` evaluation. With `gen_qa` evaluation, we bring our own dataset for evaluation, and measure the following metrics:\n",
    "\n",
    "* rouge1\n",
    "* rouge2\n",
    "* rougeL\n",
    "* exact_match\n",
    "* quasi_exact_match\n",
    "* f1_score\n",
    "* f1_score_quasi\n",
    "* bleu"
   ]
  },
  {
   "cell_type": "code",
   "execution_count": 12,
   "id": "954ad084",
   "metadata": {},
   "outputs": [],
   "source": [
    "escrow_model_uri = 's3://customer-escrow-905418197933-smtj-4a214be3/train-nova-lite-peft-sft-2025-07-16-14-53-47-874'\n",
    "\n",
    "test_dataset_s3_path = \"s3://sagemaker-us-east-1-905418197933/datasets/nova-sft-peft/test/gen_qa.jsonl\""
   ]
  },
  {
   "cell_type": "code",
   "execution_count": 2,
   "id": "97f1df6b-e016-4642-b985-b416958d8da0",
   "metadata": {
    "tags": []
   },
   "outputs": [],
   "source": [
    "recipe_job_name = \"nova-lite-gen_qa-eval-job\"\n",
    "\n",
    "recipe_content = f\"\"\"\n",
    "run:\n",
    "  name: {recipe_job_name}\n",
    "  model_type: amazon.nova-lite-v1:0:300k\n",
    "  model_name_or_path: {escrow_model_uri}\n",
    "  data_s3_path: \"\" # Empty string\n",
    "\n",
    "evaluation:\n",
    "  task: gen_qa\n",
    "  strategy: gen_qa\n",
    "  metric: all\n",
    "\n",
    "inference:\n",
    "  max_new_tokens: 4096\n",
    "  top_p: 0.9\n",
    "  temperature: 0.1\n",
    "\"\"\"\n",
    "\n",
    "with open(\"eval-recipe.yaml\", \"w\") as f:\n",
    "  f.write(recipe_content)"
   ]
  },
  {
   "cell_type": "markdown",
   "id": "e7e9a425-f31f-4236-a822-4911cd607638",
   "metadata": {},
   "source": [
    "### Instance count and Instance Type"
   ]
  },
  {
   "cell_type": "markdown",
   "id": "352eaf77",
   "metadata": {},
   "source": [
    "Defines the Instance type and count to use for Evaluation "
   ]
  },
  {
   "cell_type": "code",
   "execution_count": 3,
   "id": "066482cd",
   "metadata": {
    "tags": []
   },
   "outputs": [
    {
     "data": {
      "text/plain": [
       "'ml.g5.12xlarge'"
      ]
     },
     "execution_count": 3,
     "metadata": {},
     "output_type": "execute_result"
    }
   ],
   "source": [
    "instance_type = \"ml.g5.12xlarge\" # Override the instance type if you want to get a different container version\n",
    "instance_count = 1\n",
    "\n",
    "instance_type"
   ]
  },
  {
   "cell_type": "markdown",
   "id": "633d8fe7-a723-4ee0-aad6-7640ef762a4f",
   "metadata": {},
   "source": [
    "#### Image URI for Evaluation\n",
    "\n",
    "This specifies the pre-built container for Evaluation, which is different from the SFT container.\n"
   ]
  },
  {
   "cell_type": "code",
   "execution_count": 5,
   "id": "7340c66f",
   "metadata": {
    "tags": []
   },
   "outputs": [
    {
     "data": {
      "text/plain": [
       "'708977205387.dkr.ecr.us-east-1.amazonaws.com/nova-evaluation-repo:SM-TJ-Eval-latest'"
      ]
     },
     "execution_count": 5,
     "metadata": {},
     "output_type": "execute_result"
    }
   ],
   "source": [
    "image_uri = f\"708977205387.dkr.ecr.us-east-1.amazonaws.com/nova-evaluation-repo:SM-TJ-Eval-latest\"\n",
    "\n",
    "image_uri"
   ]
  },
  {
   "cell_type": "markdown",
   "id": "9237e827-a161-4f34-80bd-096c166d1923",
   "metadata": {},
   "source": [
    "#### Configuring the Model and Recipe\n",
    "\n",
    "This specifies which model evaluation to use.\n"
   ]
  },
  {
   "cell_type": "code",
   "execution_count": 6,
   "id": "b185a7c3",
   "metadata": {
    "tags": []
   },
   "outputs": [],
   "source": [
    "model_id = \"nova-lite/prod\"\n",
    "recipe = \"./eval-recipe.yaml\""
   ]
  },
  {
   "cell_type": "markdown",
   "id": "0945a24e-61ff-47e0-bef0-0cf47a691833",
   "metadata": {},
   "source": [
    "#### PyTorch Estimator\n",
    "\n",
    "This creates a PyTorch estimator with the configuration to run the evaluation job.\n"
   ]
  },
  {
   "cell_type": "code",
   "execution_count": 21,
   "id": "f265e332",
   "metadata": {
    "tags": []
   },
   "outputs": [
    {
     "name": "stderr",
     "output_type": "stream",
     "text": [
      "INFO:sagemaker:Remote debugging, profiler and debugger hooks are disabled for Nova recipes.\n"
     ]
    }
   ],
   "source": [
    "from sagemaker.pytorch import PyTorch\n",
    "\n",
    "# define Training Job Name\n",
    "job_name = f\"train-{model_id.split('/')[0].replace('.', '-')}-peft-sft-eval\"\n",
    "\n",
    "# define OutputDataConfig path\n",
    "if default_prefix:\n",
    "    output_path = f\"s3://{bucket_name}/{default_prefix}/{job_name}\"\n",
    "else:\n",
    "    output_path = f\"s3://{bucket_name}/{job_name}\"\n",
    "    \n",
    "recipe_overrides = {\n",
    "    \"run\": {\n",
    "        \"replicas\": instance_count,  # Required\n",
    "    },\n",
    "}\n",
    "\n",
    "eval_estimator = PyTorch(\n",
    "    output_path=output_path,\n",
    "    base_job_name=job_name,\n",
    "    role=role,\n",
    "    disable_profiler=True,\n",
    "    debugger_hook_config=False,\n",
    "    instance_count=instance_count,\n",
    "    instance_type=instance_type,\n",
    "    training_recipe=recipe,\n",
    "    sagemaker_session=sess,\n",
    "    image_uri=image_uri\n",
    ")"
   ]
  },
  {
   "cell_type": "markdown",
   "id": "9721f410-02e2-480f-baab-a2b0a22fca30",
   "metadata": {},
   "source": [
    "### Configuring the Data Channel"
   ]
  },
  {
   "cell_type": "code",
   "execution_count": 22,
   "id": "6a4c1fa4",
   "metadata": {
    "tags": []
   },
   "outputs": [],
   "source": [
    "from sagemaker.inputs import TrainingInput\n",
    "\n",
    "eval_input = TrainingInput(\n",
    "    s3_data=test_dataset_s3_path,\n",
    "    distribution=\"FullyReplicated\",\n",
    "    s3_data_type=\"S3Prefix\",\n",
    ")"
   ]
  },
  {
   "cell_type": "markdown",
   "id": "4044ba67-573f-480a-83b3-3cd9868554af",
   "metadata": {},
   "source": [
    "### Starting the Training Job\n",
    "This starts the training job with the configured estimator and datasets. Note that it uses the test dataset for validation during training.\n"
   ]
  },
  {
   "cell_type": "code",
   "execution_count": 23,
   "id": "c302fb7e",
   "metadata": {
    "tags": []
   },
   "outputs": [
    {
     "name": "stderr",
     "output_type": "stream",
     "text": [
      "INFO:sagemaker.telemetry.telemetry_logging:SageMaker Python SDK will collect telemetry to help us better understand our user's needs, diagnose issues, and deliver additional features.\n",
      "To opt out of telemetry, please disable via TelemetryOptOut parameter in SDK defaults config. For more information, refer to https://sagemaker.readthedocs.io/en/stable/overview.html#configuring-and-using-defaults-with-the-sagemaker-python-sdk.\n",
      "INFO:sagemaker:Creating training-job with name: train-nova-lite-peft-sft-eval-2025-07-16-16-00-10-591\n"
     ]
    }
   ],
   "source": [
    "# starting the train job with our uploaded datasets as input\n",
    "eval_estimator.fit(inputs={\"train\": eval_input}, wait=False)"
   ]
  },
  {
   "cell_type": "markdown",
   "id": "2ee131a7-9975-497f-927a-f180a13f9868",
   "metadata": {},
   "source": [
    "## ^^ _This will take 20-30 mins in evaluation_"
   ]
  },
  {
   "cell_type": "markdown",
   "id": "63309c3d-f2c8-4252-8e54-2e3265199fee",
   "metadata": {},
   "source": [
    "### Viewing the Evaluation Artifacts \n",
    "Downloading the artifact from Evaluation. \n"
   ]
  },
  {
   "cell_type": "code",
   "execution_count": 24,
   "id": "604ac147-cdb2-4167-b435-568d79161097",
   "metadata": {},
   "outputs": [],
   "source": [
    "output = eval_estimator.model_data"
   ]
  },
  {
   "cell_type": "code",
   "execution_count": 25,
   "id": "868ac9e2-2bbd-4f04-9e57-dcf6235d8b48",
   "metadata": {},
   "outputs": [],
   "source": [
    "output = '/'.join(output.split(\"/\")[:-1]) +\"/output.tar.gz\""
   ]
  },
  {
   "cell_type": "code",
   "execution_count": 26,
   "id": "f3be2350-caa9-4cb3-9f61-70ed542630ca",
   "metadata": {},
   "outputs": [
    {
     "name": "stdout",
     "output_type": "stream",
     "text": [
      "download: s3://sagemaker-us-east-1-905418197933/train-nova-lite-peft-sft-eval/train-nova-lite-peft-sft-eval-2025-07-16-16-00-10-591/output/output.tar.gz to ./output.tar.gz\n"
     ]
    }
   ],
   "source": [
    "! aws s3 cp $output ."
   ]
  },
  {
   "cell_type": "markdown",
   "id": "a0176c5e-c611-4198-b3fa-5e3f14888ffa",
   "metadata": {},
   "source": [
    "### Visualize results\n",
    "\n",
    "The notebook defines a function to visualize the evaluation metrics in a bar chart:\n"
   ]
  },
  {
   "cell_type": "code",
   "execution_count": 27,
   "id": "729519fd-6b8b-43cc-90a3-6ccdb591a09d",
   "metadata": {},
   "outputs": [],
   "source": [
    "import tarfile\n",
    "import os\n",
    "tarfile.open('output.tar.gz', 'r:gz').extractall('output_folder')"
   ]
  },
  {
   "cell_type": "code",
   "execution_count": 28,
   "id": "ad179ff8-0154-4fef-81fb-fe85a7567cf5",
   "metadata": {},
   "outputs": [],
   "source": [
    "results_path = \"output_folder/\" + recipe_job_name +\"/eval_results\""
   ]
  },
  {
   "cell_type": "code",
   "execution_count": 29,
   "id": "23488ba7",
   "metadata": {},
   "outputs": [],
   "source": [
    "import matplotlib.pyplot as plt\n",
    "import numpy as np\n",
    "import os\n",
    "\n",
    "\n",
    "def plot_metrics(results):\n",
    "    # Extract metrics and their standard errors\n",
    "    metrics = {}\n",
    "    for key, value in results.items():\n",
    "        if not key.endswith(\"_stderr\"):\n",
    "            metrics[key] = {\"value\": value, \"stderr\": results.get(f\"{key}_stderr\", 0)}\n",
    "\n",
    "    # Sort metrics by value for better visualization\n",
    "    sorted_metrics = dict(\n",
    "        sorted(metrics.items(), key=lambda x: x[1][\"value\"], reverse=True)\n",
    "    )\n",
    "\n",
    "    # Prepare data for plotting\n",
    "    labels = list(sorted_metrics.keys())\n",
    "    values = [sorted_metrics[label][\"value\"] for label in labels]\n",
    "    errors = [sorted_metrics[label][\"stderr\"] for label in labels]\n",
    "\n",
    "    # Normalize BLEU score to be on the same scale as other metrics (0-1)\n",
    "    bleu_index = labels.index(\"bleu\") if \"bleu\" in labels else -1\n",
    "    if bleu_index >= 0:\n",
    "        values[bleu_index] /= 100\n",
    "        errors[bleu_index] /= 100\n",
    "\n",
    "    # Create figure\n",
    "    fig, ax = plt.subplots(figsize=(12, 8))\n",
    "\n",
    "    # Create bar chart\n",
    "    x = np.arange(len(labels))\n",
    "    bars = ax.bar(\n",
    "        x,\n",
    "        values,\n",
    "        yerr=errors,\n",
    "        align=\"center\",\n",
    "        alpha=0.7,\n",
    "        capsize=5,\n",
    "        color=\"skyblue\",\n",
    "        ecolor=\"black\",\n",
    "    )\n",
    "\n",
    "    # Add labels and title\n",
    "    ax.set_ylabel(\"Score\")\n",
    "    ax.set_title(\"Evaluation Metrics\")\n",
    "    ax.set_xticks(x)\n",
    "    ax.set_xticklabels(labels, rotation=45, ha=\"right\")\n",
    "    ax.set_ylim(0, 1.0)\n",
    "\n",
    "    # Add value labels on top of bars\n",
    "    for i, bar in enumerate(bars):\n",
    "        height = bar.get_height()\n",
    "        # Convert BLEU back to its original scale for display\n",
    "        display_value = values[i] * 100 if labels[i] == \"bleu\" else values[i]\n",
    "        ax.text(\n",
    "            bar.get_x() + bar.get_width() / 2.0,\n",
    "            height + 0.01,\n",
    "            f\"{display_value:.2f}\",\n",
    "            ha=\"center\",\n",
    "            va=\"bottom\",\n",
    "        )\n",
    "\n",
    "    # Add a note about BLEU\n",
    "    if bleu_index >= 0:\n",
    "        ax.text(\n",
    "            0.5,\n",
    "            -0.15,\n",
    "            \"Note: BLEU score shown as percentage (original: {:.2f})\".format(\n",
    "                values[bleu_index] * 100\n",
    "            ),\n",
    "            transform=ax.transAxes,\n",
    "            ha=\"center\",\n",
    "            fontsize=9,\n",
    "        )\n",
    "\n",
    "    plt.tight_layout()\n",
    "    return fig"
   ]
  },
  {
   "cell_type": "code",
   "execution_count": 30,
   "id": "103aae36",
   "metadata": {},
   "outputs": [],
   "source": [
    "import glob\n",
    "import os\n",
    "\n",
    "def find_json_files(path):\n",
    "    return glob.glob(os.path.join(path, \"*.json\"))"
   ]
  },
  {
   "cell_type": "code",
   "execution_count": 31,
   "id": "85200f86",
   "metadata": {},
   "outputs": [],
   "source": [
    "evaluation_results_path = find_json_files(results_path)[0]"
   ]
  },
  {
   "cell_type": "code",
   "execution_count": 32,
   "id": "5457e2a4",
   "metadata": {},
   "outputs": [
    {
     "data": {
      "image/png": "[encoded data removed]",
      "text/plain": [
       "<Figure size 1200x800 with 1 Axes>"
      ]
     },
     "metadata": {},
     "output_type": "display_data"
    }
   ],
   "source": [
    "import json\n",
    "\n",
    "with open(evaluation_results_path, \"r\") as f:\n",
    "    data = json.load(f)\n",
    "\n",
    "fig = plot_metrics(data[\"results\"][\"all\"])\n",
    "\n",
    "output_file = os.path.join(\"./\", 'evaluation_metrics.png')\n",
    "fig.savefig(output_file, bbox_inches='tight')"
   ]
  },
  {
   "cell_type": "markdown",
   "id": "938c3b3e",
   "metadata": {},
   "source": [
    "***"
   ]
  },
  {
   "cell_type": "markdown",
   "id": "0ad90b38",
   "metadata": {},
   "source": [
    "## Model deployment and inference"
   ]
  },
  {
   "cell_type": "markdown",
   "id": "90e7ce33",
   "metadata": {},
   "source": [
    "After training and evaluating our model, we want to make it available for inference. Amazon Bedrock provides a serverless endpoint for model deployment, allowing us to serve the model without managing infrastructure.\n",
    "\n",
    "The Bedrock Custom Model feature of Amazon Bedrock lets us import our fine-tuned model and access it through the same API as other foundation models. This provides:"
   ]
  },
  {
   "cell_type": "code",
   "execution_count": 5,
   "id": "84a17be5",
   "metadata": {},
   "outputs": [],
   "source": [
    "import boto3\n",
    "\n",
    "# Initialize the Bedrock client\n",
    "bedrock = boto3.client(\"bedrock\", region_name=sess.boto_region_name)\n",
    "\n",
    "escrow_model_uri = \"s3://customer-escrow-905418197933-smtj-4a214be3/train-nova-lite-peft-sft-2025-07-16-14-53-47-874\"\n",
    "model_path = escrow_model_uri\n",
    "\n",
    "# Define name for imported model\n",
    "imported_model_name = \"nova-lite-sagemaker-sft\""
   ]
  },
  {
   "cell_type": "markdown",
   "id": "00fa35ec",
   "metadata": {},
   "source": [
    "### Creating the Bedrock Custom Model"
   ]
  },
  {
   "cell_type": "code",
   "execution_count": 6,
   "id": "789444fd",
   "metadata": {},
   "outputs": [
    {
     "data": {
      "text/html": [
       "<pre style=\"white-space:pre;overflow-x:auto;line-height:normal;font-family:Menlo,'DejaVu Sans Mono',consolas,'Courier New',monospace\"><span style=\"color: #ff0000; text-decoration-color: #ff0000\">╭─────────────────────────────── </span><span style=\"color: #ff0000; text-decoration-color: #ff0000; font-weight: bold\">Traceback </span><span style=\"color: #ff7f7f; text-decoration-color: #ff7f7f; font-weight: bold\">(most recent call last)</span><span style=\"color: #ff0000; text-decoration-color: #ff0000\"> ────────────────────────────────╮</span>\n",
       "<span style=\"color: #ff0000; text-decoration-color: #ff0000\">│</span> in &lt;module&gt;:9                                                                                    <span style=\"color: #ff0000; text-decoration-color: #ff0000\">│</span>\n",
       "<span style=\"color: #ff0000; text-decoration-color: #ff0000\">│</span>                                                                                                  <span style=\"color: #ff0000; text-decoration-color: #ff0000\">│</span>\n",
       "<span style=\"color: #ff0000; text-decoration-color: #ff0000\">│</span>   <span style=\"color: #7f7f7f; text-decoration-color: #7f7f7f\"> 6 </span>}                                                                                           <span style=\"color: #ff0000; text-decoration-color: #ff0000\">│</span>\n",
       "<span style=\"color: #ff0000; text-decoration-color: #ff0000\">│</span>   <span style=\"color: #7f7f7f; text-decoration-color: #7f7f7f\"> 7 </span>                                                                                            <span style=\"color: #ff0000; text-decoration-color: #ff0000\">│</span>\n",
       "<span style=\"color: #ff0000; text-decoration-color: #ff0000\">│</span>   <span style=\"color: #7f7f7f; text-decoration-color: #7f7f7f\"> 8 # Create the model import job</span>                                                               <span style=\"color: #ff0000; text-decoration-color: #ff0000\">│</span>\n",
       "<span style=\"color: #ff0000; text-decoration-color: #ff0000\">│</span> <span style=\"color: #800000; text-decoration-color: #800000\">❱ </span> 9 response = <span style=\"font-weight: bold; text-decoration: underline\">bedrock.create_custom_model(**request_params)</span>                                    <span style=\"color: #ff0000; text-decoration-color: #ff0000\">│</span>\n",
       "<span style=\"color: #ff0000; text-decoration-color: #ff0000\">│</span>   <span style=\"color: #7f7f7f; text-decoration-color: #7f7f7f\">10 </span>                                                                                            <span style=\"color: #ff0000; text-decoration-color: #ff0000\">│</span>\n",
       "<span style=\"color: #ff0000; text-decoration-color: #ff0000\">│</span>   <span style=\"color: #7f7f7f; text-decoration-color: #7f7f7f\">11 </span>model_arn = response[<span style=\"color: #808000; text-decoration-color: #808000\">\"modelArn\"</span>]                                                            <span style=\"color: #ff0000; text-decoration-color: #ff0000\">│</span>\n",
       "<span style=\"color: #ff0000; text-decoration-color: #ff0000\">│</span>   <span style=\"color: #7f7f7f; text-decoration-color: #7f7f7f\">12 </span>                                                                                            <span style=\"color: #ff0000; text-decoration-color: #ff0000\">│</span>\n",
       "<span style=\"color: #ff0000; text-decoration-color: #ff0000\">│</span>                                                                                                  <span style=\"color: #ff0000; text-decoration-color: #ff0000\">│</span>\n",
       "<span style=\"color: #ff0000; text-decoration-color: #ff0000\">│</span> <span style=\"color: #7f7f7f; text-decoration-color: #7f7f7f\">/Users/dewanup/.pyenv/versions/3.11.0/lib/python3.11/site-packages/botocore/</span><span style=\"font-weight: bold\">client.py</span>:601 in     <span style=\"color: #ff0000; text-decoration-color: #ff0000\">│</span>\n",
       "<span style=\"color: #ff0000; text-decoration-color: #ff0000\">│</span> _api_call                                                                                        <span style=\"color: #ff0000; text-decoration-color: #ff0000\">│</span>\n",
       "<span style=\"color: #ff0000; text-decoration-color: #ff0000\">│</span>                                                                                                  <span style=\"color: #ff0000; text-decoration-color: #ff0000\">│</span>\n",
       "<span style=\"color: #ff0000; text-decoration-color: #ff0000\">│</span>   <span style=\"color: #7f7f7f; text-decoration-color: #7f7f7f\"> 598 </span><span style=\"color: #7f7f7f; text-decoration-color: #7f7f7f\">│   │   │   │   │   </span><span style=\"color: #808000; text-decoration-color: #808000\">f\"{</span>py_operation_name<span style=\"color: #808000; text-decoration-color: #808000\">}() only accepts keyword arguments.\"</span>              <span style=\"color: #ff0000; text-decoration-color: #ff0000\">│</span>\n",
       "<span style=\"color: #ff0000; text-decoration-color: #ff0000\">│</span>   <span style=\"color: #7f7f7f; text-decoration-color: #7f7f7f\"> 599 </span><span style=\"color: #7f7f7f; text-decoration-color: #7f7f7f\">│   │   │   │   </span>)                                                                         <span style=\"color: #ff0000; text-decoration-color: #ff0000\">│</span>\n",
       "<span style=\"color: #ff0000; text-decoration-color: #ff0000\">│</span>   <span style=\"color: #7f7f7f; text-decoration-color: #7f7f7f\"> 600 </span><span style=\"color: #7f7f7f; text-decoration-color: #7f7f7f\">│   │   │   </span><span style=\"color: #7f7f7f; text-decoration-color: #7f7f7f\"># The \"self\" in this scope is referring to the BaseClient.</span>                    <span style=\"color: #ff0000; text-decoration-color: #ff0000\">│</span>\n",
       "<span style=\"color: #ff0000; text-decoration-color: #ff0000\">│</span> <span style=\"color: #800000; text-decoration-color: #800000\">❱ </span> 601 <span style=\"color: #7f7f7f; text-decoration-color: #7f7f7f\">│   │   │   </span><span style=\"color: #0000ff; text-decoration-color: #0000ff\">return</span> <span style=\"color: #00ffff; text-decoration-color: #00ffff; font-weight: bold; text-decoration: underline\">self</span><span style=\"font-weight: bold; text-decoration: underline\">._make_api_call(operation_name, kwargs)</span>                            <span style=\"color: #ff0000; text-decoration-color: #ff0000\">│</span>\n",
       "<span style=\"color: #ff0000; text-decoration-color: #ff0000\">│</span>   <span style=\"color: #7f7f7f; text-decoration-color: #7f7f7f\"> 602 </span><span style=\"color: #7f7f7f; text-decoration-color: #7f7f7f\">│   │   </span>                                                                                  <span style=\"color: #ff0000; text-decoration-color: #ff0000\">│</span>\n",
       "<span style=\"color: #ff0000; text-decoration-color: #ff0000\">│</span>   <span style=\"color: #7f7f7f; text-decoration-color: #7f7f7f\"> 603 </span><span style=\"color: #7f7f7f; text-decoration-color: #7f7f7f\">│   │   </span>_api_call.<span style=\"color: #ff0000; text-decoration-color: #ff0000\">__name__</span> = <span style=\"color: #00ffff; text-decoration-color: #00ffff\">str</span>(py_operation_name)                                       <span style=\"color: #ff0000; text-decoration-color: #ff0000\">│</span>\n",
       "<span style=\"color: #ff0000; text-decoration-color: #ff0000\">│</span>   <span style=\"color: #7f7f7f; text-decoration-color: #7f7f7f\"> 604 </span>                                                                                          <span style=\"color: #ff0000; text-decoration-color: #ff0000\">│</span>\n",
       "<span style=\"color: #ff0000; text-decoration-color: #ff0000\">│</span>                                                                                                  <span style=\"color: #ff0000; text-decoration-color: #ff0000\">│</span>\n",
       "<span style=\"color: #ff0000; text-decoration-color: #ff0000\">│</span> <span style=\"color: #7f7f7f; text-decoration-color: #7f7f7f\">/Users/dewanup/.pyenv/versions/3.11.0/lib/python3.11/site-packages/botocore/</span><span style=\"font-weight: bold\">context.py</span>:123 in    <span style=\"color: #ff0000; text-decoration-color: #ff0000\">│</span>\n",
       "<span style=\"color: #ff0000; text-decoration-color: #ff0000\">│</span> wrapper                                                                                          <span style=\"color: #ff0000; text-decoration-color: #ff0000\">│</span>\n",
       "<span style=\"color: #ff0000; text-decoration-color: #ff0000\">│</span>                                                                                                  <span style=\"color: #ff0000; text-decoration-color: #ff0000\">│</span>\n",
       "<span style=\"color: #ff0000; text-decoration-color: #ff0000\">│</span>   <span style=\"color: #7f7f7f; text-decoration-color: #7f7f7f\">120 </span><span style=\"color: #7f7f7f; text-decoration-color: #7f7f7f\">│   │   │   </span><span style=\"color: #0000ff; text-decoration-color: #0000ff\">with</span> start_as_current_context():                                               <span style=\"color: #ff0000; text-decoration-color: #ff0000\">│</span>\n",
       "<span style=\"color: #ff0000; text-decoration-color: #ff0000\">│</span>   <span style=\"color: #7f7f7f; text-decoration-color: #7f7f7f\">121 </span><span style=\"color: #7f7f7f; text-decoration-color: #7f7f7f\">│   │   │   │   </span><span style=\"color: #0000ff; text-decoration-color: #0000ff\">if</span> hook:                                                                   <span style=\"color: #ff0000; text-decoration-color: #ff0000\">│</span>\n",
       "<span style=\"color: #ff0000; text-decoration-color: #ff0000\">│</span>   <span style=\"color: #7f7f7f; text-decoration-color: #7f7f7f\">122 </span><span style=\"color: #7f7f7f; text-decoration-color: #7f7f7f\">│   │   │   │   │   </span>hook()                                                                 <span style=\"color: #ff0000; text-decoration-color: #ff0000\">│</span>\n",
       "<span style=\"color: #ff0000; text-decoration-color: #ff0000\">│</span> <span style=\"color: #800000; text-decoration-color: #800000\">❱ </span>123 <span style=\"color: #7f7f7f; text-decoration-color: #7f7f7f\">│   │   │   │   </span><span style=\"color: #0000ff; text-decoration-color: #0000ff\">return</span> <span style=\"font-weight: bold; text-decoration: underline\">func(*args, **kwargs)</span>                                               <span style=\"color: #ff0000; text-decoration-color: #ff0000\">│</span>\n",
       "<span style=\"color: #ff0000; text-decoration-color: #ff0000\">│</span>   <span style=\"color: #7f7f7f; text-decoration-color: #7f7f7f\">124 </span><span style=\"color: #7f7f7f; text-decoration-color: #7f7f7f\">│   │   </span>                                                                                   <span style=\"color: #ff0000; text-decoration-color: #ff0000\">│</span>\n",
       "<span style=\"color: #ff0000; text-decoration-color: #ff0000\">│</span>   <span style=\"color: #7f7f7f; text-decoration-color: #7f7f7f\">125 </span><span style=\"color: #7f7f7f; text-decoration-color: #7f7f7f\">│   │   </span><span style=\"color: #0000ff; text-decoration-color: #0000ff\">return</span> wrapper                                                                     <span style=\"color: #ff0000; text-decoration-color: #ff0000\">│</span>\n",
       "<span style=\"color: #ff0000; text-decoration-color: #ff0000\">│</span>   <span style=\"color: #7f7f7f; text-decoration-color: #7f7f7f\">126 </span>                                                                                           <span style=\"color: #ff0000; text-decoration-color: #ff0000\">│</span>\n",
       "<span style=\"color: #ff0000; text-decoration-color: #ff0000\">│</span>                                                                                                  <span style=\"color: #ff0000; text-decoration-color: #ff0000\">│</span>\n",
       "<span style=\"color: #ff0000; text-decoration-color: #ff0000\">│</span> <span style=\"color: #7f7f7f; text-decoration-color: #7f7f7f\">/Users/dewanup/.pyenv/versions/3.11.0/lib/python3.11/site-packages/botocore/</span><span style=\"font-weight: bold\">client.py</span>:1074 in    <span style=\"color: #ff0000; text-decoration-color: #ff0000\">│</span>\n",
       "<span style=\"color: #ff0000; text-decoration-color: #ff0000\">│</span> _make_api_call                                                                                   <span style=\"color: #ff0000; text-decoration-color: #ff0000\">│</span>\n",
       "<span style=\"color: #ff0000; text-decoration-color: #ff0000\">│</span>                                                                                                  <span style=\"color: #ff0000; text-decoration-color: #ff0000\">│</span>\n",
       "<span style=\"color: #ff0000; text-decoration-color: #ff0000\">│</span>   <span style=\"color: #7f7f7f; text-decoration-color: #7f7f7f\">1071 </span><span style=\"color: #7f7f7f; text-decoration-color: #7f7f7f\">│   │   │   │   </span><span style=\"color: #808000; text-decoration-color: #808000\">\"Code\"</span>                                                                    <span style=\"color: #ff0000; text-decoration-color: #ff0000\">│</span>\n",
       "<span style=\"color: #ff0000; text-decoration-color: #ff0000\">│</span>   <span style=\"color: #7f7f7f; text-decoration-color: #7f7f7f\">1072 </span><span style=\"color: #7f7f7f; text-decoration-color: #7f7f7f\">│   │   │   </span>)                                                                             <span style=\"color: #ff0000; text-decoration-color: #ff0000\">│</span>\n",
       "<span style=\"color: #ff0000; text-decoration-color: #ff0000\">│</span>   <span style=\"color: #7f7f7f; text-decoration-color: #7f7f7f\">1073 </span><span style=\"color: #7f7f7f; text-decoration-color: #7f7f7f\">│   │   │   </span>error_class = <span style=\"color: #00ffff; text-decoration-color: #00ffff\">self</span>.exceptions.from_code(error_code)                           <span style=\"color: #ff0000; text-decoration-color: #ff0000\">│</span>\n",
       "<span style=\"color: #ff0000; text-decoration-color: #ff0000\">│</span> <span style=\"color: #800000; text-decoration-color: #800000\">❱ </span>1074 <span style=\"color: #7f7f7f; text-decoration-color: #7f7f7f\">│   │   │   </span><span style=\"color: #0000ff; text-decoration-color: #0000ff; font-weight: bold; text-decoration: underline\">raise</span><span style=\"font-weight: bold; text-decoration: underline\"> error_class(parsed_response, operation_name)</span>                            <span style=\"color: #ff0000; text-decoration-color: #ff0000\">│</span>\n",
       "<span style=\"color: #ff0000; text-decoration-color: #ff0000\">│</span>   <span style=\"color: #7f7f7f; text-decoration-color: #7f7f7f\">1075 </span><span style=\"color: #7f7f7f; text-decoration-color: #7f7f7f\">│   │   </span><span style=\"color: #0000ff; text-decoration-color: #0000ff\">else</span>:                                                                             <span style=\"color: #ff0000; text-decoration-color: #ff0000\">│</span>\n",
       "<span style=\"color: #ff0000; text-decoration-color: #ff0000\">│</span>   <span style=\"color: #7f7f7f; text-decoration-color: #7f7f7f\">1076 </span><span style=\"color: #7f7f7f; text-decoration-color: #7f7f7f\">│   │   │   </span><span style=\"color: #0000ff; text-decoration-color: #0000ff\">return</span> parsed_response                                                        <span style=\"color: #ff0000; text-decoration-color: #ff0000\">│</span>\n",
       "<span style=\"color: #ff0000; text-decoration-color: #ff0000\">│</span>   <span style=\"color: #7f7f7f; text-decoration-color: #7f7f7f\">1077 </span>                                                                                          <span style=\"color: #ff0000; text-decoration-color: #ff0000\">│</span>\n",
       "<span style=\"color: #ff0000; text-decoration-color: #ff0000\">╰──────────────────────────────────────────────────────────────────────────────────────────────────╯</span>\n",
       "<span style=\"color: #ff0000; text-decoration-color: #ff0000; font-weight: bold\">ValidationException: </span>An error occurred <span style=\"font-weight: bold\">(</span>ValidationException<span style=\"font-weight: bold\">)</span> when calling the CreateCustomModel operation: Model \n",
       "with name <span style=\"color: #008700; text-decoration-color: #008700\">'nova-lite-sagemaker-sft'</span> already exists.\n",
       "</pre>\n"
      ],
      "text/plain": [
       "\u001b[38;2;255;0;0m╭─\u001b[0m\u001b[38;2;255;0;0m──────────────────────────────\u001b[0m\u001b[38;2;255;0;0m \u001b[0m\u001b[1;38;2;255;0;0mTraceback \u001b[0m\u001b[1;2;38;2;255;0;0m(most recent call last)\u001b[0m\u001b[38;2;255;0;0m \u001b[0m\u001b[38;2;255;0;0m───────────────────────────────\u001b[0m\u001b[38;2;255;0;0m─╮\u001b[0m\n",
       "\u001b[38;2;255;0;0m│\u001b[0m in <module>:9                                                                                    \u001b[38;2;255;0;0m│\u001b[0m\n",
       "\u001b[38;2;255;0;0m│\u001b[0m                                                                                                  \u001b[38;2;255;0;0m│\u001b[0m\n",
       "\u001b[38;2;255;0;0m│\u001b[0m   \u001b[2m 6 \u001b[0m}                                                                                           \u001b[38;2;255;0;0m│\u001b[0m\n",
       "\u001b[38;2;255;0;0m│\u001b[0m   \u001b[2m 7 \u001b[0m                                                                                            \u001b[38;2;255;0;0m│\u001b[0m\n",
       "\u001b[38;2;255;0;0m│\u001b[0m   \u001b[2m 8 \u001b[0m\u001b[2m# Create the model import job\u001b[0m                                                               \u001b[38;2;255;0;0m│\u001b[0m\n",
       "\u001b[38;2;255;0;0m│\u001b[0m \u001b[31m❱ \u001b[0m 9 response = \u001b[1;4mbedrock.create_custom_model(**request_params)\u001b[0m                                    \u001b[38;2;255;0;0m│\u001b[0m\n",
       "\u001b[38;2;255;0;0m│\u001b[0m   \u001b[2m10 \u001b[0m                                                                                            \u001b[38;2;255;0;0m│\u001b[0m\n",
       "\u001b[38;2;255;0;0m│\u001b[0m   \u001b[2m11 \u001b[0mmodel_arn = response[\u001b[33m\"\u001b[0m\u001b[33mmodelArn\u001b[0m\u001b[33m\"\u001b[0m]                                                            \u001b[38;2;255;0;0m│\u001b[0m\n",
       "\u001b[38;2;255;0;0m│\u001b[0m   \u001b[2m12 \u001b[0m                                                                                            \u001b[38;2;255;0;0m│\u001b[0m\n",
       "\u001b[38;2;255;0;0m│\u001b[0m                                                                                                  \u001b[38;2;255;0;0m│\u001b[0m\n",
       "\u001b[38;2;255;0;0m│\u001b[0m \u001b[2m/Users/dewanup/.pyenv/versions/3.11.0/lib/python3.11/site-packages/botocore/\u001b[0m\u001b[1mclient.py\u001b[0m:601 in     \u001b[38;2;255;0;0m│\u001b[0m\n",
       "\u001b[38;2;255;0;0m│\u001b[0m _api_call                                                                                        \u001b[38;2;255;0;0m│\u001b[0m\n",
       "\u001b[38;2;255;0;0m│\u001b[0m                                                                                                  \u001b[38;2;255;0;0m│\u001b[0m\n",
       "\u001b[38;2;255;0;0m│\u001b[0m   \u001b[2m 598 \u001b[0m\u001b[2m│   │   │   │   │   \u001b[0m\u001b[33mf\u001b[0m\u001b[33m\"\u001b[0m\u001b[33m{\u001b[0mpy_operation_name\u001b[33m}\u001b[0m\u001b[33m() only accepts keyword arguments.\u001b[0m\u001b[33m\"\u001b[0m              \u001b[38;2;255;0;0m│\u001b[0m\n",
       "\u001b[38;2;255;0;0m│\u001b[0m   \u001b[2m 599 \u001b[0m\u001b[2m│   │   │   │   \u001b[0m)                                                                         \u001b[38;2;255;0;0m│\u001b[0m\n",
       "\u001b[38;2;255;0;0m│\u001b[0m   \u001b[2m 600 \u001b[0m\u001b[2m│   │   │   \u001b[0m\u001b[2m# The \"self\" in this scope is referring to the BaseClient.\u001b[0m                    \u001b[38;2;255;0;0m│\u001b[0m\n",
       "\u001b[38;2;255;0;0m│\u001b[0m \u001b[31m❱ \u001b[0m 601 \u001b[2m│   │   │   \u001b[0m\u001b[94mreturn\u001b[0m \u001b[1;4;96mself\u001b[0m\u001b[1;4m._make_api_call(operation_name, kwargs)\u001b[0m                            \u001b[38;2;255;0;0m│\u001b[0m\n",
       "\u001b[38;2;255;0;0m│\u001b[0m   \u001b[2m 602 \u001b[0m\u001b[2m│   │   \u001b[0m                                                                                  \u001b[38;2;255;0;0m│\u001b[0m\n",
       "\u001b[38;2;255;0;0m│\u001b[0m   \u001b[2m 603 \u001b[0m\u001b[2m│   │   \u001b[0m_api_call.\u001b[91m__name__\u001b[0m = \u001b[96mstr\u001b[0m(py_operation_name)                                       \u001b[38;2;255;0;0m│\u001b[0m\n",
       "\u001b[38;2;255;0;0m│\u001b[0m   \u001b[2m 604 \u001b[0m                                                                                          \u001b[38;2;255;0;0m│\u001b[0m\n",
       "\u001b[38;2;255;0;0m│\u001b[0m                                                                                                  \u001b[38;2;255;0;0m│\u001b[0m\n",
       "\u001b[38;2;255;0;0m│\u001b[0m \u001b[2m/Users/dewanup/.pyenv/versions/3.11.0/lib/python3.11/site-packages/botocore/\u001b[0m\u001b[1mcontext.py\u001b[0m:123 in    \u001b[38;2;255;0;0m│\u001b[0m\n",
       "\u001b[38;2;255;0;0m│\u001b[0m wrapper                                                                                          \u001b[38;2;255;0;0m│\u001b[0m\n",
       "\u001b[38;2;255;0;0m│\u001b[0m                                                                                                  \u001b[38;2;255;0;0m│\u001b[0m\n",
       "\u001b[38;2;255;0;0m│\u001b[0m   \u001b[2m120 \u001b[0m\u001b[2m│   │   │   \u001b[0m\u001b[94mwith\u001b[0m start_as_current_context():                                               \u001b[38;2;255;0;0m│\u001b[0m\n",
       "\u001b[38;2;255;0;0m│\u001b[0m   \u001b[2m121 \u001b[0m\u001b[2m│   │   │   │   \u001b[0m\u001b[94mif\u001b[0m hook:                                                                   \u001b[38;2;255;0;0m│\u001b[0m\n",
       "\u001b[38;2;255;0;0m│\u001b[0m   \u001b[2m122 \u001b[0m\u001b[2m│   │   │   │   │   \u001b[0mhook()                                                                 \u001b[38;2;255;0;0m│\u001b[0m\n",
       "\u001b[38;2;255;0;0m│\u001b[0m \u001b[31m❱ \u001b[0m123 \u001b[2m│   │   │   │   \u001b[0m\u001b[94mreturn\u001b[0m \u001b[1;4mfunc(*args, **kwargs)\u001b[0m                                               \u001b[38;2;255;0;0m│\u001b[0m\n",
       "\u001b[38;2;255;0;0m│\u001b[0m   \u001b[2m124 \u001b[0m\u001b[2m│   │   \u001b[0m                                                                                   \u001b[38;2;255;0;0m│\u001b[0m\n",
       "\u001b[38;2;255;0;0m│\u001b[0m   \u001b[2m125 \u001b[0m\u001b[2m│   │   \u001b[0m\u001b[94mreturn\u001b[0m wrapper                                                                     \u001b[38;2;255;0;0m│\u001b[0m\n",
       "\u001b[38;2;255;0;0m│\u001b[0m   \u001b[2m126 \u001b[0m                                                                                           \u001b[38;2;255;0;0m│\u001b[0m\n",
       "\u001b[38;2;255;0;0m│\u001b[0m                                                                                                  \u001b[38;2;255;0;0m│\u001b[0m\n",
       "\u001b[38;2;255;0;0m│\u001b[0m \u001b[2m/Users/dewanup/.pyenv/versions/3.11.0/lib/python3.11/site-packages/botocore/\u001b[0m\u001b[1mclient.py\u001b[0m:1074 in    \u001b[38;2;255;0;0m│\u001b[0m\n",
       "\u001b[38;2;255;0;0m│\u001b[0m _make_api_call                                                                                   \u001b[38;2;255;0;0m│\u001b[0m\n",
       "\u001b[38;2;255;0;0m│\u001b[0m                                                                                                  \u001b[38;2;255;0;0m│\u001b[0m\n",
       "\u001b[38;2;255;0;0m│\u001b[0m   \u001b[2m1071 \u001b[0m\u001b[2m│   │   │   │   \u001b[0m\u001b[33m\"\u001b[0m\u001b[33mCode\u001b[0m\u001b[33m\"\u001b[0m                                                                    \u001b[38;2;255;0;0m│\u001b[0m\n",
       "\u001b[38;2;255;0;0m│\u001b[0m   \u001b[2m1072 \u001b[0m\u001b[2m│   │   │   \u001b[0m)                                                                             \u001b[38;2;255;0;0m│\u001b[0m\n",
       "\u001b[38;2;255;0;0m│\u001b[0m   \u001b[2m1073 \u001b[0m\u001b[2m│   │   │   \u001b[0merror_class = \u001b[96mself\u001b[0m.exceptions.from_code(error_code)                           \u001b[38;2;255;0;0m│\u001b[0m\n",
       "\u001b[38;2;255;0;0m│\u001b[0m \u001b[31m❱ \u001b[0m1074 \u001b[2m│   │   │   \u001b[0m\u001b[1;4;94mraise\u001b[0m\u001b[1;4m error_class(parsed_response, operation_name)\u001b[0m                            \u001b[38;2;255;0;0m│\u001b[0m\n",
       "\u001b[38;2;255;0;0m│\u001b[0m   \u001b[2m1075 \u001b[0m\u001b[2m│   │   \u001b[0m\u001b[94melse\u001b[0m:                                                                             \u001b[38;2;255;0;0m│\u001b[0m\n",
       "\u001b[38;2;255;0;0m│\u001b[0m   \u001b[2m1076 \u001b[0m\u001b[2m│   │   │   \u001b[0m\u001b[94mreturn\u001b[0m parsed_response                                                        \u001b[38;2;255;0;0m│\u001b[0m\n",
       "\u001b[38;2;255;0;0m│\u001b[0m   \u001b[2m1077 \u001b[0m                                                                                          \u001b[38;2;255;0;0m│\u001b[0m\n",
       "\u001b[38;2;255;0;0m╰──────────────────────────────────────────────────────────────────────────────────────────────────╯\u001b[0m\n",
       "\u001b[1;91mValidationException: \u001b[0mAn error occurred \u001b[1m(\u001b[0mValidationException\u001b[1m)\u001b[0m when calling the CreateCustomModel operation: Model \n",
       "with name \u001b[38;2;0;135;0m'nova-lite-sagemaker-sft'\u001b[0m already exists.\n"
      ]
     },
     "metadata": {},
     "output_type": "display_data"
    }
   ],
   "source": [
    "request_params = {\n",
    "    \"modelName\": imported_model_name,\n",
    "    \"modelSourceConfig\": {\"s3DataSource\": {\"s3Uri\": model_path}},\n",
    "    \"roleArn\": role,\n",
    "    \"clientRequestToken\": \"NovaRecipeSageMaker\",\n",
    "}\n",
    "\n",
    "# Create the model import job\n",
    "response = bedrock.create_custom_model(**request_params)\n",
    "\n",
    "model_arn = response[\"modelArn\"]\n",
    "\n",
    "# Output the model ARN\n",
    "print(f\"Model import job created with ARN: {model_arn}\")"
   ]
  },
  {
   "cell_type": "markdown",
   "id": "f2c836de",
   "metadata": {},
   "source": [
    "### Monitoring the Model status\n",
    "\n",
    "After initiating the model import, we need to monitor its progress. The status goes through several states:\n",
    "\n",
    "* CREATING: Model is being imported\n",
    "* ACTIVE: Import successful\n",
    "* FAILED: Import encountered errors\n",
    "\n",
    "This cell polls the Bedrock API every 60 seconds to check the status of the model import, continuing until it reaches a terminal state (ACTIVE or FAILED). Once the import completes successfully, we'll have the model ARN which we can use for inference."
   ]
  },
  {
   "cell_type": "code",
   "execution_count": 8,
   "id": "e56e8642",
   "metadata": {},
   "outputs": [],
   "source": [
    "response = bedrock.list_custom_models(sortBy='CreationTime',sortOrder='Descending')"
   ]
  },
  {
   "cell_type": "code",
   "execution_count": 9,
   "id": "f0449fa4",
   "metadata": {},
   "outputs": [
    {
     "data": {
      "text/plain": [
       "{'ResponseMetadata': {'RequestId': 'fbda5af3-c828-4804-823e-359e8d91673a',\n",
       "  'HTTPStatusCode': 200,\n",
       "  'HTTPHeaders': {'date': 'Wed, 16 Jul 2025 17:18:22 GMT',\n",
       "   'content-type': 'application/json',\n",
       "   'content-length': '28983',\n",
       "   'connection': 'keep-alive',\n",
       "   'x-amzn-requestid': 'fbda5af3-c828-4804-823e-359e8d91673a'},\n",
       "  'RetryAttempts': 0},\n",
       " 'modelSummaries': [{'modelArn': 'arn:aws:bedrock:us-east-1:905418197933:custom-model/imported/nnnyr9318w8k',\n",
       "   'modelName': 'nova-lite-sagemaker-sft',\n",
       "   'creationTime': datetime.datetime(2025, 7, 16, 16, 43, 41, 137000, tzinfo=tzutc()),\n",
       "   'baseModelArn': 'arn:aws:bedrock:us-east-1::foundation-model/amazon.nova-lite-v1:0:300k',\n",
       "   'baseModelName': '',\n",
       "   'customizationType': 'IMPORTED',\n",
       "   'ownerAccountId': '905418197933',\n",
       "   'modelStatus': 'Creating'},\n",
       "  {'modelArn': 'arn:aws:bedrock:us-east-1:905418197933:custom-model/imported/3f3cse716ge7',\n",
       "   'modelName': 'usarthak-dpo-micro-fft-tulu3-2025-07-15-18-34-52-925',\n",
       "   'creationTime': datetime.datetime(2025, 7, 15, 20, 30, 49, 687000, tzinfo=tzutc()),\n",
       "   'baseModelArn': 'arn:aws:bedrock:us-east-1::foundation-model/amazon.nova-micro-v1:0:128k',\n",
       "   'baseModelName': '',\n",
       "   'customizationType': 'IMPORTED',\n",
       "   'ownerAccountId': '905418197933',\n",
       "   'modelStatus': 'Active'},\n",
       "  {'modelArn': 'arn:aws:bedrock:us-east-1:905418197933:custom-model/imported/2xpixkzfaec1',\n",
       "   'modelName': 'usarthak-dpo-micro-fft-tulu3-300s-old-i-2025-07-15-18-36-34-711',\n",
       "   'creationTime': datetime.datetime(2025, 7, 15, 19, 16, 45, 187000, tzinfo=tzutc()),\n",
       "   'baseModelArn': 'arn:aws:bedrock:us-east-1::foundation-model/amazon.nova-micro-v1:0:128k',\n",
       "   'baseModelName': '',\n",
       "   'customizationType': 'IMPORTED',\n",
       "   'ownerAccountId': '905418197933',\n",
       "   'modelStatus': 'Active'},\n",
       "  {'modelArn': 'arn:aws:bedrock:us-east-1:905418197933:custom-model/imported/utizh7lm0kzm',\n",
       "   'modelName': 'usarthak-dpo-micro-fft-tulu3-300s-2025-07-15-18-32-52-373',\n",
       "   'creationTime': datetime.datetime(2025, 7, 15, 19, 9, 47, 933000, tzinfo=tzutc()),\n",
       "   'baseModelArn': 'arn:aws:bedrock:us-east-1::foundation-model/amazon.nova-micro-v1:0:128k',\n",
       "   'baseModelName': '',\n",
       "   'customizationType': 'IMPORTED',\n",
       "   'ownerAccountId': '905418197933',\n",
       "   'modelStatus': 'Active'},\n",
       "  {'modelArn': 'arn:aws:bedrock:us-east-1:905418197933:custom-model/imported/zem11cy3bbsd',\n",
       "   'modelName': 'test-model',\n",
       "   'creationTime': datetime.datetime(2025, 6, 27, 5, 53, 22, 820000, tzinfo=tzutc()),\n",
       "   'baseModelArn': 'arn:aws:bedrock:us-east-1::foundation-model/amazon.nova-lite-v1:0:300k',\n",
       "   'baseModelName': '',\n",
       "   'customizationType': 'IMPORTED',\n",
       "   'ownerAccountId': '905418197933',\n",
       "   'modelStatus': 'Active'},\n",
       "  {'modelArn': 'arn:aws:bedrock:us-east-1:905418197933:custom-model/imported/bceluqn6vd94',\n",
       "   'modelName': 'MY_TEST',\n",
       "   'creationTime': datetime.datetime(2025, 6, 26, 22, 56, 55, 381000, tzinfo=tzutc()),\n",
       "   'baseModelArn': 'arn:aws:bedrock:us-east-1::foundation-model/amazon.nova-lite-v1:0:300k',\n",
       "   'baseModelName': '',\n",
       "   'customizationType': 'IMPORTED',\n",
       "   'ownerAccountId': '905418197933',\n",
       "   'modelStatus': 'Active'},\n",
       "  {'modelArn': 'arn:aws:bedrock:us-east-1:905418197933:custom-model/imported/aeberoixdnrm',\n",
       "   'modelName': 'ace_math_custom_smtj_model',\n",
       "   'creationTime': datetime.datetime(2025, 6, 26, 22, 0, 33, 609000, tzinfo=tzutc()),\n",
       "   'baseModelArn': 'arn:aws:bedrock:us-east-1::foundation-model/amazon.nova-lite-v1:0:300k',\n",
       "   'baseModelName': '',\n",
       "   'customizationType': 'IMPORTED',\n",
       "   'ownerAccountId': '905418197933',\n",
       "   'modelStatus': 'Active'},\n",
       "  {'modelArn': 'arn:aws:bedrock:us-east-1:905418197933:custom-model/amazon.nova-lite-v1:0:300k/yworyweo2dbu',\n",
       "   'modelName': 'fw-distill-gtlabels-half-1',\n",
       "   'creationTime': datetime.datetime(2025, 6, 26, 4, 18, 11, 494000, tzinfo=tzutc()),\n",
       "   'baseModelArn': 'arn:aws:bedrock:us-east-1::foundation-model/amazon.nova-lite-v1:0:300k',\n",
       "   'baseModelName': '',\n",
       "   'customizationType': 'DISTILLATION',\n",
       "   'ownerAccountId': '905418197933',\n",
       "   'modelStatus': 'Active'},\n",
       "  {'modelArn': 'arn:aws:bedrock:us-east-1:905418197933:custom-model/amazon.nova-lite-v1:0:300k/s8554lvc9iuu',\n",
       "   'modelName': 'fw-distill-gtlabels-all-1',\n",
       "   'creationTime': datetime.datetime(2025, 6, 26, 3, 59, 43, 692000, tzinfo=tzutc()),\n",
       "   'baseModelArn': 'arn:aws:bedrock:us-east-1::foundation-model/amazon.nova-lite-v1:0:300k',\n",
       "   'baseModelName': '',\n",
       "   'customizationType': 'DISTILLATION',\n",
       "   'ownerAccountId': '905418197933',\n",
       "   'modelStatus': 'Active'},\n",
       "  {'modelArn': 'arn:aws:bedrock:us-east-1:905418197933:custom-model/amazon.nova-pro-v1:0:300k/gteznyaypeps',\n",
       "   'modelName': 'genaiic-adb-chart-gen-pro-ft-v2',\n",
       "   'creationTime': datetime.datetime(2025, 6, 20, 16, 20, 33, 886000, tzinfo=tzutc()),\n",
       "   'baseModelArn': 'arn:aws:bedrock:us-east-1::foundation-model/amazon.nova-pro-v1:0:300k',\n",
       "   'baseModelName': '',\n",
       "   'customizationType': 'FINE_TUNING',\n",
       "   'ownerAccountId': '905418197933',\n",
       "   'modelStatus': 'Active'},\n",
       "  {'modelArn': 'arn:aws:bedrock:us-east-1:905418197933:custom-model/amazon.nova-lite-v1:0:300k/vjtmg804eudn',\n",
       "   'modelName': 'genaiic-adb-chart-gen-lite-ft-v2',\n",
       "   'creationTime': datetime.datetime(2025, 6, 19, 20, 15, 46, 535000, tzinfo=tzutc()),\n",
       "   'baseModelArn': 'arn:aws:bedrock:us-east-1::foundation-model/amazon.nova-lite-v1:0:300k',\n",
       "   'baseModelName': '',\n",
       "   'customizationType': 'FINE_TUNING',\n",
       "   'ownerAccountId': '905418197933',\n",
       "   'modelStatus': 'Active'},\n",
       "  {'modelArn': 'arn:aws:bedrock:us-east-1:905418197933:custom-model/imported/rwgul6ui555p',\n",
       "   'modelName': 'test_model618',\n",
       "   'creationTime': datetime.datetime(2025, 6, 18, 21, 54, 9, 777000, tzinfo=tzutc()),\n",
       "   'baseModelArn': 'arn:aws:bedrock:us-east-1::foundation-model/amazon.nova-micro-v1:0:128k',\n",
       "   'baseModelName': '',\n",
       "   'customizationType': 'IMPORTED',\n",
       "   'ownerAccountId': '905418197933',\n",
       "   'modelStatus': 'Active'},\n",
       "  {'modelArn': 'arn:aws:bedrock:us-east-1:905418197933:custom-model/amazon.nova-lite-v1:0:300k/elw3wge9sww9',\n",
       "   'modelName': 'cpp-nofs-nocot',\n",
       "   'creationTime': datetime.datetime(2025, 6, 17, 5, 51, 18, 538000, tzinfo=tzutc()),\n",
       "   'baseModelArn': 'arn:aws:bedrock:us-east-1::foundation-model/amazon.nova-lite-v1:0:300k',\n",
       "   'baseModelName': '',\n",
       "   'customizationType': 'DISTILLATION',\n",
       "   'ownerAccountId': '905418197933',\n",
       "   'modelStatus': 'Active'},\n",
       "  {'modelArn': 'arn:aws:bedrock:us-east-1:905418197933:custom-model/amazon.nova-lite-v1:0:300k/78a1n6iu2lg5',\n",
       "   'modelName': 'distilled-citations-2025-06-16-13-13-23',\n",
       "   'creationTime': datetime.datetime(2025, 6, 16, 20, 14, 1, 135000, tzinfo=tzutc()),\n",
       "   'baseModelArn': 'arn:aws:bedrock:us-east-1::foundation-model/amazon.nova-lite-v1:0:300k',\n",
       "   'baseModelName': '',\n",
       "   'customizationType': 'DISTILLATION',\n",
       "   'ownerAccountId': '905418197933',\n",
       "   'modelStatus': 'Active'},\n",
       "  {'modelArn': 'arn:aws:bedrock:us-east-1:905418197933:custom-model/imported/xc08b9o8vtwm',\n",
       "   'modelName': 'nova-lite-dpo-peft-SM',\n",
       "   'creationTime': datetime.datetime(2025, 6, 15, 5, 24, 41, 819000, tzinfo=tzutc()),\n",
       "   'baseModelArn': 'arn:aws:bedrock:us-east-1::foundation-model/amazon.nova-lite-v1:0:300k',\n",
       "   'baseModelName': '',\n",
       "   'customizationType': 'IMPORTED',\n",
       "   'ownerAccountId': '905418197933',\n",
       "   'modelStatus': 'Active'},\n",
       "  {'modelArn': 'arn:aws:bedrock:us-east-1:905418197933:custom-model/imported/v3xj4xyjwfb2',\n",
       "   'modelName': 'nova-lite-sagemaker-dpo-peft3',\n",
       "   'creationTime': datetime.datetime(2025, 6, 14, 22, 28, 25, 890000, tzinfo=tzutc()),\n",
       "   'baseModelArn': 'arn:aws:bedrock:us-east-1::foundation-model/amazon.nova-lite-v1:0:300k',\n",
       "   'baseModelName': '',\n",
       "   'customizationType': 'IMPORTED',\n",
       "   'ownerAccountId': '905418197933',\n",
       "   'modelStatus': 'Active'},\n",
       "  {'modelArn': 'arn:aws:bedrock:us-east-1:905418197933:custom-model/imported/2idccrn2zu0m',\n",
       "   'modelName': 'nova-lite-sagemaker-dpo-peft2',\n",
       "   'creationTime': datetime.datetime(2025, 6, 14, 22, 18, 16, 843000, tzinfo=tzutc()),\n",
       "   'baseModelArn': 'arn:aws:bedrock:us-east-1::foundation-model/amazon.nova-lite-v1:0:300k',\n",
       "   'baseModelName': '',\n",
       "   'customizationType': 'IMPORTED',\n",
       "   'ownerAccountId': '905418197933',\n",
       "   'modelStatus': 'Active'},\n",
       "  {'modelArn': 'arn:aws:bedrock:us-east-1:905418197933:custom-model/imported/lbas0w5v2imm',\n",
       "   'modelName': 'nova-lite-sagemaker-dpo-peft',\n",
       "   'creationTime': datetime.datetime(2025, 6, 14, 22, 3, 7, 636000, tzinfo=tzutc()),\n",
       "   'baseModelArn': 'arn:aws:bedrock:us-east-1::foundation-model/amazon.nova-lite-v1:0:300k',\n",
       "   'baseModelName': '',\n",
       "   'customizationType': 'IMPORTED',\n",
       "   'ownerAccountId': '905418197933',\n",
       "   'modelStatus': 'Active'},\n",
       "  {'modelArn': 'arn:aws:bedrock:us-east-1:905418197933:custom-model/imported/dxohdmk76dl5',\n",
       "   'modelName': 'nova-micro-sagemaker-dpo-peft',\n",
       "   'creationTime': datetime.datetime(2025, 6, 14, 11, 39, 3, 339000, tzinfo=tzutc()),\n",
       "   'baseModelArn': 'arn:aws:bedrock:us-east-1::foundation-model/amazon.nova-micro-v1:0:128k',\n",
       "   'baseModelName': '',\n",
       "   'customizationType': 'IMPORTED',\n",
       "   'ownerAccountId': '905418197933',\n",
       "   'modelStatus': 'Active'},\n",
       "  {'modelArn': 'arn:aws:bedrock:us-east-1:905418197933:custom-model/amazon.nova-lite-v1:0:300k/xfiberrrn3i3',\n",
       "   'modelName': 'distilled-citations-2025-06-12-08-41-03',\n",
       "   'creationTime': datetime.datetime(2025, 6, 12, 15, 41, 46, 399000, tzinfo=tzutc()),\n",
       "   'baseModelArn': 'arn:aws:bedrock:us-east-1::foundation-model/amazon.nova-lite-v1:0:300k',\n",
       "   'baseModelName': '',\n",
       "   'customizationType': 'DISTILLATION',\n",
       "   'ownerAccountId': '905418197933',\n",
       "   'modelStatus': 'Active'},\n",
       "  {'modelArn': 'arn:aws:bedrock:us-east-1:905418197933:custom-model/amazon.nova-lite-v1:0:300k/6vteal5swbjv',\n",
       "   'modelName': 'factura-fr',\n",
       "   'creationTime': datetime.datetime(2025, 6, 10, 22, 19, 58, 233000, tzinfo=tzutc()),\n",
       "   'baseModelArn': 'arn:aws:bedrock:us-east-1::foundation-model/amazon.nova-lite-v1:0:300k',\n",
       "   'baseModelName': '',\n",
       "   'customizationType': 'IMPORTED',\n",
       "   'ownerAccountId': '905418197933',\n",
       "   'modelStatus': 'Active'},\n",
       "  {'modelArn': 'arn:aws:bedrock:us-east-1:905418197933:custom-model/amazon.nova-lite-v1:0:300k/nau8mirynh1v',\n",
       "   'modelName': 'distilled-citations-2025-06-09-15-31-33',\n",
       "   'creationTime': datetime.datetime(2025, 6, 9, 22, 32, 28, 752000, tzinfo=tzutc()),\n",
       "   'baseModelArn': 'arn:aws:bedrock:us-east-1::foundation-model/amazon.nova-lite-v1:0:300k',\n",
       "   'baseModelName': '',\n",
       "   'customizationType': 'DISTILLATION',\n",
       "   'ownerAccountId': '905418197933',\n",
       "   'modelStatus': 'Active'},\n",
       "  {'modelArn': 'arn:aws:bedrock:us-east-1:905418197933:custom-model/amazon.nova-lite-v1:0:300k/wymwz3ekgqo2',\n",
       "   'modelName': 'pinterest_fullrank',\n",
       "   'creationTime': datetime.datetime(2025, 6, 9, 2, 6, 56, 567000, tzinfo=tzutc()),\n",
       "   'baseModelArn': 'arn:aws:bedrock:us-east-1::foundation-model/amazon.nova-lite-v1:0:300k',\n",
       "   'baseModelName': '',\n",
       "   'customizationType': 'IMPORTED',\n",
       "   'ownerAccountId': '905418197933',\n",
       "   'modelStatus': 'Active'},\n",
       "  {'modelArn': 'arn:aws:bedrock:us-east-1:905418197933:custom-model/amazon.nova-lite-v1:0:300k/qxu13njg57cp',\n",
       "   'modelName': 'tensearch-fullrank',\n",
       "   'creationTime': datetime.datetime(2025, 6, 6, 19, 40, 34, 298000, tzinfo=tzutc()),\n",
       "   'baseModelArn': 'arn:aws:bedrock:us-east-1::foundation-model/amazon.nova-lite-v1:0:300k',\n",
       "   'baseModelName': '',\n",
       "   'customizationType': 'IMPORTED',\n",
       "   'ownerAccountId': '905418197933',\n",
       "   'modelStatus': 'Active'},\n",
       "  {'modelArn': 'arn:aws:bedrock:us-east-1:905418197933:custom-model/amazon.nova-lite-v1:0:300k/mqbxya1wjjc2',\n",
       "   'modelName': 'artemis-lora',\n",
       "   'creationTime': datetime.datetime(2025, 6, 6, 19, 40, 23, 18000, tzinfo=tzutc()),\n",
       "   'baseModelArn': 'arn:aws:bedrock:us-east-1::foundation-model/amazon.nova-lite-v1:0:300k',\n",
       "   'baseModelName': '',\n",
       "   'customizationType': 'IMPORTED',\n",
       "   'ownerAccountId': '905418197933',\n",
       "   'modelStatus': 'Active'},\n",
       "  {'modelArn': 'arn:aws:bedrock:us-east-1:905418197933:custom-model/amazon.nova-lite-v1:0:300k/s5ue80wrftbu',\n",
       "   'modelName': 'sample-model',\n",
       "   'creationTime': datetime.datetime(2025, 6, 5, 16, 36, 15, 980000, tzinfo=tzutc()),\n",
       "   'baseModelArn': 'arn:aws:bedrock:us-east-1::foundation-model/amazon.nova-lite-v1:0:300k',\n",
       "   'baseModelName': '',\n",
       "   'customizationType': 'IMPORTED',\n",
       "   'ownerAccountId': '905418197933',\n",
       "   'modelStatus': 'Active'},\n",
       "  {'modelArn': 'arn:aws:bedrock:us-east-1:905418197933:custom-model/amazon.nova-pro-v1:0:300k/8idvofm79na7',\n",
       "   'modelName': 'genaiic-adb-chart-gen-pro-test2',\n",
       "   'creationTime': datetime.datetime(2025, 5, 30, 18, 37, 23, 141000, tzinfo=tzutc()),\n",
       "   'baseModelArn': 'arn:aws:bedrock:us-east-1::foundation-model/amazon.nova-pro-v1:0:300k',\n",
       "   'baseModelName': '',\n",
       "   'customizationType': 'FINE_TUNING',\n",
       "   'ownerAccountId': '905418197933',\n",
       "   'modelStatus': 'Active'},\n",
       "  {'modelArn': 'arn:aws:bedrock:us-east-1:905418197933:custom-model/amazon.nova-lite-v1:0:300k/8dmdj1stl6d5',\n",
       "   'modelName': 'genaiic-adb-chart-gen-lite-test1',\n",
       "   'creationTime': datetime.datetime(2025, 5, 30, 18, 35, 47, 709000, tzinfo=tzutc()),\n",
       "   'baseModelArn': 'arn:aws:bedrock:us-east-1::foundation-model/amazon.nova-lite-v1:0:300k',\n",
       "   'baseModelName': '',\n",
       "   'customizationType': 'FINE_TUNING',\n",
       "   'ownerAccountId': '905418197933',\n",
       "   'modelStatus': 'Active'},\n",
       "  {'modelArn': 'arn:aws:bedrock:us-east-1:905418197933:custom-model/amazon.nova-pro-v1:0:300k/vnaw7gwztrp9',\n",
       "   'modelName': 'Synth2Pro',\n",
       "   'creationTime': datetime.datetime(2025, 5, 27, 22, 49, 57, 14000, tzinfo=tzutc()),\n",
       "   'baseModelArn': 'arn:aws:bedrock:us-east-1::foundation-model/amazon.nova-pro-v1:0:300k',\n",
       "   'baseModelName': '',\n",
       "   'customizationType': 'FINE_TUNING',\n",
       "   'ownerAccountId': '905418197933',\n",
       "   'modelStatus': 'Active'},\n",
       "  {'modelArn': 'arn:aws:bedrock:us-east-1:905418197933:custom-model/amazon.nova-lite-v1:0:300k/vo63nhkyyvis',\n",
       "   'modelName': 'Synth2',\n",
       "   'creationTime': datetime.datetime(2025, 5, 27, 22, 48, 40, 268000, tzinfo=tzutc()),\n",
       "   'baseModelArn': 'arn:aws:bedrock:us-east-1::foundation-model/amazon.nova-lite-v1:0:300k',\n",
       "   'baseModelName': '',\n",
       "   'customizationType': 'FINE_TUNING',\n",
       "   'ownerAccountId': '905418197933',\n",
       "   'modelStatus': 'Active'},\n",
       "  {'modelArn': 'arn:aws:bedrock:us-east-1:905418197933:custom-model/amazon.nova-lite-v1:0:300k/casxy7dclgvh',\n",
       "   'modelName': 'v7-epoch-5-3x300-fatura2-train-data-am-2025-05-26-21-20-17-239',\n",
       "   'creationTime': datetime.datetime(2025, 5, 26, 21, 20, 35, 466000, tzinfo=tzutc()),\n",
       "   'baseModelArn': 'arn:aws:bedrock:us-east-1::foundation-model/amazon.nova-lite-v1:0:300k',\n",
       "   'baseModelName': '',\n",
       "   'customizationType': 'FINE_TUNING',\n",
       "   'ownerAccountId': '905418197933',\n",
       "   'modelStatus': 'Active'},\n",
       "  {'modelArn': 'arn:aws:bedrock:us-east-1:905418197933:custom-model/amazon.nova-lite-v1:0:300k/y4sk573isops',\n",
       "   'modelName': 'v6-3x300-fatura2-train-data-amazon-nov-2025-05-26-14-30-21-511',\n",
       "   'creationTime': datetime.datetime(2025, 5, 26, 14, 30, 39, 730000, tzinfo=tzutc()),\n",
       "   'baseModelArn': 'arn:aws:bedrock:us-east-1::foundation-model/amazon.nova-lite-v1:0:300k',\n",
       "   'baseModelName': '',\n",
       "   'customizationType': 'FINE_TUNING',\n",
       "   'ownerAccountId': '905418197933',\n",
       "   'modelStatus': 'Active'},\n",
       "  {'modelArn': 'arn:aws:bedrock:us-east-1:905418197933:custom-model/amazon.nova-lite-v1:0:300k/g2bgwko86rn4',\n",
       "   'modelName': 'binc-premier-to-lite-20250223',\n",
       "   'creationTime': datetime.datetime(2025, 5, 26, 5, 30, 55, 680000, tzinfo=tzutc()),\n",
       "   'baseModelArn': 'arn:aws:bedrock:us-east-1::foundation-model/amazon.nova-lite-v1:0:300k',\n",
       "   'baseModelName': '',\n",
       "   'customizationType': 'DISTILLATION',\n",
       "   'ownerAccountId': '905418197933',\n",
       "   'modelStatus': 'Active'},\n",
       "  {'modelArn': 'arn:aws:bedrock:us-east-1:905418197933:custom-model/amazon.nova-lite-v1:0:300k/2y49d24gqlsi',\n",
       "   'modelName': 'v5-1k-sys-prmpt-in-usr-fatura2-train-d-2025-05-24-06-23-20-016',\n",
       "   'creationTime': datetime.datetime(2025, 5, 24, 6, 23, 24, 242000, tzinfo=tzutc()),\n",
       "   'baseModelArn': 'arn:aws:bedrock:us-east-1::foundation-model/amazon.nova-lite-v1:0:300k',\n",
       "   'baseModelName': '',\n",
       "   'customizationType': 'FINE_TUNING',\n",
       "   'ownerAccountId': '905418197933',\n",
       "   'modelStatus': 'Active'},\n",
       "  {'modelArn': 'arn:aws:bedrock:us-east-1:905418197933:custom-model/amazon.nova-lite-v1:0:300k/dah1tnjb1hsb',\n",
       "   'modelName': 'v4-1k-sys-prompt-fatura2-train-data-am-2025-05-24-06-22-48-034',\n",
       "   'creationTime': datetime.datetime(2025, 5, 24, 6, 23, 2, 659000, tzinfo=tzutc()),\n",
       "   'baseModelArn': 'arn:aws:bedrock:us-east-1::foundation-model/amazon.nova-lite-v1:0:300k',\n",
       "   'baseModelName': '',\n",
       "   'customizationType': 'FINE_TUNING',\n",
       "   'ownerAccountId': '905418197933',\n",
       "   'modelStatus': 'Active'},\n",
       "  {'modelArn': 'arn:aws:bedrock:us-east-1:905418197933:custom-model/amazon.nova-pro-v1:0:300k/c35worm89hs7',\n",
       "   'modelName': 'NovProSynthDataFT',\n",
       "   'creationTime': datetime.datetime(2025, 5, 23, 19, 48, 34, 771000, tzinfo=tzutc()),\n",
       "   'baseModelArn': 'arn:aws:bedrock:us-east-1::foundation-model/amazon.nova-pro-v1:0:300k',\n",
       "   'baseModelName': '',\n",
       "   'customizationType': 'FINE_TUNING',\n",
       "   'ownerAccountId': '905418197933',\n",
       "   'modelStatus': 'Active'},\n",
       "  {'modelArn': 'arn:aws:bedrock:us-east-1:905418197933:custom-model/amazon.nova-lite-v1:0:300k/exjhrcjxj8gi',\n",
       "   'modelName': 'NovaLiteSynthDataFT',\n",
       "   'creationTime': datetime.datetime(2025, 5, 23, 19, 47, 31, 620000, tzinfo=tzutc()),\n",
       "   'baseModelArn': 'arn:aws:bedrock:us-east-1::foundation-model/amazon.nova-lite-v1:0:300k',\n",
       "   'baseModelName': '',\n",
       "   'customizationType': 'FINE_TUNING',\n",
       "   'ownerAccountId': '905418197933',\n",
       "   'modelStatus': 'Active'},\n",
       "  {'modelArn': 'arn:aws:bedrock:us-east-1:905418197933:custom-model/amazon.nova-lite-v1:0:300k/8ckthahuclrm',\n",
       "   'modelName': 'v3-1k-fatura2-train-data-amazon-nova-2025-05-23-17-17-31-081',\n",
       "   'creationTime': datetime.datetime(2025, 5, 23, 17, 19, 57, 890000, tzinfo=tzutc()),\n",
       "   'baseModelArn': 'arn:aws:bedrock:us-east-1::foundation-model/amazon.nova-lite-v1:0:300k',\n",
       "   'baseModelName': '',\n",
       "   'customizationType': 'FINE_TUNING',\n",
       "   'ownerAccountId': '905418197933',\n",
       "   'modelStatus': 'Active'},\n",
       "  {'modelArn': 'arn:aws:bedrock:us-east-1:905418197933:custom-model/amazon.nova-lite-v1:0:300k/v7wtfduc45kt',\n",
       "   'modelName': 'v2-drop-none-fatura2-train-data-amazon-2025-05-23-16-01-45-114',\n",
       "   'creationTime': datetime.datetime(2025, 5, 23, 16, 1, 54, 108000, tzinfo=tzutc()),\n",
       "   'baseModelArn': 'arn:aws:bedrock:us-east-1::foundation-model/amazon.nova-lite-v1:0:300k',\n",
       "   'baseModelName': '',\n",
       "   'customizationType': 'FINE_TUNING',\n",
       "   'ownerAccountId': '905418197933',\n",
       "   'modelStatus': 'Active'},\n",
       "  {'modelArn': 'arn:aws:bedrock:us-east-1:905418197933:custom-model/amazon.nova-lite-v1:0:300k/iv15lukddxtm',\n",
       "   'modelName': 'fatura2-train-data-amazon-nova-2025-05-20-15-06-06-468',\n",
       "   'creationTime': datetime.datetime(2025, 5, 20, 15, 6, 40, 151000, tzinfo=tzutc()),\n",
       "   'baseModelArn': 'arn:aws:bedrock:us-east-1::foundation-model/amazon.nova-lite-v1:0:300k',\n",
       "   'baseModelName': '',\n",
       "   'customizationType': 'FINE_TUNING',\n",
       "   'ownerAccountId': '905418197933',\n",
       "   'modelStatus': 'Active'},\n",
       "  {'modelArn': 'arn:aws:bedrock:us-east-1:905418197933:custom-model/amazon.nova-lite-v1:0:300k/vd4z8i42mmwo',\n",
       "   'modelName': 'NovaPremierToLite-v2',\n",
       "   'creationTime': datetime.datetime(2025, 5, 15, 3, 46, 51, 129000, tzinfo=tzutc()),\n",
       "   'baseModelArn': 'arn:aws:bedrock:us-east-1::foundation-model/amazon.nova-lite-v1:0:300k',\n",
       "   'baseModelName': '',\n",
       "   'customizationType': 'FINE_TUNING',\n",
       "   'ownerAccountId': '905418197933',\n",
       "   'modelStatus': 'Active'},\n",
       "  {'modelArn': 'arn:aws:bedrock:us-east-1:905418197933:custom-model/amazon.nova-pro-v1:0:300k/mivvy15g4uvs',\n",
       "   'modelName': 'NovaPremierToProWithCOT',\n",
       "   'creationTime': datetime.datetime(2025, 5, 13, 21, 18, 50, 384000, tzinfo=tzutc()),\n",
       "   'baseModelArn': 'arn:aws:bedrock:us-east-1::foundation-model/amazon.nova-pro-v1:0:300k',\n",
       "   'baseModelName': '',\n",
       "   'customizationType': 'FINE_TUNING',\n",
       "   'ownerAccountId': '905418197933',\n",
       "   'modelStatus': 'Active'},\n",
       "  {'modelArn': 'arn:aws:bedrock:us-east-1:905418197933:custom-model/amazon.nova-lite-v1:0:300k/2bsrscxj2vcl',\n",
       "   'modelName': 'NovaPremierToLiteWithCOT',\n",
       "   'creationTime': datetime.datetime(2025, 5, 13, 21, 15, 14, 804000, tzinfo=tzutc()),\n",
       "   'baseModelArn': 'arn:aws:bedrock:us-east-1::foundation-model/amazon.nova-lite-v1:0:300k',\n",
       "   'baseModelName': '',\n",
       "   'customizationType': 'FINE_TUNING',\n",
       "   'ownerAccountId': '905418197933',\n",
       "   'modelStatus': 'Active'},\n",
       "  {'modelArn': 'arn:aws:bedrock:us-east-1:905418197933:custom-model/amazon.nova-micro-v1:0:128k/1ye84nzq3c6j',\n",
       "   'modelName': 'premier-to-micro-distillation-test-0413',\n",
       "   'creationTime': datetime.datetime(2025, 4, 14, 1, 9, 21, 928000, tzinfo=tzutc()),\n",
       "   'baseModelArn': 'arn:aws:bedrock:us-east-1::foundation-model/amazon.nova-micro-v1:0:128k',\n",
       "   'baseModelName': '',\n",
       "   'customizationType': 'DISTILLATION',\n",
       "   'ownerAccountId': '905418197933',\n",
       "   'modelStatus': 'Active'},\n",
       "  {'modelArn': 'arn:aws:bedrock:us-east-1:905418197933:custom-model/amazon.nova-lite-v1:0:300k/6d80dquxblmy',\n",
       "   'modelName': 'bytedancecft',\n",
       "   'creationTime': datetime.datetime(2025, 2, 20, 1, 23, 47, 972000, tzinfo=tzutc()),\n",
       "   'baseModelArn': 'arn:aws:bedrock:us-east-1::foundation-model/amazon.nova-lite-v1:0:300k',\n",
       "   'baseModelName': '',\n",
       "   'customizationType': 'FINE_TUNING',\n",
       "   'ownerAccountId': '905418197933',\n",
       "   'modelStatus': 'Active'},\n",
       "  {'modelArn': 'arn:aws:bedrock:us-east-1:905418197933:custom-model/amazon.nova-lite-v1:0:300k/1xa9a7trhpaq',\n",
       "   'modelName': 'aws-ft-nova-lite-v1',\n",
       "   'creationTime': datetime.datetime(2024, 12, 23, 16, 47, 4, 300000, tzinfo=tzutc()),\n",
       "   'baseModelArn': 'arn:aws:bedrock:us-east-1::foundation-model/amazon.nova-lite-v1:0:300k',\n",
       "   'baseModelName': '',\n",
       "   'customizationType': 'FINE_TUNING',\n",
       "   'ownerAccountId': '905418197933',\n",
       "   'modelStatus': 'Active'},\n",
       "  {'modelArn': 'arn:aws:bedrock:us-east-1:905418197933:custom-model/amazon.nova-micro-v1:0:128k/13tr1155qx76',\n",
       "   'modelName': 'aws-ft-nova-micro-v1',\n",
       "   'creationTime': datetime.datetime(2024, 12, 23, 16, 45, 35, 536000, tzinfo=tzutc()),\n",
       "   'baseModelArn': 'arn:aws:bedrock:us-east-1::foundation-model/amazon.nova-micro-v1:0:128k',\n",
       "   'baseModelName': '',\n",
       "   'customizationType': 'FINE_TUNING',\n",
       "   'ownerAccountId': '905418197933',\n",
       "   'modelStatus': 'Active'},\n",
       "  {'modelArn': 'arn:aws:bedrock:us-east-1:905418197933:custom-model/amazon.olympus-pro-v1:0:32k/69t90ucows6t',\n",
       "   'modelName': 'asl-alone-lr-00001-retry-2',\n",
       "   'creationTime': datetime.datetime(2024, 12, 4, 6, 0, 22, 747000, tzinfo=tzutc()),\n",
       "   'baseModelArn': 'arn:aws:bedrock:us-east-1::foundation-model/amazon.olympus-pro-v1:0:32k',\n",
       "   'baseModelName': '',\n",
       "   'customizationType': 'FINE_TUNING',\n",
       "   'ownerAccountId': '905418197933',\n",
       "   'modelStatus': 'Active'},\n",
       "  {'modelArn': 'arn:aws:bedrock:us-east-1:905418197933:custom-model/amazon.olympus-pro-v1:0:32k/lgonkwerxlkf',\n",
       "   'modelName': 'asl-alone-lr-000001-retry-2',\n",
       "   'creationTime': datetime.datetime(2024, 12, 4, 5, 59, 54, 73000, tzinfo=tzutc()),\n",
       "   'baseModelArn': 'arn:aws:bedrock:us-east-1::foundation-model/amazon.olympus-pro-v1:0:32k',\n",
       "   'baseModelName': '',\n",
       "   'customizationType': 'FINE_TUNING',\n",
       "   'ownerAccountId': '905418197933',\n",
       "   'modelStatus': 'Active'},\n",
       "  {'modelArn': 'arn:aws:bedrock:us-east-1:905418197933:custom-model/amazon.olympus-pro-v1:0:32k/78mpjcy8piah',\n",
       "   'modelName': 'asl-alone-lr-00001-retry-1',\n",
       "   'creationTime': datetime.datetime(2024, 12, 3, 22, 24, 33, 828000, tzinfo=tzutc()),\n",
       "   'baseModelArn': 'arn:aws:bedrock:us-east-1::foundation-model/amazon.olympus-pro-v1:0:32k',\n",
       "   'baseModelName': '',\n",
       "   'customizationType': 'FINE_TUNING',\n",
       "   'ownerAccountId': '905418197933',\n",
       "   'modelStatus': 'Active'},\n",
       "  {'modelArn': 'arn:aws:bedrock:us-east-1:905418197933:custom-model/amazon.olympus-pro-v1:0:32k/h4kamrgd6vaa',\n",
       "   'modelName': 'asl-alone-lr-000001-retry-1',\n",
       "   'creationTime': datetime.datetime(2024, 12, 3, 22, 23, 58, 598000, tzinfo=tzutc()),\n",
       "   'baseModelArn': 'arn:aws:bedrock:us-east-1::foundation-model/amazon.olympus-pro-v1:0:32k',\n",
       "   'baseModelName': '',\n",
       "   'customizationType': 'FINE_TUNING',\n",
       "   'ownerAccountId': '905418197933',\n",
       "   'modelStatus': 'Active'},\n",
       "  {'modelArn': 'arn:aws:bedrock:us-east-1:905418197933:custom-model/amazon.olympus-pro-v1:0:32k/j87bz38mdnkb',\n",
       "   'modelName': 'asl-alone-lr-000001-retry',\n",
       "   'creationTime': datetime.datetime(2024, 12, 3, 4, 19, 27, 475000, tzinfo=tzutc()),\n",
       "   'baseModelArn': 'arn:aws:bedrock:us-east-1::foundation-model/amazon.olympus-pro-v1:0:32k',\n",
       "   'baseModelName': '',\n",
       "   'customizationType': 'FINE_TUNING',\n",
       "   'ownerAccountId': '905418197933',\n",
       "   'modelStatus': 'Active'},\n",
       "  {'modelArn': 'arn:aws:bedrock:us-east-1:905418197933:custom-model/amazon.olympus-pro-v1:0:32k/k08kh2iypovo',\n",
       "   'modelName': 'asl-ft-3-pro-lr-000001',\n",
       "   'creationTime': datetime.datetime(2024, 12, 2, 22, 58, 13, 603000, tzinfo=tzutc()),\n",
       "   'baseModelArn': 'arn:aws:bedrock:us-east-1::foundation-model/amazon.olympus-pro-v1:0:32k',\n",
       "   'baseModelName': '',\n",
       "   'customizationType': 'FINE_TUNING',\n",
       "   'ownerAccountId': '905418197933',\n",
       "   'modelStatus': 'Active'},\n",
       "  {'modelArn': 'arn:aws:bedrock:us-east-1:905418197933:custom-model/amazon.olympus-pro-v1:0:32k/971i81nd3wtp',\n",
       "   'modelName': 'asl-ft-2-pro',\n",
       "   'creationTime': datetime.datetime(2024, 11, 29, 21, 56, 5, 419000, tzinfo=tzutc()),\n",
       "   'baseModelArn': 'arn:aws:bedrock:us-east-1::foundation-model/amazon.olympus-pro-v1:0:32k',\n",
       "   'baseModelName': '',\n",
       "   'customizationType': 'FINE_TUNING',\n",
       "   'ownerAccountId': '905418197933',\n",
       "   'modelStatus': 'Active'},\n",
       "  {'modelArn': 'arn:aws:bedrock:us-east-1:905418197933:custom-model/amazon.olympus-micro-v1:0:32k/kn10s9o0cqq0',\n",
       "   'modelName': 'tooluse-olympusmicro-epoch2',\n",
       "   'creationTime': datetime.datetime(2024, 11, 29, 13, 46, 58, 301000, tzinfo=tzutc()),\n",
       "   'baseModelArn': 'arn:aws:bedrock:us-east-1::foundation-model/amazon.olympus-micro-v1:0:32k',\n",
       "   'baseModelName': '',\n",
       "   'customizationType': 'FINE_TUNING',\n",
       "   'ownerAccountId': '905418197933',\n",
       "   'modelStatus': 'Active'},\n",
       "  {'modelArn': 'arn:aws:bedrock:us-east-1:905418197933:custom-model/amazon.olympus-1-lite-v1:0:32k/4ld8p21yidhs',\n",
       "   'modelName': 'tooluse-olympuslite-epoch1',\n",
       "   'creationTime': datetime.datetime(2024, 11, 29, 13, 44, 10, 601000, tzinfo=tzutc()),\n",
       "   'baseModelArn': 'arn:aws:bedrock:us-east-1::foundation-model/amazon.olympus-1-lite-v1:0:32k',\n",
       "   'baseModelName': '',\n",
       "   'customizationType': 'FINE_TUNING',\n",
       "   'ownerAccountId': '905418197933',\n",
       "   'modelStatus': 'Active'},\n",
       "  {'modelArn': 'arn:aws:bedrock:us-east-1:905418197933:custom-model/amazon.olympus-1-lite-v1:0:32k/srafsbywatts',\n",
       "   'modelName': 'tooluse-olympuslite-lr1e-5',\n",
       "   'creationTime': datetime.datetime(2024, 11, 28, 13, 25, 21, 901000, tzinfo=tzutc()),\n",
       "   'baseModelArn': 'arn:aws:bedrock:us-east-1::foundation-model/amazon.olympus-1-lite-v1:0:32k',\n",
       "   'baseModelName': '',\n",
       "   'customizationType': 'FINE_TUNING',\n",
       "   'ownerAccountId': '905418197933',\n",
       "   'modelStatus': 'Active'},\n",
       "  {'modelArn': 'arn:aws:bedrock:us-east-1:905418197933:custom-model/amazon.olympus-micro-v1:0:32k/kw69wkw2u3kq',\n",
       "   'modelName': 'tooluse-olympusmicro-lr1e-5',\n",
       "   'creationTime': datetime.datetime(2024, 11, 28, 13, 23, 54, 530000, tzinfo=tzutc()),\n",
       "   'baseModelArn': 'arn:aws:bedrock:us-east-1::foundation-model/amazon.olympus-micro-v1:0:32k',\n",
       "   'baseModelName': '',\n",
       "   'customizationType': 'FINE_TUNING',\n",
       "   'ownerAccountId': '905418197933',\n",
       "   'modelStatus': 'Active'},\n",
       "  {'modelArn': 'arn:aws:bedrock:us-east-1:905418197933:custom-model/amazon.olympus-1-lite-v1:0:32k/azax8x5qm9gl',\n",
       "   'modelName': 'tooluse-olympuslite-epoch5-new',\n",
       "   'creationTime': datetime.datetime(2024, 11, 26, 2, 40, 18, 350000, tzinfo=tzutc()),\n",
       "   'baseModelArn': 'arn:aws:bedrock:us-east-1::foundation-model/amazon.olympus-1-lite-v1:0:32k',\n",
       "   'baseModelName': '',\n",
       "   'customizationType': 'FINE_TUNING',\n",
       "   'ownerAccountId': '905418197933',\n",
       "   'modelStatus': 'Active'},\n",
       "  {'modelArn': 'arn:aws:bedrock:us-east-1:905418197933:custom-model/amazon.olympus-1-lite-v1:0:32k/mqos0hxht239',\n",
       "   'modelName': 'aws-ft-olympus-lite-v2',\n",
       "   'creationTime': datetime.datetime(2024, 11, 25, 23, 49, 32, 957000, tzinfo=tzutc()),\n",
       "   'baseModelArn': 'arn:aws:bedrock:us-east-1::foundation-model/amazon.olympus-1-lite-v1:0:32k',\n",
       "   'baseModelName': '',\n",
       "   'customizationType': 'FINE_TUNING',\n",
       "   'ownerAccountId': '905418197933',\n",
       "   'modelStatus': 'Active'},\n",
       "  {'modelArn': 'arn:aws:bedrock:us-east-1:905418197933:custom-model/amazon.olympus-1-lite-v1:0:32k/24y7is566tn1',\n",
       "   'modelName': 'aws-ft-olympus-lite-v1',\n",
       "   'creationTime': datetime.datetime(2024, 11, 25, 19, 42, 49, 727000, tzinfo=tzutc()),\n",
       "   'baseModelArn': 'arn:aws:bedrock:us-east-1::foundation-model/amazon.olympus-1-lite-v1:0:32k',\n",
       "   'baseModelName': '',\n",
       "   'customizationType': 'FINE_TUNING',\n",
       "   'ownerAccountId': '905418197933',\n",
       "   'modelStatus': 'Active'},\n",
       "  {'modelArn': 'arn:aws:bedrock:us-east-1:905418197933:custom-model/amazon.olympus-micro-v1:0:32k/4sk88ct2iz88',\n",
       "   'modelName': 'aws-ft-olympus-micro-v1',\n",
       "   'creationTime': datetime.datetime(2024, 11, 25, 18, 33, 8, 758000, tzinfo=tzutc()),\n",
       "   'baseModelArn': 'arn:aws:bedrock:us-east-1::foundation-model/amazon.olympus-micro-v1:0:32k',\n",
       "   'baseModelName': '',\n",
       "   'customizationType': 'FINE_TUNING',\n",
       "   'ownerAccountId': '905418197933',\n",
       "   'modelStatus': 'Active'},\n",
       "  {'modelArn': 'arn:aws:bedrock:us-east-1:905418197933:custom-model/amazon.olympus-micro-v1:0:32k/g4xoecewyar5',\n",
       "   'modelName': 'medQA-ft-olympus-micro-v0',\n",
       "   'creationTime': datetime.datetime(2024, 11, 25, 15, 52, 33, 592000, tzinfo=tzutc()),\n",
       "   'baseModelArn': 'arn:aws:bedrock:us-east-1::foundation-model/amazon.olympus-micro-v1:0:32k',\n",
       "   'baseModelName': '',\n",
       "   'customizationType': 'FINE_TUNING',\n",
       "   'ownerAccountId': '905418197933',\n",
       "   'modelStatus': 'Active'},\n",
       "  {'modelArn': 'arn:aws:bedrock:us-east-1:905418197933:custom-model/amazon.olympus-1-lite-v1:0:32k/zceajqoflg73',\n",
       "   'modelName': 'medQA-ft-olympus-lite-v0',\n",
       "   'creationTime': datetime.datetime(2024, 11, 25, 15, 50, 29, 649000, tzinfo=tzutc()),\n",
       "   'baseModelArn': 'arn:aws:bedrock:us-east-1::foundation-model/amazon.olympus-1-lite-v1:0:32k',\n",
       "   'baseModelName': '',\n",
       "   'customizationType': 'FINE_TUNING',\n",
       "   'ownerAccountId': '905418197933',\n",
       "   'modelStatus': 'Active'},\n",
       "  {'modelArn': 'arn:aws:bedrock:us-east-1:905418197933:custom-model/amazon.olympus-micro-v1:0:32k/h3g8nzmshvoj',\n",
       "   'modelName': 'tooluse-olympusmicro-epochs5',\n",
       "   'creationTime': datetime.datetime(2024, 11, 25, 14, 4, 55, 268000, tzinfo=tzutc()),\n",
       "   'baseModelArn': 'arn:aws:bedrock:us-east-1::foundation-model/amazon.olympus-micro-v1:0:32k',\n",
       "   'baseModelName': '',\n",
       "   'customizationType': 'FINE_TUNING',\n",
       "   'ownerAccountId': '905418197933',\n",
       "   'modelStatus': 'Active'},\n",
       "  {'modelArn': 'arn:aws:bedrock:us-east-1:905418197933:custom-model/amazon.olympus-micro-v1:0:32k/h2elczgqnk3r',\n",
       "   'modelName': 'tooluse-olympusmicro-epochs3',\n",
       "   'creationTime': datetime.datetime(2024, 11, 25, 12, 3, 27, 881000, tzinfo=tzutc()),\n",
       "   'baseModelArn': 'arn:aws:bedrock:us-east-1::foundation-model/amazon.olympus-micro-v1:0:32k',\n",
       "   'baseModelName': '',\n",
       "   'customizationType': 'FINE_TUNING',\n",
       "   'ownerAccountId': '905418197933',\n",
       "   'modelStatus': 'Active'},\n",
       "  {'modelArn': 'arn:aws:bedrock:us-east-1:905418197933:custom-model/amazon.olympus-1-lite-v1:0:32k/ch270xiukki5',\n",
       "   'modelName': 'gsm8k-ft-olympus-lite',\n",
       "   'creationTime': datetime.datetime(2024, 11, 23, 6, 6, 7, 154000, tzinfo=tzutc()),\n",
       "   'baseModelArn': 'arn:aws:bedrock:us-east-1::foundation-model/amazon.olympus-1-lite-v1:0:32k',\n",
       "   'baseModelName': '',\n",
       "   'customizationType': 'FINE_TUNING',\n",
       "   'ownerAccountId': '905418197933',\n",
       "   'modelStatus': 'Active'},\n",
       "  {'modelArn': 'arn:aws:bedrock:us-east-1:905418197933:custom-model/amazon.olympus-1-lite-v1:0:32k/hlk1rg8a9cu5',\n",
       "   'modelName': 'aws-ft-olympus-lite-v0',\n",
       "   'creationTime': datetime.datetime(2024, 11, 23, 3, 4, 44, 355000, tzinfo=tzutc()),\n",
       "   'baseModelArn': 'arn:aws:bedrock:us-east-1::foundation-model/amazon.olympus-1-lite-v1:0:32k',\n",
       "   'baseModelName': '',\n",
       "   'customizationType': 'FINE_TUNING',\n",
       "   'ownerAccountId': '905418197933',\n",
       "   'modelStatus': 'Active'},\n",
       "  {'modelArn': 'arn:aws:bedrock:us-east-1:905418197933:custom-model/amazon.olympus-micro-v1:0:32k/qgsabdyn4zm2',\n",
       "   'modelName': 'aws-ft-olympus-micro-v0',\n",
       "   'creationTime': datetime.datetime(2024, 11, 23, 2, 53, 2, 175000, tzinfo=tzutc()),\n",
       "   'baseModelArn': 'arn:aws:bedrock:us-east-1::foundation-model/amazon.olympus-micro-v1:0:32k',\n",
       "   'baseModelName': '',\n",
       "   'customizationType': 'FINE_TUNING',\n",
       "   'ownerAccountId': '905418197933',\n",
       "   'modelStatus': 'Active'},\n",
       "  {'modelArn': 'arn:aws:bedrock:us-east-1:905418197933:custom-model/amazon.olympus-micro-v1:0:32k/z0poso1idimw',\n",
       "   'modelName': 'tooluse-olympuslite-bedrock',\n",
       "   'creationTime': datetime.datetime(2024, 11, 22, 23, 23, 46, 787000, tzinfo=tzutc()),\n",
       "   'baseModelArn': 'arn:aws:bedrock:us-east-1::foundation-model/amazon.olympus-micro-v1:0:32k',\n",
       "   'baseModelName': '',\n",
       "   'customizationType': 'FINE_TUNING',\n",
       "   'ownerAccountId': '905418197933',\n",
       "   'modelStatus': 'Active'},\n",
       "  {'modelArn': 'arn:aws:bedrock:us-east-1:905418197933:custom-model/amazon.olympus-pro-v1:0:32k/p4beuwcwdcat',\n",
       "   'modelName': 'asl-ft-1-pro',\n",
       "   'creationTime': datetime.datetime(2024, 11, 21, 22, 3, 34, 239000, tzinfo=tzutc()),\n",
       "   'baseModelArn': 'arn:aws:bedrock:us-east-1::foundation-model/amazon.olympus-pro-v1:0:32k',\n",
       "   'baseModelName': '',\n",
       "   'customizationType': 'FINE_TUNING',\n",
       "   'ownerAccountId': '905418197933',\n",
       "   'modelStatus': 'Active'},\n",
       "  {'modelArn': 'arn:aws:bedrock:us-east-1:905418197933:custom-model/amazon.olympus-1-lite-v1:0:32k/ggtzscxued0w',\n",
       "   'modelName': 'asl-ft-1',\n",
       "   'creationTime': datetime.datetime(2024, 11, 21, 21, 39, 55, 379000, tzinfo=tzutc()),\n",
       "   'baseModelArn': 'arn:aws:bedrock:us-east-1::foundation-model/amazon.olympus-1-lite-v1:0:32k',\n",
       "   'baseModelName': '',\n",
       "   'customizationType': 'FINE_TUNING',\n",
       "   'ownerAccountId': '905418197933',\n",
       "   'modelStatus': 'Active'},\n",
       "  {'modelArn': 'arn:aws:bedrock:us-east-1:905418197933:custom-model/amazon.olympus-micro-v1:0:32k/34guqdl0di5j',\n",
       "   'modelName': 'hgangur-olympus-micro',\n",
       "   'creationTime': datetime.datetime(2024, 11, 18, 4, 56, 40, 136000, tzinfo=tzutc()),\n",
       "   'baseModelArn': 'arn:aws:bedrock:us-east-1::foundation-model/amazon.olympus-micro-v1:0:32k',\n",
       "   'baseModelName': '',\n",
       "   'customizationType': 'FINE_TUNING',\n",
       "   'ownerAccountId': '905418197933',\n",
       "   'modelStatus': 'Active'},\n",
       "  {'modelArn': 'arn:aws:bedrock:us-east-1:905418197933:custom-model/amazon.olympus-1-lite-v1:0:32k/kcqfhq0zgiep',\n",
       "   'modelName': 'MyCustomModel11141',\n",
       "   'creationTime': datetime.datetime(2024, 11, 14, 21, 47, 18, 234000, tzinfo=tzutc()),\n",
       "   'baseModelArn': 'arn:aws:bedrock:us-east-1::foundation-model/amazon.olympus-1-lite-v1:0:32k',\n",
       "   'baseModelName': '',\n",
       "   'customizationType': 'FINE_TUNING',\n",
       "   'ownerAccountId': '905418197933',\n",
       "   'modelStatus': 'Active'},\n",
       "  {'modelArn': 'arn:aws:bedrock:us-east-1:905418197933:custom-model/amazon.titan-text-express-v1:0:8k/1263690japkc',\n",
       "   'modelName': 'custom-ttp',\n",
       "   'creationTime': datetime.datetime(2024, 8, 27, 15, 47, 53, 681000, tzinfo=tzutc()),\n",
       "   'baseModelArn': 'arn:aws:bedrock:us-east-1::foundation-model/amazon.titan-text-express-v1:0:8k',\n",
       "   'baseModelName': '',\n",
       "   'customizationType': 'FINE_TUNING',\n",
       "   'ownerAccountId': '905418197933',\n",
       "   'modelStatus': 'Active'}]}"
      ]
     },
     "execution_count": 9,
     "metadata": {},
     "output_type": "execute_result"
    }
   ],
   "source": [
    "response"
   ]
  },
  {
   "cell_type": "code",
   "execution_count": 7,
   "id": "f7252c42",
   "metadata": {},
   "outputs": [
    {
     "data": {
      "text/html": [
       "<pre style=\"white-space:pre;overflow-x:auto;line-height:normal;font-family:Menlo,'DejaVu Sans Mono',consolas,'Courier New',monospace\"><span style=\"color: #ff0000; text-decoration-color: #ff0000\">╭─────────────────────────────── </span><span style=\"color: #ff0000; text-decoration-color: #ff0000; font-weight: bold\">Traceback </span><span style=\"color: #ff7f7f; text-decoration-color: #ff7f7f; font-weight: bold\">(most recent call last)</span><span style=\"color: #ff0000; text-decoration-color: #ff0000\"> ────────────────────────────────╮</span>\n",
       "<span style=\"color: #ff0000; text-decoration-color: #ff0000\">│</span> in &lt;module&gt;:19                                                                                   <span style=\"color: #ff0000; text-decoration-color: #ff0000\">│</span>\n",
       "<span style=\"color: #ff0000; text-decoration-color: #ff0000\">│</span>                                                                                                  <span style=\"color: #ff0000; text-decoration-color: #ff0000\">│</span>\n",
       "<span style=\"color: #ff0000; text-decoration-color: #ff0000\">│</span>   <span style=\"color: #7f7f7f; text-decoration-color: #7f7f7f\">16 </span><span style=\"color: #7f7f7f; text-decoration-color: #7f7f7f\">│   </span><span style=\"color: #0000ff; text-decoration-color: #0000ff\">if</span> status <span style=\"color: #ff00ff; text-decoration-color: #ff00ff\">in</span> [<span style=\"color: #808000; text-decoration-color: #808000\">\"ACTIVE\"</span>, <span style=\"color: #808000; text-decoration-color: #808000\">\"FAILED\"</span>]:                                                      <span style=\"color: #ff0000; text-decoration-color: #ff0000\">│</span>\n",
       "<span style=\"color: #ff0000; text-decoration-color: #ff0000\">│</span>   <span style=\"color: #7f7f7f; text-decoration-color: #7f7f7f\">17 </span><span style=\"color: #7f7f7f; text-decoration-color: #7f7f7f\">│   │   </span><span style=\"color: #0000ff; text-decoration-color: #0000ff\">break</span>                                                                               <span style=\"color: #ff0000; text-decoration-color: #ff0000\">│</span>\n",
       "<span style=\"color: #ff0000; text-decoration-color: #ff0000\">│</span>   <span style=\"color: #7f7f7f; text-decoration-color: #7f7f7f\">18 </span><span style=\"color: #7f7f7f; text-decoration-color: #7f7f7f\">│   </span>clear_output(wait=<span style=\"color: #0000ff; text-decoration-color: #0000ff\">True</span>)                                                                 <span style=\"color: #ff0000; text-decoration-color: #ff0000\">│</span>\n",
       "<span style=\"color: #ff0000; text-decoration-color: #ff0000\">│</span> <span style=\"color: #800000; text-decoration-color: #800000\">❱ </span>19 <span style=\"color: #7f7f7f; text-decoration-color: #7f7f7f\">│   </span><span style=\"font-weight: bold; text-decoration: underline\">time.sleep(</span><span style=\"color: #0000ff; text-decoration-color: #0000ff; font-weight: bold; text-decoration: underline\">10</span><span style=\"font-weight: bold; text-decoration: underline\">)</span>                                                                          <span style=\"color: #ff0000; text-decoration-color: #ff0000\">│</span>\n",
       "<span style=\"color: #ff0000; text-decoration-color: #ff0000\">│</span>   <span style=\"color: #7f7f7f; text-decoration-color: #7f7f7f\">20 </span>                                                                                            <span style=\"color: #ff0000; text-decoration-color: #ff0000\">│</span>\n",
       "<span style=\"color: #ff0000; text-decoration-color: #ff0000\">│</span>   <span style=\"color: #7f7f7f; text-decoration-color: #7f7f7f\">21 </span>model_arn                                                                                   <span style=\"color: #ff0000; text-decoration-color: #ff0000\">│</span>\n",
       "<span style=\"color: #ff0000; text-decoration-color: #ff0000\">│</span>   <span style=\"color: #7f7f7f; text-decoration-color: #7f7f7f\">22 </span>                                                                                            <span style=\"color: #ff0000; text-decoration-color: #ff0000\">│</span>\n",
       "<span style=\"color: #ff0000; text-decoration-color: #ff0000\">╰──────────────────────────────────────────────────────────────────────────────────────────────────╯</span>\n",
       "<span style=\"color: #ff0000; text-decoration-color: #ff0000; font-weight: bold\">KeyboardInterrupt</span>\n",
       "</pre>\n"
      ],
      "text/plain": [
       "\u001b[38;2;255;0;0m╭─\u001b[0m\u001b[38;2;255;0;0m──────────────────────────────\u001b[0m\u001b[38;2;255;0;0m \u001b[0m\u001b[1;38;2;255;0;0mTraceback \u001b[0m\u001b[1;2;38;2;255;0;0m(most recent call last)\u001b[0m\u001b[38;2;255;0;0m \u001b[0m\u001b[38;2;255;0;0m───────────────────────────────\u001b[0m\u001b[38;2;255;0;0m─╮\u001b[0m\n",
       "\u001b[38;2;255;0;0m│\u001b[0m in <module>:19                                                                                   \u001b[38;2;255;0;0m│\u001b[0m\n",
       "\u001b[38;2;255;0;0m│\u001b[0m                                                                                                  \u001b[38;2;255;0;0m│\u001b[0m\n",
       "\u001b[38;2;255;0;0m│\u001b[0m   \u001b[2m16 \u001b[0m\u001b[2m│   \u001b[0m\u001b[94mif\u001b[0m status \u001b[95min\u001b[0m [\u001b[33m\"\u001b[0m\u001b[33mACTIVE\u001b[0m\u001b[33m\"\u001b[0m, \u001b[33m\"\u001b[0m\u001b[33mFAILED\u001b[0m\u001b[33m\"\u001b[0m]:                                                      \u001b[38;2;255;0;0m│\u001b[0m\n",
       "\u001b[38;2;255;0;0m│\u001b[0m   \u001b[2m17 \u001b[0m\u001b[2m│   │   \u001b[0m\u001b[94mbreak\u001b[0m                                                                               \u001b[38;2;255;0;0m│\u001b[0m\n",
       "\u001b[38;2;255;0;0m│\u001b[0m   \u001b[2m18 \u001b[0m\u001b[2m│   \u001b[0mclear_output(wait=\u001b[94mTrue\u001b[0m)                                                                 \u001b[38;2;255;0;0m│\u001b[0m\n",
       "\u001b[38;2;255;0;0m│\u001b[0m \u001b[31m❱ \u001b[0m19 \u001b[2m│   \u001b[0m\u001b[1;4mtime.sleep(\u001b[0m\u001b[1;4;94m10\u001b[0m\u001b[1;4m)\u001b[0m                                                                          \u001b[38;2;255;0;0m│\u001b[0m\n",
       "\u001b[38;2;255;0;0m│\u001b[0m   \u001b[2m20 \u001b[0m                                                                                            \u001b[38;2;255;0;0m│\u001b[0m\n",
       "\u001b[38;2;255;0;0m│\u001b[0m   \u001b[2m21 \u001b[0mmodel_arn                                                                                   \u001b[38;2;255;0;0m│\u001b[0m\n",
       "\u001b[38;2;255;0;0m│\u001b[0m   \u001b[2m22 \u001b[0m                                                                                            \u001b[38;2;255;0;0m│\u001b[0m\n",
       "\u001b[38;2;255;0;0m╰──────────────────────────────────────────────────────────────────────────────────────────────────╯\u001b[0m\n",
       "\u001b[1;91mKeyboardInterrupt\u001b[0m\n"
      ]
     },
     "metadata": {},
     "output_type": "display_data"
    }
   ],
   "source": [
    "from IPython.display import clear_output\n",
    "import time\n",
    "\n",
    "# Check CMI job status\n",
    "while True:\n",
    "    response = bedrock.list_custom_models(sortBy='CreationTime',sortOrder='Descending')\n",
    "    model_summaries = response[\"modelSummaries\"]\n",
    "    status = \"\"\n",
    "    for model in model_summaries:\n",
    "        if model[\"modelName\"] == imported_model_name:\n",
    "            status = model[\"modelStatus\"].upper()\n",
    "            model_arn = model[\"modelArn\"]\n",
    "            print(f'{model[\"modelStatus\"].upper()} {model[\"modelArn\"]} ...')\n",
    "            if status in [\"ACTIVE\", \"FAILED\"]:\n",
    "                break\n",
    "    if status in [\"ACTIVE\", \"FAILED\"]:\n",
    "        break\n",
    "    clear_output(wait=True)\n",
    "    time.sleep(10)\n",
    "    \n",
    "model_arn"
   ]
  },
  {
   "cell_type": "markdown",
   "id": "d53cab04",
   "metadata": {},
   "source": [
    "##### ⚠️ After the model is ACTIVE, create provisioned throughput before running the inference!\n",
    "\n",
    "Please refer to the official [AWS Documentation](https://docs.aws.amazon.com/bedrock/latest/userguide/prov-thru-purchase.html)"
   ]
  },
  {
   "cell_type": "markdown",
   "id": "4981a229",
   "metadata": {},
   "source": [
    "### Testing the Deployed Model\n",
    "\n",
    "Now that our model is deployed to Amazon Bedrock, we can invoke it for inference. We'll set up the necessary clients and functions to interact with our model through the Bedrock Runtime API.\n",
    "\n",
    "Inference Setup Components:\n",
    "* Bedrock Runtime Client: AWS SDK client for making inference calls\n",
    "* Helper Function: To handle retry logic and properly format requests\n",
    "The generate function we're defining:\n",
    "\n",
    "Applies the proper chat template to user messages\n",
    "* Handles retry logic for robustness\n",
    "* Sets appropriate generation parameters like temperature and top-p\n",
    "\n",
    "This setup allows us to easily test how well our training worked by sending queries to the model and evaluating its responses."
   ]
  },
  {
   "cell_type": "code",
   "execution_count": null,
   "id": "17cdade2",
   "metadata": {},
   "outputs": [],
   "source": [
    "import boto3\n",
    "from botocore.config import Config\n",
    "\n",
    "\n",
    "# Initialize Bedrock Runtime client\n",
    "session = boto3.Session()\n",
    "client = session.client(\n",
    "    service_name=\"bedrock-runtime\",\n",
    "    region_name=sess.boto_region_name,\n",
    "    config=Config(\n",
    "        connect_timeout=300,  # 5 minutes\n",
    "        read_timeout=300,  # 5 minutes\n",
    "        retries={\"max_attempts\": 3},\n",
    "    ),\n",
    ")"
   ]
  },
  {
   "cell_type": "code",
   "execution_count": null,
   "id": "273a69b4",
   "metadata": {},
   "outputs": [],
   "source": [
    "def generate(\n",
    "    model_id,\n",
    "    messages,\n",
    "    system_prompt=None,\n",
    "    tools=None,\n",
    "    temperature=0.3,\n",
    "    max_tokens=4096,\n",
    "    top_p=0.9,\n",
    "    max_retries=10,\n",
    "):\n",
    "    \"\"\"\n",
    "    Generate response using the model with proper tokenization and retry mechanism\n",
    "\n",
    "    Parameters:\n",
    "        model_id (str): ID of the model to use\n",
    "        messages (list): List of message dictionaries with 'role' and 'content'\n",
    "        system_prompt (str, optional): System prompt to guide the model\n",
    "        tools (dict, optional): Tool configuration for the model\n",
    "        temperature (float): Controls randomness in generation (0.0-1.0)\n",
    "        max_tokens (int): Maximum number of tokens to generate\n",
    "        top_p (float): Nucleus sampling parameter (0.0-1.0)\n",
    "        max_retries (int): Maximum number of retry attempts\n",
    "\n",
    "    Returns:\n",
    "        dict: Model response containing generated text and metadata\n",
    "    \"\"\"\n",
    "    # Prepare base parameters for the API call\n",
    "    kwargs = {\n",
    "        \"inferenceConfig\": {\n",
    "            \"temperature\": temperature,\n",
    "            \"maxTokens\": max_tokens,\n",
    "            \"topP\": top_p,\n",
    "        },\n",
    "    }\n",
    "\n",
    "    # Add optional parameters if provided\n",
    "    if tools:\n",
    "        kwargs[\"toolConfig\"] = tools\n",
    "    if system_prompt:\n",
    "        kwargs[\"system\"] = [{\"text\": system_prompt}]\n",
    "\n",
    "    # Retry logic\n",
    "    for attempt in range(max_retries):\n",
    "        try:\n",
    "            return client.converse(modelId=model_id, messages=messages, **kwargs)\n",
    "        except Exception as e:\n",
    "            print(f\"Attempt {attempt + 1} failed: {str(e)}\")\n",
    "            if attempt < max_retries - 1:\n",
    "                time.sleep(30)\n",
    "            else:\n",
    "                print(\"Max retries reached. Unable to get response.\")\n",
    "                print(str(e))\n",
    "                return None"
   ]
  },
  {
   "cell_type": "code",
   "execution_count": null,
   "id": "5b1772d1",
   "metadata": {},
   "outputs": [],
   "source": [
    "import json\n",
    "\n",
    "model_arn = \"<PROVISIONED_THROUGHPUT_ARN>\"\n",
    "\n",
    "system_prompt = f\"\"\"\n",
    "You are a helpful AI assistant that can answer questions and provide information.\n",
    "You can use tools to help you with your tasks.\n",
    "\n",
    "You have access to the following tools:\n",
    "\n",
    "<tools>\n",
    "{{tools}}\n",
    "</tools>\n",
    "For each function call, return a json object with function name and parameters:\n",
    "\n",
    "{{{{\\\"name\\\": \\\"function name\\\", \\\"parameters\\\": \\\"dictionary of argument name and its value\\\"}}}}\n",
    "\"\"\"\n",
    "\n",
    "tools = [\n",
    "    {\n",
    "        \"toolSpec\": {\n",
    "            \"name\": \"calculate_bmi\",\n",
    "            \"description\": \"Calculate BMI given weight in kg and height in meters\",\n",
    "            \"inputSchema\": {\n",
    "                \"json\": {\n",
    "                    \"type\": \"object\",\n",
    "                    \"properties\": {\n",
    "                        \"weight_kg\": {\n",
    "                            \"type\": \"number\",\n",
    "                            \"description\": \"Property weight_kg\",\n",
    "                        },\n",
    "                        \"height_m\": {\n",
    "                            \"type\": \"number\",\n",
    "                            \"description\": \"Property height_m\",\n",
    "                        },\n",
    "                    },\n",
    "                    \"required\": [\"weight_kg\", \"height_m\"],\n",
    "                },\n",
    "            },\n",
    "        }\n",
    "    },\n",
    "    {\n",
    "        \"toolSpec\": {\n",
    "            \"name\": \"fetch_weather\",\n",
    "            \"description\": 'Fetch weather information\\n\\nArgs:\\nquery: The weather query (e.g., \"weather in New York\")\\nnum_results: Number of results to return (default: 1)\\n\\nReturns:\\nJSON string containing weather information',\n",
    "            \"inputSchema\": {\n",
    "                \"json\": {\n",
    "                    \"type\": \"object\",\n",
    "                    \"properties\": {\n",
    "                        \"type\": \"object\",\n",
    "                        \"properties\": {\n",
    "                            \"query\": {\n",
    "                                \"type\": \"string\",\n",
    "                                \"description\": \"Property query\",\n",
    "                            },\n",
    "                            \"num_results\": {\n",
    "                                \"type\": \"integer\",\n",
    "                                \"description\": \"Property num_results\",\n",
    "                            },\n",
    "                        },\n",
    "                        \"required\": [\"query\"],\n",
    "                    },\n",
    "                },\n",
    "            },\n",
    "        }\n",
    "    },\n",
    "]\n",
    "\n",
    "system_prompt = system_prompt.format(tools=json.dumps({\"tools\": tools}))\n",
    "\n",
    "messages = [\n",
    "    {\"role\": \"user\", \"content\": [{\"text\": \"What is the weather in Rome, Italy?\"}]},\n",
    "]\n",
    "\n",
    "response = generate(\n",
    "    model_id=model_arn,\n",
    "    system_prompt=system_prompt,\n",
    "    messages=messages,\n",
    "    temperature=0.1,\n",
    "    top_p=0.9,\n",
    ")\n",
    "\n",
    "response[\"output\"]"
   ]
  }
 ],
 "metadata": {
  "kernelspec": {
   "display_name": "Python 3",
   "language": "python",
   "name": "python3"
  },
  "language_info": {
   "codemirror_mode": {
    "name": "ipython",
    "version": 3
   },
   "file_extension": ".py",
   "mimetype": "text/x-python",
   "name": "python",
   "nbconvert_exporter": "python",
   "pygments_lexer": "ipython3",
   "version": "3.11.0"
  }
 },
 "nbformat": 4,
 "nbformat_minor": 5
}
