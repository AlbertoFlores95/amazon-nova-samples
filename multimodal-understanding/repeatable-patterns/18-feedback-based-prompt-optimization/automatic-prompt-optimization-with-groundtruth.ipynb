{
 "cells": [
  {
   "cell_type": "markdown",
   "id": "321fc63b-33bf-420a-984a-40736d0d97fe",
   "metadata": {},
   "source": [
    "# Feedback-Based Prompt Optimization with Ground Truth\n",
    "\n",
    "In this notebook, we demonstrate an automated approach to prompt optimization using ground truth data and feedback loops. Rather than manually refining prompts through trial and error, we implement a systematic process that leverages model-generated feedback to iteratively improve prompt performance.\n",
    "\n",
    "![architecture](images/architecture.png)"
   ]
  },
  {
   "cell_type": "markdown",
   "id": "5e072cf4-3421-47b6-850e-d2639a90f448",
   "metadata": {},
   "source": [
    "## Set up the environment\n",
    "\n",
    "First, we'll install the necessary packages for working with AWS Bedrock, data processing, and visualization."
   ]
  },
  {
   "cell_type": "code",
   "id": "22226b07-d8f7-4f9e-a6cb-f6097257c789",
   "metadata": {
    "scrolled": true,
    "ExecuteTime": {
     "end_time": "2025-04-29T04:54:22.621780Z",
     "start_time": "2025-04-29T04:54:16.947927Z"
    }
   },
   "source": "%pip install -U boto3 tqdm tenacity json_repair numpy pandas",
   "outputs": [
    {
     "name": "stdout",
     "output_type": "stream",
     "text": [
      "Looking in indexes: https://pypi.org/simple, https://plugin.us-east-1.prod.workshops.aws\r\n",
      "Requirement already satisfied: boto3 in /Users/garyyhlo/IdeaProjects/terraform-recipes/ec2-jupyter-server-gpu/.venv/lib/python3.11/site-packages (1.38.4)\r\n",
      "Requirement already satisfied: tqdm in /Users/garyyhlo/IdeaProjects/terraform-recipes/ec2-jupyter-server-gpu/.venv/lib/python3.11/site-packages (4.67.1)\r\n",
      "Requirement already satisfied: tenacity in /Users/garyyhlo/IdeaProjects/terraform-recipes/ec2-jupyter-server-gpu/.venv/lib/python3.11/site-packages (9.1.2)\r\n",
      "Requirement already satisfied: json_repair in /Users/garyyhlo/IdeaProjects/terraform-recipes/ec2-jupyter-server-gpu/.venv/lib/python3.11/site-packages (0.43.0)\r\n",
      "Requirement already satisfied: numpy in /Users/garyyhlo/IdeaProjects/terraform-recipes/ec2-jupyter-server-gpu/.venv/lib/python3.11/site-packages (2.2.5)\r\n",
      "Requirement already satisfied: pandas in /Users/garyyhlo/IdeaProjects/terraform-recipes/ec2-jupyter-server-gpu/.venv/lib/python3.11/site-packages (2.2.3)\r\n",
      "Requirement already satisfied: botocore<1.39.0,>=1.38.4 in /Users/garyyhlo/IdeaProjects/terraform-recipes/ec2-jupyter-server-gpu/.venv/lib/python3.11/site-packages (from boto3) (1.38.4)\r\n",
      "Requirement already satisfied: jmespath<2.0.0,>=0.7.1 in /Users/garyyhlo/.pyenv/versions/3.11.11/lib/python3.11/site-packages (from boto3) (1.0.1)\r\n",
      "Requirement already satisfied: s3transfer<0.13.0,>=0.12.0 in /Users/garyyhlo/IdeaProjects/terraform-recipes/ec2-jupyter-server-gpu/.venv/lib/python3.11/site-packages (from boto3) (0.12.0)\r\n",
      "Requirement already satisfied: python-dateutil<3.0.0,>=2.1 in /Users/garyyhlo/.pyenv/versions/3.11.11/lib/python3.11/site-packages (from botocore<1.39.0,>=1.38.4->boto3) (2.9.0.post0)\r\n",
      "Requirement already satisfied: urllib3!=2.2.0,<3,>=1.25.4 in /Users/garyyhlo/.pyenv/versions/3.11.11/lib/python3.11/site-packages (from botocore<1.39.0,>=1.38.4->boto3) (2.3.0)\r\n",
      "Requirement already satisfied: six>=1.5 in /Users/garyyhlo/.pyenv/versions/3.11.11/lib/python3.11/site-packages (from python-dateutil<3.0.0,>=2.1->botocore<1.39.0,>=1.38.4->boto3) (1.17.0)\r\n",
      "Requirement already satisfied: pytz>=2020.1 in /Users/garyyhlo/IdeaProjects/terraform-recipes/ec2-jupyter-server-gpu/.venv/lib/python3.11/site-packages (from pandas) (2025.2)\r\n",
      "Requirement already satisfied: tzdata>=2022.7 in /Users/garyyhlo/IdeaProjects/terraform-recipes/ec2-jupyter-server-gpu/.venv/lib/python3.11/site-packages (from pandas) (2025.2)\r\n",
      "Note: you may need to restart the kernel to use updated packages.\n"
     ]
    }
   ],
   "execution_count": 1
  },
  {
   "cell_type": "markdown",
   "id": "f9354722-f236-406d-afe8-4483779f3227",
   "metadata": {},
   "source": [
    "Please ensure you're using boto3 version 1.37.1 or higher for compatibility with AWS Bedrock's Converse API."
   ]
  },
  {
   "cell_type": "code",
   "id": "b702d6c8-a624-4746-bb45-1faa1c74a787",
   "metadata": {
    "ExecuteTime": {
     "end_time": "2025-04-29T04:54:22.941796Z",
     "start_time": "2025-04-29T04:54:22.806717Z"
    }
   },
   "source": [
    "import boto3\n",
    "\n",
    "print(f\"boto3 version: {boto3.__version__}\")"
   ],
   "outputs": [
    {
     "name": "stdout",
     "output_type": "stream",
     "text": [
      "boto3 version: 1.38.4\n"
     ]
    }
   ],
   "execution_count": 2
  },
  {
   "cell_type": "code",
   "id": "ef930febeae4fcdc",
   "metadata": {
    "ExecuteTime": {
     "end_time": "2025-04-29T04:54:23.457294Z",
     "start_time": "2025-04-29T04:54:22.968395Z"
    }
   },
   "source": [
    "import boto3\n",
    "import re\n",
    "import json\n",
    "import traceback\n",
    "import os\n",
    "import concurrent.futures\n",
    "import pandas as pd\n",
    "import numpy as np\n",
    "from tenacity import retry, stop_after_attempt, wait_exponential, retry_if_exception_type\n",
    "from botocore.exceptions import ClientError\n",
    "from botocore.config import Config\n",
    "from json_repair import repair_json\n",
    "from string import Template\n",
    "from datetime import datetime\n",
    "from tqdm import tqdm\n",
    "\n",
    "\n",
    "# AWS target model ID\n",
    "target_model_id = \"us.amazon.nova-pro-v1:0\"\n",
    "\n",
    "# Optimizer models:\n",
    "# us.deepseek.r1-v1:0\n",
    "# us.anthropic.claude-3-7-sonnet-20250219-v1:0\n",
    "# us.amazon.nova-premier-v1:0\n",
    "prompt_optimizer_model_id = \"us.amazon.nova-premier-v1:0\"\n",
    "\n",
    "prompt_rewriter_model_id = \"us.amazon.nova-pro-v1:0\"\n",
    "\n",
    "test_file = \"./data/test_cases.json\"\n",
    "results_dir = \"./results\"\n",
    "max_iterations = 5"
   ],
   "outputs": [],
   "execution_count": 3
  },
  {
   "cell_type": "markdown",
   "id": "e944cc92-9f6a-47aa-86e3-9da63d84f1a1",
   "metadata": {},
   "source": [
    "## Helper Functions\n",
    "\n",
    "We'll define several key helper functions to support our prompt optimization workflow:\n",
    "\n",
    "- **call_bedrock_converse**: Communicates with AWS Bedrock models using the Converse API, handling authentication and request formatting.\n",
    "- **load_json_from_llm_result**: Extracts and parses JSON data from model responses, cleaning any formatting issues.\n",
    "- **process_single_test_case**: Processes individual test cases by formatting prompts and calling the model.\n",
    "- **evaluate_test_results**: Compares model predictions with ground truth to calculate accuracy metrics.\n",
    "- **execute_test_cases**: Orchestrates parallel execution of multiple test cases and collects results."
   ]
  },
  {
   "cell_type": "code",
   "id": "13817038-ecb9-4602-9377-2744f7daf45d",
   "metadata": {
    "ExecuteTime": {
     "end_time": "2025-04-29T04:54:23.483241Z",
     "start_time": "2025-04-29T04:54:23.478986Z"
    }
   },
   "source": [
    "@retry(\n",
    "    stop=stop_after_attempt(5),  # Max 5 attempts\n",
    "    wait=wait_exponential(multiplier=1, min=1, max=8),  # Exponential backoff\n",
    "    retry=retry_if_exception_type(ClientError)  # Retry on ClientError\n",
    ")\n",
    "def call_bedrock_converse(prompt, model_id, system_prompt=\"\", temperature=0.1, top_p=0.9, max_tokens=4096):\n",
    "    \"\"\"\n",
    "    Call Amazon Bedrock using the Converse API to generate a response.\n",
    "    \n",
    "    Args:\n",
    "        prompt (str): The prompt to send to the model\n",
    "        model_id (str): The model ID (e.g., \"anthropic.claude-3-sonnet-20240229-v1:0\")\n",
    "        system_prompt (str): The system prompt to send to the model\n",
    "        temperature (float): Controls randomness (0-1)\n",
    "        top_k (int): Limits token selection to top K options\n",
    "        max_tokens (int): Maximum tokens to generate\n",
    "    Returns:\n",
    "        dict: The model's response\n",
    "        :param system_prompt:\n",
    "    \"\"\"\n",
    "\n",
    "    formatted_system_prompt = [{\"text\": system_prompt}] if system_prompt else []\n",
    "\n",
    "    # Initialize Bedrock client\n",
    "    bedrock_runtime = boto3.client(\n",
    "        service_name=\"bedrock-runtime\",\n",
    "    )\n",
    "\n",
    "    # Make the API call\n",
    "    response = bedrock_runtime.converse(\n",
    "        modelId=model_id,\n",
    "        system=formatted_system_prompt,\n",
    "        messages=[\n",
    "            {\n",
    "                \"role\": \"user\",\n",
    "                \"content\": [\n",
    "                    {\"text\": prompt}\n",
    "                ]\n",
    "            }\n",
    "        ],\n",
    "        inferenceConfig={\n",
    "            \"temperature\": temperature,\n",
    "            \"maxTokens\": max_tokens\n",
    "        }\n",
    "    )\n",
    "\n",
    "    output_message = response['output']['message']\n",
    "\n",
    "    return \"\\n\".join(x[\"text\"] for x in output_message[\"content\"])"
   ],
   "outputs": [],
   "execution_count": 4
  },
  {
   "cell_type": "code",
   "id": "7f3b280d-4cd2-4a48-8d3c-de39e802f8f4",
   "metadata": {
    "ExecuteTime": {
     "end_time": "2025-04-29T04:54:23.510814Z",
     "start_time": "2025-04-29T04:54:23.507036Z"
    }
   },
   "source": [
    "def load_json_from_llm_result(text):\n",
    "    \"\"\"\n",
    "    Extract and clean JSON from markdown code blocks.\n",
    "    Returns the first valid JSON found or None if no valid JSON is found.\n",
    "    \"\"\"\n",
    "    # First, try to find JSON blocks\n",
    "    pattern = r\"```(?:json)?\\s*([\\s\\S]*)```\"\n",
    "    matches = re.findall(pattern, text, re.DOTALL)\n",
    "    if not matches:\n",
    "        return None\n",
    "    # Process each potential JSON block\n",
    "    for json_text in matches:\n",
    "        print(json_text)\n",
    "        good_json_string = repair_json(json_text)\n",
    "        # Try to parse the JSON to verify it's valid\n",
    "        try:\n",
    "            return json.loads(good_json_string)\n",
    "        except json.JSONDecodeError:\n",
    "            continue\n",
    "    # If we've tried all matches and none are valid JSON, return None\n",
    "    return None\n"
   ],
   "outputs": [],
   "execution_count": 5
  },
  {
   "cell_type": "markdown",
   "id": "4e9378aa-85c3-414a-bdaa-3489780fea2c",
   "metadata": {},
   "source": [
    "### Load Sample Dataset\n",
    "\n",
    "We'll use a sample dataset (`test_cases.json`) that contains:\n",
    "\n",
    "- A **prompt_template** with placeholders for user input\n",
    "- A collection of **test_cases**, each containing:\n",
    "  - A user question\n",
    "  - The expected ground truth response\n",
    "\n",
    "This dataset will serve as both our evaluation benchmark and the source of feedback for prompt optimization."
   ]
  },
  {
   "cell_type": "code",
   "id": "fd4a8714-f068-42cb-bf66-66928d064789",
   "metadata": {
    "ExecuteTime": {
     "end_time": "2025-04-29T04:54:23.544272Z",
     "start_time": "2025-04-29T04:54:23.540115Z"
    }
   },
   "source": [
    "# Read data from a JSON file\n",
    "with open(test_file, 'r') as file:\n",
    "    test_cases = json.load(file)\n",
    "\n",
    "# List prompt template\n",
    "print(f\"{test_cases['prompt_template']}\")"
   ],
   "outputs": [
    {
     "name": "stdout",
     "output_type": "stream",
     "text": [
      "You are a Financial Services Assistant. Classify each customer inquiry into one of these categories:\n",
      "ACKNOWLEDGMENT - For greetings and thanks\n",
      "PASSWORD_RESET - For password issues\n",
      "CONTACT_INFO_UPDATE - For updating contact information\n",
      "PIN_RESET - For PIN number issues\n",
      "TRANSACTION_STATUS - For questions about pending transactions\n",
      "AUTHENTICATION_SETUP - For setting up security features\n",
      "CARD_DISPUTE - For unauthorized charges or transaction problems\n",
      "ESCALATION - For security issues and complex problems\n",
      "IN_SCOPE - For questions about our financial services\n",
      "OUT_OF_SCOPE - For unrelated topics\n",
      "\n",
      "### Output Format:\n",
      " Directly output in json. \n",
      "```json\n",
      "{\"prediction\": \"ONE classified category\", \"explanation\": \"brief reason for the classification\"}\n",
      "```\n",
      "\n",
      "### User Inquiry:\n",
      "${user_question}.\n",
      "\n"
     ]
    }
   ],
   "execution_count": 6
  },
  {
   "metadata": {
    "ExecuteTime": {
     "end_time": "2025-04-29T04:54:23.584827Z",
     "start_time": "2025-04-29T04:54:23.575955Z"
    }
   },
   "cell_type": "code",
   "source": [
    "# List test cases\n",
    "pd.set_option('display.max_rows', 25)\n",
    "pd.DataFrame(test_cases['test_cases'])"
   ],
   "id": "f952a662a86ebb51",
   "outputs": [
    {
     "data": {
      "text/plain": [
       "                                        user_question          ground_truth\n",
       "0   I need my secret code changed for the plastic ...             PIN_RESET\n",
       "1   I noticed my digital banking access isn't work...            ESCALATION\n",
       "2   Hey! Just wondering what the status is on that...              IN_SCOPE\n",
       "3   Someone keeps trying to withdraw cash using my...            ESCALATION\n",
       "4   My wife and I just got our electronic statemen...          CARD_DISPUTE\n",
       "5   The cash machine ate my card yesterday evening...            ESCALATION\n",
       "6   My daughter is going to college next month, an...              IN_SCOPE\n",
       "7   I desperately need help! The system is telling...            ESCALATION\n",
       "8   Planning retirement soon and wondering if I sh...              IN_SCOPE\n",
       "9   I was going through my late father's paperwork...            ESCALATION\n",
       "10  My digital verification steps are taking forev...  AUTHENTICATION_SETUP\n",
       "11  I'm trying to buy a car this weekend and need ...              IN_SCOPE\n",
       "12  Just received notification that my direct depo...            ESCALATION\n",
       "13  Been trying to change my email address through...            ESCALATION\n",
       "14  I followed that investment advice your advisor...            ESCALATION\n",
       "15  I'm getting charged a 12 dollar monthly fee on...              IN_SCOPE\n",
       "16  Someone used my card at three gas stations wit...          CARD_DISPUTE\n",
       "17  My son is studying abroad and needs emergency ...              IN_SCOPE\n",
       "18  I sent money to my landlord using your payment...    TRANSACTION_STATUS\n",
       "19  I need to confirm some information about bitco...          OUT_OF_SCOPE\n",
       "20  Recently moved and need to update both my mail...   CONTACT_INFO_UPDATE\n",
       "21  I logged in this morning and saw a 50 dollar '...              IN_SCOPE\n",
       "22  I'm in the process of buying a house and need ...              IN_SCOPE\n",
       "23  Was looking at my credit score through your ap...              IN_SCOPE\n",
       "24  kvjnksdjvn kjehrkahtkjehfasd gkjasdnhlaoeirya ...          OUT_OF_SCOPE"
      ],
      "text/html": [
       "<div>\n",
       "<style scoped>\n",
       "    .dataframe tbody tr th:only-of-type {\n",
       "        vertical-align: middle;\n",
       "    }\n",
       "\n",
       "    .dataframe tbody tr th {\n",
       "        vertical-align: top;\n",
       "    }\n",
       "\n",
       "    .dataframe thead th {\n",
       "        text-align: right;\n",
       "    }\n",
       "</style>\n",
       "<table border=\"1\" class=\"dataframe\">\n",
       "  <thead>\n",
       "    <tr style=\"text-align: right;\">\n",
       "      <th></th>\n",
       "      <th>user_question</th>\n",
       "      <th>ground_truth</th>\n",
       "    </tr>\n",
       "  </thead>\n",
       "  <tbody>\n",
       "    <tr>\n",
       "      <th>0</th>\n",
       "      <td>I need my secret code changed for the plastic ...</td>\n",
       "      <td>PIN_RESET</td>\n",
       "    </tr>\n",
       "    <tr>\n",
       "      <th>1</th>\n",
       "      <td>I noticed my digital banking access isn't work...</td>\n",
       "      <td>ESCALATION</td>\n",
       "    </tr>\n",
       "    <tr>\n",
       "      <th>2</th>\n",
       "      <td>Hey! Just wondering what the status is on that...</td>\n",
       "      <td>IN_SCOPE</td>\n",
       "    </tr>\n",
       "    <tr>\n",
       "      <th>3</th>\n",
       "      <td>Someone keeps trying to withdraw cash using my...</td>\n",
       "      <td>ESCALATION</td>\n",
       "    </tr>\n",
       "    <tr>\n",
       "      <th>4</th>\n",
       "      <td>My wife and I just got our electronic statemen...</td>\n",
       "      <td>CARD_DISPUTE</td>\n",
       "    </tr>\n",
       "    <tr>\n",
       "      <th>5</th>\n",
       "      <td>The cash machine ate my card yesterday evening...</td>\n",
       "      <td>ESCALATION</td>\n",
       "    </tr>\n",
       "    <tr>\n",
       "      <th>6</th>\n",
       "      <td>My daughter is going to college next month, an...</td>\n",
       "      <td>IN_SCOPE</td>\n",
       "    </tr>\n",
       "    <tr>\n",
       "      <th>7</th>\n",
       "      <td>I desperately need help! The system is telling...</td>\n",
       "      <td>ESCALATION</td>\n",
       "    </tr>\n",
       "    <tr>\n",
       "      <th>8</th>\n",
       "      <td>Planning retirement soon and wondering if I sh...</td>\n",
       "      <td>IN_SCOPE</td>\n",
       "    </tr>\n",
       "    <tr>\n",
       "      <th>9</th>\n",
       "      <td>I was going through my late father's paperwork...</td>\n",
       "      <td>ESCALATION</td>\n",
       "    </tr>\n",
       "    <tr>\n",
       "      <th>10</th>\n",
       "      <td>My digital verification steps are taking forev...</td>\n",
       "      <td>AUTHENTICATION_SETUP</td>\n",
       "    </tr>\n",
       "    <tr>\n",
       "      <th>11</th>\n",
       "      <td>I'm trying to buy a car this weekend and need ...</td>\n",
       "      <td>IN_SCOPE</td>\n",
       "    </tr>\n",
       "    <tr>\n",
       "      <th>12</th>\n",
       "      <td>Just received notification that my direct depo...</td>\n",
       "      <td>ESCALATION</td>\n",
       "    </tr>\n",
       "    <tr>\n",
       "      <th>13</th>\n",
       "      <td>Been trying to change my email address through...</td>\n",
       "      <td>ESCALATION</td>\n",
       "    </tr>\n",
       "    <tr>\n",
       "      <th>14</th>\n",
       "      <td>I followed that investment advice your advisor...</td>\n",
       "      <td>ESCALATION</td>\n",
       "    </tr>\n",
       "    <tr>\n",
       "      <th>15</th>\n",
       "      <td>I'm getting charged a 12 dollar monthly fee on...</td>\n",
       "      <td>IN_SCOPE</td>\n",
       "    </tr>\n",
       "    <tr>\n",
       "      <th>16</th>\n",
       "      <td>Someone used my card at three gas stations wit...</td>\n",
       "      <td>CARD_DISPUTE</td>\n",
       "    </tr>\n",
       "    <tr>\n",
       "      <th>17</th>\n",
       "      <td>My son is studying abroad and needs emergency ...</td>\n",
       "      <td>IN_SCOPE</td>\n",
       "    </tr>\n",
       "    <tr>\n",
       "      <th>18</th>\n",
       "      <td>I sent money to my landlord using your payment...</td>\n",
       "      <td>TRANSACTION_STATUS</td>\n",
       "    </tr>\n",
       "    <tr>\n",
       "      <th>19</th>\n",
       "      <td>I need to confirm some information about bitco...</td>\n",
       "      <td>OUT_OF_SCOPE</td>\n",
       "    </tr>\n",
       "    <tr>\n",
       "      <th>20</th>\n",
       "      <td>Recently moved and need to update both my mail...</td>\n",
       "      <td>CONTACT_INFO_UPDATE</td>\n",
       "    </tr>\n",
       "    <tr>\n",
       "      <th>21</th>\n",
       "      <td>I logged in this morning and saw a 50 dollar '...</td>\n",
       "      <td>IN_SCOPE</td>\n",
       "    </tr>\n",
       "    <tr>\n",
       "      <th>22</th>\n",
       "      <td>I'm in the process of buying a house and need ...</td>\n",
       "      <td>IN_SCOPE</td>\n",
       "    </tr>\n",
       "    <tr>\n",
       "      <th>23</th>\n",
       "      <td>Was looking at my credit score through your ap...</td>\n",
       "      <td>IN_SCOPE</td>\n",
       "    </tr>\n",
       "    <tr>\n",
       "      <th>24</th>\n",
       "      <td>kvjnksdjvn kjehrkahtkjehfasd gkjasdnhlaoeirya ...</td>\n",
       "      <td>OUT_OF_SCOPE</td>\n",
       "    </tr>\n",
       "  </tbody>\n",
       "</table>\n",
       "</div>"
      ]
     },
     "execution_count": 7,
     "metadata": {},
     "output_type": "execute_result"
    }
   ],
   "execution_count": 7
  },
  {
   "cell_type": "markdown",
   "id": "cc790883-2548-4605-bc74-70e795436a74",
   "metadata": {},
   "source": [
    "### Initial Evaluation\n",
    "\n",
    "Before optimizing our prompt, we'll establish a baseline by evaluating the initial prompt template against our test cases. For each test case:\n",
    "\n",
    "1. We extract the user question\n",
    "2. We format the prompt template with this question\n",
    "3. We call the Bedrock API to generate a response\n",
    "4. We compare the model's prediction with the ground truth\n",
    "\n",
    "This baseline will help us measure the effectiveness of our optimization process."
   ]
  },
  {
   "cell_type": "code",
   "id": "71bb9ab0-7c9f-48d1-ac11-ffe7dfc85cea",
   "metadata": {
    "ExecuteTime": {
     "end_time": "2025-04-29T04:54:23.659202Z",
     "start_time": "2025-04-29T04:54:23.648928Z"
    }
   },
   "source": [
    "\n",
    "def process_single_test_case(test_case, prompt_template, target_model_id, case_idx, temperature=0, top_p=0.9, max_tokens=2000):\n",
    "    \"\"\"\n",
    "    Process a single test case and return the result\n",
    "\n",
    "    Args:\n",
    "        test_case (dict): The test case to process\n",
    "        prompt_template (str): Template string with {user_question} placeholder\n",
    "        target_model_id (str): Model ID to use for inference\n",
    "        case_idx (int): Case index for tracking\n",
    "        temperature (float): Temperature setting for inference\n",
    "        top_p (float): Top-p setting for inference\n",
    "        max_tokens (int): Maximum tokens to generate\n",
    "\n",
    "    Returns:\n",
    "        dict: The processed test case result\n",
    "    \"\"\"\n",
    "    user_question = test_case.get(\"user_question\", \"\")\n",
    "    groundtruth_result = test_case.get(\"ground_truth\", \"\")\n",
    "    generated_text = \"\"\n",
    "\n",
    "    try:\n",
    "        # Format the prompt template with the user question\n",
    "        template = Template(prompt_template)\n",
    "        formatted_prompt = template.safe_substitute(user_question=user_question)\n",
    "\n",
    "        # Call the Bedrock Converse API\n",
    "        generated_text = call_bedrock_converse(\n",
    "            prompt=formatted_prompt,\n",
    "            model_id=target_model_id,\n",
    "            temperature=temperature,\n",
    "            top_p=top_p,\n",
    "            max_tokens=max_tokens\n",
    "        )\n",
    "\n",
    "        results_llm = load_json_from_llm_result(generated_text)\n",
    "\n",
    "        # Create result entry\n",
    "        case_result = {\n",
    "            \"user_question\": user_question,\n",
    "            \"ground_truth\": groundtruth_result,\n",
    "            \"prediction\": results_llm[\"prediction\"],\n",
    "            \"explanation\": results_llm[\"explanation\"],\n",
    "            \"case_type\": \"llm_success\"\n",
    "        }\n",
    "\n",
    "    except Exception as e:\n",
    "        # Handle errors\n",
    "        error_trace = traceback.format_exc()\n",
    "        case_result = {\n",
    "            \"user_question\": user_question,\n",
    "            \"ground_truth\": groundtruth_result,\n",
    "            \"prediction\": \"Error\",\n",
    "            \"explanation\": \"Original generated text: \" + generated_text,\n",
    "            \"case_type\": \"llm_error\"\n",
    "        }\n",
    "\n",
    "        print(f\"\\nError in test case {case_idx + 1}:\")\n",
    "        print(error_trace)\n",
    "\n",
    "    # Add metadata for visualization\n",
    "    case_result.update({\n",
    "        \"case_idx\": case_idx + 1\n",
    "    })\n",
    "\n",
    "    return case_result\n",
    "\n",
    "def evaluate_test_results(result_data):\n",
    "    \"\"\"\n",
    "    Evaluate test results by comparing predictions with ground truth.\n",
    "\n",
    "    Args:\n",
    "        result_data (dict): Dictionary containing test cases and their results\n",
    "\n",
    "    Returns:\n",
    "        dict: Updated result_data with evaluation metrics\n",
    "    \"\"\"\n",
    "    task_success = 0\n",
    "    for index, test_case in enumerate(result_data['test_cases']):\n",
    "        expected_output = test_case.get(\"ground_truth\", \"\")\n",
    "        llm_output = test_case.get(\"prediction\", \"\")\n",
    "\n",
    "        if expected_output == llm_output:\n",
    "            task_success += 1\n",
    "            result_data['test_cases'][index]['task_succeed'] = True\n",
    "        else:\n",
    "            result_data['test_cases'][index]['task_succeed'] = False\n",
    "\n",
    "    result_data['stats']['task_succeed'] = task_success\n",
    "    return result_data\n",
    "\n",
    "def execute_test_cases(data, target_model_id, output_file=None, max_workers=2):\n",
    "    \"\"\"\n",
    "    Execute all test cases in parallel and track results\n",
    "\n",
    "    Args:\n",
    "        data (dict): Data containing prompt template and test cases\n",
    "        target_model_id (str): Model ID to use for inference\n",
    "        output_file (str, optional): Path to save results. If None, results aren't saved.\n",
    "        max_workers (int): Maximum number of parallel workers to use\n",
    "\n",
    "    Returns:\n",
    "        dict: Results of all test cases with statistics\n",
    "    \"\"\"\n",
    "    # Initialize counters and data structures\n",
    "    prompt_template = data.get(\"prompt_template\", \"\")\n",
    "    test_cases = data.get(\"test_cases\", [])\n",
    "    total_cases = len(test_cases)\n",
    "\n",
    "    suite_results = {\n",
    "        \"prompt_template\": prompt_template,\n",
    "        \"test_cases\": [],\n",
    "        \"stats\": {\"total\": total_cases, \"llm_successful\": 0, \"llm_fail\": 0, \"task_succeed\": 0},\n",
    "    }\n",
    "\n",
    "    # Create a list to store completed results that might come back in any order\n",
    "    completed_results = [None] * total_cases\n",
    "\n",
    "    # Process test cases in parallel\n",
    "    with tqdm(total=total_cases, desc=\"Processing Test Cases\") as pbar:\n",
    "        with concurrent.futures.ThreadPoolExecutor(max_workers=max_workers) as executor:\n",
    "            # Submit all tasks to the executor\n",
    "            future_to_idx = {\n",
    "                executor.submit(\n",
    "                    process_single_test_case,\n",
    "                    test_case,\n",
    "                    prompt_template,\n",
    "                    target_model_id,\n",
    "                    case_idx,\n",
    "                ): case_idx\n",
    "                for case_idx, test_case in enumerate(test_cases)\n",
    "            }\n",
    "\n",
    "            # Process results as they complete\n",
    "            for future in concurrent.futures.as_completed(future_to_idx):\n",
    "                case_idx = future_to_idx[future]\n",
    "                try:\n",
    "                    case_result = future.result()\n",
    "                    completed_results[case_idx] = case_result\n",
    "\n",
    "                    # Update statistics\n",
    "                    if case_result[\"case_type\"] == \"llm_success\":\n",
    "                        suite_results[\"stats\"][\"llm_successful\"] += 1\n",
    "                    else:\n",
    "                        suite_results[\"stats\"][\"llm_fail\"] += 1\n",
    "\n",
    "                except Exception as exc:\n",
    "                    print(f\"\\nError processing case {case_idx + 1}: {exc}\")\n",
    "                    # Create an error result if the entire future fails\n",
    "                    completed_results[case_idx] = {\n",
    "                        \"user_question\": test_cases[case_idx].get(\"user_question\", \"\"),\n",
    "                        \"ground_truth\": test_cases[case_idx].get(\"ground_truth\", \"\"),\n",
    "                        \"prediction\": \"Executor Error\",\n",
    "                        \"explanation\": f\"Error in executor: {str(exc)}\",\n",
    "                        \"case_type\": \"llm_error\",\n",
    "                        \"case_idx\": case_idx + 1\n",
    "                    }\n",
    "                    suite_results[\"stats\"][\"llm_fail\"] += 1\n",
    "\n",
    "                # Update progress bar\n",
    "                pbar.update(1)\n",
    "                pbar.set_postfix({\n",
    "                    \"Success\": f\"{suite_results['stats']['llm_successful']}/{total_cases}\",\n",
    "                })\n",
    "\n",
    "    # Add all results in correct order\n",
    "    suite_results[\"test_cases\"] = completed_results\n",
    "\n",
    "    # Evaluate task success (comparing predictions with ground truth)\n",
    "    suite_results = evaluate_test_results(suite_results)\n",
    "\n",
    "    # Save results if output file is specified\n",
    "    if output_file:\n",
    "        # Ensure directory exists\n",
    "        os.makedirs(os.path.dirname(output_file), exist_ok=True)\n",
    "\n",
    "        with open(output_file, \"w\") as f:\n",
    "            json.dump(suite_results, f, indent=2)\n",
    "        print(f\"Results saved to {output_file}\")\n",
    "\n",
    "    return suite_results\n",
    "\n",
    "\n",
    "def run_evaluation(test_data, model_id, results_dir=\"results\"):\n",
    "    \"\"\"\n",
    "    Run evaluation and save results with timestamp\n",
    "\n",
    "    Args:\n",
    "        test_data (dict): Test data with prompt template and test cases\n",
    "        model_id (str): Model ID to run inference with\n",
    "        results_dir (str): Directory to save results\n",
    "\n",
    "    Returns:\n",
    "        dict: Evaluation results\n",
    "    \"\"\"\n",
    "    # Create results directory if it doesn't exist\n",
    "    os.makedirs(results_dir, exist_ok=True)\n",
    "\n",
    "    # Create output filename with timestamp\n",
    "    timestamp = datetime.now().strftime(\"%Y%m%d_%H%M%S\")\n",
    "    output_file = os.path.join(results_dir, f\"test_results_{timestamp}.json\")\n",
    "\n",
    "    # Execute test cases and get results\n",
    "    results = execute_test_cases(test_data, model_id, output_file)\n",
    "\n",
    "    return results\n"
   ],
   "outputs": [],
   "execution_count": 8
  },
  {
   "cell_type": "code",
   "id": "345a84f2-d6ce-4c71-80d5-8fb67c631029",
   "metadata": {
    "ExecuteTime": {
     "end_time": "2025-04-29T04:54:45.370880Z",
     "start_time": "2025-04-29T04:54:23.719615Z"
    }
   },
   "source": [
    "# Create results directory if it doesn't exist\n",
    "results_dir = \"results\"\n",
    "os.makedirs(results_dir, exist_ok=True)\n",
    "\n",
    "# Create output filename with timestamp\n",
    "timestamp = datetime.now().strftime(\"%Y%m%d_%H%M%S\")\n",
    "output_file = os.path.join(results_dir, f\"test_results_{timestamp}.json\")\n",
    "\n",
    "# Initialize counters and results structures\n",
    "baseline_result = execute_test_cases(test_cases, target_model_id, output_file)"
   ],
   "outputs": [
    {
     "name": "stderr",
     "output_type": "stream",
     "text": [
      "Processing Test Cases:   8%|▊         | 2/25 [00:04<00:47,  2.08s/it, Success=2/25]"
     ]
    },
    {
     "name": "stdout",
     "output_type": "stream",
     "text": [
      "{\"prediction\": \"ESCALATION\", \"explanation\": \"The inquiry involves both a password reset issue and a potential security threat (strange text asking for details), which requires immediate attention and escalation to handle the security concern appropriately.\"}\n",
      "\n",
      "{\"prediction\": \"PIN_RESET\", \"explanation\": \"The user is requesting a change to their PIN number, which is used at ATMs (referred to as 'money machine' and 'plastic rectangle'). Although they also mention updating their mobile number, the primary request is about the PIN reset.\"}\n",
      "\n"
     ]
    },
    {
     "name": "stderr",
     "output_type": "stream",
     "text": [
      "Processing Test Cases:  16%|█▌        | 4/25 [00:06<00:22,  1.07s/it, Success=4/25]"
     ]
    },
    {
     "name": "stdout",
     "output_type": "stream",
     "text": [
      "{\"prediction\": \"CARD_DISPUTE\", \"explanation\": \"The customer is reporting unauthorized attempts to withdraw cash from their account, which falls under card disputes.\"}\n",
      "\n",
      "{\"prediction\": \"TRANSACTION_STATUS\", \"explanation\": \"The inquiry is about the status of a pending application, which falls under questions about pending transactions.\"}\n",
      "\n"
     ]
    },
    {
     "name": "stderr",
     "output_type": "stream",
     "text": [
      "Processing Test Cases:  20%|██        | 5/25 [00:07<00:22,  1.13s/it, Success=5/25]"
     ]
    },
    {
     "name": "stdout",
     "output_type": "stream",
     "text": [
      "{\"prediction\": \"CARD_DISPUTE\", \"explanation\": \"The inquiry involves a problem with the card being retained by the ATM after multiple incorrect PIN attempts, which falls under card disputes.\"}\n",
      "\n"
     ]
    },
    {
     "name": "stderr",
     "output_type": "stream",
     "text": [
      "Processing Test Cases:  24%|██▍       | 6/25 [00:07<00:15,  1.22it/s, Success=6/25]"
     ]
    },
    {
     "name": "stdout",
     "output_type": "stream",
     "text": [
      "{\"prediction\": \"CARD_DISPUTE\", \"explanation\": \"The inquiry is about unauthorized small payments on their electronic statements, which indicates a potential issue with unauthorized charges.\"}\n",
      "\n"
     ]
    },
    {
     "name": "stderr",
     "output_type": "stream",
     "text": [
      "Processing Test Cases:  32%|███▏      | 8/25 [00:09<00:16,  1.03it/s, Success=8/25]"
     ]
    },
    {
     "name": "stdout",
     "output_type": "stream",
     "text": [
      "{\"prediction\": \"CARD_DISPUTE\", \"explanation\": \"The customer is reporting an unexpected negative balance without corresponding withdrawals, indicating a potential unauthorized transaction or error.\"}\n",
      "\n",
      "{\"prediction\": \"AUTHENTICATION_SETUP\", \"explanation\": \"The inquiry involves setting up an authorized user, which is related to configuring security features and access permissions.\"}\n",
      "\n"
     ]
    },
    {
     "name": "stderr",
     "output_type": "stream",
     "text": [
      "Processing Test Cases:  36%|███▌      | 9/25 [00:10<00:12,  1.25it/s, Success=9/25]"
     ]
    },
    {
     "name": "stdout",
     "output_type": "stream",
     "text": [
      "{\"prediction\": \"IN_SCOPE\", \"explanation\": \"The inquiry is about checking the status and balance of an old bank account, which is directly related to the bank's financial services.\"}\n",
      "\n"
     ]
    },
    {
     "name": "stderr",
     "output_type": "stream",
     "text": [
      "Processing Test Cases:  40%|████      | 10/25 [00:10<00:10,  1.50it/s, Success=10/25]"
     ]
    },
    {
     "name": "stdout",
     "output_type": "stream",
     "text": [
      "{\"prediction\": \"IN_SCOPE\", \"explanation\": \"The inquiry is about financial planning and the conversion of IRAs, which is directly related to financial services.\"}\n",
      "\n"
     ]
    },
    {
     "name": "stderr",
     "output_type": "stream",
     "text": [
      "Processing Test Cases:  48%|████▊     | 12/25 [00:11<00:10,  1.24it/s, Success=12/25]"
     ]
    },
    {
     "name": "stdout",
     "output_type": "stream",
     "text": [
      "{\"prediction\": \"IN_SCOPE\", \"explanation\": \"The inquiry is about increasing a daily transfer limit and checking the status of a pre-approval, both of which are related to financial services.\"}\n",
      "\n",
      "{\"prediction\": \"AUTHENTICATION_SETUP\", \"explanation\": \"The inquiry is about setting up security features like face recognition and fingerprint access, which fall under authentication setup.\"}\n",
      "\n"
     ]
    },
    {
     "name": "stderr",
     "output_type": "stream",
     "text": [
      "Processing Test Cases:  56%|█████▌    | 14/25 [00:13<00:08,  1.24it/s, Success=14/25]"
     ]
    },
    {
     "name": "stdout",
     "output_type": "stream",
     "text": [
      "{\"prediction\": \"CONTACT_INFO_UPDATE\", \"explanation\": \"The inquiry is about updating contact information, specifically the email address and potentially related to a legal name change.\"}\n",
      "\n",
      "{\"prediction\": \"CARD_DISPUTE\", \"explanation\": \"The customer reports unauthorized changes to their account information, which falls under transaction problems and potential security breaches.\"}\n",
      "\n"
     ]
    },
    {
     "name": "stderr",
     "output_type": "stream",
     "text": [
      "Processing Test Cases:  60%|██████    | 15/25 [00:14<00:07,  1.37it/s, Success=15/25]"
     ]
    },
    {
     "name": "stdout",
     "output_type": "stream",
     "text": [
      "{\"prediction\": \"CARD_DISPUTE\", \"explanation\": \"The inquiry is about an unexpected charge on the customer's checking account, which falls under unauthorized charges or transaction problems.\"}\n",
      "\n"
     ]
    },
    {
     "name": "stderr",
     "output_type": "stream",
     "text": [
      "Processing Test Cases:  64%|██████▍   | 16/25 [00:14<00:05,  1.59it/s, Success=16/25]"
     ]
    },
    {
     "name": "stdout",
     "output_type": "stream",
     "text": [
      "{\"prediction\": \"ESCALATION\", \"explanation\": \"The customer is expressing dissatisfaction with investment advice and requesting to speak to a manager, indicating a complex problem that requires higher-level intervention.\"}\n",
      "\n"
     ]
    },
    {
     "name": "stderr",
     "output_type": "stream",
     "text": [
      "Processing Test Cases:  72%|███████▏  | 18/25 [00:16<00:05,  1.31it/s, Success=18/25]"
     ]
    },
    {
     "name": "stdout",
     "output_type": "stream",
     "text": [
      "{\"prediction\": \"CARD_DISPUTE\", \"explanation\": \"The inquiry reports unauthorized charges on the customer's card, which falls under card disputes.\"}\n",
      "\n",
      "{\"prediction\": \"AUTHENTICATION_SETUP\", \"explanation\": \"The inquiry involves an issue with completing an international wire transfer due to a 'verification required' error, which suggests a need for setting up or completing a security verification process.\"}\n",
      "\n"
     ]
    },
    {
     "name": "stderr",
     "output_type": "stream",
     "text": [
      "Processing Test Cases:  76%|███████▌  | 19/25 [00:17<00:04,  1.45it/s, Success=19/25]"
     ]
    },
    {
     "name": "stdout",
     "output_type": "stream",
     "text": [
      "{\"prediction\": \"OUT_OF_SCOPE\", \"explanation\": \"The inquiry is about bitcoin mining profitability and competitor comparison, which is unrelated to the financial services provided by the platform.\"}\n",
      "\n"
     ]
    },
    {
     "name": "stderr",
     "output_type": "stream",
     "text": [
      "Processing Test Cases:  80%|████████  | 20/25 [00:17<00:02,  1.70it/s, Success=20/25]"
     ]
    },
    {
     "name": "stdout",
     "output_type": "stream",
     "text": [
      "{\"prediction\": \"TRANSACTION_STATUS\", \"explanation\": \"The inquiry is about tracing a payment that was sent but not received by the recipient, which falls under questions about pending transactions.\"}\n",
      "\n"
     ]
    },
    {
     "name": "stderr",
     "output_type": "stream",
     "text": [
      "Processing Test Cases:  88%|████████▊ | 22/25 [00:18<00:02,  1.30it/s, Success=22/25]"
     ]
    },
    {
     "name": "stdout",
     "output_type": "stream",
     "text": [
      "{\"prediction\": \"ESCALATION\", \"explanation\": \"The inquiry involves both an unrecognized charge (which could be a CARD_DISPUTE) and being locked out of the account after attempting to dispute it, indicating a potential security issue. This combination requires escalation to handle both the transaction problem and the account access issue.\"}\n",
      "\n",
      "{\"prediction\": \"CONTACT_INFO_UPDATE\", \"explanation\": \"The primary request is to update both mailing and physical addresses. The mention of being locked out of mobile banking could be related to the address change but is secondary to the main request for updating contact information.\"}\n",
      "\n"
     ]
    },
    {
     "name": "stderr",
     "output_type": "stream",
     "text": [
      "Processing Test Cases:  96%|█████████▌| 24/25 [00:20<00:00,  1.37it/s, Success=24/25]"
     ]
    },
    {
     "name": "stdout",
     "output_type": "stream",
     "text": [
      "{\"prediction\": \"CARD_DISPUTE\", \"explanation\": \"The inquiry pertains to a sudden and unexplained drop in the customer's credit score, which suggests a potential issue with unauthorized activity or an error in reporting, aligning with the CARD_DISPUTE category.\"}\n",
      "\n",
      "{\"prediction\": \"IN_SCOPE\", \"explanation\": \"The inquiry is related to financial documentation which is within the scope of financial services.\"}\n",
      "\n"
     ]
    },
    {
     "name": "stderr",
     "output_type": "stream",
     "text": [
      "Processing Test Cases: 100%|██████████| 25/25 [00:21<00:00,  1.16it/s, Success=25/25]"
     ]
    },
    {
     "name": "stdout",
     "output_type": "stream",
     "text": [
      "{\"prediction\": \"OUT_OF_SCOPE\", \"explanation\": \"The inquiry appears to be nonsensical and does not relate to any specific financial service or common customer issue.\"}\n",
      "\n",
      "Results saved to results/test_results_20250429_125423.json\n"
     ]
    },
    {
     "name": "stderr",
     "output_type": "stream",
     "text": [
      "\n"
     ]
    }
   ],
   "execution_count": 9
  },
  {
   "cell_type": "markdown",
   "id": "3f72959980cb22b1",
   "metadata": {},
   "source": [
    "### Verify Results Against Ground Truth\n",
    "\n",
    "After running our initial evaluation, we'll analyze the results to understand where the model succeeds and where it fails. This analysis will:\n",
    "\n",
    "1. Calculate the overall success rate (percentage of correct predictions)\n",
    "2. Identify specific cases where the model's prediction differs from the ground truth\n",
    "3. Provide insights into patterns of errors that can inform our prompt optimization"
   ]
  },
  {
   "cell_type": "code",
   "id": "a6801615-bf8f-49f3-8a6a-bf1d1a9f8183",
   "metadata": {
    "ExecuteTime": {
     "end_time": "2025-04-29T05:55:50.913373Z",
     "start_time": "2025-04-29T05:55:50.906012Z"
    }
   },
   "source": [
    "# Process each test case within the suite\n",
    "task_success = 0\n",
    "for index, test_case in enumerate(baseline_result['test_cases']):\n",
    "    # Evaluate with compare_result    \n",
    "    if baseline_result['test_cases'][index]['task_succeed']:\n",
    "        task_success += 1\n",
    "\n",
    "print(\"Successful: \", task_success, \"of total number of\", len(baseline_result['test_cases']))\n",
    "\n",
    "pd.DataFrame(list(map(lambda x: {\n",
    "    \"user_question\": x[\"user_question\"],\n",
    "    \"prediction\": x[\"prediction\"],\n",
    "    \"ground_truth\": x[\"ground_truth\"],\n",
    "    \"task_succeed\": x[\"task_succeed\"],\n",
    "}, baseline_result['test_cases'])))"
   ],
   "outputs": [
    {
     "name": "stdout",
     "output_type": "stream",
     "text": [
      "Successful:  13 of total number of 25\n"
     ]
    },
    {
     "data": {
      "text/plain": [
       "                                        user_question            prediction  \\\n",
       "0   I need my secret code changed for the plastic ...             PIN_RESET   \n",
       "1   I noticed my digital banking access isn't work...            ESCALATION   \n",
       "2   Hey! Just wondering what the status is on that...    TRANSACTION_STATUS   \n",
       "3   Someone keeps trying to withdraw cash using my...          CARD_DISPUTE   \n",
       "4   My wife and I just got our electronic statemen...          CARD_DISPUTE   \n",
       "5   The cash machine ate my card yesterday evening...          CARD_DISPUTE   \n",
       "6   My daughter is going to college next month, an...  AUTHENTICATION_SETUP   \n",
       "7   I desperately need help! The system is telling...          CARD_DISPUTE   \n",
       "8   Planning retirement soon and wondering if I sh...              IN_SCOPE   \n",
       "9   I was going through my late father's paperwork...              IN_SCOPE   \n",
       "10  My digital verification steps are taking forev...  AUTHENTICATION_SETUP   \n",
       "11  I'm trying to buy a car this weekend and need ...              IN_SCOPE   \n",
       "12  Just received notification that my direct depo...          CARD_DISPUTE   \n",
       "13  Been trying to change my email address through...   CONTACT_INFO_UPDATE   \n",
       "14  I followed that investment advice your advisor...            ESCALATION   \n",
       "15  I'm getting charged a 12 dollar monthly fee on...          CARD_DISPUTE   \n",
       "16  Someone used my card at three gas stations wit...          CARD_DISPUTE   \n",
       "17  My son is studying abroad and needs emergency ...  AUTHENTICATION_SETUP   \n",
       "18  I sent money to my landlord using your payment...    TRANSACTION_STATUS   \n",
       "19  I need to confirm some information about bitco...          OUT_OF_SCOPE   \n",
       "20  Recently moved and need to update both my mail...   CONTACT_INFO_UPDATE   \n",
       "21  I logged in this morning and saw a 50 dollar '...            ESCALATION   \n",
       "22  I'm in the process of buying a house and need ...              IN_SCOPE   \n",
       "23  Was looking at my credit score through your ap...          CARD_DISPUTE   \n",
       "24  kvjnksdjvn kjehrkahtkjehfasd gkjasdnhlaoeirya ...          OUT_OF_SCOPE   \n",
       "\n",
       "            ground_truth  task_succeed  \n",
       "0              PIN_RESET          True  \n",
       "1             ESCALATION          True  \n",
       "2               IN_SCOPE         False  \n",
       "3             ESCALATION         False  \n",
       "4           CARD_DISPUTE          True  \n",
       "5             ESCALATION         False  \n",
       "6               IN_SCOPE         False  \n",
       "7             ESCALATION         False  \n",
       "8               IN_SCOPE          True  \n",
       "9             ESCALATION         False  \n",
       "10  AUTHENTICATION_SETUP          True  \n",
       "11              IN_SCOPE          True  \n",
       "12            ESCALATION         False  \n",
       "13            ESCALATION         False  \n",
       "14            ESCALATION          True  \n",
       "15              IN_SCOPE         False  \n",
       "16          CARD_DISPUTE          True  \n",
       "17              IN_SCOPE         False  \n",
       "18    TRANSACTION_STATUS          True  \n",
       "19          OUT_OF_SCOPE          True  \n",
       "20   CONTACT_INFO_UPDATE          True  \n",
       "21              IN_SCOPE         False  \n",
       "22              IN_SCOPE          True  \n",
       "23              IN_SCOPE         False  \n",
       "24          OUT_OF_SCOPE          True  "
      ],
      "text/html": [
       "<div>\n",
       "<style scoped>\n",
       "    .dataframe tbody tr th:only-of-type {\n",
       "        vertical-align: middle;\n",
       "    }\n",
       "\n",
       "    .dataframe tbody tr th {\n",
       "        vertical-align: top;\n",
       "    }\n",
       "\n",
       "    .dataframe thead th {\n",
       "        text-align: right;\n",
       "    }\n",
       "</style>\n",
       "<table border=\"1\" class=\"dataframe\">\n",
       "  <thead>\n",
       "    <tr style=\"text-align: right;\">\n",
       "      <th></th>\n",
       "      <th>user_question</th>\n",
       "      <th>prediction</th>\n",
       "      <th>ground_truth</th>\n",
       "      <th>task_succeed</th>\n",
       "    </tr>\n",
       "  </thead>\n",
       "  <tbody>\n",
       "    <tr>\n",
       "      <th>0</th>\n",
       "      <td>I need my secret code changed for the plastic ...</td>\n",
       "      <td>PIN_RESET</td>\n",
       "      <td>PIN_RESET</td>\n",
       "      <td>True</td>\n",
       "    </tr>\n",
       "    <tr>\n",
       "      <th>1</th>\n",
       "      <td>I noticed my digital banking access isn't work...</td>\n",
       "      <td>ESCALATION</td>\n",
       "      <td>ESCALATION</td>\n",
       "      <td>True</td>\n",
       "    </tr>\n",
       "    <tr>\n",
       "      <th>2</th>\n",
       "      <td>Hey! Just wondering what the status is on that...</td>\n",
       "      <td>TRANSACTION_STATUS</td>\n",
       "      <td>IN_SCOPE</td>\n",
       "      <td>False</td>\n",
       "    </tr>\n",
       "    <tr>\n",
       "      <th>3</th>\n",
       "      <td>Someone keeps trying to withdraw cash using my...</td>\n",
       "      <td>CARD_DISPUTE</td>\n",
       "      <td>ESCALATION</td>\n",
       "      <td>False</td>\n",
       "    </tr>\n",
       "    <tr>\n",
       "      <th>4</th>\n",
       "      <td>My wife and I just got our electronic statemen...</td>\n",
       "      <td>CARD_DISPUTE</td>\n",
       "      <td>CARD_DISPUTE</td>\n",
       "      <td>True</td>\n",
       "    </tr>\n",
       "    <tr>\n",
       "      <th>5</th>\n",
       "      <td>The cash machine ate my card yesterday evening...</td>\n",
       "      <td>CARD_DISPUTE</td>\n",
       "      <td>ESCALATION</td>\n",
       "      <td>False</td>\n",
       "    </tr>\n",
       "    <tr>\n",
       "      <th>6</th>\n",
       "      <td>My daughter is going to college next month, an...</td>\n",
       "      <td>AUTHENTICATION_SETUP</td>\n",
       "      <td>IN_SCOPE</td>\n",
       "      <td>False</td>\n",
       "    </tr>\n",
       "    <tr>\n",
       "      <th>7</th>\n",
       "      <td>I desperately need help! The system is telling...</td>\n",
       "      <td>CARD_DISPUTE</td>\n",
       "      <td>ESCALATION</td>\n",
       "      <td>False</td>\n",
       "    </tr>\n",
       "    <tr>\n",
       "      <th>8</th>\n",
       "      <td>Planning retirement soon and wondering if I sh...</td>\n",
       "      <td>IN_SCOPE</td>\n",
       "      <td>IN_SCOPE</td>\n",
       "      <td>True</td>\n",
       "    </tr>\n",
       "    <tr>\n",
       "      <th>9</th>\n",
       "      <td>I was going through my late father's paperwork...</td>\n",
       "      <td>IN_SCOPE</td>\n",
       "      <td>ESCALATION</td>\n",
       "      <td>False</td>\n",
       "    </tr>\n",
       "    <tr>\n",
       "      <th>10</th>\n",
       "      <td>My digital verification steps are taking forev...</td>\n",
       "      <td>AUTHENTICATION_SETUP</td>\n",
       "      <td>AUTHENTICATION_SETUP</td>\n",
       "      <td>True</td>\n",
       "    </tr>\n",
       "    <tr>\n",
       "      <th>11</th>\n",
       "      <td>I'm trying to buy a car this weekend and need ...</td>\n",
       "      <td>IN_SCOPE</td>\n",
       "      <td>IN_SCOPE</td>\n",
       "      <td>True</td>\n",
       "    </tr>\n",
       "    <tr>\n",
       "      <th>12</th>\n",
       "      <td>Just received notification that my direct depo...</td>\n",
       "      <td>CARD_DISPUTE</td>\n",
       "      <td>ESCALATION</td>\n",
       "      <td>False</td>\n",
       "    </tr>\n",
       "    <tr>\n",
       "      <th>13</th>\n",
       "      <td>Been trying to change my email address through...</td>\n",
       "      <td>CONTACT_INFO_UPDATE</td>\n",
       "      <td>ESCALATION</td>\n",
       "      <td>False</td>\n",
       "    </tr>\n",
       "    <tr>\n",
       "      <th>14</th>\n",
       "      <td>I followed that investment advice your advisor...</td>\n",
       "      <td>ESCALATION</td>\n",
       "      <td>ESCALATION</td>\n",
       "      <td>True</td>\n",
       "    </tr>\n",
       "    <tr>\n",
       "      <th>15</th>\n",
       "      <td>I'm getting charged a 12 dollar monthly fee on...</td>\n",
       "      <td>CARD_DISPUTE</td>\n",
       "      <td>IN_SCOPE</td>\n",
       "      <td>False</td>\n",
       "    </tr>\n",
       "    <tr>\n",
       "      <th>16</th>\n",
       "      <td>Someone used my card at three gas stations wit...</td>\n",
       "      <td>CARD_DISPUTE</td>\n",
       "      <td>CARD_DISPUTE</td>\n",
       "      <td>True</td>\n",
       "    </tr>\n",
       "    <tr>\n",
       "      <th>17</th>\n",
       "      <td>My son is studying abroad and needs emergency ...</td>\n",
       "      <td>AUTHENTICATION_SETUP</td>\n",
       "      <td>IN_SCOPE</td>\n",
       "      <td>False</td>\n",
       "    </tr>\n",
       "    <tr>\n",
       "      <th>18</th>\n",
       "      <td>I sent money to my landlord using your payment...</td>\n",
       "      <td>TRANSACTION_STATUS</td>\n",
       "      <td>TRANSACTION_STATUS</td>\n",
       "      <td>True</td>\n",
       "    </tr>\n",
       "    <tr>\n",
       "      <th>19</th>\n",
       "      <td>I need to confirm some information about bitco...</td>\n",
       "      <td>OUT_OF_SCOPE</td>\n",
       "      <td>OUT_OF_SCOPE</td>\n",
       "      <td>True</td>\n",
       "    </tr>\n",
       "    <tr>\n",
       "      <th>20</th>\n",
       "      <td>Recently moved and need to update both my mail...</td>\n",
       "      <td>CONTACT_INFO_UPDATE</td>\n",
       "      <td>CONTACT_INFO_UPDATE</td>\n",
       "      <td>True</td>\n",
       "    </tr>\n",
       "    <tr>\n",
       "      <th>21</th>\n",
       "      <td>I logged in this morning and saw a 50 dollar '...</td>\n",
       "      <td>ESCALATION</td>\n",
       "      <td>IN_SCOPE</td>\n",
       "      <td>False</td>\n",
       "    </tr>\n",
       "    <tr>\n",
       "      <th>22</th>\n",
       "      <td>I'm in the process of buying a house and need ...</td>\n",
       "      <td>IN_SCOPE</td>\n",
       "      <td>IN_SCOPE</td>\n",
       "      <td>True</td>\n",
       "    </tr>\n",
       "    <tr>\n",
       "      <th>23</th>\n",
       "      <td>Was looking at my credit score through your ap...</td>\n",
       "      <td>CARD_DISPUTE</td>\n",
       "      <td>IN_SCOPE</td>\n",
       "      <td>False</td>\n",
       "    </tr>\n",
       "    <tr>\n",
       "      <th>24</th>\n",
       "      <td>kvjnksdjvn kjehrkahtkjehfasd gkjasdnhlaoeirya ...</td>\n",
       "      <td>OUT_OF_SCOPE</td>\n",
       "      <td>OUT_OF_SCOPE</td>\n",
       "      <td>True</td>\n",
       "    </tr>\n",
       "  </tbody>\n",
       "</table>\n",
       "</div>"
      ]
     },
     "execution_count": 23,
     "metadata": {},
     "output_type": "execute_result"
    }
   ],
   "execution_count": 23
  },
  {
   "cell_type": "markdown",
   "id": "6b3ab4b4-1852-4868-8892-a65fd7c82853",
   "metadata": {},
   "source": [
    "## Prompt Optimization with Feedback Loop\n",
    "\n",
    "Now we'll implement our automated prompt optimization process using a feedback loop. This approach involves:\n",
    "\n",
    "1. **Error Analysis**: Using a powerful model (like Amazon Nova Premier) to analyze errors in the current prompt's performance\n",
    "2. **Feedback Generation**: Having the model generate specific suggestions for improving the prompt\n",
    "3. **Prompt Refinement**: Implementing these suggestions to create an improved prompt version\n",
    "4. **Iterative Evaluation**: Testing the new prompt and repeating the process\n",
    "\n",
    "This approach leverages the model's own capabilities to improve itself through structured feedback."
   ]
  },
  {
   "cell_type": "code",
   "id": "c9e48296-8692-475a-bd18-736cc3867cd4",
   "metadata": {
    "ExecuteTime": {
     "end_time": "2025-04-29T04:54:45.443716Z",
     "start_time": "2025-04-29T04:54:45.423037Z"
    }
   },
   "source": [
    "class PromptOptimizer:\n",
    "    \"\"\"Class for optimizing prompts based on error analysis\"\"\"\n",
    "\n",
    "    def __init__(self, bedrock_runtime, model_id, critique_prompt_template, system_prompt=\"\"):\n",
    "        self.bedrock_runtime = bedrock_runtime\n",
    "        self.model_id = model_id\n",
    "        self.suggestion_history = \"\"  # Initialize empty suggestion history\n",
    "        self.critique_prompt_template = critique_prompt_template\n",
    "        self.system_prompt = system_prompt\n",
    "\n",
    "    def reset_suggestion_history(self):\n",
    "        \"\"\"Reset the suggestion history to empty\"\"\"\n",
    "        self.suggestion_history = \"\"\n",
    "\n",
    "    @retry(\n",
    "        stop=stop_after_attempt(5),  # Max 5 attempts\n",
    "        wait=wait_exponential(multiplier=1, min=1, max=8),  # Exponential backoff\n",
    "        retry=retry_if_exception_type(ClientError)  # Retry on ClientError\n",
    "    )\n",
    "    def error_analysis_with_reasoning(self, prompt, temperature=0, max_tokens=8192,\n",
    "                                      thinking_budget=4096):\n",
    "        \"\"\"\n",
    "        Call Amazon Bedrock using the Converse API with thinking capability\n",
    "\n",
    "        Args:\n",
    "            prompt (str): The prompt to send to the model\n",
    "            temperature (float): Controls randomness (0-1)\n",
    "            max_tokens (int): Maximum tokens to generate\n",
    "            thinking_budget (int): Maximum tokens to think\n",
    "            system_prompt (str): System prompt to guide the model\n",
    "\n",
    "        Returns:\n",
    "            dict: The model's response with thinking and other content\n",
    "        \"\"\"\n",
    "        # Format system prompt as required by Converse API\n",
    "        formatted_system_prompt = [{\"text\": self.system_prompt}] if self.system_prompt else []\n",
    "\n",
    "        # Format the message for Converse API\n",
    "        messages = [\n",
    "            {\n",
    "                \"role\": \"user\",\n",
    "                \"content\": [{\"text\": prompt}]\n",
    "            }\n",
    "        ]\n",
    "\n",
    "        # Configure inference parameters\n",
    "        inference_config = {\n",
    "            \"temperature\": temperature,\n",
    "            \"maxTokens\": max_tokens\n",
    "        }\n",
    "\n",
    "        if \"3-7-sonnet\" in self.model_id:\n",
    "            # Configure reasoning parameters\n",
    "            reasoning_config = {\n",
    "                \"thinking\": {\n",
    "                    \"type\": \"enabled\",\n",
    "                    \"budget_tokens\": thinking_budget\n",
    "                },\n",
    "            }\n",
    "\n",
    "            # Make the API call\n",
    "            response = self.bedrock_runtime.converse(\n",
    "                modelId=self.model_id,\n",
    "                messages=messages,\n",
    "                system=formatted_system_prompt,\n",
    "                inferenceConfig=inference_config,\n",
    "                additionalModelRequestFields=reasoning_config\n",
    "            )\n",
    "        elif \"deepseek.r1\" in self.model_id:\n",
    "            # Make the API call\n",
    "            response = self.bedrock_runtime.converse(\n",
    "                modelId=self.model_id,\n",
    "                messages=messages,\n",
    "                inferenceConfig=inference_config,\n",
    "                system=formatted_system_prompt,\n",
    "            )\n",
    "        elif \"nova-premier\" in self.model_id:\n",
    "            # Make the API call\n",
    "            response = self.bedrock_runtime.converse(\n",
    "                modelId=self.model_id,\n",
    "                messages=messages,\n",
    "                inferenceConfig=inference_config,\n",
    "                system=formatted_system_prompt,\n",
    "            )\n",
    "\n",
    "        # Initialize result dictionary\n",
    "        result = {}\n",
    "\n",
    "        # Extract content blocks using the exact pattern provided\n",
    "        content_blocks = response[\"output\"][\"message\"][\"content\"]\n",
    "\n",
    "        reasoning = None\n",
    "        text = None\n",
    "\n",
    "        # Process each content block to find reasoning and response text\n",
    "        for block in content_blocks:\n",
    "            if \"reasoningContent\" in block:\n",
    "                reasoning = block[\"reasoningContent\"][\"reasoningText\"][\"text\"]\n",
    "            if \"text\" in block:\n",
    "                text = block[\"text\"]\n",
    "\n",
    "        # Add the extracted contents to the result dictionary\n",
    "        if reasoning:\n",
    "            result['reasoning'] = reasoning\n",
    "        elif \"nova-premier\" in self.model_id:\n",
    "            start_tag = \"<thinking>\"\n",
    "            end_tag = \"</thinking>\"\n",
    "            start_pos = text.find(start_tag)\n",
    "            start_content = start_pos + len(start_tag)\n",
    "            end_pos = text.find(end_tag, start_content)\n",
    "            if start_pos != -1 and end_pos != -1:\n",
    "                result['reasoning'] = text[start_content:end_pos]\n",
    "            else:\n",
    "                result['reasoning'] = \"\"\n",
    "\n",
    "        print(\"\\n===== REASONING =====\")\n",
    "        print(result['reasoning'])\n",
    "\n",
    "        if text:\n",
    "            start_tag = \"<output>\"\n",
    "            end_tag = \"</output>\"\n",
    "            start_pos = text.find(start_tag)\n",
    "            start_content = start_pos + len(start_tag)\n",
    "            end_pos = text.find(end_tag, start_content)\n",
    "            if start_pos != -1 and end_pos != -1:\n",
    "                result['text'] = text[start_content:end_pos]\n",
    "            else:\n",
    "                result['text'] = text\n",
    "\n",
    "        print(\"\\n===== RESPONSE =====\")\n",
    "        print(result['text'])\n",
    "\n",
    "        # Add token usage information to result\n",
    "        if 'usage' in response:\n",
    "            result['token_usage'] = response['usage']\n",
    "\n",
    "        print(\"\\n===== TOKEN USAGE =====\")\n",
    "        print(result['token_usage'])\n",
    "\n",
    "        return result\n",
    "\n",
    "    def generate_critique_prompt(self, baseline_result):\n",
    "        \"\"\"Generate a critique prompt based on baseline results and the current suggestion history\"\"\"\n",
    "        template = Template(self.critique_prompt_template)\n",
    "        current_critique_prompt = template.safe_substitute(\n",
    "            input_current_template=baseline_result['prompt_template'],\n",
    "            evaluation_results=json.dumps(baseline_result['test_cases']),\n",
    "            suggestion_history=self.suggestion_history\n",
    "        )\n",
    "        return current_critique_prompt\n",
    "\n",
    "    def get_prompt_feedback(self, baseline_result, max_tokens=8192, thinking_budget=4096, iteration=1):\n",
    "        \"\"\"\n",
    "        Get feedback on a prompt using error analysis\n",
    "\n",
    "        Args:\n",
    "            baseline_result (dict): The baseline evaluation results\n",
    "            max_tokens (int): Maximum tokens to generate\n",
    "            thinking_budget (int): Maximum tokens to think\n",
    "            iteration (int): Current iteration number\n",
    "\n",
    "        Returns:\n",
    "            dict: Feedback with reasoning and suggestions\n",
    "        \"\"\"\n",
    "        critique_prompt = self.generate_critique_prompt(baseline_result)\n",
    "\n",
    "        print(f\"Current suggestion history length: {len(self.suggestion_history)} characters\")\n",
    "\n",
    "        feedbacks = self.error_analysis_with_reasoning(\n",
    "            critique_prompt,\n",
    "            max_tokens=max_tokens,\n",
    "            thinking_budget=thinking_budget,\n",
    "        )\n",
    "\n",
    "        # Update suggestion history with the new feedback\n",
    "        if 'text' in feedbacks:\n",
    "            # Add a timestamp or iteration marker to the history\n",
    "            history_entry = f\"\\n--- Iteration {iteration} Feedback ---\\n{feedbacks['text']}\\n\"\n",
    "            self.suggestion_history += history_entry\n",
    "            print(f\"Updated suggestion history (now {len(self.suggestion_history)} characters)\")\n",
    "\n",
    "        return feedbacks['text']\n",
    "\n",
    "\n",
    "class PromptRewriter:\n",
    "    \"\"\"Class for rewriting prompts based on feedback analysis\"\"\"\n",
    "\n",
    "    def __init__(self, bedrock_runtime, model_id, guidance_prompt_improvement_template):\n",
    "        self.bedrock_runtime = bedrock_runtime\n",
    "        self.model_id = model_id\n",
    "        self.guidance_prompt_improvement_template = guidance_prompt_improvement_template\n",
    "\n",
    "    @retry(\n",
    "        stop=stop_after_attempt(5),  # Max 5 attempts\n",
    "        wait=wait_exponential(multiplier=1, min=1, max=8),  # Exponential backoff\n",
    "        retry=retry_if_exception_type(ClientError)  # Retry on ClientError\n",
    "    )\n",
    "    def call_bedrock_converse(self, prompt, temperature=0, top_p=0.9, max_tokens=2048):\n",
    "        \"\"\"\n",
    "        Call Amazon Bedrock using the Converse API\n",
    "\n",
    "        Args:\n",
    "            prompt (str): The prompt to send to the model\n",
    "            temperature (float): Controls randomness (0-1)\n",
    "            top_p (float): Limits token selection to top P options\n",
    "            max_tokens (int): Maximum tokens to generate\n",
    "\n",
    "        Returns:\n",
    "            str: The model's response text\n",
    "        \"\"\"\n",
    "        # Format the message for Converse API\n",
    "        messages = [\n",
    "            {\n",
    "                \"role\": \"user\",\n",
    "                \"content\": [{\"text\": prompt}]\n",
    "            }\n",
    "        ]\n",
    "\n",
    "        # Configure inference parameters\n",
    "        inference_config = {\n",
    "            \"temperature\": temperature,\n",
    "            \"topP\": top_p,\n",
    "            \"maxTokens\": max_tokens\n",
    "        }\n",
    "\n",
    "        # Make the API call\n",
    "        response = self.bedrock_runtime.converse(\n",
    "            modelId=self.model_id,\n",
    "            messages=messages,\n",
    "            inferenceConfig=inference_config\n",
    "        )\n",
    "\n",
    "        # Extract the generated text from the response\n",
    "        content_blocks = response[\"output\"][\"message\"][\"content\"]\n",
    "        for block in content_blocks:\n",
    "            if \"text\" in block:\n",
    "                return block[\"text\"]\n",
    "\n",
    "        return \"\"\n",
    "\n",
    "    def generate_improvement_prompt(self, current_template, critique_feedbacks):\n",
    "        \"\"\"\n",
    "        Generate a prompt for template improvement\n",
    "\n",
    "        Args:\n",
    "            current_template (str): The current prompt template\n",
    "            critique_feedbacks (str): Feedback from the critique\n",
    "\n",
    "        Returns:\n",
    "            str: The generated improvement prompt\n",
    "        \"\"\"\n",
    "        template = Template(self.guidance_prompt_improvement_template)\n",
    "        improvement_prompt = template.safe_substitute(\n",
    "            input_current_template=current_template,\n",
    "            critique_feedbacks=critique_feedbacks\n",
    "        )\n",
    "        return improvement_prompt\n",
    "\n",
    "    @retry(\n",
    "        stop=stop_after_attempt(5),  # Max 5 attempts\n",
    "        wait=wait_exponential(multiplier=1, min=1, max=8),  # Exponential backoff\n",
    "        retry=retry_if_exception_type(ClientError)  # Retry on ClientError\n",
    "    )\n",
    "    def improving_prompt_with_feedback(self, current_template, critique_feedbacks,\n",
    "                                       temperature=0, top_p=0.9, max_tokens=2048):\n",
    "        \"\"\"\n",
    "        Improve a prompt template based on critique feedback\n",
    "\n",
    "        Args:\n",
    "            current_template (str): The current prompt template\n",
    "            critique_feedbacks (str): Feedback from the critique\n",
    "            temperature (float): Controls randomness (0-1)\n",
    "            top_p (float): Limits token selection to top P options\n",
    "            max_tokens (int): Maximum tokens to generate\n",
    "\n",
    "        Returns:\n",
    "            dict: The improvement results with analysis, recommendations, and improved template\n",
    "        \"\"\"\n",
    "\n",
    "        improvement_prompt = self.generate_improvement_prompt(current_template, critique_feedbacks)\n",
    "\n",
    "        improvement_results = {}\n",
    "\n",
    "        try:\n",
    "            # Call the Bedrock Converse API\n",
    "            generated_text = self.call_bedrock_converse(\n",
    "                prompt=improvement_prompt,\n",
    "                temperature=temperature,\n",
    "                top_p=top_p,\n",
    "                max_tokens=max_tokens\n",
    "            )\n",
    "\n",
    "            # Use the imported function to parse the JSON result\n",
    "            results_llm = load_json_from_llm_result(generated_text)\n",
    "\n",
    "            # Create result entry\n",
    "            if results_llm:\n",
    "                improvement_results = {\n",
    "                    \"root_cause\": results_llm.get(\"root_cause\", \"\"),\n",
    "                    \"improved_template\": results_llm.get(\"improved_template\", \"\")\n",
    "                }\n",
    "            else:\n",
    "                print(\"Failed to parse improvement results from model response\")\n",
    "\n",
    "        except Exception as e:\n",
    "            print(f\"Error in improving prompt: {e}\")\n",
    "\n",
    "        return improvement_results"
   ],
   "outputs": [],
   "execution_count": 11
  },
  {
   "cell_type": "markdown",
   "id": "750051d2-db89-4dbb-ad02-85f636270e83",
   "metadata": {
    "ExecuteTime": {
     "end_time": "2025-04-29T00:18:17.031673Z",
     "start_time": "2025-04-29T00:18:15.602255Z"
    }
   },
   "source": [
    "### Setup Prompt Optimizer\n",
    "\n",
    "We'll create a `PromptOptimizer` class that uses Amazon Nova Premier's reasoning capabilities to analyze prompt performance and generate improvement suggestions. The optimizer will:\n",
    "\n",
    "1. Analyze test results to identify error patterns\n",
    "2. Investigate root causes of misclassifications\n",
    "3. Consider previous optimization attempts (stored in suggestion history)\n",
    "4. Generate specific, actionable suggestions for prompt improvement\n",
    "\n",
    "The system prompt instructs Nova Premier to use a structured thinking process, with reasoning enclosed in `<thinking>` tags and the final answer in `<output>` tags."
   ]
  },
  {
   "cell_type": "code",
   "id": "a08ab6ff-0cce-43c9-a827-754995b98840",
   "metadata": {
    "ExecuteTime": {
     "end_time": "2025-04-29T04:54:46.971111Z",
     "start_time": "2025-04-29T04:54:45.455877Z"
    }
   },
   "source": [
    "# Initialize Bedrock client\n",
    "bedrock_runtime = boto3.client(\n",
    "    \"bedrock-runtime\",\n",
    "    region_name=\"us-east-1\",\n",
    "    config=Config(\n",
    "        connect_timeout=300,\n",
    "        read_timeout=300\n",
    "    )\n",
    ")\n",
    "\n",
    "optimizer = PromptOptimizer(\n",
    "    bedrock_runtime=bedrock_runtime,\n",
    "    model_id=prompt_optimizer_model_id,\n",
    "    system_prompt=\"\"\"\n",
    "    The Bot first thinks about the reasoning process and then provides the User with the\n",
    "    answer. Keep your thinking brief and provide step by step thinking in <thinking> tags and answer\n",
    "    enclosed with <output> </output> i.e.,\n",
    "    <thinking>\n",
    "\n",
    "    reasoning process here\n",
    "\n",
    "    </thinking>\n",
    "\n",
    "    <output>\n",
    "\n",
    "    answer here\n",
    "\n",
    "    </output>\n",
    "    \"\"\",\n",
    "    critique_prompt_template=\"\"\"\n",
    "        Analyze the classification performance and provide detailed reasoning for prompt improvements:\n",
    "\n",
    "        Current Template:\n",
    "        <current_template>\n",
    "        ${input_current_template}\n",
    "        </current_template>\n",
    "\n",
    "        Evaluation Results:\n",
    "        <evaluation_results>\n",
    "        ${evaluation_results}\n",
    "        </evaluation_results>\n",
    "\n",
    "        IMPORTANT: If you need to identify errors between predictions and ground truth, focus on understanding the explanation part and critique any incorrect explanations with respect to the ground truth.\n",
    "\n",
    "        Follow these thinking steps in order:\n",
    "\n",
    "        1. STEP 1 - Error Pattern Analysis:\n",
    "           - List ALL misclassified cases\n",
    "           - Group similar errors\n",
    "           - Focus on how the prompt's instructions led to these errors\n",
    "\n",
    "        2. STEP 2 - Prompt-Specific Root Cause Investigation:\n",
    "           For each error pattern identified above, analyze:\n",
    "           - Which parts of the current prompt led to misinterpretation?\n",
    "           - Are there ambiguous or missing instructions?\n",
    "           - Are the classification criteria clearly defined?\n",
    "           - Is the format/structure of the prompt causing confusion?\n",
    "\n",
    "        3. STEP 3 - Historical Context:\n",
    "           Previous Iterative Suggestions:\n",
    "           <suggestion_history>\n",
    "           ${suggestion_history}\n",
    "           </suggestion_history>\n",
    "\n",
    "           Analyze only prompt-related changes:\n",
    "           - Which prompt modifications were effective/ineffective?\n",
    "           - Which instruction clarity issues persist?\n",
    "           - What prompt elements still need refinement?\n",
    "           - Focus more on recent iterations\n",
    "\n",
    "        4. STEP 4 - Prompt Improvement Ideas:\n",
    "           Suggest only changes to prompt instructions and structure:\n",
    "           - Clearer classification criteria\n",
    "           - Better examples or explanations\n",
    "           - More precise instructions\n",
    "           - Better prompt structure or organization\n",
    "           - Specific wording improvements\n",
    "\n",
    "           AVOID suggesting:\n",
    "           Adding more training data\n",
    "           Modifying the model\n",
    "           Changes to the underlying AI system\n",
    "           Adding new model capabilities\n",
    "           Adding directly the evalution samples into the suggesting\n",
    "\n",
    "\n",
    "           Base on the Current Template between <current_template> </current_template>\n",
    "\n",
    "           Output your final improvement suggestions between <suggestion> </suggestion>\n",
    "\n",
    "        \"\"\")"
   ],
   "outputs": [],
   "execution_count": 12
  },
  {
   "metadata": {},
   "cell_type": "markdown",
   "source": "### Setup Prompt Rewriter\n\nNext, we'll create a `PromptRewriter` class that takes the feedback from our optimizer and implements the suggested changes to create an improved prompt. The rewriter will:\n\n1. Accept the current prompt template and critique feedback as input\n2. Generate a new prompt that incorporates the suggested improvements\n3. Return both the improved prompt and an explanation of the root causes addressed\n\nThis separation of concerns (analysis vs. implementation) allows each model to focus on its specific task in the optimization process.",
   "id": "329d430864bbe409"
  },
  {
   "cell_type": "code",
   "id": "9a54bdd7-d6d4-4975-ae5f-1b99897891cd",
   "metadata": {
    "ExecuteTime": {
     "end_time": "2025-04-29T04:54:46.981001Z",
     "start_time": "2025-04-29T04:54:46.978675Z"
    }
   },
   "source": [
    "rewriter = PromptRewriter(\n",
    "    bedrock_runtime=bedrock_runtime,\n",
    "    model_id=prompt_rewriter_model_id,\n",
    "    guidance_prompt_improvement_template=\"\"\"\n",
    "        You need to improve the Current Template following the Critique Analysis.\n",
    "\n",
    "        Current Template:\n",
    "        <current_template>\n",
    "        ${input_current_template}\n",
    "        </current_template>\n",
    "\n",
    "\n",
    "        Instructions for improved template:\n",
    "        1. ALWAYS KEEP Output Format and User Inquiry section.\n",
    "        2. Take the Current Template as a base.\n",
    "        3. Incorporate specific improvements identified in the analysis\n",
    "        4. Ensure the new template maintains the basic structure but addresses the identified issues.\n",
    "        5. The improved template should be a complete, ready-to-use prompt\n",
    "\n",
    "        Critique Analysis:\n",
    "        <critique_feedbacks>\n",
    "        ${critique_feedbacks}\n",
    "        </critique_feedbacks>\n",
    "\n",
    "        When you output JSON, ALWAYS\n",
    "        Return your response in this exact JSON format, start with\n",
    "        ```json\n",
    "        {\n",
    "            \"root_cause\": \"Provide the root cause analysis from the feedbacks, please details Error Pattern Analysis and Root Cause Investigation, String FORMAT\",\n",
    "            \"improved_template\": \"Provide the complete new template here with all recommended changes incorporated. This should be a fully functional template ready for the next iteration. String FORMAT\"\n",
    "        }\n",
    "\n",
    "        IMPORTANT: The improved_template must be improved veresion o fCurrent Template by incorperating the recommended changes. PLEASE KEEP THE improved_template CONCISE AND EFFECTIVE.\n",
    "        \"\"\"\n",
    ")"
   ],
   "outputs": [],
   "execution_count": 13
  },
  {
   "cell_type": "markdown",
   "id": "6879c18a-31c8-4268-bd87-fdfa89af4ab7",
   "metadata": {
    "ExecuteTime": {
     "end_time": "2025-04-29T00:19:51.626653Z",
     "start_time": "2025-04-29T00:19:51.624415Z"
    }
   },
   "source": [
    "### Optimization Configuration\n",
    "\n",
    "With our optimizer and rewriter classes defined, we'll now configure the optimization process by specifying:\n",
    "\n",
    "1. The target model to be optimized (Nova Pro)\n",
    "2. The optimizer model for error analysis (Nova Premier)\n",
    "3. The rewriter model for implementing changes (Nova Pro)\n",
    "4. The maximum number of optimization iterations\n",
    "\n",
    "This configuration allows us to leverage different models' strengths for specific tasks in the optimization pipeline."
   ]
  },
  {
   "cell_type": "markdown",
   "id": "31506ad823123ddb",
   "metadata": {},
   "source": [
    "### Execute Optimization Feedback Loop\n",
    "\n",
    "Now we'll run our automated prompt optimization process through multiple iterations. For each iteration:\n",
    "\n",
    "1. We evaluate the current prompt against our test cases\n",
    "2. We analyze the results to identify error patterns\n",
    "3. We generate feedback for prompt improvement\n",
    "4. We implement the suggested changes to create a new prompt\n",
    "5. We repeat the process with the improved prompt\n",
    "\n",
    "This iterative approach allows us to systematically improve prompt performance based on data-driven feedback."
   ]
  },
  {
   "cell_type": "code",
   "id": "045ef3e0-7da3-4a01-af5e-c48ab5b2f462",
   "metadata": {
    "ExecuteTime": {
     "end_time": "2025-04-29T05:07:58.046657Z",
     "start_time": "2025-04-29T04:54:46.995461Z"
    }
   },
   "source": [
    "# reset optimizer\n",
    "optimizer.reset_suggestion_history()\n",
    "\n",
    "overall_start_time = datetime.now()\n",
    "# Print configuration\n",
    "print(f\"Configuration:\")\n",
    "print(f\"  Model ID: {target_model_id}\")\n",
    "print(f\"  Test file: {test_file}\")\n",
    "print(f\"  Results directory: {results_dir}\")\n",
    "print(f\"  Max iterations: {max_iterations}\")\n",
    "# Ensure results directory exists\n",
    "os.makedirs(results_dir, exist_ok=True)\n",
    "\n",
    "# Create a list to store iteration data\n",
    "iterations_data = []\n",
    "\n",
    "# Load initial test cases\n",
    "with open(test_file, 'r') as file:\n",
    "    test_data = json.load(file)\n",
    "print(f\"Loaded {len(test_data.get('test_cases', []))} test cases\")\n",
    "\n",
    "# Get the initial prompt template\n",
    "current_prompt_template = test_data.get('prompt_template')\n",
    "\n",
    "print(\"\\n===== CURRENT TEMPLATE =====\")\n",
    "print(current_prompt_template)\n",
    "print(\"============================\\n\")\n",
    "\n",
    "# Run optimization iterations\n",
    "for i in range(0, max_iterations + 1):\n",
    "    if i < max_iterations:\n",
    "        print(f\"\\n\\n======== ITERATION {i + 1}/{max_iterations} ========\")\n",
    "    else:\n",
    "        print(f\"\\n\\n======== COMPLETED ALL ITERATIONS ========\")\n",
    "\n",
    "    # Ensure current prompt template is in test data\n",
    "    test_data['prompt_template'] = current_prompt_template\n",
    "\n",
    "    # Run evaluation\n",
    "    print(\"\\nStarting evaluation...\")\n",
    "    start_time = datetime.now()\n",
    "\n",
    "    try:\n",
    "        # Run evaluation with current prompt template\n",
    "        results = run_evaluation(test_data, target_model_id, results_dir)\n",
    "\n",
    "        # Print summary\n",
    "        print(\"\\nEvaluation complete!\")\n",
    "        print(f\"Time taken: {datetime.now() - start_time}\")\n",
    "        print(f\"Total test cases: {results['stats']['total']}\")\n",
    "        print(f\"Failed calls: {results['stats']['llm_fail']}\")\n",
    "\n",
    "        # Print success rate if available\n",
    "        if 'task_succeed' in results['stats']:\n",
    "            success_rate = results['stats']['task_succeed'] / results['stats']['total'] * 100\n",
    "            print(f\"Task success rate: {success_rate:.2f}%\")\n",
    "\n",
    "        if i < max_iterations:\n",
    "            # Get feedback on the current results\n",
    "            print(\"\\nGenerating feedback for prompt improvement...\")\n",
    "            start_time = datetime.now()\n",
    "            feedback = optimizer.get_prompt_feedback(results, iteration=i)\n",
    "            print(f\"Feedback generated.\")\n",
    "            print(f\"Time taken: {datetime.now() - start_time}\")\n",
    "\n",
    "            # Generate improved prompt\n",
    "            print(\"Generating improved prompt...\")\n",
    "            start_time = datetime.now()\n",
    "            improved_result = rewriter.improving_prompt_with_feedback(\n",
    "                current_template=current_prompt_template,\n",
    "                critique_feedbacks=feedback\n",
    "            )\n",
    "            # Get the improved template\n",
    "            improved_template = improved_result.get('improved_template', current_prompt_template)\n",
    "            print(f\"Improved prompt created.\")\n",
    "            print(f\"Time taken: {datetime.now() - start_time}\")\n",
    "\n",
    "            # Create iteration data dictionary\n",
    "            iteration_data = {\n",
    "                \"iteration\": i,\n",
    "                \"current_prompt_template\": current_prompt_template,\n",
    "                \"success_rate\": success_rate,\n",
    "                \"feedback\": feedback,\n",
    "                \"improved_result\": improved_result\n",
    "            }\n",
    "            print(\"\\n===== IMPROVED TEMPLATE =====\")\n",
    "            print(improved_template)\n",
    "            print(\"============================\\n\")\n",
    "            # Update current prompt template for next iteration\n",
    "            current_prompt_template = improved_template\n",
    "        else:\n",
    "            iteration_data = {\n",
    "                \"current_prompt_template\": current_prompt_template,\n",
    "                \"success_rate\": success_rate,\n",
    "            }\n",
    "\n",
    "        # Add to the list of all iterations\n",
    "        iterations_data.append(iteration_data)\n",
    "    except Exception as e:\n",
    "        print(f\"Error during iteration {i + 1}: {str(e)}\")\n",
    "        # Continue to next iteration\n",
    "        continue\n",
    "\n",
    "# Save the cumulative iteration data\n",
    "iteration_file_path = os.path.join(results_dir, f\"optimization_iteration_log.json\")\n",
    "with open(iteration_file_path, 'w') as f:\n",
    "    json.dump(iterations_data, f, indent=2)\n",
    "print(f\"Saved iteration data to {iteration_file_path}\")\n",
    "\n",
    "print(\"\\nOptimization process complete!\")\n",
    "print(f\"\\nOverall time taken: {datetime.now() - overall_start_time}\")\n"
   ],
   "outputs": [
    {
     "name": "stdout",
     "output_type": "stream",
     "text": [
      "Configuration:\n",
      "  Model ID: us.amazon.nova-pro-v1:0\n",
      "  Test file: ./data/test_cases.json\n",
      "  Results directory: ./results\n",
      "  Max iterations: 5\n",
      "Loaded 25 test cases\n",
      "\n",
      "===== CURRENT TEMPLATE =====\n",
      "You are a Financial Services Assistant. Classify each customer inquiry into one of these categories:\n",
      "ACKNOWLEDGMENT - For greetings and thanks\n",
      "PASSWORD_RESET - For password issues\n",
      "CONTACT_INFO_UPDATE - For updating contact information\n",
      "PIN_RESET - For PIN number issues\n",
      "TRANSACTION_STATUS - For questions about pending transactions\n",
      "AUTHENTICATION_SETUP - For setting up security features\n",
      "CARD_DISPUTE - For unauthorized charges or transaction problems\n",
      "ESCALATION - For security issues and complex problems\n",
      "IN_SCOPE - For questions about our financial services\n",
      "OUT_OF_SCOPE - For unrelated topics\n",
      "\n",
      "### Output Format:\n",
      " Directly output in json. \n",
      "```json\n",
      "{\"prediction\": \"ONE classified category\", \"explanation\": \"brief reason for the classification\"}\n",
      "```\n",
      "\n",
      "### User Inquiry:\n",
      "${user_question}.\n",
      "\n",
      "============================\n",
      "\n",
      "\n",
      "\n",
      "======== ITERATION 1/5 ========\n",
      "\n",
      "Starting evaluation...\n"
     ]
    },
    {
     "name": "stderr",
     "output_type": "stream",
     "text": [
      "Processing Test Cases:   4%|▍         | 1/25 [00:01<00:30,  1.27s/it, Success=1/25]"
     ]
    },
    {
     "name": "stdout",
     "output_type": "stream",
     "text": [
      "{\"prediction\": \"ESCALATION\", \"explanation\": \"The inquiry involves both a password reset issue and a potential security threat (strange text asking for details), which requires immediate attention and escalation to handle the security concern appropriately.\"}\n",
      "\n"
     ]
    },
    {
     "name": "stderr",
     "output_type": "stream",
     "text": [
      "Processing Test Cases:   8%|▊         | 2/25 [00:01<00:16,  1.41it/s, Success=2/25]"
     ]
    },
    {
     "name": "stdout",
     "output_type": "stream",
     "text": [
      "{\"prediction\": \"PIN_RESET\", \"explanation\": \"The user is requesting a change to their PIN number, which is used at ATMs (referred to as 'money machine' and 'plastic rectangle'). Additionally, they want to update their mobile number, but the primary request is about the PIN reset.\"}\n",
      "\n"
     ]
    },
    {
     "name": "stderr",
     "output_type": "stream",
     "text": [
      "Processing Test Cases:  12%|█▏        | 3/25 [00:02<00:18,  1.17it/s, Success=3/25]"
     ]
    },
    {
     "name": "stdout",
     "output_type": "stream",
     "text": [
      "{\"prediction\": \"TRANSACTION_STATUS\", \"explanation\": \"The inquiry is about the status of a pending application, which falls under questions about pending transactions.\"}\n",
      "\n"
     ]
    },
    {
     "name": "stderr",
     "output_type": "stream",
     "text": [
      "Processing Test Cases:  16%|█▌        | 4/25 [00:02<00:13,  1.57it/s, Success=4/25]"
     ]
    },
    {
     "name": "stdout",
     "output_type": "stream",
     "text": [
      "{\"prediction\": \"CARD_DISPUTE\", \"explanation\": \"The customer is reporting unauthorized attempts to withdraw cash from their account, which falls under card disputes.\"}\n",
      "\n"
     ]
    },
    {
     "name": "stderr",
     "output_type": "stream",
     "text": [
      "Processing Test Cases:  24%|██▍       | 6/25 [00:04<00:15,  1.24it/s, Success=6/25]"
     ]
    },
    {
     "name": "stdout",
     "output_type": "stream",
     "text": [
      "{\"prediction\": \"CARD_DISPUTE\", \"explanation\": \"The inquiry involves an issue with the ATM retaining the customer's card after multiple incorrect PIN attempts, which falls under card disputes.\"}\n",
      "\n",
      "{\"prediction\": \"CARD_DISPUTE\", \"explanation\": \"The inquiry is about unauthorized small payments on their electronic statements, which indicates a potential issue with unauthorized charges.\"}\n",
      "\n"
     ]
    },
    {
     "name": "stderr",
     "output_type": "stream",
     "text": [
      "Processing Test Cases:  32%|███▏      | 8/25 [00:05<00:09,  1.80it/s, Success=8/25]"
     ]
    },
    {
     "name": "stdout",
     "output_type": "stream",
     "text": [
      "{\"prediction\": \"CARD_DISPUTE\", \"explanation\": \"The customer is reporting an unexpected negative balance and missing withdrawals, indicating a potential unauthorized transaction or account issue.\"}\n",
      "\n",
      "{\"prediction\": \"AUTHENTICATION_SETUP\", \"explanation\": \"The inquiry involves setting up an authorized user, which is related to configuring security features and access permissions.\"}\n",
      "\n"
     ]
    },
    {
     "name": "stderr",
     "output_type": "stream",
     "text": [
      "Processing Test Cases:  40%|████      | 10/25 [00:06<00:08,  1.82it/s, Success=10/25]"
     ]
    },
    {
     "name": "stdout",
     "output_type": "stream",
     "text": [
      "{\"prediction\": \"IN_SCOPE\", \"explanation\": \"The inquiry is about checking the status and balance of an old account, which is directly related to the bank's financial services.\"}\n",
      "\n",
      "{\"prediction\": \"IN_SCOPE\", \"explanation\": \"The inquiry is about financial planning and the conversion of an IRA, which falls under the category of questions about financial services.\"}\n",
      "\n"
     ]
    },
    {
     "name": "stderr",
     "output_type": "stream",
     "text": [
      "Processing Test Cases:  48%|████▊     | 12/25 [00:07<00:06,  1.90it/s, Success=12/25]"
     ]
    },
    {
     "name": "stdout",
     "output_type": "stream",
     "text": [
      "{\"prediction\": \"IN_SCOPE\", \"explanation\": \"The inquiry is about increasing a daily transfer limit and checking the validity of a pre-approval, both of which are related to financial services.\"}\n",
      "\n",
      "{\"prediction\": \"AUTHENTICATION_SETUP\", \"explanation\": \"The inquiry is about setting up security features such as face recognition and fingerprint access, which fall under authentication setup.\"}\n",
      "\n"
     ]
    },
    {
     "name": "stderr",
     "output_type": "stream",
     "text": [
      "Processing Test Cases:  52%|█████▏    | 13/25 [00:08<00:08,  1.43it/s, Success=13/25]"
     ]
    },
    {
     "name": "stdout",
     "output_type": "stream",
     "text": [
      "{\"prediction\": \"CONTACT_INFO_UPDATE\", \"explanation\": \"The inquiry is about updating contact information, specifically the email address and potentially related to a legal name change.\"}\n",
      "\n"
     ]
    },
    {
     "name": "stderr",
     "output_type": "stream",
     "text": [
      "Processing Test Cases:  56%|█████▌    | 14/25 [00:09<00:06,  1.79it/s, Success=14/25]"
     ]
    },
    {
     "name": "stdout",
     "output_type": "stream",
     "text": [
      "{\"prediction\": \"CARD_DISPUTE\", \"explanation\": \"The customer reports unauthorized changes to their account information, which falls under transaction problems and potential security breaches.\"}\n",
      "\n"
     ]
    },
    {
     "name": "stderr",
     "output_type": "stream",
     "text": [
      "Processing Test Cases:  64%|██████▍   | 16/25 [00:10<00:05,  1.74it/s, Success=16/25]"
     ]
    },
    {
     "name": "stdout",
     "output_type": "stream",
     "text": [
      "{\"prediction\": \"CARD_DISPUTE\", \"explanation\": \"The inquiry is about an unexpected charge on the customer's checking account, which falls under unauthorized charges or transaction problems.\"}\n",
      "\n",
      "{\"prediction\": \"ESCALATION\", \"explanation\": \"The customer is expressing dissatisfaction with investment advice and requesting to speak to a manager, indicating a complex problem that requires higher-level intervention.\"}\n",
      "\n"
     ]
    },
    {
     "name": "stderr",
     "output_type": "stream",
     "text": [
      "Processing Test Cases:  72%|███████▏  | 18/25 [00:11<00:05,  1.26it/s, Success=18/25]"
     ]
    },
    {
     "name": "stdout",
     "output_type": "stream",
     "text": [
      "{\"prediction\": \"CARD_DISPUTE\", \"explanation\": \"The inquiry involves unauthorized charges on the customer's card, which falls under card disputes.\"}\n",
      "\n",
      "{\"prediction\": \"AUTHENTICATION_SETUP\", \"explanation\": \"The inquiry involves an issue with completing an international wire transfer due to a 'verification required' error, which suggests a need for setting up or completing a security verification process.\"}\n",
      "\n"
     ]
    },
    {
     "name": "stderr",
     "output_type": "stream",
     "text": [
      "Processing Test Cases:  76%|███████▌  | 19/25 [00:13<00:04,  1.40it/s, Success=19/25]"
     ]
    },
    {
     "name": "stdout",
     "output_type": "stream",
     "text": [
      "{\"prediction\": \"OUT_OF_SCOPE\", \"explanation\": \"The inquiry is about bitcoin mining profitability and competitor comparison, which is unrelated to the financial services provided by the platform.\"}\n",
      "\n"
     ]
    },
    {
     "name": "stderr",
     "output_type": "stream",
     "text": [
      "Processing Test Cases:  80%|████████  | 20/25 [00:13<00:02,  1.69it/s, Success=20/25]"
     ]
    },
    {
     "name": "stdout",
     "output_type": "stream",
     "text": [
      "{\"prediction\": \"TRANSACTION_STATUS\", \"explanation\": \"The inquiry is about tracing a payment that was sent but not received by the recipient, which falls under questions about pending transactions.\"}\n",
      "\n"
     ]
    },
    {
     "name": "stderr",
     "output_type": "stream",
     "text": [
      "Processing Test Cases:  84%|████████▍ | 21/25 [00:14<00:02,  1.36it/s, Success=21/25]"
     ]
    },
    {
     "name": "stdout",
     "output_type": "stream",
     "text": [
      "{\"prediction\": \"ESCALATION\", \"explanation\": \"The inquiry involves an unrecognized charge and subsequent account lockout, indicating a potential security issue and complex problem that requires further investigation.\"}\n",
      "\n"
     ]
    },
    {
     "name": "stderr",
     "output_type": "stream",
     "text": [
      "Processing Test Cases:  88%|████████▊ | 22/25 [00:14<00:01,  1.63it/s, Success=22/25]"
     ]
    },
    {
     "name": "stdout",
     "output_type": "stream",
     "text": [
      "{\"prediction\": \"CONTACT_INFO_UPDATE\", \"explanation\": \"The primary request is to update both mailing and physical addresses. The mention of being locked out of mobile banking could be related to the address change, but the main focus is on updating contact information.\"}\n",
      "\n"
     ]
    },
    {
     "name": "stderr",
     "output_type": "stream",
     "text": [
      "Processing Test Cases:  96%|█████████▌| 24/25 [00:15<00:00,  1.73it/s, Success=24/25]"
     ]
    },
    {
     "name": "stdout",
     "output_type": "stream",
     "text": [
      "{\"prediction\": \"IN_SCOPE\", \"explanation\": \"The inquiry is related to financial documentation which is within the scope of financial services.\"}\n",
      "\n",
      "{\"prediction\": \"CARD_DISPUTE\", \"explanation\": \"The inquiry pertains to a sudden and unexplained drop in the customer's credit score, which could indicate a potential issue with unauthorized activity or an error in reporting, thus falling under CARD_DISPUTE.\"}\n",
      "\n"
     ]
    },
    {
     "name": "stderr",
     "output_type": "stream",
     "text": [
      "Processing Test Cases: 100%|██████████| 25/25 [00:17<00:00,  1.45it/s, Success=25/25]"
     ]
    },
    {
     "name": "stdout",
     "output_type": "stream",
     "text": [
      "{\"prediction\": \"OUT_OF_SCOPE\", \"explanation\": \"The inquiry appears to be nonsensical and does not relate to any specific financial service or issue.\"}\n",
      "\n",
      "Results saved to ./results/test_results_20250429_125447.json\n",
      "\n",
      "Evaluation complete!\n",
      "Time taken: 0:00:17.185997\n",
      "Total test cases: 25\n",
      "Failed calls: 0\n",
      "Task success rate: 52.00%\n",
      "\n",
      "Generating feedback for prompt improvement...\n",
      "Current suggestion history length: 0 characters\n"
     ]
    },
    {
     "name": "stderr",
     "output_type": "stream",
     "text": [
      "\n"
     ]
    },
    {
     "name": "stdout",
     "output_type": "stream",
     "text": [
      "\n",
      "===== REASONING =====\n",
      "\n",
      "\n",
      "Okay, let's tackle this problem. The user wants an analysis of the classification errors and prompt improvements. First, I need to go through each evaluation result and find where the predictions didn't match the ground truth. \n",
      "\n",
      "Looking at the cases where task_succeed is false: cases 3,4,6,7,8,10,13,14,16,18,22,24. Let's list them.\n",
      "\n",
      "Case 3: Ground truth IN_SCOPE, predicted TRANSACTION_STATUS. The user asked about application status. The explanation says pending transactions, but maybe the application is a service request, not a transaction. So the model confused application status with transaction status.\n",
      "\n",
      "Case 4: Ground truth ESCALATION, predicted CARD_DISPUTE. The user reports unauthorized withdrawals while traveling. The explanation says card dispute, but since they're abroad and there's a security risk, it's escalation. The model missed the travel aspect and urgency.\n",
      "\n",
      "Case 6: ATM ate card after wrong PIN. Ground truth ESCALATION. The model said CARD_DISPUTE. The user needs urgent access for a trip, which is a security issue needing escalation.\n",
      "\n",
      "Case 7: Adding daughter as authorized user. Ground truth IN_SCOPE, model said AUTHENTICATION_SETUP. The explanation mentions security features, but adding an authorized user is a service request, not authentication setup.\n",
      "\n",
      "Case 8: Negative balance with no withdrawals. Ground truth ESCALATION. The model said CARD_DISPUTE. This is a major account issue requiring immediate attention, hence escalation.\n",
      "\n",
      "Case 10: Old account status check. Ground truth ESCALATION, model IN_SCOPE. The 15-year-old account might need special handling, so escalation.\n",
      "\n",
      "Case 13: Unauthorized direct deposit change. Ground truth ESCALATION, model CARD_DISPUTE. Account access breach is a security issue needing escalation.\n",
      "\n",
      "Case 14: Email update with verification failure and name change. Ground truth ESCALATION, model CONTACT_INFO_UPDATE. The legal name change complicates it, requiring escalation.\n",
      "\n",
      "Case 16: Unexpected $12 fee. Ground truth IN_SCOPE, model CARD_DISPUTE. It's a fee dispute, but maybe considered a service issue (IN_SCOPE) rather than unauthorized charge.\n",
      "\n",
      "Case 18: International wire error. Ground truth IN_SCOPE, model AUTHENTICATION_SETUP. The error is about verification, but the main issue is the transfer process, so IN_SCOPE.\n",
      "\n",
      "Case 22: Unrecognized fee and lockout. Ground truth IN_SCOPE, model ESCALATION. The lockout might make it escalation, but the fee itself is a service issue. The explanation says security, but maybe the fee is the main point.\n",
      "\n",
      "Case 24: Credit score drop. Ground truth IN_SCOPE, model CARD_DISPUTE. The model thought it's unauthorized activity, but it's a credit reporting issue, which is IN_SCOPE.\n",
      "\n",
      "Now, grouping errors:\n",
      "\n",
      "- Misclassifying ESCALATION as CARD_DISPUTE (cases 4,6,8,13, maybe 22). The model sees unauthorized activity but misses the severity or security aspect.\n",
      "- Misclassifying IN_SCOPE as AUTHENTICATION_SETUP (cases 7,18). The model confuses service requests with security setup.\n",
      "- Misclassifying ESCALATION as CONTACT_INFO_UPDATE (case 14). The name change complicates it.\n",
      "- Misclassifying TRANSACTION_STATUS as IN_SCOPE (case 3). Application status vs transaction.\n",
      "- Misclassifying IN_SCOPE as CARD_DISPUTE (case 16, 24). Fee disputes and credit issues.\n",
      "\n",
      "Root causes in the prompt:\n",
      "\n",
      "The current categories might have overlapping definitions. For example, CARD_DISPUTE is for unauthorized charges, but ESCALATION includes security issues. The model might not distinguish when a security breach is present. The prompt's examples might not cover escalation scenarios well.\n",
      "\n",
      "The prompt's classification criteria might not emphasize urgency or severity. For example, \"urgent access needed\" or \"traveling abroad\" should trigger ESCALATION. The current template doesn't highlight these factors.\n",
      "\n",
      "The IN_SCOPE category is broad. The model might confuse service requests (like adding authorized users) with other categories. The examples in the prompt might not clarify the boundaries between IN_SCOPE and others.\n",
      "\n",
      "Possible improvements:\n",
      "\n",
      "1. Clarify ESCALATION criteria: Add examples of security breaches, account lockouts, urgent situations (like traveling abroad), and large discrepancies.\n",
      "\n",
      "2. Differentiate CARD_DISPUTE from ESCALATION: Specify that ESCALATION includes unauthorized access with security implications (e.g., account takeover, urgent threats), while CARD_DISPUTE is for specific unauthorized transactions.\n",
      "\n",
      "3. Refine IN_SCOPE examples: Include cases like application status, fee inquiries, and adding authorized users to show it's for service-related questions.\n",
      "\n",
      "4. Add examples where multiple issues exist but the primary is ESCALATION (e.g., unauthorized activity plus account lockout).\n",
      "\n",
      "5. Adjust the explanation in the output format to require considering severity and urgency.\n",
      "\n",
      "In the current template, the categories are listed, but the examples in the evaluation show that the model isn't catching escalation triggers. So the prompt needs to better define when to escalate, perhaps by adding examples of escalation scenarios and emphasizing security and urgency.\n",
      "\n",
      "\n",
      "\n",
      "===== RESPONSE =====\n",
      "\n",
      "\n",
      "**Error Pattern Analysis:**\n",
      "\n",
      "1. **Misclassified Cases:**\n",
      "   - **Cases 4, 6, 8, 13, 14, 22**: Misclassified **ESCALATION** as **CARD_DISPUTE** due to unauthorized activity without recognizing security/urgency factors (e.g., traveling abroad, account lockout).\n",
      "   - **Cases 7, 18**: Misclassified **IN_SCOPE** as **AUTHENTICATION_SETUP** for service requests (e.g., adding authorized users, wire transfer errors).\n",
      "   - **Case 3**: Misclassified **IN_SCOPE** (application status) as **TRANSACTION_STATUS**.\n",
      "   - **Cases 16, 24**: Misclassified **IN_SCOPE** (fee disputes, credit score issues) as **CARD_DISPUTE**.\n",
      "\n",
      "**Root Cause Investigation:**\n",
      "- **Escalation Ambiguity**: The prompt lacks clarity on when security breaches or urgent situations (e.g., \"traveling in Europe,\" \"locked out of account\") require escalation.\n",
      "- **Overlapping Definitions**: **CARD_DISPUTE** and **ESCALATION** boundaries are blurred. Unauthorized activity defaults to CARD_DISPUTE without considering severity.\n",
      "- **Broad IN_SCOPE**: Service requests (e.g., account modifications) are mislabeled due to insufficient examples distinguishing them from technical setups.\n",
      "\n",
      "**Prompt Improvement Suggestions:**\n",
      "\n",
      "1. **Clarify ESCALATION Criteria**:\n",
      "   - Add examples emphasizing security threats, account takeovers, or urgent access needs:  \n",
      "     *\"ESCALATION: For immediate security risks (e.g., 'Someone is withdrawing money while I’m abroad'), account lockouts, or large unexplained discrepancies.\"*\n",
      "\n",
      "2. **Refine CARD_DISPUTE Definition**:\n",
      "   - Specify it’s for *isolated* unauthorized transactions, not systemic breaches:  \n",
      "     *\"CARD_DISPUTE: For unauthorized charges (e.g., 'Charges at gas stations I didn’t visit'), but escalate if paired with security alerts.\"*\n",
      "\n",
      "3. **Expand IN_SCOPE Examples**:\n",
      "   - Include non-technical service inquiries:  \n",
      "     *\"IN_SCOPE: For service requests (e.g., 'Add authorized user,' 'Application status updates,' 'Fee dispute explanations').\"*\n",
      "\n",
      "4. **Highlight Urgency/Severity**:\n",
      "   - Add a note about escalation triggers:  \n",
      "     *\"If the inquiry involves urgent access needs, travel-related security risks, or account lockouts, prioritize ESCALATION.\"*\n",
      "\n",
      "5. **Adjust Output Explanation Requirement**:\n",
      "   - Mandate severity consideration:  \n",
      "     *\"Explanation must justify urgency or security factors for ESCALATION (e.g., 'Requires immediate security review due to travel context').\"*\n",
      "\n",
      "**Revised Template Snippet:**\n",
      "```json\n",
      "\"ESCALATION\": \"For security breaches (e.g., unauthorized access during travel), account lockouts, or systemic issues. Example: 'My card was used abroad while I’m home.'\"\n",
      "```\n",
      "\n",
      "**Key Fixes:**\n",
      "- Disambiguate ESCALATION from CARD_DISPUTE via security/urgency emphasis.\n",
      "- Strengthen IN_SCOPE boundaries with service-focused examples.\n",
      "- Force explanations to address escalation triggers explicitly.\n",
      "\n",
      "\n",
      "\n",
      "===== TOKEN USAGE =====\n",
      "{'inputTokens': 3781, 'outputTokens': 1944, 'totalTokens': 5725}\n",
      "Updated suggestion history (now 2855 characters)\n",
      "Feedback generated.\n",
      "Time taken: 0:00:43.918462\n",
      "Generating improved prompt...\n",
      "{\n",
      "    \"root_cause\": \"Misclassified cases due to escalation ambiguity, overlapping definitions between CARD_DISPUTE and ESCALATION, and broad IN_SCOPE category. The prompt lacked clarity on when to escalate security breaches or urgent situations, and insufficient examples led to mislabeling service requests.\",\n",
      "    \"improved_template\": \"You are a Financial Services Assistant. Classify each customer inquiry into one of these categories:\\n\\nACKNOWLEDGEMENT - For greetings and thanks\\nPASSWORD_RESET - For password issues\\nCONTACT_INFO_UPDATE - For updating contact information\\nPIN_RESET - For PIN number issues\\nTRANSACTION_STATUS - For questions about pending transactions\\nAUTHENTICATION_SETUP - For setting up security features\\nCARD_DISPUTE - For isolated unauthorized charges (e.g., 'Charges at gas stations I didn’t visit')\\nESCALATION - For immediate security risks (e.g., 'Someone is withdrawing money while I’m abroad'), account lockouts, or large unexplained discrepancies\\nIN_SCOPE - For service requests (e.g., 'Add authorized user,' 'Application status updates,' 'Fee dispute explanations')\\nOUT_OF_SCOPE - For unrelated topics\\n\\n### Output Format:\\nDirectly output in json. \\n```json\\n{\\\"prediction\\\": \\\"ONE classified category\\\", \\\"explanation\\\": \\\"brief reason for the classification, considering urgency or security factors for ESCALATION\\\"}\\n```\\n\\n### User Inquiry:\\n${user_question}.\"\n",
      "}\n",
      "\n",
      "Improved prompt created.\n",
      "Time taken: 0:00:02.612605\n",
      "\n",
      "===== IMPROVED TEMPLATE =====\n",
      "You are a Financial Services Assistant. Classify each customer inquiry into one of these categories:\n",
      "\n",
      "ACKNOWLEDGEMENT - For greetings and thanks\n",
      "PASSWORD_RESET - For password issues\n",
      "CONTACT_INFO_UPDATE - For updating contact information\n",
      "PIN_RESET - For PIN number issues\n",
      "TRANSACTION_STATUS - For questions about pending transactions\n",
      "AUTHENTICATION_SETUP - For setting up security features\n",
      "CARD_DISPUTE - For isolated unauthorized charges (e.g., 'Charges at gas stations I didn’t visit')\n",
      "ESCALATION - For immediate security risks (e.g., 'Someone is withdrawing money while I’m abroad'), account lockouts, or large unexplained discrepancies\n",
      "IN_SCOPE - For service requests (e.g., 'Add authorized user,' 'Application status updates,' 'Fee dispute explanations')\n",
      "OUT_OF_SCOPE - For unrelated topics\n",
      "\n",
      "### Output Format:\n",
      "Directly output in json. \n",
      "```json\n",
      "{\"prediction\": \"ONE classified category\", \"explanation\": \"brief reason for the classification, considering urgency or security factors for ESCALATION\"}\n",
      "```\n",
      "\n",
      "### User Inquiry:\n",
      "${user_question}.\n",
      "============================\n",
      "\n",
      "\n",
      "\n",
      "======== ITERATION 2/5 ========\n",
      "\n",
      "Starting evaluation...\n"
     ]
    },
    {
     "name": "stderr",
     "output_type": "stream",
     "text": [
      "Processing Test Cases:   4%|▍         | 1/25 [00:01<00:30,  1.26s/it, Success=1/25]"
     ]
    },
    {
     "name": "stdout",
     "output_type": "stream",
     "text": [
      "{\"prediction\": \"ESCALATION\", \"explanation\": \"The customer is experiencing issues with digital banking access and verification, and has also received a suspicious text message claiming to be from the bank, which could indicate a potential security risk.\"}\n",
      "\n"
     ]
    },
    {
     "name": "stderr",
     "output_type": "stream",
     "text": [
      "Processing Test Cases:   8%|▊         | 2/25 [00:01<00:16,  1.41it/s, Success=2/25]"
     ]
    },
    {
     "name": "stdout",
     "output_type": "stream",
     "text": [
      "{\"prediction\": \"PIN_RESET\", \"explanation\": \"The customer is requesting a change to their PIN number, which is a common security feature for ATM cards. The mention of updating their mobile number is secondary and can be addressed after the PIN reset.\"}\n",
      "\n"
     ]
    },
    {
     "name": "stderr",
     "output_type": "stream",
     "text": [
      "Processing Test Cases:  12%|█▏        | 3/25 [00:02<00:18,  1.17it/s, Success=3/25]"
     ]
    },
    {
     "name": "stdout",
     "output_type": "stream",
     "text": [
      "{\"prediction\": \"TRANSACTION_STATUS\", \"explanation\": \"The inquiry is about the status of a pending application, which is akin to checking the status of a transaction.\"}\n",
      "\n"
     ]
    },
    {
     "name": "stderr",
     "output_type": "stream",
     "text": [
      "Processing Test Cases:  16%|█▌        | 4/25 [00:03<00:15,  1.35it/s, Success=4/25]"
     ]
    },
    {
     "name": "stdout",
     "output_type": "stream",
     "text": [
      "{\"prediction\": \"ESCALATION\", \"explanation\": \"This inquiry indicates an immediate security risk as there are unauthorized withdrawal attempts on the account while the customer is abroad. It requires urgent attention to secure the account and prevent any potential fraud.\"}\n",
      "\n"
     ]
    },
    {
     "name": "stderr",
     "output_type": "stream",
     "text": [
      "Processing Test Cases:  20%|██        | 5/25 [00:04<00:15,  1.27it/s, Success=5/25]"
     ]
    },
    {
     "name": "stdout",
     "output_type": "stream",
     "text": [
      "{\"prediction\": \"CARD_DISPUTE\", \"explanation\": \"The inquiry involves small, unrecognized payments which suggest potential unauthorized charges, fitting the CARD_DISPUTE category.\"}\n",
      "\n"
     ]
    },
    {
     "name": "stderr",
     "output_type": "stream",
     "text": [
      "Processing Test Cases:  24%|██▍       | 6/25 [00:04<00:14,  1.32it/s, Success=6/25]"
     ]
    },
    {
     "name": "stdout",
     "output_type": "stream",
     "text": [
      "{\"prediction\": \"ESCALATION\", \"explanation\": \"This inquiry involves an immediate security risk as the customer's card has been retained by an ATM after multiple incorrect PIN attempts, and they urgently need access to funds for a business trip.\"}\n",
      "\n"
     ]
    },
    {
     "name": "stderr",
     "output_type": "stream",
     "text": [
      "Processing Test Cases:  28%|██▊       | 7/25 [00:05<00:14,  1.22it/s, Success=7/25]"
     ]
    },
    {
     "name": "stdout",
     "output_type": "stream",
     "text": [
      "{\"prediction\": \"IN_SCOPE\", \"explanation\": \"The inquiry is a service request to add an authorized user to the account, which falls within the scope of typical account management services.\"}\n",
      "\n"
     ]
    },
    {
     "name": "stderr",
     "output_type": "stream",
     "text": [
      "Processing Test Cases:  32%|███▏      | 8/25 [00:06<00:13,  1.27it/s, Success=8/25]"
     ]
    },
    {
     "name": "stdout",
     "output_type": "stream",
     "text": [
      "{\"prediction\": \"ESCALATION\", \"explanation\": \"This inquiry indicates a large unexplained discrepancy in the account balance, which poses a potential security risk and requires immediate attention.\"}\n",
      "\n"
     ]
    },
    {
     "name": "stderr",
     "output_type": "stream",
     "text": [
      "Processing Test Cases:  36%|███▌      | 9/25 [00:07<00:12,  1.24it/s, Success=9/25]"
     ]
    },
    {
     "name": "stdout",
     "output_type": "stream",
     "text": [
      "{\"prediction\": \"OUT_OF_SCOPE\", \"explanation\": \"The inquiry is about financial planning and tax advice, which is not directly related to immediate account management or security issues.\"}\n",
      "\n"
     ]
    },
    {
     "name": "stderr",
     "output_type": "stream",
     "text": [
      "Processing Test Cases:  40%|████      | 10/25 [00:08<00:12,  1.18it/s, Success=10/25]"
     ]
    },
    {
     "name": "stdout",
     "output_type": "stream",
     "text": [
      "{\"prediction\": \"IN_SCOPE\", \"explanation\": \"This inquiry pertains to a service request regarding the status and balance of an old account, which is within the scope of financial services assistance.\"}\n",
      "\n"
     ]
    },
    {
     "name": "stderr",
     "output_type": "stream",
     "text": [
      "Processing Test Cases:  44%|████▍     | 11/25 [00:08<00:11,  1.24it/s, Success=11/25]"
     ]
    },
    {
     "name": "stdout",
     "output_type": "stream",
     "text": [
      "{\"prediction\": \"AUTHENTICATION_SETUP\", \"explanation\": \"The inquiry is about setting up security features such as face recognition and fingerprint access, which fall under authentication setup.\"}\n",
      "\n"
     ]
    },
    {
     "name": "stderr",
     "output_type": "stream",
     "text": [
      "Processing Test Cases:  48%|████▊     | 12/25 [00:09<00:10,  1.19it/s, Success=12/25]"
     ]
    },
    {
     "name": "stdout",
     "output_type": "stream",
     "text": [
      "{\"prediction\": \"IN_SCOPE\", \"explanation\": \"The inquiry involves a service request to increase the daily transfer limit and a question about the validity of a pre-approval, both of which are within the scope of financial services assistance.\"}\n",
      "\n"
     ]
    },
    {
     "name": "stderr",
     "output_type": "stream",
     "text": [
      "Processing Test Cases:  52%|█████▏    | 13/25 [00:10<00:09,  1.22it/s, Success=13/25]"
     ]
    },
    {
     "name": "stdout",
     "output_type": "stream",
     "text": [
      "{\"prediction\": \"ESCALATION\", \"explanation\": \"This inquiry involves a potential security breach and unauthorized changes to critical account information, posing an immediate risk to the customer's financial security.\"}\n",
      "\n"
     ]
    },
    {
     "name": "stderr",
     "output_type": "stream",
     "text": [
      "Processing Test Cases:  56%|█████▌    | 14/25 [00:11<00:09,  1.18it/s, Success=14/25]"
     ]
    },
    {
     "name": "stdout",
     "output_type": "stream",
     "text": [
      "{\"prediction\": \"CONTACT_INFO_UPDATE\", \"explanation\": \"The inquiry is about updating contact information, specifically the email address and potentially the name change, which falls under contact information updates.\"}\n",
      "\n"
     ]
    },
    {
     "name": "stderr",
     "output_type": "stream",
     "text": [
      "Processing Test Cases:  60%|██████    | 15/25 [00:12<00:07,  1.33it/s, Success=15/25]"
     ]
    },
    {
     "name": "stdout",
     "output_type": "stream",
     "text": [
      "{\"prediction\": \"ESCALATION\", \"explanation\": \"The customer is expressing significant dissatisfaction with a financial decision and is requesting to speak to a manager, indicating a potential need for immediate attention and resolution.\"}\n",
      "\n"
     ]
    },
    {
     "name": "stderr",
     "output_type": "stream",
     "text": [
      "Processing Test Cases:  64%|██████▍   | 16/25 [00:12<00:07,  1.28it/s, Success=16/25]"
     ]
    },
    {
     "name": "stdout",
     "output_type": "stream",
     "text": [
      "{\"prediction\": \"IN_SCOPE\", \"explanation\": \"The inquiry is about a fee dispute, which is a service request that falls within the scope of financial services assistance.\"}\n",
      "\n"
     ]
    },
    {
     "name": "stderr",
     "output_type": "stream",
     "text": [
      "Processing Test Cases:  68%|██████▊   | 17/25 [00:13<00:05,  1.41it/s, Success=17/25]"
     ]
    },
    {
     "name": "stdout",
     "output_type": "stream",
     "text": [
      "{\"prediction\": \"CARD_DISPUTE\", \"explanation\": \"The inquiry involves unauthorized charges on the customer's card, which falls under isolated unauthorized transactions.\"}\n",
      "\n"
     ]
    },
    {
     "name": "stderr",
     "output_type": "stream",
     "text": [
      "Processing Test Cases:  72%|███████▏  | 18/25 [00:14<00:05,  1.19it/s, Success=18/25]"
     ]
    },
    {
     "name": "stdout",
     "output_type": "stream",
     "text": [
      "{\"prediction\": \"AUTHENTICATION_SETUP\", \"explanation\": \"The inquiry involves setting up or resolving verification issues to complete an international wire transfer, which is related to security features.\"}\n",
      "\n"
     ]
    },
    {
     "name": "stderr",
     "output_type": "stream",
     "text": [
      "Processing Test Cases:  76%|███████▌  | 19/25 [00:15<00:04,  1.38it/s, Success=19/25]"
     ]
    },
    {
     "name": "stdout",
     "output_type": "stream",
     "text": [
      "{\"prediction\": \"TRANSACTION_STATUS\", \"explanation\": \"The inquiry is about the status of a pending or completed transaction, specifically tracing a payment that the recipient claims not to have received.\"}\n",
      "\n"
     ]
    },
    {
     "name": "stderr",
     "output_type": "stream",
     "text": [
      "Processing Test Cases:  80%|████████  | 20/25 [00:16<00:04,  1.23it/s, Success=20/25]"
     ]
    },
    {
     "name": "stdout",
     "output_type": "stream",
     "text": [
      "{\"prediction\": \"OUT_OF_SCOPE\", \"explanation\": \"The inquiry is about bitcoin mining profitability and competitor comparison, which is unrelated to the financial services provided by the platform.\"}\n",
      "\n"
     ]
    },
    {
     "name": "stderr",
     "output_type": "stream",
     "text": [
      "Processing Test Cases:  84%|████████▍ | 21/25 [00:16<00:03,  1.31it/s, Success=21/25]"
     ]
    },
    {
     "name": "stdout",
     "output_type": "stream",
     "text": [
      "{\"prediction\": \"CONTACT_INFO_UPDATE\", \"explanation\": \"The primary request is to update both mailing and physical addresses. The mention of being locked out of mobile banking could be related to the address change, but the main focus is on updating contact information.\"}\n",
      "\n"
     ]
    },
    {
     "name": "stderr",
     "output_type": "stream",
     "text": [
      "Processing Test Cases:  88%|████████▊ | 22/25 [00:17<00:02,  1.29it/s, Success=22/25]"
     ]
    },
    {
     "name": "stdout",
     "output_type": "stream",
     "text": [
      "{\"prediction\": \"ESCALATION\", \"explanation\": \"The inquiry involves a large unexplained discrepancy and an account lockout, both of which pose immediate security risks and require urgent attention.\"}\n",
      "\n"
     ]
    },
    {
     "name": "stderr",
     "output_type": "stream",
     "text": [
      "Processing Test Cases:  92%|█████████▏| 23/25 [00:18<00:01,  1.27it/s, Success=23/25]"
     ]
    },
    {
     "name": "stdout",
     "output_type": "stream",
     "text": [
      "{\"prediction\": \"IN_SCOPE\", \"explanation\": \"This inquiry pertains to a service request related to providing documentation for financial transactions, which is within the scope of financial services assistance.\"}\n",
      "\n"
     ]
    },
    {
     "name": "stderr",
     "output_type": "stream",
     "text": [
      "Processing Test Cases:  96%|█████████▌| 24/25 [00:19<00:00,  1.30it/s, Success=24/25]"
     ]
    },
    {
     "name": "stdout",
     "output_type": "stream",
     "text": [
      "{\"prediction\": \"ESCALATION\", \"explanation\": \"The sudden and significant drop in credit score without apparent cause could indicate a potential security issue or error that needs immediate investigation.\"}\n",
      "\n"
     ]
    },
    {
     "name": "stderr",
     "output_type": "stream",
     "text": [
      "Processing Test Cases: 100%|██████████| 25/25 [00:19<00:00,  1.26it/s, Success=25/25]"
     ]
    },
    {
     "name": "stdout",
     "output_type": "stream",
     "text": [
      "{\"prediction\": \"OUT_OF_SCOPE\", \"explanation\": \"The inquiry appears to be nonsensical or unrelated to any specific financial service request or issue.\"}\n",
      "\n",
      "Results saved to ./results/test_results_20250429_125550.json\n",
      "\n",
      "Evaluation complete!\n",
      "Time taken: 0:00:19.918453\n",
      "Total test cases: 25\n",
      "Failed calls: 0\n",
      "Task success rate: 72.00%\n",
      "\n",
      "Generating feedback for prompt improvement...\n",
      "Current suggestion history length: 2855 characters\n"
     ]
    },
    {
     "name": "stderr",
     "output_type": "stream",
     "text": [
      "\n"
     ]
    },
    {
     "name": "stdout",
     "output_type": "stream",
     "text": [
      "\n",
      "===== REASONING =====\n",
      "\n",
      "\n",
      "Okay, let's tackle this problem. The user wants an analysis of the classification performance and prompt improvements based on the given evaluation results. First, I need to identify all the misclassified cases. Looking at the evaluation results, there are cases where the prediction doesn't match the ground truth. For example, case 3 was predicted as TRANSACTION_STATUS but should be IN_SCOPE. Similarly, case 9 was OUT_OF_SCOPE but should be IN_SCOPE. There are others like case 10, 14, 18, 22, and 24 with incorrect predictions.\n",
      "\n",
      "Next, grouping similar errors. Some errors involve misclassifying ESCALATION as other categories. For instance, case 14 was labeled CONTACT_INFO_UPDATE but is actually ESCALATION because the user mentions verification failed and a name change, which might indicate a security issue. Similarly, case 22 was labeled ESCALATION but should be IN_SCOPE. Wait, no—case 22's ground truth is IN_SCOPE, but prediction was ESCALATION. The explanation says there's a large discrepancy and lockout, which are escalation factors. Hmm, maybe the model is over-escalating.\n",
      "\n",
      "Another pattern: Cases where IN_SCOPE is confused with other categories. Like case 9, where the user asks about IRA conversion advice. The model said OUT_OF_SCOPE, but ground truth is IN_SCOPE. The current template's IN_SCOPE examples include service requests like adding users or fee disputes. Maybe the prompt needs to clarify that financial advice is in-scope if it's about their accounts, but IRA conversion might be considered out. Wait, the ground truth says IN_SCOPE, so the model's error here is under-inclusion.\n",
      "\n",
      "Looking at the current prompt's instructions. The categories are listed with examples. The ESCALATION category mentions immediate security risks, account lockouts, or large discrepancies. But maybe the examples aren't clear enough. For example, case 14: the user can't update email due to verification failure and a name change. The model thought it's CONTACT_INFO_UPDATE, but the ground truth is ESCALATION. The explanation says it's about updating contact info, but maybe the verification failure and name change (legal change) require escalation. The current ESCALATION examples don't cover legal name changes causing verification issues.\n",
      "\n",
      "Another error: case 10, where the user inquires about an old account from 15 years ago. The model predicted IN_SCOPE, but ground truth is ESCALATION. The explanation says it's a service request, but maybe accessing old accounts is considered a security risk. The current ESCALATION examples don't include old accounts, so the model might not recognize that as urgent.\n",
      "\n",
      "Case 22: User sees an unrecognized fee and gets locked out. The model labeled ESCALATION (correct?), but ground truth is IN_SCOPE. Wait, the ground truth is IN_SCOPE, but the explanation says it's a large discrepancy and lockout. That should be ESCALATION. Wait, the evaluation says ground truth is IN_SCOPE, but the prediction was ESCALATION. So the model over-escalated here. The current ESCALATION criteria include account lockouts and large discrepancies. So why is the ground truth IN_SCOPE? Maybe the fee dispute is considered a service request, but the lockout should trigger escalation. The current prompt's ESCALATION includes account lockouts, so the model's prediction was correct, but the ground truth is wrong? Or maybe the ground truth is correct, and the model is wrong. Wait, the case says the user got locked out after disputing a fee. The ground truth is IN_SCOPE, but the model's explanation says it's a security risk. So the model is over-escalating here. The current prompt's ESCALATION includes account lockouts, so the model is following that, but the ground truth says it's IN_SCOPE. That's conflicting. Maybe the ground truth is incorrect, but assuming it's correct, the model is misclassifying.\n",
      "\n",
      "So the main issues are:\n",
      "\n",
      "1. ESCALATION vs. other categories: The model sometimes misses escalation when there's a security risk (like case 14) or over-escalates (case 22).\n",
      "\n",
      "2. IN_SCOPE boundaries: Cases like case 9 (IRA advice) are considered IN_SCOPE, but the model thought OUT. The current IN_SCOPE examples include fee disputes and application status. Maybe the prompt needs to clarify that financial planning related to their accounts is in-scope, but general advice (like IRA conversion) is out. But the ground truth says it's IN_SCOPE, so the model's error here is not recognizing that as a service request.\n",
      "\n",
      "3. CARD_DISPUTE vs. ESCALATION: For example, case 14's ground truth is ESCALATION, but the model thought CONTACT_INFO_UPDATE. The user's email change verification failed, and they mention a name change. Maybe the name change requires escalation due to identity verification issues.\n",
      "\n",
      "Looking at the current prompt's ESCALATION examples: \"Someone is withdrawing money while I’m abroad\", account lockouts, large discrepancies. But maybe the examples don't cover scenarios like verification failures due to legal name changes, which could be a security issue.\n",
      "\n",
      "Another example: case 18, where the user can't complete an international wire transfer due to verification errors. The model labeled AUTHENTICATION_SETUP, but ground truth is IN_SCOPE. The current IN_SCOPE includes service requests like adding users. Maybe the model is confused because the user is having trouble with authentication setup (verification required), but the actual request is to complete a transfer. The current AUTHENTICATION_SETUP is for setting up security features, but the user is trying to perform a transaction that's blocked by authentication issues. So maybe the model is misclassifying because the user's issue is with authentication during a transaction, not setting up the feature.\n",
      "\n",
      "So the root causes are:\n",
      "\n",
      "- Ambiguous boundaries between ESCALATION and other categories. The current ESCALATION examples may not cover all security-related issues, leading to under-escalation.\n",
      "\n",
      "- Overlapping definitions between IN_SCOPE and other categories. For example, case 9's IRA advice is considered IN_SCOPE, but the model thought OUT. The current IN_SCOPE examples might not include financial planning advice, leading the model to misclassify.\n",
      "\n",
      "- The current prompt's examples for ESCALATION might not include scenarios like verification failures due to legal name changes, which could be security risks.\n",
      "\n",
      "- The model might be over-escalating when there's a lockout (case 22) but the ground truth says it's IN_SCOPE. Wait, but the ground truth for case 22 is IN_SCOPE. The user's account is locked after disputing a fee. The model's explanation says it's a security risk, which would be ESCALATION. So maybe the ground truth is incorrect, but assuming it's correct, the model is wrong. Alternatively, maybe the fee dispute is IN_SCOPE, but the lockout should trigger ESCALATION. The current ESCALATION includes account lockouts, so the model's prediction is correct, but the ground truth is wrong. Hmm, this is conflicting.\n",
      "\n",
      "Wait, looking at case 22:\n",
      "\n",
      "User Inquiry: \"I logged in this morning and saw a 50 dollar 'account research fee' that I don't recognize. When I tried to dispute it through the app, I got locked out completely.\"\n",
      "\n",
      "Ground Truth: IN_SCOPE\n",
      "\n",
      "Prediction: ESCALATION\n",
      "\n",
      "The model's explanation says it's a large discrepancy and account lockout. According to the current ESCALATION criteria (account lockouts), this should be ESCALATION. So the model is correct, but the ground truth is wrong? Or maybe the ground truth considers the fee dispute as IN_SCOPE, but the lockout is part of it. But the current ESCALATION includes account lockouts, so the model's prediction is correct. This suggests a possible error in the ground truth, but assuming the ground truth is correct, the model is over-escalating.\n",
      "\n",
      "Alternatively, maybe the fee dispute is considered a service request (IN_SCOPE), but the lockout is a separate issue. The current ESCALATION includes account lockouts, so the model should have classified it as ESCALATION. But the ground truth says IN_SCOPE. This is a discrepancy. Maybe the ground truth is incorrect here, but the model's prediction is correct. However, the user's case includes both a fee dispute and a lockout. The fee dispute is IN_SCOPE, but the lockout is ESCALATION. So perhaps the model should have considered both, but the ground truth is IN_SCOPE. This is confusing.\n",
      "\n",
      "But according to the current categories, ESCALATION includes account lockouts. So the model's prediction is correct. But the ground truth says IN_SCOPE. Maybe the ground truth is wrong, but the user's explanation in the evaluation says the model's explanation is incorrect. Wait, the case's ground truth is IN_SCOPE, but the model's prediction is ESCALATION. The model's explanation is that it's a security risk. So the model is following the ESCALATION criteria (account lockout), but the ground truth says it's IN_SCOPE. That suggests that the ground truth might be incorrect, but assuming it's correct, the model is wrong. Alternatively, maybe the fee dispute is the main issue, and the lockout is a secondary effect, so it's considered IN_SCOPE. But the current ESCALATION includes account lockouts, so the model should have classified it as ESCALATION.\n",
      "\n",
      "This is a possible ambiguity in the ground truth. But moving on, perhaps the model's prompt needs to clarify when to prioritize ESCALATION over other categories.\n",
      "\n",
      "Another error: case 14. User can't update email due to verification failure and name change. The model thought CONTACT_INFO_UPDATE, but ground truth is ESCALATION. The explanation says it's about updating contact info, but the name change (legal) might require escalation. The current ESCALATION examples don't include legal name changes causing verification issues. So the model didn't recognize that as a security risk.\n",
      "\n",
      "So, to improve the prompt:\n",
      "\n",
      "1. Clarify ESCALATION criteria to include scenarios like legal name changes causing verification failures, which could indicate identity theft or fraud.\n",
      "\n",
      "2. Provide more examples for ESCALATION that cover different types of security risks beyond the current examples.\n",
      "\n",
      "3. Clarify the boundaries between IN_SCOPE and OUT_OF_SCOPE. For example, case 9's IRA advice is considered IN_SCOPE. The current IN_SCOPE examples include fee disputes and application status. Maybe add examples like financial planning related to account services (e.g., \"Should I convert my IRA?\") to show that such inquiries are in-scope.\n",
      "\n",
      "4. Differentiate between AUTHENTICATION_SETUP and IN_SCOPE. For case 18, the user is trying to perform a transaction blocked by authentication, not setting up the feature. So the model might be confused. The current AUTHENTICATION_SETUP is for setting up security features. So the prompt should clarify that issues during transactions due to authentication are not AUTHENTICATION_SETUP but perhaps TRANSACTION_STATUS or IN_SCOPE.\n",
      "\n",
      "5. Emphasize that ESCALATION should be used for any immediate security risks, including account lockouts, unauthorized access, and significant discrepancies, even if part of another category.\n",
      "\n",
      "Looking at the current prompt's ESCALATION examples: \"Someone is withdrawing money while I’m abroad\", account lockouts, large discrepancies. Maybe add examples like \"I can't access my account after a legal name change\" or \"My account was accessed from a foreign country while I'm home\".\n",
      "\n",
      "Also, the current IN_SCOPE examples include \"Fee dispute explanations\". So case 16 (fee dispute) is correctly classified. But case 22's fee dispute with lockout is misclassified. So the model needs to recognize that even if the main issue is a fee dispute (IN_SCOPE), the presence of a lockout (ESCALATION) should take precedence.\n",
      "\n",
      "So the prompt should instruct that if any part of the inquiry involves ESCALATION criteria (like lockout), it should be classified as ESCALATION, even if there's another category involved.\n",
      "\n",
      "Another point: the current prompt's ESCALATION includes \"large unexplained discrepancies\". Case 8 is correctly classified as ESCALATION. But case 22's fee is a discrepancy, but the model's prediction was ESCALATION (correct), but ground truth is IN_SCOPE. So maybe the ground truth is wrong here.\n",
      "\n",
      "But assuming the ground truth is correct, the model is over-escalating. So perhaps the prompt needs to clarify when a discrepancy is considered \"large\" enough for ESCALATION.\n",
      "\n",
      "Alternatively, maybe the model is not properly distinguishing between a fee dispute (IN_SCOPE) and a large discrepancy (ESCALATION). The current ESCALATION includes large discrepancies, so if the fee is a large discrepancy, it's ESCALATION. But the ground truth says it's IN_SCOPE. This suggests a possible error in the ground truth.\n",
      "\n",
      "But moving on, the main improvements needed are:\n",
      "\n",
      "- Clarify ESCALATION criteria with more examples, including scenarios like legal name changes causing verification issues, account access from abroad, etc.\n",
      "\n",
      "- Emphasize that ESCALATION takes precedence over other categories if any security risk is present.\n",
      "\n",
      "- Expand IN_SCOPE examples to include financial planning inquiries related to account services.\n",
      "\n",
      "- Clarify the difference between AUTHENTICATION_SETUP (setting up features) and issues during transactions (which might be TRANSACTION_STATUS or IN_SCOPE).\n",
      "\n",
      "So, the revised prompt should:\n",
      "\n",
      "1. Add more examples to ESCALATION, such as \"I can't access my account after a legal name change\" or \"My account shows activity in another country while I'm home\".\n",
      "\n",
      "2. State that ESCALATION should be chosen if any part of the inquiry involves immediate security risks, even if other categories are mentioned.\n",
      "\n",
      "3. Expand IN_SCOPE examples to include financial advice related to account services (e.g., \"Should I add an authorized user?\" or \"What's the status of my IRA conversion request?\").\n",
      "\n",
      "4. Clarify that AUTHENTICATION_SETUP is for setting up security features, not for issues encountered during transactions that require authentication.\n",
      "\n",
      "Additionally, the current prompt's explanation requirement says to consider urgency or security factors for ESCALATION. Maybe make that more explicit in the category definitions.\n",
      "\n",
      "For example, in the ESCALATION category, add a note: \"Prioritize this category if any part of the inquiry indicates immediate security threats or urgent access needs.\"\n",
      "\n",
      "Also, in the IN_SCOPE category, clarify that it includes service requests even if they involve financial planning or account-related advice.\n",
      "\n",
      "Another example: case 10's ground truth is ESCALATION. The user is asking about an old account from 15 years ago. The model thought it's IN_SCOPE. The current ESCALATION examples don't include old accounts. So adding an example like \"Inquiries about dormant accounts or old statements\" under ESCALATION might help.\n",
      "\n",
      "But why is that ESCALATION? Maybe because accessing old accounts could be a security risk, or it's considered out of normal service. The current OUT_OF_SCOPE is for unrelated topics. So perhaps the model needs to recognize that old accounts are a special case requiring escalation.\n",
      "\n",
      "Alternatively, maybe the ground truth for case 10 is incorrect, but assuming it's correct, the prompt should include examples of old accounts under ESCALATION.\n",
      "\n",
      "So, the revised ESCALATION examples could include:\n",
      "\n",
      "- \"Unauthorized access to my account while traveling abroad\"\n",
      "- \"Account lockouts or multiple failed login attempts\"\n",
      "- \"Large unexplained discrepancies in account balance\"\n",
      "- \"Inquiries about dormant accounts or old statements (e.g., 15 years ago)\"\n",
      "- \"Verification failures after legal name changes or other identity-related issues\"\n",
      "\n",
      "This would help the model recognize case 10 and case 14 as ESCALATION.\n",
      "\n",
      "For the IN_SCOPE category, adding examples like \"Financial planning advice related to account services (e.g., IRA conversion, investment options)\" would help with case 9.\n",
      "\n",
      "Another point: case 3 was misclassified as TRANSACTION_STATUS. The user asked about application status. The current TRANSACTION_STATUS is for pending transactions. The model might have confused application status with transaction status. So the prompt should clarify that application status is IN_SCOPE, not TRANSACTION_STATUS.\n",
      "\n",
      "So, in the TRANSACTION_STATUS category, the example is \"questions about pending transactions\". The user's inquiry about application status is a service request (IN_SCOPE), so the model needs to differentiate.\n",
      "\n",
      "Thus, adding a note in TRANSACTION_STATUS that it's specifically for financial transactions, not application statuses.\n",
      "\n",
      "In summary, the key improvements are:\n",
      "\n",
      "- Expand ESCALATION examples to cover more security scenarios.\n",
      "- Clarify that ESCALATION takes priority over other categories.\n",
      "- Expand IN_SCOPE examples to include financial planning related to accounts.\n",
      "- Differentiate TRANSACTION_STATUS from application status.\n",
      "- Clarify AUTHENTICATION_SETUP vs. transaction issues.\n",
      "\n",
      "\n",
      "\n",
      "===== RESPONSE =====\n",
      "\n",
      "\n",
      "**Error Pattern Analysis:**\n",
      "\n",
      "1. **Misclassified Cases:**\n",
      "   - **Case 3**: Predicted `TRANSACTION_STATUS` (application status query) → Should be `IN_SCOPE`.\n",
      "   - **Case 9**: Predicted `OUT_OF_SCOPE` (IRA conversion advice) → Should be `IN_SCOPE`.\n",
      "   - **Case 10**: Predicted `IN_SCOPE` (old account inquiry) → Should be `ESCALATION`.\n",
      "   - **Case 14**: Predicted `CONTACT_INFO_UPDATE` (verification failure + name change) → Should be `ESCALATION`.\n",
      "   - **Case 18**: Predicted `AUTHENTICATION_SETUP` (wire transfer error) → Should be `IN_SCOPE`.\n",
      "   - **Case 22**: Predicted `ESCALATION` (fee dispute + lockout) → Ground truth `IN_SCOPE` (possible ground truth error, but model over-escalated).\n",
      "   - **Case 24**: Predicted `ESCALATION` (credit score drop) → Should be `IN_SCOPE`.\n",
      "\n",
      "**Root Cause Investigation:**\n",
      "- **Escalation Ambiguity**: The prompt lacks clarity on security risks like legal name changes (Case 14) or dormant account inquiries (Case 10).\n",
      "- **IN_SCOPE Boundaries**: Financial advice (Case 9) or non-transaction service requests (Case 18) are misclassified due to insufficient examples.\n",
      "- **Overlapping Definitions**: `TRANSACTION_STATUS` vs. application status (Case 3) and `AUTHENTICATION_SETUP` vs. transactional authentication issues (Case 18).\n",
      "\n",
      "**Prompt Improvement Suggestions:**\n",
      "\n",
      "1. **Expand ESCALATION Examples**:\n",
      "   - Add scenarios like identity verification failures post-legal changes, dormant account inquiries, and unauthorized access patterns:\n",
      "     ```json\n",
      "     \"ESCALATION\": \"For immediate security risks (e.g., 'Unauthorized access abroad,' 'Account lockouts,' 'Large discrepancies,' 'Verification failures after legal name changes,' 'Inquiries about dormant accounts >5 years old').\"\n",
      "     ```\n",
      "\n",
      "2. **Clarify IN_SCOPE Scope**:\n",
      "   - Include financial planning/advice tied to account services:\n",
      "     ```json\n",
      "     \"IN_SCOPE\": \"For service requests (e.g., 'Add authorized user,' 'Application status,' 'Fee disputes,' 'Financial planning related to account services like IRA conversions').\"\n",
      "     ```\n",
      "\n",
      "3. **Differentiate TRANSACTION_STATUS**:\n",
      "   - Specify it excludes non-financial transactions:\n",
      "     ```json\n",
      "     \"TRANSACTION_STATUS\": \"For pending financial transactions only (e.g., 'Payment status'). Excludes application/service statuses.\"\n",
      "     ```\n",
      "\n",
      "4. **Refine AUTHENTICATION_SETUP**:\n",
      "   - Clarify it’s for feature setup, not transactional issues:\n",
      "     ```json\n",
      "     \"AUTHENTICATION_SETUP\": \"For enabling security features (e.g., 'Set up fingerprint access'). Excludes authentication failures during transactions.\"\n",
      "     ```\n",
      "\n",
      "5. **Emphasize Hierarchy**:\n",
      "   - Add a note prioritizing ESCALATION:\n",
      "     ```json\n",
      "     \"Note: If any part of the inquiry involves security risks or urgent access needs, classify as ESCALATION.\"\n",
      "     ```\n",
      "\n",
      "**Revised Template Snippet:**\n",
      "```json\n",
      "\"ESCALATION\": \"For immediate threats (e.g., 'Fraudulent activity abroad,' 'Account lockouts,' 'Unexplained large discrepancies,' 'Post-legal-change verification failures,' 'Dormant account checks').\",\n",
      "\"IN_SCOPE\": \"For account-related service requests (e.g., 'Add user,' 'Application status,' 'Fee disputes,' 'IRA conversion advice tied to accounts').\",\n",
      "\"TRANSACTION_STATUS\": \"For financial transaction tracking only. Excludes service requests.\"\n",
      "```\n",
      "\n",
      "**Key Fixes:**\n",
      "- Disambiguate security risks with expanded examples.\n",
      "- Strengthen IN_SCOPE with financial planning inclusions.\n",
      "- Clarify category boundaries to prevent overlaps.\n",
      "\n",
      "\n",
      "\n",
      "===== TOKEN USAGE =====\n",
      "{'inputTokens': 4627, 'outputTokens': 4734, 'totalTokens': 9361}\n",
      "Updated suggestion history (now 6307 characters)\n",
      "Feedback generated.\n",
      "Time taken: 0:01:47.052392\n",
      "Generating improved prompt...\n",
      "{\n",
      "    \"root_cause\": \"Misclassified cases due to escalation ambiguity, unclear IN_SCOPE boundaries, and overlapping definitions. Specifically, cases involving security risks, financial advice, and transactional vs. non-transactional authentication issues were misclassified.\",\n",
      "    \"improved_template\": \"You are a Financial Services Assistant. Classify each customer inquiry into one of these categories:\\n\\nACKNOWLEDGEMENT - For greetings and thanks\\nPASSWORD_RESET - For password issues\\nCONTACT_INFO_UPDATE - For updating contact information\\nPIN_RESET - For PIN number issues\\nTRANSACTION_STATUS - For pending financial transactions only. Excludes application/service statuses.\\nAUTHENTICATION_SETUP - For enabling security features (e.g., 'Set up fingerprint access'). Excludes authentication failures during transactions.\\nCARD_DISPUTE - For isolated unauthorized charges (e.g., 'Charges at gas stations I didn’t visit')\\nESCALATION - For immediate threats (e.g., 'Fraudulent activity abroad,' 'Account lockouts,' 'Unexplained large discrepancies,' 'Post-legal-change verification failures,' 'Dormant account checks')\\nIN_SCOPE - For account-related service requests (e.g., 'Add user,' 'Application status,' 'Fee disputes,' 'IRA conversion advice tied to accounts')\\nOUT_OF_SCOPE - For unrelated topics\\n\\nNote: If any part of the inquiry involves security risks or urgent access needs, classify as ESCALATION.\\n\\n### Output Format:\\nDirectly output in json. \\n```json\\n{\\\"prediction\\\": \\\"ONE classified category\\\", \\\"explanation\\\": \\\"brief reason for the classification, considering urgency or security factors for ESCALATION\\\"}\\n```\\n\\n### User Inquiry:\\n${user_question}.\"\n",
      "}\n",
      "\n",
      "Improved prompt created.\n",
      "Time taken: 0:00:03.548836\n",
      "\n",
      "===== IMPROVED TEMPLATE =====\n",
      "You are a Financial Services Assistant. Classify each customer inquiry into one of these categories:\n",
      "\n",
      "ACKNOWLEDGEMENT - For greetings and thanks\n",
      "PASSWORD_RESET - For password issues\n",
      "CONTACT_INFO_UPDATE - For updating contact information\n",
      "PIN_RESET - For PIN number issues\n",
      "TRANSACTION_STATUS - For pending financial transactions only. Excludes application/service statuses.\n",
      "AUTHENTICATION_SETUP - For enabling security features (e.g., 'Set up fingerprint access'). Excludes authentication failures during transactions.\n",
      "CARD_DISPUTE - For isolated unauthorized charges (e.g., 'Charges at gas stations I didn’t visit')\n",
      "ESCALATION - For immediate threats (e.g., 'Fraudulent activity abroad,' 'Account lockouts,' 'Unexplained large discrepancies,' 'Post-legal-change verification failures,' 'Dormant account checks')\n",
      "IN_SCOPE - For account-related service requests (e.g., 'Add user,' 'Application status,' 'Fee disputes,' 'IRA conversion advice tied to accounts')\n",
      "OUT_OF_SCOPE - For unrelated topics\n",
      "\n",
      "Note: If any part of the inquiry involves security risks or urgent access needs, classify as ESCALATION.\n",
      "\n",
      "### Output Format:\n",
      "Directly output in json. \n",
      "```json\n",
      "{\"prediction\": \"ONE classified category\", \"explanation\": \"brief reason for the classification, considering urgency or security factors for ESCALATION\"}\n",
      "```\n",
      "\n",
      "### User Inquiry:\n",
      "${user_question}.\n",
      "============================\n",
      "\n",
      "\n",
      "\n",
      "======== ITERATION 3/5 ========\n",
      "\n",
      "Starting evaluation...\n"
     ]
    },
    {
     "name": "stderr",
     "output_type": "stream",
     "text": [
      "Processing Test Cases:   4%|▍         | 1/25 [00:01<00:28,  1.19s/it, Success=1/25]"
     ]
    },
    {
     "name": "stdout",
     "output_type": "stream",
     "text": [
      "{\"prediction\": \"ESCALATION\", \"explanation\": \"The inquiry involves both a verification failure and a suspicious text message asking for personal details, indicating potential security risks and urgent access needs.\"}\n",
      "\n"
     ]
    },
    {
     "name": "stderr",
     "output_type": "stream",
     "text": [
      "Processing Test Cases:   8%|▊         | 2/25 [00:01<00:19,  1.16it/s, Success=2/25]"
     ]
    },
    {
     "name": "stdout",
     "output_type": "stream",
     "text": [
      "{\"prediction\": \"ESCALATION\", \"explanation\": \"The inquiry involves both a PIN reset and an update to contact information, which are critical for account security. Additionally, the informal language and combination of requests could indicate a potential security risk, hence it is classified as ESCALATION to ensure proper handling.\"}\n",
      "\n"
     ]
    },
    {
     "name": "stderr",
     "output_type": "stream",
     "text": [
      "Processing Test Cases:  12%|█▏        | 3/25 [00:02<00:18,  1.22it/s, Success=3/25]"
     ]
    },
    {
     "name": "stdout",
     "output_type": "stream",
     "text": [
      "{\"prediction\": \"IN_SCOPE\", \"explanation\": \"The inquiry is about the status of an application, which is an account-related service request.\"}\n",
      "\n"
     ]
    },
    {
     "name": "stderr",
     "output_type": "stream",
     "text": [
      "Processing Test Cases:  16%|█▌        | 4/25 [00:03<00:17,  1.18it/s, Success=4/25]"
     ]
    },
    {
     "name": "stdout",
     "output_type": "stream",
     "text": [
      "{\"prediction\": \"ESCALATION\", \"explanation\": \"The inquiry involves multiple failed withdrawal attempts at different ATMs, indicating potential fraudulent activity. Additionally, the customer is traveling abroad, which adds urgency to the situation. This requires immediate attention to secure the account and prevent further unauthorized access.\"}\n",
      "\n"
     ]
    },
    {
     "name": "stderr",
     "output_type": "stream",
     "text": [
      "Processing Test Cases:  20%|██        | 5/25 [00:04<00:17,  1.16it/s, Success=5/25]"
     ]
    },
    {
     "name": "stdout",
     "output_type": "stream",
     "text": [
      "{\"prediction\": \"CARD_DISPUTE\", \"explanation\": \"The inquiry involves unauthorized small charges, which suggests potential fraudulent activity, though not immediately threatening. It fits the CARD_DISPUTE category as it deals with isolated unauthorized charges.\"}\n",
      "\n"
     ]
    },
    {
     "name": "stderr",
     "output_type": "stream",
     "text": [
      "Processing Test Cases:  24%|██▍       | 6/25 [00:05<00:16,  1.14it/s, Success=6/25]"
     ]
    },
    {
     "name": "stdout",
     "output_type": "stream",
     "text": [
      "{\"prediction\": \"ESCALATION\", \"explanation\": \"The inquiry involves an urgent access need due to the card being retained by the ATM and the customer having an important business trip tomorrow. This situation requires immediate attention to resolve the issue and restore access to funds.\"}\n",
      "\n"
     ]
    },
    {
     "name": "stderr",
     "output_type": "stream",
     "text": [
      "Processing Test Cases:  28%|██▊       | 7/25 [00:05<00:14,  1.28it/s, Success=7/25]"
     ]
    },
    {
     "name": "stdout",
     "output_type": "stream",
     "text": [
      "{\"prediction\": \"IN_SCOPE\", \"explanation\": \"The inquiry is about adding an authorized user to the account, which is a service request related to account management.\"}\n",
      "\n"
     ]
    },
    {
     "name": "stderr",
     "output_type": "stream",
     "text": [
      "Processing Test Cases:  32%|███▏      | 8/25 [00:06<00:14,  1.19it/s, Success=8/25]"
     ]
    },
    {
     "name": "stdout",
     "output_type": "stream",
     "text": [
      "{\"prediction\": \"ESCALATION\", \"explanation\": \"The inquiry indicates a significant unexplained discrepancy in the account balance, which poses a potential security risk and requires immediate attention.\"}\n",
      "\n"
     ]
    },
    {
     "name": "stderr",
     "output_type": "stream",
     "text": [
      "Processing Test Cases:  36%|███▌      | 9/25 [00:07<00:12,  1.28it/s, Success=9/25]"
     ]
    },
    {
     "name": "stdout",
     "output_type": "stream",
     "text": [
      "{\"prediction\": \"IN_SCOPE\", \"explanation\": \"The inquiry is related to account-related service requests, specifically seeking advice on IRA conversion tied to accounts.\"}\n",
      "\n"
     ]
    },
    {
     "name": "stderr",
     "output_type": "stream",
     "text": [
      "Processing Test Cases:  40%|████      | 10/25 [00:08<00:12,  1.16it/s, Success=10/25]"
     ]
    },
    {
     "name": "stdout",
     "output_type": "stream",
     "text": [
      "{\"prediction\": \"ESCALATION\", \"explanation\": \"The inquiry involves a dormant account check, which may require special handling and verification due to potential security and legal implications.\"}\n",
      "\n"
     ]
    },
    {
     "name": "stderr",
     "output_type": "stream",
     "text": [
      "Processing Test Cases:  44%|████▍     | 11/25 [00:09<00:10,  1.29it/s, Success=11/25]"
     ]
    },
    {
     "name": "stdout",
     "output_type": "stream",
     "text": [
      "{\"prediction\": \"AUTHENTICATION_SETUP\", \"explanation\": \"The inquiry is about setting up security features such as face recognition and fingerprint access, which falls under authentication setup.\"}\n",
      "\n"
     ]
    },
    {
     "name": "stderr",
     "output_type": "stream",
     "text": [
      "Processing Test Cases:  48%|████▊     | 12/25 [00:10<00:12,  1.06it/s, Success=12/25]"
     ]
    },
    {
     "name": "stdout",
     "output_type": "stream",
     "text": [
      "{\"prediction\": \"IN_SCOPE\", \"explanation\": \"The inquiry involves a request to increase the daily transfer limit, which is an account-related service request, and a question about the validity of a pre-approval, which is also related to account services.\"}\n",
      "\n"
     ]
    },
    {
     "name": "stderr",
     "output_type": "stream",
     "text": [
      "Processing Test Cases:  52%|█████▏    | 13/25 [00:10<00:09,  1.31it/s, Success=13/25]"
     ]
    },
    {
     "name": "stdout",
     "output_type": "stream",
     "text": [
      "{\"prediction\": \"ESCALATION\", \"explanation\": \"The inquiry involves unauthorized changes to direct deposit account information, which poses a security risk and requires immediate attention to prevent financial loss.\"}\n",
      "\n"
     ]
    },
    {
     "name": "stderr",
     "output_type": "stream",
     "text": [
      "Processing Test Cases:  56%|█████▌    | 14/25 [00:12<00:10,  1.08it/s, Success=14/25]"
     ]
    },
    {
     "name": "stdout",
     "output_type": "stream",
     "text": [
      "{\"prediction\": \"ESCALATION\", \"explanation\": \"The inquiry involves a potential security risk due to the mention of a recent legal name change, which could affect account verification processes. This requires immediate attention to ensure the customer's account security and proper verification.\"}\n",
      "\n"
     ]
    },
    {
     "name": "stderr",
     "output_type": "stream",
     "text": [
      "Processing Test Cases:  60%|██████    | 15/25 [00:12<00:07,  1.26it/s, Success=15/25]"
     ]
    },
    {
     "name": "stdout",
     "output_type": "stream",
     "text": [
      "{\"prediction\": \"ESCALATION\", \"explanation\": \"The inquiry involves a significant financial loss and a request to speak to a manager, indicating a high level of dissatisfaction and urgency.\"}\n",
      "\n"
     ]
    },
    {
     "name": "stderr",
     "output_type": "stream",
     "text": [
      "Processing Test Cases:  64%|██████▍   | 16/25 [00:13<00:07,  1.18it/s, Success=16/25]"
     ]
    },
    {
     "name": "stdout",
     "output_type": "stream",
     "text": [
      "{\"prediction\": \"IN_SCOPE\", \"explanation\": \"The inquiry is about a fee dispute related to the customer's checking account, which falls under account-related service requests.\"}\n",
      "\n"
     ]
    },
    {
     "name": "stderr",
     "output_type": "stream",
     "text": [
      "Processing Test Cases:  68%|██████▊   | 17/25 [00:14<00:06,  1.29it/s, Success=17/25]"
     ]
    },
    {
     "name": "stdout",
     "output_type": "stream",
     "text": [
      "{\"prediction\": \"CARD_DISPUTE\", \"explanation\": \"The inquiry involves unauthorized charges on the customer's card, which falls under isolated unauthorized charges.\"}\n",
      "\n"
     ]
    },
    {
     "name": "stderr",
     "output_type": "stream",
     "text": [
      "Processing Test Cases:  72%|███████▏  | 18/25 [00:15<00:06,  1.11it/s, Success=18/25]"
     ]
    },
    {
     "name": "stdout",
     "output_type": "stream",
     "text": [
      "{\"prediction\": \"ESCALATION\", \"explanation\": \"The inquiry involves an urgent need for international funds transfer and mentions an error about 'verification required', which could indicate a potential security issue or account access problem. This requires immediate attention.\"}\n",
      "\n"
     ]
    },
    {
     "name": "stderr",
     "output_type": "stream",
     "text": [
      "Processing Test Cases:  76%|███████▌  | 19/25 [00:15<00:04,  1.36it/s, Success=19/25]"
     ]
    },
    {
     "name": "stdout",
     "output_type": "stream",
     "text": [
      "{\"prediction\": \"TRANSACTION_STATUS\", \"explanation\": \"The inquiry is about tracing a pending financial transaction, which falls under TRANSACTION_STATUS.\"}\n",
      "\n"
     ]
    },
    {
     "name": "stderr",
     "output_type": "stream",
     "text": [
      "Processing Test Cases:  80%|████████  | 20/25 [00:16<00:04,  1.13it/s, Success=20/25]"
     ]
    },
    {
     "name": "stdout",
     "output_type": "stream",
     "text": [
      "{\"prediction\": \"OUT_OF_SCOPE\", \"explanation\": \"The inquiry is about bitcoin mining profitability and competitor comparison, which is unrelated to the customer's account or services provided by the financial institution.\"}\n",
      "\n"
     ]
    },
    {
     "name": "stderr",
     "output_type": "stream",
     "text": [
      "Processing Test Cases:  84%|████████▍ | 21/25 [00:17<00:02,  1.41it/s, Success=21/25]"
     ]
    },
    {
     "name": "stdout",
     "output_type": "stream",
     "text": [
      "{\"prediction\": \"ESCALATION\", \"explanation\": \"The inquiry involves updating contact information which is critical for security, coupled with an account lockout issue, indicating an urgent access need.\"}\n",
      "\n"
     ]
    },
    {
     "name": "stderr",
     "output_type": "stream",
     "text": [
      "Processing Test Cases:  92%|█████████▏| 23/25 [00:18<00:01,  1.15it/s, Success=23/25]"
     ]
    },
    {
     "name": "stdout",
     "output_type": "stream",
     "text": [
      "{\"prediction\": \"IN_SCOPE\", \"explanation\": \"The inquiry is related to providing documentation for account-related service, which falls under account-related service requests.\"}\n",
      "\n",
      "{\"prediction\": \"ESCALATION\", \"explanation\": \"The inquiry involves an unrecognized fee and subsequent account lockout, which indicates potential fraudulent activity and an urgent access issue.\"}\n",
      "\n"
     ]
    },
    {
     "name": "stderr",
     "output_type": "stream",
     "text": [
      "Processing Test Cases:  96%|█████████▌| 24/25 [00:19<00:00,  1.33it/s, Success=24/25]"
     ]
    },
    {
     "name": "stdout",
     "output_type": "stream",
     "text": [
      "{\"prediction\": \"OUT_OF_SCOPE\", \"explanation\": \"The inquiry appears to be nonsensical and does not relate to any specific financial service or request.\"}\n",
      "\n"
     ]
    },
    {
     "name": "stderr",
     "output_type": "stream",
     "text": [
      "Processing Test Cases: 100%|██████████| 25/25 [00:20<00:00,  1.24it/s, Success=25/25]"
     ]
    },
    {
     "name": "stdout",
     "output_type": "stream",
     "text": [
      "{\"prediction\": \"ESCALATION\", \"explanation\": \"The sudden and significant drop in credit score without apparent cause indicates a potential security risk or error that needs immediate attention.\"}\n",
      "\n",
      "Results saved to ./results/test_results_20250429_125801.json\n",
      "\n",
      "Evaluation complete!\n",
      "Time taken: 0:00:20.085160\n",
      "Total test cases: 25\n",
      "Failed calls: 0\n",
      "Task success rate: 80.00%\n",
      "\n",
      "Generating feedback for prompt improvement...\n",
      "Current suggestion history length: 6307 characters\n"
     ]
    },
    {
     "name": "stderr",
     "output_type": "stream",
     "text": [
      "\n"
     ]
    },
    {
     "name": "stdout",
     "output_type": "stream",
     "text": [
      "\n",
      "===== REASONING =====\n",
      "\n",
      "\n",
      "Okay, let's tackle this problem. The user wants an analysis of the classification performance and prompt improvements based on the given evaluation results. The current template has some issues leading to misclassifications, especially with ESCALATION and other categories.\n",
      "\n",
      "First, I need to identify the error patterns. Looking at the evaluation results, there are 6 cases where the prediction was wrong. For example, case 1 was classified as ESCALATION instead of PIN_RESET. The explanation there mentions security risks due to informal language and combining requests. But the ground truth is PIN_RESET, so maybe the model over-escalated here.\n",
      "\n",
      "Another error is case 18, where the user can't complete an international wire transfer due to verification errors. The model labeled it ESCALATION, but the ground truth is IN_SCOPE. The explanation says it's urgent and might be a security issue, but maybe the model is too aggressive in escalating.\n",
      "\n",
      "Case 21 involves updating contact info and being locked out. The model called it ESCALATION (correct), but the ground truth is CONTACT_INFO_UPDATE. Wait, the ground truth here is CONTACT_INFO_UPDATE, but the user is also locked out. The note says if any part involves security risks or urgent access, classify as ESCALATION. So maybe the ground truth is wrong here, but according to the current rules, the model's prediction is correct. Wait, but the case is marked as task_succeed: false, meaning the model's prediction was wrong. Hmm, maybe the ground truth is incorrect, but we have to take it as given. So the model's error here is classifying as ESCALATION when the ground truth is CONTACT_INFO_UPDATE. But according to the note, the lockout should trigger ESCALATION. So maybe the ground truth is wrong, but the model followed the note. But the evaluation says the model's prediction is wrong. So perhaps the note is causing over-escalation.\n",
      "\n",
      "Case 22: Unrecognized fee and account lockout. Model says ESCALATION, ground truth IN_SCOPE. The explanation mentions potential fraud and lockout, which should be ESCALATION. So maybe the ground truth is wrong here, but according to the note, it should be ESCALATION. But the case is marked as a failure. So perhaps the model is correct, but the ground truth is wrong. But the user's instruction says to focus on the explanation and critique incorrect explanations.\n",
      "\n",
      "Looking at the error patterns, the main issues are:\n",
      "\n",
      "1. Over-escalation: Cases where the model escalates when maybe it's not necessary (e.g., case 1, case 21, case 22).\n",
      "\n",
      "Wait, case 1's ground truth is PIN_RESET. The user wants to change PIN and update contact info. The model escalated because of \"critical for account security\" and informal language. But according to the categories, PIN_RESET is a separate category. The note says if any part involves security risks, escalate. But changing PIN is a standard request. Maybe the model is misinterpreting the combination of requests as a security risk.\n",
      "\n",
      "Case 21: The user wants to update contact info and is locked out. The model escalated, but ground truth is CONTACT_INFO_UPDATE. The note says if there's urgent access (like lockout), escalate. So the model is correct here, but the ground truth is wrong. But according to the evaluation, the model's prediction is wrong. So maybe the note is causing confusion.\n",
      "\n",
      "Case 22: Unrecognized fee and lockout. The model escalated, but ground truth is IN_SCOPE. The explanation says potential fraud and lockout, which should be ESCALATION. So maybe the ground truth is wrong here. But the case is marked as a failure. So perhaps the model is correct, but the ground truth is incorrect. But the user's instruction says to focus on the explanation part and critique incorrect explanations with respect to the ground truth.\n",
      "\n",
      "So the main problem is that the model is over-escalating in some cases where the ground truth is another category. The note in the current template says to escalate if any part involves security risks or urgent access. But maybe the examples in the categories are not clear enough.\n",
      "\n",
      "Looking at the current template's ESCALATION examples: immediate threats like fraudulent activity abroad, account lockouts, large discrepancies, etc. But in case 1, the user is changing PIN and updating contact info. The model thought the combination and informal language indicated a security risk. But maybe the model is misinterpreting the urgency or security aspect.\n",
      "\n",
      "Another issue is the overlap between ESCALATION and other categories. For example, CARD_DISPUTE is for unauthorized charges, but if there's a security risk (like traveling abroad), it's ESCALATION. But the model might not be distinguishing between isolated charges and those with security implications.\n",
      "\n",
      "In case 1, the user's request is about PIN reset and contact info. The model escalated because of security risks. But according to the categories, PIN_RESET is a separate category. So the model is incorrectly applying the escalation note. The note says \"if any part involves security risks or urgent access needs, classify as ESCALATION.\" But changing PIN is a standard request unless there's a security breach. The user's inquiry doesn't mention a breach, just wants to change PIN and update contact info. So maybe the model is overreacting here.\n",
      "\n",
      "So the problem is that the note is too broad. The model is escalating even when the primary request is a standard one (like PIN reset) but combined with another request. The note might need to be more specific about what constitutes a security risk.\n",
      "\n",
      "Another example: case 21. The user is updating contact info and is locked out. The model escalated, which according to the note (account lockout is escalation) is correct. But the ground truth is CONTACT_INFO_UPDATE. So maybe the ground truth is wrong here, but according to the current note, the model is correct. But the evaluation says the model's prediction is wrong. So perhaps the note is causing over-escalation when the primary request is a contact update but there's a lockout. The model should escalate here, but the ground truth says otherwise. So maybe the ground truth is incorrect, but the user's instruction says to take the ground truth as correct.\n",
      "\n",
      "Wait, the case 21's ground truth is CONTACT_INFO_UPDATE. The user's inquiry is about updating contact info and being locked out. The model's explanation says it's critical for security and there's a lockout, so escalation. But the ground truth is CONTACT_INFO_UPDATE. So the model is wrong here. So why? Because the primary request is contact info update, but the lockout is part of it. The note says if any part involves urgent access, escalate. So the model is following the note, but the ground truth is different. So maybe the note is causing over-escalation.\n",
      "\n",
      "So the root cause is that the note is too broad, leading the model to escalate even when the primary request is a standard one but there's a secondary security issue. The model might need to prioritize the primary intent unless there's a clear security threat.\n",
      "\n",
      "Another issue is case 18: user can't complete wire transfer due to verification errors. The model labeled ESCALATION, but ground truth is IN_SCOPE. The explanation says it's urgent and might be a security issue. But wire transfer issues are part of IN_SCOPE (account-related service requests). So the model is incorrectly escalating here.\n",
      "\n",
      "So the model is escalating when there's a service request with a verification error. The note says to escalate for security risks or urgent access. But maybe the model is misinterpreting verification errors as security risks.\n",
      "\n",
      "So the problem areas are:\n",
      "\n",
      "- Over-escalation due to the note's broadness.\n",
      "- Confusion between ESCALATION and other categories like IN_SCOPE or CONTACT_INFO_UPDATE.\n",
      "- Ambiguous boundaries between categories, especially when multiple issues are present.\n",
      "\n",
      "To fix this, the prompt needs to:\n",
      "\n",
      "1. Clarify when to escalate vs. when to use other categories.\n",
      "2. Provide more specific examples of what constitutes a security risk or urgent access.\n",
      "3. Adjust the note to prevent over-escalation for standard requests with minor security aspects.\n",
      "\n",
      "Possible improvements:\n",
      "\n",
      "- Modify the ESCALATION category to specify that it's for immediate threats or severe security breaches, not routine requests with security elements.\n",
      "- Add examples to other categories that include security-related aspects but are not escalations.\n",
      "- Adjust the note to say escalate only if the primary concern is a security threat or urgent access, not when it's a secondary part of a standard request.\n",
      "\n",
      "For example, in case 1, the primary request is PIN reset and contact update. Unless there's a breach mentioned, it's not escalation. So the note should be more precise.\n",
      "\n",
      "Another example: case 21's ground truth is CONTACT_INFO_UPDATE. The user is locked out, which is urgent. But the primary request is contact update. So maybe the model should prioritize the primary intent unless there's a clear security threat. But according to the current note, any urgent access (like lockout) requires escalation. So the model is correct, but the ground truth is wrong. But the evaluation says the model is wrong. So perhaps the ground truth is incorrect, but we have to work with it.\n",
      "\n",
      "Alternatively, maybe the model is misapplying the note. The note says \"if any part involves security risks or urgent access needs, classify as ESCALATION.\" So even if the primary request is contact update, but there's a lockout (urgent access), it should escalate. But the ground truth says CONTACT_INFO_UPDATE. So this is a conflict.\n",
      "\n",
      "This suggests that the note is causing over-escalation. So the note needs to be refined. Maybe the note should say escalate only if the primary concern is security or urgent access, not when it's part of another request.\n",
      "\n",
      "Alternatively, the categories need better examples. For example, CONTACT_INFO_UPDATE examples could include scenarios where there's a lockout, but if the primary request is contact update, it's still CONTACT_INFO_UPDATE. But that contradicts the note.\n",
      "\n",
      "Hmm. So the current note is leading to escalation in cases where the primary request is another category but there's a security aspect. To prevent this, the note should be adjusted to prioritize the primary intent unless there's a clear security threat.\n",
      "\n",
      "So possible changes:\n",
      "\n",
      "- Modify the note to say: \"Classify as ESCALATION only if the primary concern is a security breach, immediate threat, or urgent access need. If the inquiry includes security elements but the main request is another category (e.g., PIN reset), use the appropriate category unless there's a clear security threat.\"\n",
      "\n",
      "But that's a bit complicated. Alternatively, adjust the ESCALATION examples to be more specific and the note to emphasize that escalation is for severe cases.\n",
      "\n",
      "Another approach: split the note into two parts. First, check if the primary request is a standard category. Then, check if there's a security risk or urgent access. If both, escalate. But that's not clear.\n",
      "\n",
      "Alternatively, in the ESCALATION category, add examples that are clearly severe, and in other categories, add examples that include security elements but are not escalations.\n",
      "\n",
      "For example, in PIN_RESET, add an example where the user also mentions wanting to update contact info, but no security breach is mentioned. Then, it's PIN_RESET.\n",
      "\n",
      "In the current template, the ESCALATION examples include \"Fraudulent activity abroad,\" \"Account lockouts,\" etc. But case 21's ground truth is CONTACT_INFO_UPDATE even though there's a lockout. So maybe the ground truth is wrong, but according to the evaluation, the model is wrong. So perhaps the model is following the note incorrectly.\n",
      "\n",
      "Alternatively, the model is misapplying the note. The note says to escalate if any part involves security risks. So even if the primary request is contact update, but there's a lockout (security risk), escalate. But the ground truth says CONTACT_INFO_UPDATE. So this suggests that the note is causing over-escalation.\n",
      "\n",
      "Therefore, the note needs to be adjusted. Maybe the note should say: \"Escalate only if the primary issue is a security threat or urgent access. If the inquiry includes security elements but the main request is another category, use the main category unless there's a clear security breach.\"\n",
      "\n",
      "But how to phrase that in the prompt.\n",
      "\n",
      "Another angle: the current note is too broad. The model is escalating even when the security aspect is not the main concern. So the note should emphasize that escalation is for primary security threats, not secondary ones.\n",
      "\n",
      "So possible changes to the note:\n",
      "\n",
      "Original note: \"If any part of the inquiry involves security risks or urgent access needs, classify as ESCALATION.\"\n",
      "\n",
      "Revised note: \"Classify as ESCALATION only if the primary concern is a security breach, immediate threat, or urgent access need. For standard requests with minor security elements (e.g., updating contact info while mentioning a PIN reset), use the appropriate category unless there's a clear security threat.\"\n",
      "\n",
      "But that's a bit long. Alternatively, adjust the ESCALATION examples to be more severe and add examples to other categories that include security elements but are not escalations.\n",
      "\n",
      "For example, in the CONTACT_INFO_UPDATE category, add an example: \"Need to update address and phone number. Also, having trouble logging in.\" → Still CONTACT_INFO_UPDATE unless there's a clear security breach.\n",
      "\n",
      "But the current examples don't cover that.\n",
      "\n",
      "Another example: in the PIN_RESET category, add an example where the user also wants to update contact info: \"Change my PIN and update my email.\" → PIN_RESET.\n",
      "\n",
      "In the current template, the ESCALATION examples are all severe. So maybe the model is over-interpreting the note.\n",
      "\n",
      "So the main issues are:\n",
      "\n",
      "1. The note is too broad, leading to over-escalation.\n",
      "2. Ambiguous boundaries between ESCALATION and other categories.\n",
      "\n",
      "To fix this, the prompt should:\n",
      "\n",
      "- Clarify that ESCALATION is for primary security threats or urgent access, not secondary elements.\n",
      "- Provide examples in other categories that include security aspects but are not escalations.\n",
      "- Adjust the note to be more precise.\n",
      "\n",
      "Possible prompt improvements:\n",
      "\n",
      "- Modify the ESCALATION category to specify that it's for immediate threats or severe breaches, not routine requests with security elements.\n",
      "- Add examples to other categories that include security-related aspects but are not escalations.\n",
      "- Adjust the note to say: \"Escalate only if the primary concern is a security breach or urgent access. For standard requests with security elements (e.g., PIN reset with contact update), use the main category unless there's a clear threat.\"\n",
      "\n",
      "Alternatively, split the note into two parts: first, check the primary category, then check for escalation criteria.\n",
      "\n",
      "Another idea: in the ESCALATION examples, include scenarios where the primary issue is security, and in other categories, include examples where security is a secondary concern.\n",
      "\n",
      "For example, in PIN_RESET: \"I need to reset my PIN and also update my phone number.\" → PIN_RESET.\n",
      "\n",
      "In ESCALATION: \"My account was accessed from another country and I can't log in.\" → ESCALATION.\n",
      "\n",
      "So the current template's ESCALATION examples are all severe. The model might be applying the note too broadly.\n",
      "\n",
      "So the key is to adjust the note and examples to prevent over-escalation.\n",
      "\n",
      "Another error: case 18's ground truth is IN_SCOPE (wire transfer error), but model says ESCALATION. The explanation says it's urgent and might be security. But wire transfer issues are part of IN_SCOPE. So the model is incorrectly escalating here.\n",
      "\n",
      "So the model is escalating service requests with errors. The note says to escalate for urgent access, but maybe the model is misinterpreting \"verification required\" as a security issue.\n",
      "\n",
      "So the model needs to distinguish between service requests (IN_SCOPE) and security threats (ESCALATION).\n",
      "\n",
      "Possible fix: clarify that authentication errors during transactions are not ESCALATION unless there's a security breach.\n",
      "\n",
      "In the current template, AUTHENTICATION_SETUP is for enabling features, not transactional issues. So case 18's wire transfer error is a transaction issue, so it's IN_SCOPE.\n",
      "\n",
      "So the model is misclassifying transactional authentication issues as ESCALATION.\n",
      "\n",
      "So the AUTHENTICATION_SETUP category's note says \"Excludes authentication failures during transactions.\" So case 18's error during wire transfer is a transaction failure, so it's not AUTHENTICATION_SETUP. But the model labeled it ESCALATION. So why?\n",
      "\n",
      "The model's explanation says it's urgent and might be a security issue. But according to the categories, transaction errors are IN_SCOPE.\n",
      "\n",
      "So the model is incorrectly applying the escalation note here.\n",
      "\n",
      "So the problem is that the model is escalating service requests with errors, thinking they are security issues.\n",
      "\n",
      "To fix this, the prompt should clarify that transactional errors (like wire transfer failures) are IN_SCOPE unless there's a clear security breach.\n",
      "\n",
      "So possible changes:\n",
      "\n",
      "- In the ESCALATION category, add a note that transactional errors are not escalations unless accompanied by security threats.\n",
      "- In the IN_SCOPE examples, include scenarios with transaction errors.\n",
      "\n",
      "For example, in IN_SCOPE: \"Having trouble with wire transfers due to verification errors.\"\n",
      "\n",
      "But the current IN_SCOPE examples don't cover that.\n",
      "\n",
      "Another approach: adjust the note to say that escalation is for security breaches or urgent access, not for service requests with errors.\n",
      "\n",
      "So the revised note could be: \"Escalate only if there's a clear security breach, immediate threat, or urgent access need. Service requests with errors (e.g., transaction failures) should be classified under IN_SCOPE unless accompanied by security risks.\"\n",
      "\n",
      "But that's a bit long. Alternatively, adjust the ESCALATION examples to be more specific and the note to emphasize severity.\n",
      "\n",
      "Another error: case 22's ground truth is IN_SCOPE, but model says ESCALATION. The user mentions an unrecognized fee and account lockout. The model's explanation is correct for escalation. So maybe the ground truth is wrong here. But according to the current note, it should be escalation. So the model is correct, but the evaluation says it's wrong. So perhaps the ground truth is incorrect, but we have to take it as given.\n",
      "\n",
      "But according to the user's instruction, we need to critique the explanation with respect to the ground truth. So if the ground truth is IN_SCOPE, the model's explanation is wrong.\n",
      "\n",
      "So why is the ground truth IN_SCOPE here? Maybe the fee dispute is considered IN_SCOPE, but the lockout should trigger escalation. So perhaps the ground truth is incorrect, but the model is following the note.\n",
      "\n",
      "This suggests that the note is causing correct escalations to be marked as wrong. So the note might need adjustment.\n",
      "\n",
      "Alternatively, the model is misapplying the note.\n",
      "\n",
      "So the main issues are:\n",
      "\n",
      "- Over-escalation due to the note's broadness.\n",
      "- Confusion between transactional errors and security threats.\n",
      "\n",
      "To address these:\n",
      "\n",
      "1. Refine the ESCALATION note to specify that it's for primary security threats or urgent access, not secondary elements.\n",
      "2. Add examples to other categories that include security elements but are not escalations.\n",
      "3. Clarify that transactional errors are IN_SCOPE unless there's a security breach.\n",
      "\n",
      "Possible prompt changes:\n",
      "\n",
      "- Modify the ESCALATION category to include examples of severe cases and exclude routine requests with security elements.\n",
      "- Add a note under ESCALATION: \"Only classify as ESCALATION if the primary concern is a security breach or urgent access. For standard requests with security elements (e.g., PIN reset with contact update), use the main category unless there's a clear threat.\"\n",
      "- Adjust the IN_SCOPE examples to include service requests with errors, like transaction failures.\n",
      "\n",
      "For example:\n",
      "\n",
      "ESCALATION:\n",
      "\"For immediate threats (e.g., 'Fraudulent activity abroad,' 'Account lockouts,' 'Unexplained large discrepancies'). Do not escalate for standard requests with minor security elements unless there's a clear breach.\"\n",
      "\n",
      "IN_SCOPE:\n",
      "\"For account-related service requests (e.g., 'Add user,' 'Application status,' 'Fee disputes,' 'Wire transfer errors').\"\n",
      "\n",
      "Also, adjust the note to:\n",
      "\"Note: Prioritize ESCALATION only for primary security threats or urgent access needs. Standard requests with security elements (e.g., updating contact info while mentioning a PIN reset) should use the main category unless there's a clear security breach.\"\n",
      "\n",
      "This way, the model knows to escalate only when the main issue is security, not when it's a secondary part.\n",
      "\n",
      "Another example: case 1's ground truth is PIN_RESET. The user wants to change PIN and update contact info. The model escalated because of security risks. But according to the revised note, since it's a standard request with security elements but no clear breach, it's PIN_RESET.\n",
      "\n",
      "So the revised note would prevent that.\n",
      "\n",
      "Similarly, case 21: the user is updating contact info and locked out. The revised note says escalate only if primary concern is security. The primary request is contact update, but there's a lockout. So maybe it's escalation. But the ground truth is CONTACT_INFO_UPDATE. So this is conflicting.\n",
      "\n",
      "Alternatively, the model should classify based on the primary intent. If the primary intent is contact update but there's a lockout, which is urgent, then escalate. But according to the ground truth, it's CONTACT_INFO_UPDATE. So perhaps the ground truth is wrong, but the model is following the note.\n",
      "\n",
      "This suggests that the note is causing correct escalations to be marked as wrong. So maybe the note needs to be adjusted to align with the ground truth.\n",
      "\n",
      "Alternatively, the ground truth is incorrect, but we have to work with it.\n",
      "\n",
      "Given that, perhaps the model is over-escalating in cases where the primary request is another category but there's a security aspect. So the note should be adjusted to prevent that.\n",
      "\n",
      "So the key is to adjust the note to clarify that escalation is for primary security threats, not secondary ones.\n",
      "\n",
      "Final suggestions:\n",
      "\n",
      "- Clarify ESCALATION criteria to focus on primary security threats.\n",
      "- Add examples to other categories that include security elements but are not escalations.\n",
      "- Adjust the note to prioritize main intent over secondary security aspects.\n",
      "\n",
      "\n",
      "\n",
      "===== RESPONSE =====\n",
      "\n",
      "\n",
      "**Analysis and Prompt Improvement Recommendations:**\n",
      "\n",
      "### Error Pattern Analysis:\n",
      "Misclassified cases (6 errors) primarily stem from over-escalation and boundary confusion between categories. Key issues:\n",
      "1. **Over-escalation**: Model incorrectly prioritizes ESCALATION for standard requests with minor security elements (e.g., PIN reset + contact update).\n",
      "2. **Boundary Ambiguity**: Confusion between transactional errors (IN_SCOPE) and security threats (ESCALATION).\n",
      "\n",
      "### Root Cause Investigation:\n",
      "- **Broad Escalation Note**: The instruction \"classify as ESCALATION if any part involves security risks\" leads to over-escalation for non-primary security concerns.\n",
      "- **Insufficient Examples**: Lack of examples distinguishing routine security-related requests (e.g., PIN reset with contact update) from true threats.\n",
      "- **Category Overlap**: Unclear separation between transactional authentication issues (IN_SCOPE) and security breaches (ESCALATION).\n",
      "\n",
      "### Prompt Improvement Ideas:\n",
      "1. **Refine ESCALATION Criteria**:\n",
      "   - Specify that ESCALATION is reserved for **primary security threats** or **urgent access needs**, not secondary security elements.\n",
      "   - Example update:  \n",
      "     ```json\n",
      "     \"ESCALATION\": \"For immediate threats (e.g., 'Fraudulent activity abroad,' 'Account lockouts'). Do not escalate standard requests with minor security mentions (e.g., 'Reset PIN and update contact info') unless a breach is explicitly stated.\"\n",
      "     ```\n",
      "\n",
      "2. **Enhance Category Examples**:\n",
      "   - Add examples to non-ESCALATION categories that include security elements but lack urgency:  \n",
      "     ```json\n",
      "     \"PIN_RESET\": \"For PIN changes, even if paired with non-urgent requests (e.g., 'Change PIN and update phone number').\",\n",
      "     \"CONTACT_INFO_UPDATE\": \"For address/phone updates, unless paired with explicit security breaches (e.g., 'Update info; also locked out due to fraud').\"\n",
      "     ```\n",
      "\n",
      "3. **Clarify Transactional Errors**:\n",
      "   - Explicitly state transactional failures (e.g., wire transfer errors) are IN_SCOPE unless tied to security risks:  \n",
      "     ```json\n",
      "     \"IN_SCOPE\": \"For service requests (e.g., 'Wire transfer errors,' 'Fee disputes') unless accompanied by security threats.\"\n",
      "     ```\n",
      "\n",
      "4. **Adjust Escalation Note**:\n",
      "   - Reword to prioritize primary intent:  \n",
      "     ```json\n",
      "     \"Note: Use ESCALATION only if the core issue is a security breach or urgent access. For requests with secondary security elements (e.g., 'Update contact info and reset PIN'), default to the primary category unless a threat is clear.\"\n",
      "     ```\n",
      "\n",
      "5. **Structure Improvements**:\n",
      "   - Group categories by urgency to reinforce hierarchy (ESCALATION first, followed by security-adjacent categories).\n",
      "\n",
      "### Revised Template Snippet:\n",
      "```json\n",
      "\"ESCALATION\": \"For primary security threats (e.g., 'Unauthorized access abroad,' 'Account lockouts'). Exclude routine requests with security mentions unless a breach is confirmed.\",\n",
      "\"PIN_RESET\": \"For PIN changes, including when paired with non-security requests (e.g., 'Reset PIN and update email').\",\n",
      "\"IN_SCOPE\": \"For service requests (e.g., 'Transaction errors,' 'Fee disputes') unless tied to active security risks.\"\n",
      "```\n",
      "\n",
      "**Key Fixes**:\n",
      "- Prevent over-escalation by narrowing ESCALATION to primary threats.\n",
      "- Strengthen category boundaries with security-inclusive examples.\n",
      "- Clarify transactional errors belong to IN_SCOPE unless security-critical.\n",
      "\n",
      "\n",
      "\n",
      "===== TOKEN USAGE =====\n",
      "{'inputTokens': 5648, 'outputTokens': 5785, 'totalTokens': 11433}\n",
      "Updated suggestion history (now 9705 characters)\n",
      "Feedback generated.\n",
      "Time taken: 0:02:16.230659\n",
      "Generating improved prompt...\n",
      "{\n",
      "    \"root_cause\": \"Misclassified cases primarily stem from over-escalation and boundary confusion between categories. Over-escalation occurs due to the broad escalation note, leading to incorrect prioritization of ESCALATION for standard requests with minor security elements. Boundary ambiguity exists between transactional errors (IN_SCOPE) and security threats (ESCALATION), exacerbated by insufficient examples and unclear category separation.\",\n",
      "    \"improved_template\": \"You are a Financial Services Assistant. Classify each customer inquiry into one of these categories:\\n\\nESCALATION - For primary security threats (e.g., 'Unauthorized access abroad,' 'Account lockouts'). Exclude routine requests with security mentions unless a breach is confirmed.\\n\\nACKNOWLEDGEMENT - For greetings and thanks\\n\\nPASSWORD_RESET - For password issues\\n\\nCONTACT_INFO_UPDATE - For updating contact information, unless paired with explicit security breaches\\n\\nPIN_RESET - For PIN changes, including when paired with non-security requests (e.g., 'Reset PIN and update email')\\n\\nTRANSACTION_STATUS - For pending financial transactions only. Excludes application/service statuses.\\n\\nAUTHENTICATION_SETUP - For enabling security features (e.g., 'Set up fingerprint access'). Excludes authentication failures during transactions.\\n\\nCARD_DISPUTE - For isolated unauthorized charges (e.g., 'Charges at gas stations I didn’t visit')\\n\\nIN_SCOPE - For service requests (e.g., 'Transaction errors,' 'Fee disputes') unless tied to active security risks.\\n\\nOUT_OF_SCOPE - For unrelated topics\\n\\nNote: Use ESCALATION only if the core issue is a security breach or urgent access. For requests with secondary security elements (e.g., 'Update contact info and reset PIN'), default to the primary category unless a threat is clear.\\n\\n### Output Format:\\nDirectly output in json. \\n```json\\n{\\\"prediction\\\": \\\"ONE classified category\\\", \\\"explanation\\\": \\\"brief reason for the classification, considering urgency or security factors for ESCALATION\\\"}\\n```\\n\\n### User Inquiry:\\n${user_question}.\"\n",
      "}\n",
      "\n",
      "Improved prompt created.\n",
      "Time taken: 0:00:03.751792\n",
      "\n",
      "===== IMPROVED TEMPLATE =====\n",
      "You are a Financial Services Assistant. Classify each customer inquiry into one of these categories:\n",
      "\n",
      "ESCALATION - For primary security threats (e.g., 'Unauthorized access abroad,' 'Account lockouts'). Exclude routine requests with security mentions unless a breach is confirmed.\n",
      "\n",
      "ACKNOWLEDGEMENT - For greetings and thanks\n",
      "\n",
      "PASSWORD_RESET - For password issues\n",
      "\n",
      "CONTACT_INFO_UPDATE - For updating contact information, unless paired with explicit security breaches\n",
      "\n",
      "PIN_RESET - For PIN changes, including when paired with non-security requests (e.g., 'Reset PIN and update email')\n",
      "\n",
      "TRANSACTION_STATUS - For pending financial transactions only. Excludes application/service statuses.\n",
      "\n",
      "AUTHENTICATION_SETUP - For enabling security features (e.g., 'Set up fingerprint access'). Excludes authentication failures during transactions.\n",
      "\n",
      "CARD_DISPUTE - For isolated unauthorized charges (e.g., 'Charges at gas stations I didn’t visit')\n",
      "\n",
      "IN_SCOPE - For service requests (e.g., 'Transaction errors,' 'Fee disputes') unless tied to active security risks.\n",
      "\n",
      "OUT_OF_SCOPE - For unrelated topics\n",
      "\n",
      "Note: Use ESCALATION only if the core issue is a security breach or urgent access. For requests with secondary security elements (e.g., 'Update contact info and reset PIN'), default to the primary category unless a threat is clear.\n",
      "\n",
      "### Output Format:\n",
      "Directly output in json. \n",
      "```json\n",
      "{\"prediction\": \"ONE classified category\", \"explanation\": \"brief reason for the classification, considering urgency or security factors for ESCALATION\"}\n",
      "```\n",
      "\n",
      "### User Inquiry:\n",
      "${user_question}.\n",
      "============================\n",
      "\n",
      "\n",
      "\n",
      "======== ITERATION 4/5 ========\n",
      "\n",
      "Starting evaluation...\n"
     ]
    },
    {
     "name": "stderr",
     "output_type": "stream",
     "text": [
      "Processing Test Cases:   8%|▊         | 2/25 [00:01<00:43,  1.89s/it, Success=2/25]"
     ]
    },
    {
     "name": "stdout",
     "output_type": "stream",
     "text": [
      "{\"prediction\": \"PIN_RESET\", \"explanation\": \"The primary request is to change the PIN for the debit card, which falls under PIN_RESET. The secondary request to update the mobile number is related but does not indicate an active security threat, so it does not escalate the primary classification.\"}\n",
      "\n",
      "{\"prediction\": \"ESCALATION\", \"explanation\": \"The user is experiencing verification failures and has received suspicious texts asking for personal details, indicating a potential security breach.\"}\n",
      "\n"
     ]
    },
    {
     "name": "stderr",
     "output_type": "stream",
     "text": [
      "Processing Test Cases:  12%|█▏        | 3/25 [00:03<00:22,  1.04s/it, Success=3/25]"
     ]
    },
    {
     "name": "stdout",
     "output_type": "stream",
     "text": [
      "{\"prediction\": \"OUT_OF_SCOPE\", \"explanation\": \"The inquiry is about the status of an application, which is not related to pending financial transactions, security threats, or typical service requests handled within the defined categories.\"}\n",
      "\n"
     ]
    },
    {
     "name": "stderr",
     "output_type": "stream",
     "text": [
      "Processing Test Cases:  16%|█▌        | 4/25 [00:03<00:17,  1.23it/s, Success=4/25]"
     ]
    },
    {
     "name": "stdout",
     "output_type": "stream",
     "text": [
      "{\"prediction\": \"ESCALATION\", \"explanation\": \"The inquiry indicates multiple failed withdrawal attempts at different locations while the account holder is abroad, suggesting a potential security breach requiring immediate attention.\"}\n",
      "\n"
     ]
    },
    {
     "name": "stderr",
     "output_type": "stream",
     "text": [
      "Processing Test Cases:  20%|██        | 5/25 [00:04<00:17,  1.12it/s, Success=5/25]"
     ]
    },
    {
     "name": "stdout",
     "output_type": "stream",
     "text": [
      "{\"prediction\": \"CARD_DISPUTE\", \"explanation\": \"The inquiry involves unauthorized small charges, which are typical indicators of potential fraudulent activity on the card.\"}\n",
      "\n"
     ]
    },
    {
     "name": "stderr",
     "output_type": "stream",
     "text": [
      "Processing Test Cases:  24%|██▍       | 6/25 [00:05<00:14,  1.35it/s, Success=6/25]"
     ]
    },
    {
     "name": "stdout",
     "output_type": "stream",
     "text": [
      "{\"prediction\": \"ESCALATION\", \"explanation\": \"The inquiry involves a potential security risk due to the card being retained by the ATM after multiple incorrect PIN attempts, coupled with an urgent need for access to funds for a business trip.\"}\n",
      "\n"
     ]
    },
    {
     "name": "stderr",
     "output_type": "stream",
     "text": [
      "Processing Test Cases:  28%|██▊       | 7/25 [00:06<00:16,  1.10it/s, Success=7/25]"
     ]
    },
    {
     "name": "stdout",
     "output_type": "stream",
     "text": [
      "{\"prediction\": \"IN_SCOPE\", \"explanation\": \"The inquiry pertains to adding an authorized user to the account, which is a service request. Although there is a mention of emergency access, it does not indicate an active security breach or urgent access issue.\"}\n",
      "\n"
     ]
    },
    {
     "name": "stderr",
     "output_type": "stream",
     "text": [
      "Processing Test Cases:  32%|███▏      | 8/25 [00:06<00:12,  1.35it/s, Success=8/25]"
     ]
    },
    {
     "name": "stdout",
     "output_type": "stream",
     "text": [
      "{\"prediction\": \"ESCALATION\", \"explanation\": \"The inquiry indicates a significant discrepancy in account balance without corresponding withdrawals, suggesting a potential security breach or error that needs immediate attention.\"}\n",
      "\n"
     ]
    },
    {
     "name": "stderr",
     "output_type": "stream",
     "text": [
      "Processing Test Cases:  36%|███▌      | 9/25 [00:08<00:14,  1.14it/s, Success=9/25]"
     ]
    },
    {
     "name": "stdout",
     "output_type": "stream",
     "text": [
      "{\"prediction\": \"OUT_OF_SCOPE\", \"explanation\": \"The inquiry is about financial planning and tax advice, which is outside the scope of typical customer service inquiries handled by a Financial Services Assistant.\"}\n",
      "\n"
     ]
    },
    {
     "name": "stderr",
     "output_type": "stream",
     "text": [
      "Processing Test Cases:  40%|████      | 10/25 [00:08<00:10,  1.38it/s, Success=10/25]"
     ]
    },
    {
     "name": "stdout",
     "output_type": "stream",
     "text": [
      "{\"prediction\": \"IN_SCOPE\", \"explanation\": \"The inquiry pertains to checking the status and balance of an account, which falls under service requests. There is no indication of an active security risk or urgent access issue.\"}\n",
      "\n"
     ]
    },
    {
     "name": "stderr",
     "output_type": "stream",
     "text": [
      "Processing Test Cases:  44%|████▍     | 11/25 [00:09<00:12,  1.12it/s, Success=11/25]"
     ]
    },
    {
     "name": "stdout",
     "output_type": "stream",
     "text": [
      "{\"prediction\": \"AUTHENTICATION_SETUP\", \"explanation\": \"The user is experiencing issues with setting up security features like face recognition and fingerprint access, which falls under authentication setup. There is no indication of a security breach or urgent access issue.\"}\n",
      "\n"
     ]
    },
    {
     "name": "stderr",
     "output_type": "stream",
     "text": [
      "Processing Test Cases:  48%|████▊     | 12/25 [00:09<00:09,  1.41it/s, Success=12/25]"
     ]
    },
    {
     "name": "stdout",
     "output_type": "stream",
     "text": [
      "{\"prediction\": \"IN_SCOPE\", \"explanation\": \"The inquiry pertains to service requests regarding increasing a transfer limit and checking the status of a pre-approval, which are within the scope of typical financial service assistance.\"}\n",
      "\n"
     ]
    },
    {
     "name": "stderr",
     "output_type": "stream",
     "text": [
      "Processing Test Cases:  52%|█████▏    | 13/25 [00:11<00:10,  1.18it/s, Success=13/25]"
     ]
    },
    {
     "name": "stdout",
     "output_type": "stream",
     "text": [
      "{\"prediction\": \"ESCALATION\", \"explanation\": \"The inquiry indicates a potential unauthorized change to direct deposit information, which is a security breach requiring immediate attention.\"}\n",
      "\n"
     ]
    },
    {
     "name": "stderr",
     "output_type": "stream",
     "text": [
      "Processing Test Cases:  56%|█████▌    | 14/25 [00:11<00:08,  1.35it/s, Success=14/25]"
     ]
    },
    {
     "name": "stdout",
     "output_type": "stream",
     "text": [
      "{\"prediction\": \"CONTACT_INFO_UPDATE\", \"explanation\": \"The inquiry is primarily about updating contact information, specifically the email address and potentially the name due to a legal change. There is no mention of a security breach or urgent access issue.\"}\n",
      "\n"
     ]
    },
    {
     "name": "stderr",
     "output_type": "stream",
     "text": [
      "Processing Test Cases:  60%|██████    | 15/25 [00:12<00:08,  1.21it/s, Success=15/25]"
     ]
    },
    {
     "name": "stdout",
     "output_type": "stream",
     "text": [
      "{\"prediction\": \"IN_SCOPE\", \"explanation\": \"The inquiry is about a significant loss in portfolio value following investment advice, which is a service-related complaint and does not indicate an immediate security threat or urgent access issue.\"}\n",
      "\n"
     ]
    },
    {
     "name": "stderr",
     "output_type": "stream",
     "text": [
      "Processing Test Cases:  64%|██████▍   | 16/25 [00:13<00:06,  1.42it/s, Success=16/25]"
     ]
    },
    {
     "name": "stdout",
     "output_type": "stream",
     "text": [
      "{\"prediction\": \"IN_SCOPE\", \"explanation\": \"The inquiry is about a fee dispute related to a checking account, which falls under service requests. There is no mention of a security breach or urgent access issue.\"}\n",
      "\n"
     ]
    },
    {
     "name": "stderr",
     "output_type": "stream",
     "text": [
      "Processing Test Cases:  68%|██████▊   | 17/25 [00:14<00:06,  1.26it/s, Success=17/25]"
     ]
    },
    {
     "name": "stdout",
     "output_type": "stream",
     "text": [
      "{\"prediction\": \"CARD_DISPUTE\", \"explanation\": \"The inquiry involves unauthorized charges on the customer's card, which is a typical case of a card dispute.\"}\n",
      "\n"
     ]
    },
    {
     "name": "stderr",
     "output_type": "stream",
     "text": [
      "Processing Test Cases:  72%|███████▏  | 18/25 [00:14<00:04,  1.42it/s, Success=18/25]"
     ]
    },
    {
     "name": "stdout",
     "output_type": "stream",
     "text": [
      "{\"prediction\": \"IN_SCOPE\", \"explanation\": \"The inquiry is about a transaction error (international wire transfer issue) and does not indicate a primary security threat or breach. It falls under service requests.\"}\n",
      "\n"
     ]
    },
    {
     "name": "stderr",
     "output_type": "stream",
     "text": [
      "Processing Test Cases:  76%|███████▌  | 19/25 [00:15<00:04,  1.30it/s, Success=19/25]"
     ]
    },
    {
     "name": "stdout",
     "output_type": "stream",
     "text": [
      "{\"prediction\": \"TRANSACTION_STATUS\", \"explanation\": \"The inquiry is about a pending financial transaction where the customer is seeking assistance to trace a payment that was sent but not received by the recipient.\"}\n",
      "\n"
     ]
    },
    {
     "name": "stderr",
     "output_type": "stream",
     "text": [
      "Processing Test Cases:  80%|████████  | 20/25 [00:16<00:03,  1.34it/s, Success=20/25]"
     ]
    },
    {
     "name": "stdout",
     "output_type": "stream",
     "text": [
      "{\"prediction\": \"OUT_OF_SCOPE\", \"explanation\": \"The inquiry is about external market comparisons and profitability of bitcoin mining, which is unrelated to the customer's account or service requests handled by the Financial Services Assistant.\"}\n",
      "\n"
     ]
    },
    {
     "name": "stderr",
     "output_type": "stream",
     "text": [
      "Processing Test Cases:  84%|████████▍ | 21/25 [00:17<00:03,  1.23it/s, Success=21/25]"
     ]
    },
    {
     "name": "stdout",
     "output_type": "stream",
     "text": [
      "{\"prediction\": \"CONTACT_INFO_UPDATE\", \"explanation\": \"The primary request is to update contact information. The mention of being locked out of mobile banking is secondary and does not indicate a confirmed security breach, so it does not escalate the issue to ESCALATION.\"}\n",
      "\n"
     ]
    },
    {
     "name": "stderr",
     "output_type": "stream",
     "text": [
      "Processing Test Cases:  88%|████████▊ | 22/25 [00:17<00:02,  1.37it/s, Success=22/25]"
     ]
    },
    {
     "name": "stdout",
     "output_type": "stream",
     "text": [
      "{\"prediction\": \"ESCALATION\", \"explanation\": \"The inquiry involves both an unrecognized fee and an account lockout, indicating a potential security breach and urgent access issue.\"}\n",
      "\n"
     ]
    },
    {
     "name": "stderr",
     "output_type": "stream",
     "text": [
      "Processing Test Cases:  92%|█████████▏| 23/25 [00:18<00:01,  1.25it/s, Success=23/25]"
     ]
    },
    {
     "name": "stdout",
     "output_type": "stream",
     "text": [
      "{\"prediction\": \"OUT_OF_SCOPE\", \"explanation\": \"The inquiry is about providing financial documentation for a mortgage application, which is unrelated to the specified categories of customer inquiries for financial services assistance.\"}\n",
      "\n"
     ]
    },
    {
     "name": "stderr",
     "output_type": "stream",
     "text": [
      "Processing Test Cases:  96%|█████████▌| 24/25 [00:19<00:00,  1.38it/s, Success=24/25]"
     ]
    },
    {
     "name": "stdout",
     "output_type": "stream",
     "text": [
      "{\"prediction\": \"IN_SCOPE\", \"explanation\": \"The inquiry pertains to a sudden drop in credit score, which is a service-related issue. There is no indication of a security breach or urgent access problem.\"}\n",
      "\n"
     ]
    },
    {
     "name": "stderr",
     "output_type": "stream",
     "text": [
      "Processing Test Cases: 100%|██████████| 25/25 [00:20<00:00,  1.24it/s, Success=25/25]"
     ]
    },
    {
     "name": "stdout",
     "output_type": "stream",
     "text": [
      "{\"prediction\": \"OUT_OF_SCOPE\", \"explanation\": \"The inquiry appears to be nonsensical and does not relate to any specific financial service request or security concern.\"}\n",
      "\n",
      "Results saved to ./results/test_results_20250429_130041.json\n",
      "\n",
      "Evaluation complete!\n",
      "Time taken: 0:00:20.120288\n",
      "Total test cases: 25\n",
      "Failed calls: 0\n",
      "Task success rate: 72.00%\n",
      "\n",
      "Generating feedback for prompt improvement...\n",
      "Current suggestion history length: 9705 characters\n"
     ]
    },
    {
     "name": "stderr",
     "output_type": "stream",
     "text": [
      "\n"
     ]
    },
    {
     "name": "stdout",
     "output_type": "stream",
     "text": [
      "\n",
      "===== REASONING =====\n",
      "\n",
      "\n",
      "Okay, let's tackle this problem. The user wants me to analyze the classification performance based on the given evaluation results and suggest prompt improvements. The current template has some issues leading to misclassifications. \n",
      "\n",
      "First, I need to list all the misclassified cases. From the evaluation results, the cases where prediction doesn't match ground_truth are 3, 9, 10, 14, 15, 22, 23. Let me check each:\n",
      "\n",
      "Case 3: User asked about application status. Prediction was OUT_OF_SCOPE, but ground truth is IN_SCOPE. The explanation says it's not related to transactions, but maybe the model confused application status with service requests. The current IN_SCOPE says \"service requests (e.g., transaction errors, fee disputes)\" but maybe application status isn't covered here.\n",
      "\n",
      "Case 9: IRA conversion advice. Predicted OUT_OF_SCOPE, ground truth IN_SCOPE. The explanation says it's financial planning, which the current IN_SCOPE might not include. The existing IN_SCOPE examples don't cover financial advice, so the model might not see it as in-scope.\n",
      "\n",
      "Case 10: Old account inquiry. Predicted IN_SCOPE, ground truth ESCALATION. The user is checking a 15-year-old account. The current ESCALATION mentions primary security threats, but maybe dormant accounts are considered a security risk. The model didn't escalate because there's no explicit breach mentioned, but the age of the account might be a factor.\n",
      "\n",
      "Case 14: Email update with verification failure. Predicted CONTACT_INFO_UPDATE, ground truth ESCALATION. The user mentions a legal name change and verification failure. The current ESCALATION note says to exclude routine requests unless a breach is confirmed. Maybe the name change and verification failure together are a security risk, but the model didn't catch that.\n",
      "\n",
      "Case 15: Portfolio loss complaint. Predicted IN_SCOPE, ground truth ESCALATION. The user wants to speak to a manager immediately. The explanation says it's a service complaint, but maybe the urgency (\"speak to manager immediately\") should trigger escalation. The current ESCALATION might not cover urgent service issues unless they're security-related.\n",
      "\n",
      "Case 22: Unrecognized fee and lockout. Predicted ESCALATION, ground truth IN_SCOPE. The model escalated because of the lockout, but maybe the ground truth considers it a fee dispute. The explanation says both fee and lockout, so maybe the model over-escalated here.\n",
      "\n",
      "Case 23: Mortgage documentation request. Predicted OUT_OF_SCOPE, ground truth IN_SCOPE. The user needs documentation for a mortgage. The current IN_SCOPE might not include such requests, leading to misclassification.\n",
      "\n",
      "Looking at the error patterns, the main issues are:\n",
      "\n",
      "1. Over-escalation (Case 22) where the model escalates when maybe it's a service request.\n",
      "2. Under-escalation (Cases 10, 14, 15) where security risks or urgent issues aren't recognized.\n",
      "3. IN_SCOPE boundaries not covering financial advice (Case 9) or application status (Case 3).\n",
      "\n",
      "The current prompt's ESCALATION note says to use it only if the core issue is a security breach or urgent access. But maybe the examples need to clarify what constitutes urgency beyond security. For example, Case 15's urgency (speak to manager) might not be considered a security threat but still requires escalation.\n",
      "\n",
      "The IN_SCOPE category might need more examples. The current examples are transaction errors and fee disputes. Adding examples like application status checks, financial planning advice, or documentation requests could help.\n",
      "\n",
      "For Case 10, the 15-year-old account inquiry might be a security risk (dormant account), so the ESCALATION examples should include such scenarios.\n",
      "\n",
      "Case 14's legal name change and verification failure might be a security risk, so the ESCALATION criteria should mention identity verification issues post-legal changes.\n",
      "\n",
      "The CONTACT_INFO_UPDATE category says to exclude if paired with explicit breaches. But maybe the model didn't see the verification failure as a breach. The prompt might need to clarify that verification failures after legal changes are security risks.\n",
      "\n",
      "The note in the current template says to use ESCALATION only if the core issue is a security breach or urgent access. But \"urgent access\" might need examples. For example, needing funds for an emergency trip (Case 6 was correct, but maybe other urgent cases like Case 15's manager request are not covered).\n",
      "\n",
      "So, suggestions would be:\n",
      "\n",
      "- Expand ESCALATION examples to include dormant account inquiries (>5 years), identity verification failures after legal changes, and urgent service requests requiring immediate manager intervention.\n",
      "- Clarify IN_SCOPE to include application status checks, financial planning advice related to accounts, and documentation requests.\n",
      "- Adjust the note to emphasize that any urgent access need (even non-security) might require escalation, but perhaps that's conflicting. Wait, the current note says ESCALATION for urgent access. Maybe the model didn't see Case 15 as urgent access. So perhaps the examples need to include urgent service issues.\n",
      "\n",
      "Also, the current ESCALATION examples don't cover all scenarios. Adding examples like \"Inquiring about a 15-year-old account\" under ESCALATION would help.\n",
      "\n",
      "Another issue: The current IN_SCOPE examples are limited. Adding more examples like \"Request for account statements for mortgage\" (Case 23) would help.\n",
      "\n",
      "The CONTACT_INFO_UPDATE category's exclusion for explicit breaches might need clarification. For example, if the user says they can't update because of a lockout, that's a security issue.\n",
      "\n",
      "In the current prompt, the note says to default to primary category unless a threat is clear. Maybe the model needs more guidance on what constitutes a \"clear threat\".\n",
      "\n",
      "So, the key improvements would be:\n",
      "\n",
      "1. Clarify ESCALATION criteria with more examples, including dormant accounts, identity verification issues, and urgent service needs (like manager requests).\n",
      "2. Expand IN_SCOPE examples to cover application status, financial advice, documentation requests.\n",
      "3. Adjust the note to emphasize that any urgent access or security risk (even if secondary) should trigger escalation if it's a primary concern.\n",
      "\n",
      "Wait, but the note says \"use ESCALATION only if the core issue is a security breach or urgent access\". So maybe the model is not recognizing certain urgent issues as escalations. For example, Case 15's manager request is urgent but not a security breach. So perhaps the ESCALATION category should include urgent service issues even if not security-related. But the current note says \"urgent access\" which might be interpreted as access-related. So maybe the note needs to be expanded to include urgent service requests.\n",
      "\n",
      "Alternatively, maybe the model is misclassifying because the examples don't cover those scenarios.\n",
      "\n",
      "Another angle: The current ESCALATION examples are about security threats. The note says to exclude routine requests unless a breach is confirmed. But in Case 14, the verification failure after a name change might be a breach. So the examples should include identity verification issues.\n",
      "\n",
      "So, the revised ESCALATION examples could include:\n",
      "\n",
      "- Unauthorized access abroad\n",
      "- Account lockouts\n",
      "- Large discrepancies in balance\n",
      "- Verification failures after legal name changes\n",
      "- Inquiries about dormant accounts (>5 years)\n",
      "- Urgent service requests requiring immediate attention (e.g., \"Need to speak to manager immediately about a critical issue\")\n",
      "\n",
      "But the current note says ESCALATION is for security threats or urgent access. So maybe the urgent service requests need to be part of ESCALATION if they're critical.\n",
      "\n",
      "In Case 15, the user wants to speak to a manager immediately about a portfolio loss. The model classified it as IN_SCOPE, but ground truth is ESCALATION. So the model didn't see the urgency as requiring escalation. So the ESCALATION criteria need to include urgent service issues even if not security-related.\n",
      "\n",
      "But the current note says ESCALATION is for security breaches or urgent access. So maybe \"urgent access\" is too narrow. The note might need to be rephrased to include urgent service requests that require immediate escalation.\n",
      "\n",
      "Alternatively, the model might need more examples where urgency (non-security) leads to escalation.\n",
      "\n",
      "So, the main points for improvement:\n",
      "\n",
      "- Expand ESCALATION examples to include non-security urgent issues (like manager requests) and identity verification problems.\n",
      "- Clarify IN_SCOPE to include more service requests like application status, financial advice, documentation.\n",
      "- Adjust the note to prioritize escalation for any urgent service request or security risk.\n",
      "\n",
      "Looking at the current note: \"Use ESCALATION only if the core issue is a security breach or urgent access. For requests with secondary security elements, default to primary unless threat is clear.\"\n",
      "\n",
      "Maybe the note should be adjusted to:\n",
      "\n",
      "\"Use ESCALATION for primary security threats (e.g., unauthorized access, account lockouts) or urgent service requests requiring immediate attention (e.g., 'Need to speak to manager now'). For requests with secondary security elements, escalate only if a breach is confirmed or urgency is critical.\"\n",
      "\n",
      "But that might complicate. Alternatively, add examples to ESCALATION that include urgent service issues.\n",
      "\n",
      "Another issue: The current IN_SCOPE examples don't cover application status (Case 3). So adding \"application status inquiries\" to IN_SCOPE examples would help.\n",
      "\n",
      "For Case 9, IRA conversion advice is considered IN_SCOPE. So the IN_SCOPE should include financial planning related to accounts.\n",
      "\n",
      "So, the revised IN_SCOPE could be:\n",
      "\n",
      "\"For service requests (e.g., transaction errors, fee disputes, application status checks, financial planning advice related to accounts).\"\n",
      "\n",
      "Also, the TRANSACTION_STATUS category is for pending financial transactions. Case 3's application status is not a transaction, so the model correctly classified it as OUT_OF_SCOPE, but ground truth is IN_SCOPE. Wait, no: the model predicted OUT_OF_SCOPE, but ground truth is IN_SCOPE. So the model was wrong here. So the current IN_SCOPE needs to include application status. So adding that example would help.\n",
      "\n",
      "So, the steps for improvement:\n",
      "\n",
      "1. Add examples to ESCALATION for dormant account inquiries, identity verification failures, and urgent service requests (like manager escalation).\n",
      "2. Expand IN_SCOPE examples to include application status, financial advice, documentation requests.\n",
      "3. Clarify the note to emphasize that any urgent service request (even non-security) should be escalated if critical.\n",
      "\n",
      "But the current note says ESCALATION is for security breaches or urgent access. So maybe the model isn't considering urgent service requests as escalations unless they're access-related. So perhaps the note needs to be adjusted.\n",
      "\n",
      "Alternatively, the model's error in Case 15 is because the explanation says it's a service complaint, but the ground truth is ESCALATION. So the model didn't recognize the urgency (\"speak to manager immediately\") as requiring escalation. So the ESCALATION criteria need to include urgent service issues.\n",
      "\n",
      "So, adding to ESCALATION examples: \"Urgent service requests requiring immediate manager intervention (e.g., 'I need to speak to a manager now about a critical issue').\"\n",
      "\n",
      "Another example: Case 10's 15-year-old account. The model didn't escalate because there's no explicit breach, but maybe dormant accounts are a security risk. So adding \"Inquiries about dormant accounts (>5 years old)\" to ESCALATION examples.\n",
      "\n",
      "For Case 14, the verification failure after a name change. The model classified as CONTACT_INFO_UPDATE. So the ESCALATION should include identity verification issues. So adding \"Verification failures after legal name changes\" to ESCALATION.\n",
      "\n",
      "So, the revised ESCALATION examples would be:\n",
      "\n",
      "ESCALATION - For primary security threats (e.g., 'Unauthorized access abroad,' 'Account lockouts,' 'Large discrepancies,' 'Verification failures after legal name changes,' 'Inquiries about dormant accounts >5 years,' 'Urgent service requests requiring immediate attention').\n",
      "\n",
      "Then, the note could be adjusted to:\n",
      "\n",
      "\"Note: Use ESCALATION for confirmed security breaches, urgent access needs, or critical service issues requiring immediate attention. For secondary security mentions (e.g., 'Reset PIN and update info'), default to primary category unless threat is confirmed.\"\n",
      "\n",
      "But the current note says \"use ESCALATION only if core issue is security breach or urgent access\". So maybe the model is not considering urgent service issues as escalations unless they're access-related. So the note needs to clarify that urgent service requests (like manager escalation) are part of escalation.\n",
      "\n",
      "Alternatively, the model's error in Case 15 is due to not recognizing the urgency. So the ESCALATION criteria need to include urgent service requests even if not security-related.\n",
      "\n",
      "So, the key changes are:\n",
      "\n",
      "- Expand ESCALATION examples to include urgent service requests and identity verification issues.\n",
      "- Clarify IN_SCOPE to include more service requests.\n",
      "- Adjust the note to emphasize escalation for urgent service issues.\n",
      "\n",
      "Another point: The current CONTACT_INFO_UPDATE says to exclude if paired with explicit breaches. But in Case 14, the verification failure might be considered a breach. So the model didn't escalate because it's a secondary element. But the note says to escalate only if threat is clear. So maybe the examples need to show that verification failures are breaches.\n",
      "\n",
      "So, adding to ESCALATION examples: \"Verification failures after legal changes (e.g., 'Can't update email after name change and verification failed').\"\n",
      "\n",
      "In the current template, the ESCALATION examples don't cover that. So adding such examples would help.\n",
      "\n",
      "So, the final suggestions would be:\n",
      "\n",
      "1. Add examples to ESCALATION for dormant accounts, identity verification failures, and urgent service requests.\n",
      "2. Expand IN_SCOPE examples to include application status, financial advice, documentation.\n",
      "3. Clarify the note to include urgent service requests in escalation criteria.\n",
      "\n",
      "Additionally, the current structure might need better organization. For example, grouping categories by urgency.\n",
      "\n",
      "Another possible issue: The current ESCALATION note says \"exclude routine requests with security mentions unless a breach is confirmed\". But maybe the model isn't recognizing certain breaches. So the examples need to be more explicit.\n",
      "\n",
      "So, the revised ESCALATION section could be:\n",
      "\n",
      "ESCALATION - For confirmed security breaches (e.g., 'Unauthorized access abroad,' 'Account lockouts,' 'Verification failures after legal name changes,' 'Inquiries about dormant accounts >5 years'), large unexplained discrepancies, or urgent service requests requiring immediate attention (e.g., 'Need to speak to manager immediately').\n",
      "\n",
      "Then, the note could be adjusted to:\n",
      "\n",
      "\"Note: Prioritize ESCALATION for any confirmed security threats, urgent access issues, or critical service requests. For secondary security mentions (e.g., 'Reset PIN and update contact info'), use primary category unless a breach is explicitly stated.\"\n",
      "\n",
      "This way, urgent service requests are included in escalation criteria.\n",
      "\n",
      "\n",
      "\n",
      "===== RESPONSE =====\n",
      "\n",
      "\n",
      "**Prompt Improvement Recommendations:**\n",
      "\n",
      "### Key Issues Identified:\n",
      "1. **Over-escalation**: Misclassifying non-critical security mentions (e.g., Case 22) as ESCALATION.\n",
      "2. **Under-escalation**: Failing to recognize dormant account risks (Case 10), identity verification failures (Case 14), or urgent service needs (Case 15).\n",
      "3. **IN_SCOPE Ambiguity**: Excluding valid service requests like application status (Case 3) or financial advice (Case 9).\n",
      "\n",
      "---\n",
      "\n",
      "### Suggested Revisions:\n",
      "\n",
      "#### 1. **Clarify ESCALATION Criteria**\n",
      "   - **Expand Examples** to cover nuanced security risks and urgent non-security issues:\n",
      "     ```json\n",
      "     \"ESCALATION\": \"For confirmed security breaches (e.g., 'Unauthorized withdrawals abroad,' 'Account lockouts'), identity verification failures post-legal changes (e.g., 'Can't update email after name change'), dormant account inquiries (>5 years), or urgent service requests requiring immediate intervention (e.g., 'Speak to manager immediately about critical issue').\"\n",
      "     ```\n",
      "   - **Refine Note** to emphasize urgency and criticality:\n",
      "     ```json\n",
      "     \"Note: Use ESCALATION for primary security threats, urgent access needs, or critical service issues. Secondary security mentions (e.g., 'Reset PIN + update info') default to primary category unless a breach is confirmed.\"\n",
      "     ```\n",
      "\n",
      "#### 2. **Strengthen IN_SCOPE Boundaries**\n",
      "   - Add examples for non-transactional service requests:\n",
      "     ```json\n",
      "     \"IN_SCOPE\": \"For service requests (e.g., 'Application status checks,' 'IRA conversion advice tied to accounts,' 'Documentation for mortgages,' 'Fee disputes').\"\n",
      "     ```\n",
      "\n",
      "#### 3. **Disambiguate Category Overlaps**\n",
      "   - **TRANSACTION_STATUS**: Clarify exclusions:\n",
      "     ```json\n",
      "     \"TRANSACTION_STATUS\": \"For pending financial transactions (e.g., 'Payment tracking'). Excludes application/service statuses.\"\n",
      "     ```\n",
      "   - **AUTHENTICATION_SETUP**: Limit to feature enablement:\n",
      "     ```json\n",
      "     \"AUTHENTICATION_SETUP\": \"For enabling security features (e.g., 'Set up fingerprint'). Excludes transactional authentication failures.\"\n",
      "     ```\n",
      "\n",
      "#### 4. **Structural Adjustments**\n",
      "   - Reorder categories by urgency (ESCALATION first) to reinforce prioritization.\n",
      "   - Use bullet points for examples to improve readability.\n",
      "\n",
      "---\n",
      "\n",
      "### Revised Template Snippet:\n",
      "```json\n",
      "\"ESCALATION\": \"For confirmed breaches (e.g., 'Fraudulent activity abroad,' 'Account lockouts'), identity verification failures (e.g., 'Post-name-change email update failed'), dormant accounts (>5 years), or urgent service needs (e.g., 'Immediate manager escalation').\",\n",
      "\"IN_SCOPE\": \"For account-related requests (e.g., 'Application status,' 'Financial advice for accounts,' 'Mortgage documentation,' 'Fee disputes').\",\n",
      "\"TRANSACTION_STATUS\": \"For financial transaction tracking only. Excludes service requests.\"\n",
      "```\n",
      "\n",
      "**Critical Fixes**:\n",
      "- Prevent over-escalation by narrowing criteria to confirmed threats or critical urgency.\n",
      "- Expand IN_SCOPE to cover non-transactional services.\n",
      "- Clarify category boundaries with security-inclusive examples.\n",
      "\n",
      "\n",
      "\n",
      "===== TOKEN USAGE =====\n",
      "{'inputTokens': 6574, 'outputTokens': 4101, 'totalTokens': 10675}\n",
      "Updated suggestion history (now 12777 characters)\n",
      "Feedback generated.\n",
      "Time taken: 0:03:16.069383\n",
      "Generating improved prompt...\n",
      "{\n",
      "    \"root_cause\": \"The current template suffers from over-escalation of non-critical security mentions, under-escalation of dormant account risks and urgent service needs, and ambiguity in the IN_SCOPE category, leading to misclassification of valid service requests. The template needs to clarify escalation criteria, strengthen IN_SCOPE boundaries, disambiguate category overlaps, and adjust the structure for better readability and prioritization.\",\n",
      "    \"improved_template\": \"You are a Financial Services Assistant. Classify each customer inquiry into one of these categories:\\n\\n- **ESCALATION**: For confirmed security breaches (e.g., 'Unauthorized withdrawals abroad,' 'Account lockouts'), identity verification failures post-legal changes (e.g., 'Can't update email after name change'), dormant account inquiries (>5 years), or urgent service requests requiring immediate intervention (e.g., 'Speak to manager immediately about critical issue').\\n\\n- **ACKNOWLEDGEMENT**: For greetings and thanks\\n\\n- **PASSWORD_RESET**: For password issues\\n\\n- **CONTACT_INFO_UPDATE**: For updating contact information, unless paired with explicit security breaches\\n\\n- **PIN_RESET**: For PIN changes, including when paired with non-security requests (e.g., 'Reset PIN and update email')\\n\\n- **TRANSACTION_STATUS**: For pending financial transactions only. Excludes application/service statuses.\\n\\n- **AUTHENTICATION_SETUP**: For enabling security features (e.g., 'Set up fingerprint access'). Excludes authentication failures during transactions.\\n\\n- **CARD_DISPUTE**: For isolated unauthorized charges (e.g., 'Charges at gas stations I didn’t visit')\\n\\n- **IN_SCOPE**: For service requests (e.g., 'Application status checks,' 'IRA conversion advice tied to accounts,' 'Documentation for mortgages,' 'Fee disputes') unless tied to active security risks.\\n\\n- **OUT_OF_SCOPE**: For unrelated topics\\n\\nNote: Use ESCALATION for primary security threats, urgent access needs, or critical service issues. Secondary security mentions (e.g., 'Reset PIN + update info') default to the primary category unless a breach is confirmed.\\n\\n### Output Format:\\nDirectly output in json. \\n```json\\n{\\\"prediction\\\": \\\"ONE classified category\\\", \\\"explanation\\\": \\\"brief reason for the classification, considering urgency or security factors for ESCALATION\\\"}\\n```\\n\\n### User Inquiry:\\n${user_question}.\"\n",
      "}\n",
      "\n",
      "Improved prompt created.\n",
      "Time taken: 0:00:05.043680\n",
      "\n",
      "===== IMPROVED TEMPLATE =====\n",
      "You are a Financial Services Assistant. Classify each customer inquiry into one of these categories:\n",
      "\n",
      "- **ESCALATION**: For confirmed security breaches (e.g., 'Unauthorized withdrawals abroad,' 'Account lockouts'), identity verification failures post-legal changes (e.g., 'Can't update email after name change'), dormant account inquiries (>5 years), or urgent service requests requiring immediate intervention (e.g., 'Speak to manager immediately about critical issue').\n",
      "\n",
      "- **ACKNOWLEDGEMENT**: For greetings and thanks\n",
      "\n",
      "- **PASSWORD_RESET**: For password issues\n",
      "\n",
      "- **CONTACT_INFO_UPDATE**: For updating contact information, unless paired with explicit security breaches\n",
      "\n",
      "- **PIN_RESET**: For PIN changes, including when paired with non-security requests (e.g., 'Reset PIN and update email')\n",
      "\n",
      "- **TRANSACTION_STATUS**: For pending financial transactions only. Excludes application/service statuses.\n",
      "\n",
      "- **AUTHENTICATION_SETUP**: For enabling security features (e.g., 'Set up fingerprint access'). Excludes authentication failures during transactions.\n",
      "\n",
      "- **CARD_DISPUTE**: For isolated unauthorized charges (e.g., 'Charges at gas stations I didn’t visit')\n",
      "\n",
      "- **IN_SCOPE**: For service requests (e.g., 'Application status checks,' 'IRA conversion advice tied to accounts,' 'Documentation for mortgages,' 'Fee disputes') unless tied to active security risks.\n",
      "\n",
      "- **OUT_OF_SCOPE**: For unrelated topics\n",
      "\n",
      "Note: Use ESCALATION for primary security threats, urgent access needs, or critical service issues. Secondary security mentions (e.g., 'Reset PIN + update info') default to the primary category unless a breach is confirmed.\n",
      "\n",
      "### Output Format:\n",
      "Directly output in json. \n",
      "```json\n",
      "{\"prediction\": \"ONE classified category\", \"explanation\": \"brief reason for the classification, considering urgency or security factors for ESCALATION\"}\n",
      "```\n",
      "\n",
      "### User Inquiry:\n",
      "${user_question}.\n",
      "============================\n",
      "\n",
      "\n",
      "\n",
      "======== ITERATION 5/5 ========\n",
      "\n",
      "Starting evaluation...\n"
     ]
    },
    {
     "name": "stderr",
     "output_type": "stream",
     "text": [
      "Processing Test Cases:   8%|▊         | 2/25 [00:02<00:45,  2.00s/it, Success=2/25]"
     ]
    },
    {
     "name": "stdout",
     "output_type": "stream",
     "text": [
      "{\"prediction\": \"PIN_RESET\", \"explanation\": \"The inquiry involves changing the PIN for an ATM card, which is classified under PIN_RESET. The additional request to update the mobile number is secondary and does not elevate the urgency or security level of the primary request.\"}\n",
      "\n",
      "{\"prediction\": \"ESCALATION\", \"explanation\": \"The inquiry involves potential security threats: failed verification and a suspicious text message claiming to be from the bank, which could indicate a phishing attempt or a security breach.\"}\n",
      "\n"
     ]
    },
    {
     "name": "stderr",
     "output_type": "stream",
     "text": [
      "Processing Test Cases:  12%|█▏        | 3/25 [00:03<00:26,  1.20s/it, Success=3/25]"
     ]
    },
    {
     "name": "stdout",
     "output_type": "stream",
     "text": [
      "{\"prediction\": \"IN_SCOPE\", \"explanation\": \"The inquiry is about the status of an application, which falls under service requests. There is no indication of a security threat or urgent access need.\"}\n",
      "\n"
     ]
    },
    {
     "name": "stderr",
     "output_type": "stream",
     "text": [
      "Processing Test Cases:  16%|█▌        | 4/25 [00:04<00:18,  1.15it/s, Success=4/25]"
     ]
    },
    {
     "name": "stdout",
     "output_type": "stream",
     "text": [
      "{\"prediction\": \"ESCALATION\", \"explanation\": \"This inquiry involves multiple failed withdrawal attempts from different locations, indicating a potential security breach. The customer is also traveling abroad, adding urgency to the situation.\"}\n",
      "\n"
     ]
    },
    {
     "name": "stderr",
     "output_type": "stream",
     "text": [
      "Processing Test Cases:  24%|██▍       | 6/25 [00:07<00:23,  1.22s/it, Success=6/25]"
     ]
    },
    {
     "name": "stdout",
     "output_type": "stream",
     "text": [
      "{\"prediction\": \"CARD_DISPUTE\", \"explanation\": \"The inquiry involves unauthorized small charges, which are typical indicators of potential card disputes.\"}\n",
      "\n",
      "{\"prediction\": \"ESCALATION\", \"explanation\": \"The customer has an urgent need for access to funds due to an important business trip, and the ATM has retained their card after multiple incorrect PIN attempts, indicating a critical service issue.\"}\n",
      "\n"
     ]
    },
    {
     "name": "stderr",
     "output_type": "stream",
     "text": [
      "Processing Test Cases:  28%|██▊       | 7/25 [00:09<00:23,  1.28s/it, Success=7/25]"
     ]
    },
    {
     "name": "stdout",
     "output_type": "stream",
     "text": [
      "{\"prediction\": \"ESCALATION\", \"explanation\": \"This inquiry indicates a potential security breach or critical account issue, as the customer reports a significant, unexplained account balance discrepancy without visible transactions.\"}\n",
      "\n",
      "{\"prediction\": \"IN_SCOPE\", \"explanation\": \"The inquiry pertains to adding an authorized user to the account, which is a standard service request. There is no indication of a security breach or urgent need, so it does not require escalation.\"}\n",
      "\n"
     ]
    },
    {
     "name": "stderr",
     "output_type": "stream",
     "text": [
      "Processing Test Cases:  36%|███▌      | 9/25 [00:10<00:16,  1.02s/it, Success=9/25]"
     ]
    },
    {
     "name": "stdout",
     "output_type": "stream",
     "text": [
      "{\"prediction\": \"ESCALATION\", \"explanation\": \"The inquiry involves a dormant account that is more than 5 years old, which requires special handling and verification processes.\"}\n",
      "\n"
     ]
    },
    {
     "name": "stderr",
     "output_type": "stream",
     "text": [
      "Processing Test Cases:  40%|████      | 10/25 [00:10<00:12,  1.21it/s, Success=10/25]"
     ]
    },
    {
     "name": "stdout",
     "output_type": "stream",
     "text": [
      "{\"prediction\": \"IN_SCOPE\", \"explanation\": \"The inquiry is about IRA conversion advice, which is a service request related to financial planning and is within the scope of typical financial services assistance.\"}\n",
      "\n"
     ]
    },
    {
     "name": "stderr",
     "output_type": "stream",
     "text": [
      "Processing Test Cases:  48%|████▊     | 12/25 [00:12<00:12,  1.03it/s, Success=12/25]"
     ]
    },
    {
     "name": "stdout",
     "output_type": "stream",
     "text": [
      "{\"prediction\": \"IN_SCOPE\", \"explanation\": \"The inquiry involves a service request to increase the daily transfer limit and check the status of a pre-approval, which are within the scope of typical financial services assistance.\"}\n",
      "\n",
      "{\"prediction\": \"AUTHENTICATION_SETUP\", \"explanation\": \"The inquiry is about setting up security features like face recognition and fingerprint access, which falls under AUTHENTICATION_SETUP. There is no mention of a confirmed security breach or urgent issue.\"}\n",
      "\n"
     ]
    },
    {
     "name": "stderr",
     "output_type": "stream",
     "text": [
      "Processing Test Cases:  56%|█████▌    | 14/25 [00:13<00:07,  1.45it/s, Success=14/25]"
     ]
    },
    {
     "name": "stdout",
     "output_type": "stream",
     "text": [
      "{\"prediction\": \"ESCALATION\", \"explanation\": \"The inquiry involves identity verification failure post a legal name change, which is a critical issue that may require immediate intervention to resolve the security and verification process.\"}\n",
      "\n",
      "{\"prediction\": \"ESCALATION\", \"explanation\": \"This inquiry involves a confirmed security breach (unauthorized change to direct deposit account info) and an urgent need for immediate intervention to prevent financial loss.\"}\n",
      "\n"
     ]
    },
    {
     "name": "stderr",
     "output_type": "stream",
     "text": [
      "Processing Test Cases:  64%|██████▍   | 16/25 [00:15<00:05,  1.54it/s, Success=16/25]"
     ]
    },
    {
     "name": "stdout",
     "output_type": "stream",
     "text": [
      "{\"prediction\": \"IN_SCOPE\", \"explanation\": \"The inquiry pertains to a fee dispute related to the customer's checking account, which is a service request within the scope of financial services assistance.\"}\n",
      "\n",
      "{\"prediction\": \"ESCALATION\", \"explanation\": \"The customer is expressing a critical issue regarding significant financial loss and is requesting to speak to a manager immediately, indicating an urgent service request requiring immediate intervention.\"}\n",
      "\n"
     ]
    },
    {
     "name": "stderr",
     "output_type": "stream",
     "text": [
      "Processing Test Cases:  72%|███████▏  | 18/25 [00:16<00:06,  1.14it/s, Success=18/25]"
     ]
    },
    {
     "name": "stdout",
     "output_type": "stream",
     "text": [
      "{\"prediction\": \"ESCALATION\", \"explanation\": \"This inquiry involves an urgent financial need (emergency funds for a family member abroad) coupled with a potential security issue (verification required error during an international transaction), necessitating immediate intervention.\"}\n",
      "\n",
      "{\"prediction\": \"CARD_DISPUTE\", \"explanation\": \"The inquiry involves unauthorized charges on the customer's card, which is a specific case of card dispute.\"}\n",
      "\n"
     ]
    },
    {
     "name": "stderr",
     "output_type": "stream",
     "text": [
      "Processing Test Cases:  80%|████████  | 20/25 [00:18<00:03,  1.63it/s, Success=20/25]"
     ]
    },
    {
     "name": "stdout",
     "output_type": "stream",
     "text": [
      "{\"prediction\": \"OUT_OF_SCOPE\", \"explanation\": \"The inquiry is about external financial opportunities and comparisons, not directly related to the customer's account or services provided by the financial institution.\"}\n",
      "\n",
      "{\"prediction\": \"TRANSACTION_STATUS\", \"explanation\": \"The inquiry is about tracing a pending financial transaction, which falls under TRANSACTION_STATUS.\"}\n",
      "\n"
     ]
    },
    {
     "name": "stderr",
     "output_type": "stream",
     "text": [
      "Processing Test Cases:  84%|████████▍ | 21/25 [00:19<00:02,  1.36it/s, Success=21/25]"
     ]
    },
    {
     "name": "stdout",
     "output_type": "stream",
     "text": [
      "{\"prediction\": \"ESCALATION\", \"explanation\": \"The inquiry involves an unrecognized charge and subsequent account lockout, indicating a potential security breach and urgent need for intervention.\"}\n",
      "\n"
     ]
    },
    {
     "name": "stderr",
     "output_type": "stream",
     "text": [
      "Processing Test Cases:  88%|████████▊ | 22/25 [00:19<00:01,  1.59it/s, Success=22/25]"
     ]
    },
    {
     "name": "stdout",
     "output_type": "stream",
     "text": [
      "{\"prediction\": \"CONTACT_INFO_UPDATE\", \"explanation\": \"The primary request is to update contact information. The mention of being locked out of mobile banking is secondary and does not confirm a security breach, so it does not escalate the inquiry to ESCALATION.\"}\n",
      "\n"
     ]
    },
    {
     "name": "stderr",
     "output_type": "stream",
     "text": [
      "Processing Test Cases:  92%|█████████▏| 23/25 [00:20<00:01,  1.24it/s, Success=23/25]"
     ]
    },
    {
     "name": "stdout",
     "output_type": "stream",
     "text": [
      "{\"prediction\": \"IN_SCOPE\", \"explanation\": \"The inquiry is a service request related to providing documentation for a mortgage, which is within the scope of financial services assistance.\"}\n",
      "\n"
     ]
    },
    {
     "name": "stderr",
     "output_type": "stream",
     "text": [
      "Processing Test Cases:  96%|█████████▌| 24/25 [00:21<00:00,  1.56it/s, Success=24/25]"
     ]
    },
    {
     "name": "stdout",
     "output_type": "stream",
     "text": [
      "{\"prediction\": \"IN_SCOPE\", \"explanation\": \"The inquiry is about a sudden drop in credit score, which is a service-related concern but does not indicate a confirmed security breach or urgent access need.\"}\n",
      "\n"
     ]
    },
    {
     "name": "stderr",
     "output_type": "stream",
     "text": [
      "Processing Test Cases: 100%|██████████| 25/25 [00:22<00:00,  1.12it/s, Success=25/25]"
     ]
    },
    {
     "name": "stdout",
     "output_type": "stream",
     "text": [
      "{\"prediction\": \"OUT_OF_SCOPE\", \"explanation\": \"The inquiry appears to be nonsensical or spam, not related to any specific financial service request or category.\"}\n",
      "\n",
      "Results saved to ./results/test_results_20250429_130422.json\n",
      "\n",
      "Evaluation complete!\n",
      "Time taken: 0:00:22.299565\n",
      "Total test cases: 25\n",
      "Failed calls: 0\n",
      "Task success rate: 92.00%\n",
      "\n",
      "Generating feedback for prompt improvement...\n",
      "Current suggestion history length: 12777 characters\n"
     ]
    },
    {
     "name": "stderr",
     "output_type": "stream",
     "text": [
      "\n"
     ]
    },
    {
     "name": "stdout",
     "output_type": "stream",
     "text": [
      "\n",
      "===== REASONING =====\n",
      "\n",
      "\n",
      "Okay, let's tackle this problem. The user wants me to analyze the classification performance based on the given evaluation results and suggest prompt improvements. The current template has some issues leading to misclassifications, especially in cases 18 and 22.\n",
      "\n",
      "First, I need to look at the misclassified cases. From the evaluation results, cases 18 and 22 were predicted as ESCALATION but the ground truth was IN_SCOPE and IN_SCOPE respectively. The explanations given in the predictions mention urgency or security issues, but the ground truth says otherwise.\n",
      "\n",
      "Looking at case 18: The user can't complete an international wire transfer due to a verification error. The model escalated it because of the urgent need (son abroad needing funds) and possible security issue. But the ground truth is IN_SCOPE. The current prompt's note says to use ESCALATION for primary security threats or urgent access. Maybe the model is over-escalating here because the verification error isn't a confirmed breach. The prompt might need to clarify that transactional errors without confirmed security issues are IN_SCOPE.\n",
      "\n",
      "Case 22: Unrecognized charge and account lockout. The model escalated it, but ground truth is IN_SCOPE. The current ESCALATION category includes account lockouts. Wait, the current template's ESCALATION does mention account lockouts. Hmm, maybe the model is correct here, but the ground truth is wrong? Or perhaps the explanation in the prompt's note isn't clear. The note says \"use ESCALATION for primary security threats... unless a breach is confirmed.\" But account lockout could be a security threat. Maybe the ground truth is incorrect, but assuming it's correct, the model is over-escalating. The prompt might need to specify that lockouts due to failed disputes (like fee disputes) are IN_SCOPE unless there's a confirmed breach.\n",
      "\n",
      "Looking at the current prompt's ESCALATION examples: includes account lockouts. So case 22's lockout should be ESCALATION. But the ground truth is IN_SCOPE. That's conflicting. Maybe the ground truth is wrong here, but the user says to focus on the explanation. The model's explanation for case 22 says it's a potential security breach and urgent need. The current prompt's ESCALATION includes account lockouts, so the model is following that. But the ground truth says IN_SCOPE. This suggests a possible error in the ground truth, but the user wants us to critique the explanation. The model's explanation is correct per the current prompt, but the ground truth is different. So maybe the prompt's ESCALATION criteria are too broad, leading to over-escalation.\n",
      "\n",
      "The current note says \"use ESCALATION for primary security threats... secondary security mentions default to primary unless a breach is confirmed.\" So in case 22, the lockout is a primary security threat (account lockout is listed under ESCALATION), so the model is correct. But the ground truth is IN_SCOPE. That's a discrepancy. Maybe the ground truth is wrong, but the user's instruction says to focus on the explanation. So perhaps the model's explanation is correct, but the ground truth is incorrect. However, the user's task is to improve the prompt based on the evaluation results. So maybe the prompt's ESCALATION criteria need to be more precise.\n",
      "\n",
      "Looking at the current ESCALATION examples: account lockouts are included. So case 22's prediction is correct. But the ground truth is IN_SCOPE. That's conflicting. Maybe the ground truth is wrong, but the user's example shows it as a misclassification. So perhaps the model is over-escalating. Therefore, the prompt's ESCALATION criteria might need to be narrowed. For example, account lockouts might not always be ESCALATION unless paired with other factors. But the current template includes account lockouts in ESCALATION. So maybe the model is correct, but the ground truth is wrong. However, the user's evaluation says it's a misclassification, so the model's prediction is wrong. Therefore, the prompt's ESCALATION criteria are too broad.\n",
      "\n",
      "In case 18, the user has a wire transfer error and urgent need. The model escalated it. The current prompt's ESCALATION includes urgent service requests. But the ground truth is IN_SCOPE. So the model is over-escalating. The prompt's note says \"urgent service requests requiring immediate intervention\" should be ESCALATION. But maybe the wire transfer error is a service request (IN_SCOPE) unless there's a security breach. The model's explanation mentions a potential security issue (verification required error), but the user didn't confirm a breach. So the model is escalating based on the error and urgency. The current prompt's ESCALATION includes \"urgent service requests requiring immediate intervention,\" but maybe the criteria need to be more specific. For example, only escalate if there's a confirmed security threat or critical access issue, not just transactional errors with urgency.\n",
      "\n",
      "So the main issues are:\n",
      "\n",
      "1. Over-escalation in cases where there's urgency but no confirmed security breach (case 18).\n",
      "2. Possible confusion between transactional errors (IN_SCOPE) and security threats (ESCALATION).\n",
      "\n",
      "The current prompt's ESCALATION includes \"urgent service requests requiring immediate intervention,\" but maybe that's too vague. The model might be interpreting any urgent request as ESCALATION. The note says to use ESCALATION for primary security threats, but the examples include urgent service requests. So perhaps the examples and criteria need to be more precise.\n",
      "\n",
      "Looking at the current ESCALATION examples: \"Speak to manager immediately about critical issue\" is an example. But case 18's user wants to send emergency funds, which is urgent but not a security breach. The model escalated it because of the verification error (possible security) and urgency. But the ground truth is IN_SCOPE. So the model is incorrectly applying the ESCALATION criteria.\n",
      "\n",
      "The current note says \"use ESCALATION for primary security threats, urgent access needs, or critical service issues.\" The model might be interpreting \"critical service issues\" as any urgent request. But the examples under ESCALATION are more about security or access. So the note's wording might be causing confusion.\n",
      "\n",
      "Possible improvements:\n",
      "\n",
      "- Clarify that ESCALATION is for confirmed security breaches, account lockouts, identity verification failures (like post-legal name change), dormant accounts (>5 years), or urgent access needs (e.g., can't access funds for emergency). But urgent service requests (like needing to send money) without security issues should be IN_SCOPE.\n",
      "\n",
      "- Adjust the examples in ESCALATION to remove ambiguous cases. For example, the current example \"Speak to manager immediately about critical issue\" is vague. Maybe replace it with more specific examples like \"Need access to funds for emergency surgery\" (if paired with a security issue) or \"Account frozen due to suspected fraud.\"\n",
      "\n",
      "- Modify the note to emphasize that ESCALATION requires confirmed security threats or critical access issues, not just urgency. For example, \"Use ESCALATION for confirmed security breaches, urgent access needs (e.g., can't access funds for emergency travel), or critical service issues tied to security. Do not escalate for standard service requests with urgency unless a security threat is confirmed.\"\n",
      "\n",
      "In case 18, the user's issue is a wire transfer error and urgent need. The model escalated it because of the verification error (possible security) and urgency. But the ground truth is IN_SCOPE. So the model is incorrectly considering the verification error as a security threat. The current prompt's ESCALATION includes \"identity verification failures post-legal changes,\" but not general verification errors. So maybe the model is over-generalizing.\n",
      "\n",
      "Another issue: the current ESCALATION includes \"urgent service requests requiring immediate intervention.\" But case 18's request is urgent but not a security issue. So perhaps the criteria should be more specific. For example, urgent service requests only escalate if tied to security or access issues.\n",
      "\n",
      "So, to fix case 18, the prompt should clarify that transactional errors (like wire transfer issues) are IN_SCOPE unless there's a confirmed security breach. The model's explanation for case 18 says \"potential security issue,\" but the user didn't confirm it. So the model is escalating based on a possible security issue, but the ground truth says it's IN_SCOPE. Therefore, the prompt needs to specify that only confirmed breaches trigger ESCALATION.\n",
      "\n",
      "Similarly, case 22: unrecognized charge and account lockout. The model escalated it because account lockout is in ESCALATION. But the ground truth is IN_SCOPE. Maybe the ground truth is wrong, but according to the current prompt, the model is correct. However, the user's evaluation says it's a misclassification. So perhaps the prompt's ESCALATION criteria for account lockouts need to be adjusted. Maybe account lockouts are only ESCALATION if paired with other security indicators. But the current template lists account lockouts under ESCALATION. So this is conflicting.\n",
      "\n",
      "Wait, the current ESCALATION examples include \"Account lockouts.\" So case 22's prediction is correct. But the ground truth is IN_SCOPE. That suggests a possible error in the ground truth. However, the user's task is to improve the prompt based on the evaluation results. So perhaps the model is over-escalating here. Maybe the account lockout in case 22 is due to a fee dispute, which is a service request. The current prompt says ESCALATION includes account lockouts, but maybe the context matters. If the lockout is due to a fee dispute (a service issue), then it's IN_SCOPE. But the current ESCALATION includes account lockouts regardless of context. So the model is following the prompt, but the ground truth is different. This indicates that the prompt's ESCALATION criteria are too broad.\n",
      "\n",
      "Therefore, the prompt should clarify that account lockouts are ESCALATION only if they are due to security breaches, not service-related issues. For example, if the account is locked due to multiple failed logins (security), escalate. If locked due to a fee dispute (service), then IN_SCOPE.\n",
      "\n",
      "But the current ESCALATION examples don't specify the context of the account lockout. So the model can't differentiate. Hence, the examples need to be more specific.\n",
      "\n",
      "So, possible improvements:\n",
      "\n",
      "1. In ESCALATION, specify that account lockouts are included only when due to security reasons (e.g., \"Account lockouts due to suspected fraud\").\n",
      "\n",
      "2. For case 22, the lockout is due to a fee dispute (unrecognized charge). So if the lockout is a result of a service issue (fee dispute), it's IN_SCOPE. But the current prompt's ESCALATION includes account lockouts without context. Therefore, the model is incorrectly escalating.\n",
      "\n",
      "Thus, the prompt's ESCALATION criteria need to be refined to include account lockouts only when tied to security threats, not service requests.\n",
      "\n",
      "Another angle: the current note says \"use ESCALATION for primary security threats... secondary security mentions default to primary unless a breach is confirmed.\" In case 22, the fee dispute (IN_SCOPE) is paired with a lockout (ESCALATION). The model escalated it. But the ground truth is IN_SCOPE. So the model is prioritizing ESCALATION over the primary category. The note says secondary security mentions default to primary unless a breach is confirmed. But here, the primary category is a fee dispute (IN_SCOPE), and the secondary is a lockout (ESCALATION). The model is escalating because the lockout is a security threat. But according to the note, if the primary is not a breach, then default to primary. Wait, the note says \"secondary security mentions default to primary category unless a breach is confirmed.\" So if the primary is a fee dispute (IN_SCOPE) and the secondary is a lockout (security), but no breach is confirmed, then default to IN_SCOPE. But the model escalated. So the model is not following the note correctly.\n",
      "\n",
      "Ah, here's the confusion. The note says: \"Secondary security mentions (e.g., 'Reset PIN + update info') default to the primary category unless a breach is confirmed.\" So if the primary is a service request (like fee dispute) and there's a security mention (lockout), but no confirmed breach, then it's IN_SCOPE. But the model escalated. So the model is not applying the note's rule. Therefore, the prompt's note needs to be clearer.\n",
      "\n",
      "In case 22, the primary request is a fee dispute (IN_SCOPE), and the secondary is an account lockout. The model escalated because the lockout is a security threat. But according to the note, since the primary is not a breach, it should default to IN_SCOPE unless a breach is confirmed. But the model didn't do that. So the model is not following the note's instruction. Therefore, the note's wording might be ambiguous.\n",
      "\n",
      "The current note says: \"Secondary security mentions default to the primary category unless a breach is confirmed.\" So if the primary is a fee dispute (IN_SCOPE) and there's a security mention (lockout), but no breach is confirmed, then it's IN_SCOPE. But the model escalated. So the model is incorrectly prioritizing the security mention. Therefore, the note needs to be more explicit.\n",
      "\n",
      "Possible rewording of the note: \"If the primary request is not a security breach (e.g., service requests), but includes a secondary security mention (e.g., 'Reset PIN + fee dispute'), classify as the primary category (e.g., IN_SCOPE) unless there is a confirmed security breach. Only escalate if the security threat is the primary concern or confirmed.\"\n",
      "\n",
      "This would clarify that in case 22, since the primary is a fee dispute (IN_SCOPE) and the lockout is secondary, but no breach is confirmed, it should be IN_SCOPE.\n",
      "\n",
      "So the model's error in case 22 is due to not following the note's rule. Therefore, the note needs to be clearer.\n",
      "\n",
      "Another issue: the current ESCALATION examples include \"Account lockouts\" without context. So the model might be treating all lockouts as ESCALATION. But in case 22, the lockout is due to a fee dispute, which is a service issue. So the model is incorrectly categorizing it.\n",
      "\n",
      "Thus, the ESCALATION examples should specify that account lockouts are included when due to security reasons, not service-related issues.\n",
      "\n",
      "So, revised ESCALATION examples could be:\n",
      "\n",
      "- Account lockouts due to suspected fraudulent activity\n",
      "- Unauthorized withdrawals while traveling\n",
      "- Identity verification failures after legal name changes\n",
      "\n",
      "This way, the model knows that lockouts due to service issues (like fee disputes) are not ESCALATION.\n",
      "\n",
      "Putting this all together, the main improvements needed are:\n",
      "\n",
      "1. Clarify ESCALATION criteria to include account lockouts only when tied to security threats, not service issues.\n",
      "2. Adjust the note to explicitly state that secondary security mentions default to the primary category unless a breach is confirmed, and provide examples.\n",
      "3. Add examples to ESCALATION that specify the context (e.g., \"Account lockouts due to fraud\").\n",
      "4. Ensure that urgent service requests are only escalated if tied to security or access issues, not just urgency.\n",
      "\n",
      "So, the revised prompt should:\n",
      "\n",
      "- In ESCALATION, specify that account lockouts are included when due to security reasons (e.g., \"Account lockouts after multiple failed login attempts due to fraud\").\n",
      "- Modify the note to say: \"Use ESCALATION for confirmed security breaches, urgent access needs (e.g., can't access funds for emergency travel), or critical service issues tied to security. If the primary request is a service issue (e.g., fee dispute) with a secondary security mention (e.g., account lockout), classify as the primary category unless a breach is confirmed.\"\n",
      "- Add examples to IN_SCOPE for urgent service requests without security issues (e.g., \"Need to send emergency funds but wire transfer failed due to error\").\n",
      "\n",
      "This way, case 18 would be IN_SCOPE (wire transfer error, urgent but no security breach), and case 22 would be IN_SCOPE (fee dispute with lockout, but no confirmed breach).\n",
      "\n",
      "\n",
      "\n",
      "===== RESPONSE =====\n",
      "\n",
      "\n",
      "**Prompt Improvement Recommendations:**\n",
      "\n",
      "### Key Issues Identified:\n",
      "1. **Over-escalation** in cases with urgency but no confirmed security breach (e.g., Case 18: wire transfer error with urgent need).\n",
      "2. **Misclassification of account lockouts** tied to service requests (e.g., Case 22: fee dispute + lockout) as ESCALATION instead of IN_SCOPE.\n",
      "3. **Ambiguity in urgency vs. security criteria** for ESCALATION.\n",
      "\n",
      "---\n",
      "\n",
      "### Suggested Revisions:\n",
      "\n",
      "#### 1. **Clarify ESCALATION Criteria**\n",
      "   - **Refine Security-Related Examples**: Specify context for account lockouts (e.g., fraud-related) to avoid over-escalation.\n",
      "   - **Narrow Urgency Requirements**: Limit escalation to security-critical or access-blocking issues, not general urgency.\n",
      "\n",
      "   ```json\n",
      "   \"ESCALATION\": \"For confirmed security breaches (e.g., 'Unauthorized withdrawals abroad,' 'Account lockouts due to fraud'), identity verification failures post-legal changes (e.g., 'Can't update email after name change'), dormant accounts (>5 years), or critical access issues (e.g., 'ATM retained card + urgent travel'). Exclude service requests with secondary security mentions unless a breach is confirmed.\"\n",
      "   ```\n",
      "\n",
      "#### 2. **Strengthen Category Boundaries**\n",
      "   - **Expand IN_SCOPE Examples**: Include urgent service requests without security ties.\n",
      "   - **Differentiate Transactional Errors**: Clarify these are IN_SCOPE unless paired with confirmed breaches.\n",
      "\n",
      "   ```json\n",
      "   \"IN_SCOPE\": \"For service requests (e.g., 'Application status,' 'IRA advice,' 'Mortgage docs,' 'Fee disputes,' 'Wire transfer errors'). Urgent needs (e.g., 'Emergency funds') default here unless tied to security threats.\"\n",
      "   ```\n",
      "\n",
      "#### 3. **Enhance Note for Hierarchy**\n",
      "   - **Explicitly Prioritize Primary Intent**: Clarify secondary security mentions do not override non-security primary requests.\n",
      "\n",
      "   ```json\n",
      "   \"Note: Use ESCALATION only for confirmed breaches, critical access needs, or dormant accounts. Secondary security mentions (e.g., 'Reset PIN + fee dispute') default to the primary category (e.g., IN_SCOPE) unless a breach is explicitly stated.\"\n",
      "   ```\n",
      "\n",
      "#### 4. **Structural Adjustments**\n",
      "   - **Reorder Examples**: Group by severity (ESCALATION first) and add bullet points for readability.\n",
      "   - **Remove Ambiguous Urgency Examples**: Replace vague cases like \"Speak to manager immediately\" with security-specific scenarios.\n",
      "\n",
      "---\n",
      "\n",
      "### Revised Template Snippet:\n",
      "```json\n",
      "\"ESCALATION\": \"For confirmed breaches (e.g., 'Fraudulent activity abroad,' 'Lockouts due to fraud'), identity failures post-legal changes, dormant accounts (>5 years), or critical access issues (e.g., 'ATM card retained + urgent travel').\",\n",
      "\"IN_SCOPE\": \"For service requests (e.g., 'Application status,' 'Financial advice,' 'Wire transfer errors,' 'Fee disputes'). Urgent needs default here unless security-critical.\",\n",
      "\"Note\": \"Prioritize ESCALATION for security threats. Secondary security mentions (e.g., 'PIN reset + update info') stay in primary category unless breach confirmed.\"\n",
      "```\n",
      "\n",
      "**Critical Fixes**:\n",
      "- Prevent over-escalation by tying urgency to security/access issues.\n",
      "- Clarify account lockouts require security context (e.g., fraud) to escalate.\n",
      "- Strengthen IN_SCOPE with non-security urgency examples.\n",
      "\n",
      "\n",
      "\n",
      "===== TOKEN USAGE =====\n",
      "{'inputTokens': 7403, 'outputTokens': 4390, 'totalTokens': 11793}\n",
      "Updated suggestion history (now 16037 characters)\n",
      "Feedback generated.\n",
      "Time taken: 0:02:49.147582\n",
      "Generating improved prompt...\n",
      "{\n",
      "    \"root_cause\": \"The current template leads to over-escalation of non-security urgent issues, misclassification of account lockouts tied to service requests, and ambiguity in urgency vs. security criteria for escalation. This results in inappropriate handling of customer inquiries, potentially delaying necessary actions or overburdening security teams with non-critical issues.\",\n",
      "    \"improved_template\": \"You are a Financial Services Assistant. Classify each customer inquiry into one of these categories:\\n\\n- **ESCALATION**: For confirmed security breaches (e.g., 'Fraudulent activity abroad,' 'Account lockouts due to fraud'), identity verification failures post-legal changes (e.g., 'Can't update email after name change'), dormant accounts (>5 years), or critical access issues (e.g., 'ATM card retained + urgent travel'). Exclude service requests with secondary security mentions unless a breach is confirmed.\\n\\n- **ACKNOWLEDGEMENT**: For greetings and thanks\\n\\n- **PASSWORD_RESET**: For password issues\\n\\n- **CONTACT_INFO_UPDATE**: For updating contact information, unless paired with explicit security breaches\\n\\n- **PIN_RESET**: For PIN changes, including when paired with non-security requests (e.g., 'Reset PIN and update email')\\n\\n- **TRANSACTION_STATUS**: For pending financial transactions only. Excludes application/service statuses.\\n\\n- **AUTHENTICATION_SETUP**: For enabling security features (e.g., 'Set up fingerprint access'). Excludes authentication failures during transactions.\\n\\n- **CARD_DISPUTE**: For isolated unauthorized charges (e.g., 'Charges at gas stations I didn’t visit')\\n\\n- **IN_SCOPE**: For service requests (e.g., 'Application status,' 'Financial advice,' 'Wire transfer errors,' 'Fee disputes'). Urgent needs default here unless security-critical.\\n\\n- **OUT_OF_SCOPE**: For unrelated topics\\n\\nNote: Use ESCALATION only for confirmed breaches, critical access needs, or dormant accounts. Secondary security mentions (e.g., 'Reset PIN + fee dispute') default to the primary category (e.g., IN_SCOPE) unless a breach is explicitly stated.\\n\\n### Output Format:\\nDirectly output in json. \\n```json\\n{\\\"prediction\\\": \\\"ONE classified category\\\", \\\"explanation\\\": \\\"brief reason for the classification, considering urgency or security factors for ESCALATION\\\"}\\n```\\n\\n### User Inquiry:\\n${user_question}.\"\n",
      "}\n",
      "\n",
      "Improved prompt created.\n",
      "Time taken: 0:00:05.068383\n",
      "\n",
      "===== IMPROVED TEMPLATE =====\n",
      "You are a Financial Services Assistant. Classify each customer inquiry into one of these categories:\n",
      "\n",
      "- **ESCALATION**: For confirmed security breaches (e.g., 'Fraudulent activity abroad,' 'Account lockouts due to fraud'), identity verification failures post-legal changes (e.g., 'Can't update email after name change'), dormant accounts (>5 years), or critical access issues (e.g., 'ATM card retained + urgent travel'). Exclude service requests with secondary security mentions unless a breach is confirmed.\n",
      "\n",
      "- **ACKNOWLEDGEMENT**: For greetings and thanks\n",
      "\n",
      "- **PASSWORD_RESET**: For password issues\n",
      "\n",
      "- **CONTACT_INFO_UPDATE**: For updating contact information, unless paired with explicit security breaches\n",
      "\n",
      "- **PIN_RESET**: For PIN changes, including when paired with non-security requests (e.g., 'Reset PIN and update email')\n",
      "\n",
      "- **TRANSACTION_STATUS**: For pending financial transactions only. Excludes application/service statuses.\n",
      "\n",
      "- **AUTHENTICATION_SETUP**: For enabling security features (e.g., 'Set up fingerprint access'). Excludes authentication failures during transactions.\n",
      "\n",
      "- **CARD_DISPUTE**: For isolated unauthorized charges (e.g., 'Charges at gas stations I didn’t visit')\n",
      "\n",
      "- **IN_SCOPE**: For service requests (e.g., 'Application status,' 'Financial advice,' 'Wire transfer errors,' 'Fee disputes'). Urgent needs default here unless security-critical.\n",
      "\n",
      "- **OUT_OF_SCOPE**: For unrelated topics\n",
      "\n",
      "Note: Use ESCALATION only for confirmed breaches, critical access needs, or dormant accounts. Secondary security mentions (e.g., 'Reset PIN + fee dispute') default to the primary category (e.g., IN_SCOPE) unless a breach is explicitly stated.\n",
      "\n",
      "### Output Format:\n",
      "Directly output in json. \n",
      "```json\n",
      "{\"prediction\": \"ONE classified category\", \"explanation\": \"brief reason for the classification, considering urgency or security factors for ESCALATION\"}\n",
      "```\n",
      "\n",
      "### User Inquiry:\n",
      "${user_question}.\n",
      "============================\n",
      "\n",
      "\n",
      "\n",
      "======== COMPLETED ALL ITERATIONS ========\n",
      "\n",
      "Starting evaluation...\n"
     ]
    },
    {
     "name": "stderr",
     "output_type": "stream",
     "text": [
      "Processing Test Cases:   4%|▍         | 1/25 [00:01<00:31,  1.32s/it, Success=1/25]"
     ]
    },
    {
     "name": "stdout",
     "output_type": "stream",
     "text": [
      "{\"prediction\": \"ESCALATION\", \"explanation\": \"The inquiry mentions a potential security breach with a strange text claiming to be from the bank asking for personal details, which requires immediate attention.\"}\n",
      "\n"
     ]
    },
    {
     "name": "stderr",
     "output_type": "stream",
     "text": [
      "Processing Test Cases:   8%|▊         | 2/25 [00:01<00:17,  1.29it/s, Success=2/25]"
     ]
    },
    {
     "name": "stdout",
     "output_type": "stream",
     "text": [
      "{\"prediction\": \"PIN_RESET\", \"explanation\": \"The inquiry involves a request to change the PIN for an ATM card, which is classified under PIN_RESET. The additional request to update the mobile number is secondary and does not change the primary classification.\"}\n",
      "\n"
     ]
    },
    {
     "name": "stderr",
     "output_type": "stream",
     "text": [
      "Processing Test Cases:  12%|█▏        | 3/25 [00:03<00:23,  1.05s/it, Success=3/25]"
     ]
    },
    {
     "name": "stdout",
     "output_type": "stream",
     "text": [
      "{\"prediction\": \"IN_SCOPE\", \"explanation\": \"The inquiry is about the status of an application, which falls under service requests. There is no mention of security breaches, critical access issues, or dormant accounts, so it does not qualify for ESCALATION.\"}\n",
      "\n"
     ]
    },
    {
     "name": "stderr",
     "output_type": "stream",
     "text": [
      "Processing Test Cases:  16%|█▌        | 4/25 [00:03<00:15,  1.31it/s, Success=4/25]"
     ]
    },
    {
     "name": "stdout",
     "output_type": "stream",
     "text": [
      "{\"prediction\": \"ESCALATION\", \"explanation\": \"This inquiry involves multiple failed withdrawal attempts at different ATMs, indicating potential fraudulent activity. The customer is also traveling abroad, adding urgency to the situation.\"}\n",
      "\n"
     ]
    },
    {
     "name": "stderr",
     "output_type": "stream",
     "text": [
      "Processing Test Cases:  20%|██        | 5/25 [00:04<00:18,  1.07it/s, Success=5/25]"
     ]
    },
    {
     "name": "stdout",
     "output_type": "stream",
     "text": [
      "{\"prediction\": \"CARD_DISPUTE\", \"explanation\": \"The inquiry involves unauthorized small charges, which are typical indicators of potential fraudulent activity. This falls under card disputes as the customer is questioning the legitimacy of specific transactions.\"}\n",
      "\n"
     ]
    },
    {
     "name": "stderr",
     "output_type": "stream",
     "text": [
      "Processing Test Cases:  24%|██▍       | 6/25 [00:05<00:13,  1.36it/s, Success=6/25]"
     ]
    },
    {
     "name": "stdout",
     "output_type": "stream",
     "text": [
      "{\"prediction\": \"ESCALATION\", \"explanation\": \"This inquiry involves a critical access issue where the customer's ATM card has been retained by the machine and they have an urgent need for funds due to an upcoming business trip.\"}\n",
      "\n"
     ]
    },
    {
     "name": "stderr",
     "output_type": "stream",
     "text": [
      "Processing Test Cases:  32%|███▏      | 8/25 [00:06<00:11,  1.49it/s, Success=8/25]"
     ]
    },
    {
     "name": "stdout",
     "output_type": "stream",
     "text": [
      "{\"prediction\": \"IN_SCOPE\", \"explanation\": \"The inquiry is about adding an authorized user to the account, which is a service request. It does not involve a confirmed security breach, critical access issue, or dormant account, so it does not qualify for ESCALATION.\"}\n",
      "\n",
      "{\"prediction\": \"ESCALATION\", \"explanation\": \"The inquiry indicates a significant discrepancy in account balance without corresponding withdrawals, suggesting potential fraudulent activity or a critical system error.\"}\n",
      "\n"
     ]
    },
    {
     "name": "stderr",
     "output_type": "stream",
     "text": [
      "Processing Test Cases:  36%|███▌      | 9/25 [00:07<00:13,  1.22it/s, Success=9/25]"
     ]
    },
    {
     "name": "stdout",
     "output_type": "stream",
     "text": [
      "{\"prediction\": \"ESCALATION\", \"explanation\": \"The inquiry involves a dormant account that has not been active for over 5 years, which requires special handling and potential escalation for verification and security reasons.\"}\n",
      "\n",
      "{\"prediction\": \"IN_SCOPE\", \"explanation\": \"This inquiry is a service request for financial advice regarding retirement planning and tax regulations, which falls under typical service requests.\"}\n",
      "\n"
     ]
    },
    {
     "name": "stderr",
     "output_type": "stream",
     "text": [
      "Processing Test Cases:  48%|████▊     | 12/25 [00:09<00:10,  1.18it/s, Success=12/25]"
     ]
    },
    {
     "name": "stdout",
     "output_type": "stream",
     "text": [
      "{\"prediction\": \"IN_SCOPE\", \"explanation\": \"The inquiry involves a service request to increase the daily transfer limit and check the status of a pre-approval, which falls under general service requests.\"}\n",
      "\n",
      "{\"prediction\": \"AUTHENTICATION_SETUP\", \"explanation\": \"The inquiry is about setting up security features like face recognition and fingerprint access, which falls under AUTHENTICATION_SETUP.\"}\n",
      "\n"
     ]
    },
    {
     "name": "stderr",
     "output_type": "stream",
     "text": [
      "Processing Test Cases:  52%|█████▏    | 13/25 [00:10<00:09,  1.32it/s, Success=13/25]"
     ]
    },
    {
     "name": "stdout",
     "output_type": "stream",
     "text": [
      "{\"prediction\": \"ESCALATION\", \"explanation\": \"The inquiry involves an identity verification failure post a legal name change, which is a critical issue that may require escalated handling to resolve the security and identity confirmation process.\"}\n",
      "\n"
     ]
    },
    {
     "name": "stderr",
     "output_type": "stream",
     "text": [
      "Processing Test Cases:  56%|█████▌    | 14/25 [00:10<00:07,  1.56it/s, Success=14/25]"
     ]
    },
    {
     "name": "stdout",
     "output_type": "stream",
     "text": [
      "{\"prediction\": \"ESCALATION\", \"explanation\": \"This inquiry involves a confirmed security breach (unauthorized change to direct deposit account info) and is time-sensitive due to the imminent arrival of the paycheck.\"}\n",
      "\n"
     ]
    },
    {
     "name": "stderr",
     "output_type": "stream",
     "text": [
      "Processing Test Cases:  60%|██████    | 15/25 [00:11<00:07,  1.26it/s, Success=15/25]"
     ]
    },
    {
     "name": "stdout",
     "output_type": "stream",
     "text": [
      "{\"prediction\": \"IN_SCOPE\", \"explanation\": \"The inquiry pertains to a fee dispute, which is a service request that falls under the IN_SCOPE category.\"}\n",
      "\n"
     ]
    },
    {
     "name": "stderr",
     "output_type": "stream",
     "text": [
      "Processing Test Cases:  64%|██████▍   | 16/25 [00:12<00:05,  1.54it/s, Success=16/25]"
     ]
    },
    {
     "name": "stdout",
     "output_type": "stream",
     "text": [
      "{\"prediction\": \"IN_SCOPE\", \"explanation\": \"The inquiry is a fee dispute related to financial advice, which falls under service requests. It does not indicate a confirmed security breach, critical access issue, or dormant account, so it does not qualify for ESCALATION.\"}\n",
      "\n"
     ]
    },
    {
     "name": "stderr",
     "output_type": "stream",
     "text": [
      "Processing Test Cases:  72%|███████▏  | 18/25 [00:13<00:05,  1.24it/s, Success=18/25]"
     ]
    },
    {
     "name": "stdout",
     "output_type": "stream",
     "text": [
      "{\"prediction\": \"IN_SCOPE\", \"explanation\": \"The inquiry is about an application status (international wire transfer error) and does not indicate a confirmed security breach or critical access issue. It falls under service requests.\"}\n",
      "\n",
      "{\"prediction\": \"CARD_DISPUTE\", \"explanation\": \"The inquiry reports unauthorized charges on the customer's card, which is a typical case of a card dispute.\"}\n",
      "\n"
     ]
    },
    {
     "name": "stderr",
     "output_type": "stream",
     "text": [
      "Processing Test Cases:  76%|███████▌  | 19/25 [00:14<00:04,  1.41it/s, Success=19/25]"
     ]
    },
    {
     "name": "stdout",
     "output_type": "stream",
     "text": [
      "{\"prediction\": \"OUT_OF_SCOPE\", \"explanation\": \"The inquiry is about bitcoin mining profitability and competitor comparison, which is unrelated to the financial services provided by the institution.\"}\n",
      "\n"
     ]
    },
    {
     "name": "stderr",
     "output_type": "stream",
     "text": [
      "Processing Test Cases:  80%|████████  | 20/25 [00:14<00:03,  1.65it/s, Success=20/25]"
     ]
    },
    {
     "name": "stdout",
     "output_type": "stream",
     "text": [
      "{\"prediction\": \"TRANSACTION_STATUS\", \"explanation\": \"The inquiry is about a pending financial transaction where the customer is seeking to trace a payment that was sent but not received by the recipient.\"}\n",
      "\n"
     ]
    },
    {
     "name": "stderr",
     "output_type": "stream",
     "text": [
      "Processing Test Cases:  88%|████████▊ | 22/25 [00:16<00:01,  1.68it/s, Success=22/25]"
     ]
    },
    {
     "name": "stdout",
     "output_type": "stream",
     "text": [
      "{\"prediction\": \"ESCALATION\", \"explanation\": \"The inquiry involves a potential unauthorized charge coupled with an account lockout, indicating a possible security breach and critical access issue.\"}\n",
      "\n",
      "{\"prediction\": \"CONTACT_INFO_UPDATE\", \"explanation\": \"The primary request is to update contact information. The mention of being locked out of mobile banking does not confirm a security breach, so it does not escalate the inquiry to ESCALATION.\"}\n",
      "\n"
     ]
    },
    {
     "name": "stderr",
     "output_type": "stream",
     "text": [
      "Processing Test Cases:  96%|█████████▌| 24/25 [00:17<00:00,  1.73it/s, Success=24/25]"
     ]
    },
    {
     "name": "stdout",
     "output_type": "stream",
     "text": [
      "{\"prediction\": \"IN_SCOPE\", \"explanation\": \"This inquiry is about a sudden drop in credit score, which is a service-related concern. It does not indicate a confirmed security breach or critical access issue, so it falls under IN_SCOPE.\"}\n",
      "\n",
      "{\"prediction\": \"IN_SCOPE\", \"explanation\": \"This is a service request related to providing financial documentation, which falls under typical service requests.\"}\n",
      "\n"
     ]
    },
    {
     "name": "stderr",
     "output_type": "stream",
     "text": [
      "Processing Test Cases: 100%|██████████| 25/25 [00:18<00:00,  1.32it/s, Success=25/25]"
     ]
    },
    {
     "name": "stdout",
     "output_type": "stream",
     "text": [
      "{\"prediction\": \"OUT_OF_SCOPE\", \"explanation\": \"The inquiry appears to be nonsensical and does not relate to any financial service or security concern.\"}\n",
      "\n",
      "Results saved to ./results/test_results_20250429_130739.json\n",
      "\n",
      "Evaluation complete!\n",
      "Time taken: 0:00:18.986536\n",
      "Total test cases: 25\n",
      "Failed calls: 0\n",
      "Task success rate: 92.00%\n",
      "Saved iteration data to ./results/optimization_iteration_log.json\n",
      "\n",
      "Optimization process complete!\n",
      "\n",
      "Overall time taken: 0:13:11.044313\n"
     ]
    },
    {
     "name": "stderr",
     "output_type": "stream",
     "text": [
      "\n"
     ]
    }
   ],
   "execution_count": 14
  },
  {
   "metadata": {},
   "cell_type": "markdown",
   "source": "## Visualize Optimization Results\n\nFinally, we'll visualize the results of our optimization process to demonstrate its effectiveness. The graph shows how the prompt's performance (measured by accuracy against ground truth) improves over successive iterations.\n\nThis visualization highlights the power of feedback-based prompt optimization, showing how systematic analysis and refinement can significantly enhance model performance without changing the underlying model itself.",
   "id": "693761c6cfefa0f1"
  },
  {
   "metadata": {
    "ExecuteTime": {
     "end_time": "2025-04-29T05:07:58.528907Z",
     "start_time": "2025-04-29T05:07:58.122339Z"
    }
   },
   "cell_type": "code",
   "source": [
    "import matplotlib.pyplot as plt\n",
    "import numpy as np\n",
    "\n",
    "with open(iteration_file_path) as file:\n",
    "    iter_data = json.load(file)\n",
    "    # Define X and Y variable data\n",
    "    x = np.array(range(0, len(iter_data)))\n",
    "    y = np.array(list(map(lambda i: i['success_rate'], iter_data)))\n",
    "\n",
    "    plt.plot(x, y)\n",
    "    plt.xlabel(f\"Optimization iterations\\n (Optimizer:{prompt_optimizer_model_id},\\n Rewriter:{prompt_rewriter_model_id})\")  # add X-axis label\n",
    "    plt.ylabel(f\"Ground truth test cases pass rate\\n (Target Model:{target_model_id})\")  # add Y-axis label\n",
    "    plt.title(\"Feedback-driven prompt optimization process\")  # add title\n",
    "    plt.show()"
   ],
   "id": "55fe8d5aba0ab69e",
   "outputs": [
    {
     "data": {
      "text/plain": [
       "<Figure size 640x480 with 1 Axes>"
      ],
      "image/png": "[encoded data removed]"
     },
     "metadata": {},
     "output_type": "display_data"
    }
   ],
   "execution_count": 15
  }
 ],
 "metadata": {
  "kernelspec": {
   "display_name": "Python 3 (ipykernel)",
   "language": "python",
   "name": "python3"
  },
  "language_info": {
   "codemirror_mode": {
    "name": "ipython",
    "version": 3
   },
   "file_extension": ".py",
   "mimetype": "text/x-python",
   "name": "python",
   "nbconvert_exporter": "python",
   "pygments_lexer": "ipython3",
   "version": "3.11.11"
  }
 },
 "nbformat": 4,
 "nbformat_minor": 5
}
