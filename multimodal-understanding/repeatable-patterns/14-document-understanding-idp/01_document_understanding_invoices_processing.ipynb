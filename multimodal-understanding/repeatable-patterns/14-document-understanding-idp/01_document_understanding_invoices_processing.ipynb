{
 "cells": [
  {
   "cell_type": "markdown",
   "id": "0af463cd-5315-4e85-85b1-4f263709c869",
   "metadata": {},
   "source": [
    "# Intelligent Document Processing (IDP) with Amazon Nova Models\n",
    "\n",
    "In this notebook, we demonstrate how to leverage Amazon Nova models along with the AWS Bedrock Converse API for Intelligent Document Processing (IDP). Our goal is to extract both unstructured summaries and structured data from PDF invoices. We cover several use cases:\n",
    "\n",
    "- **Summarizing Content:** Extracting a brief summary and key insights from a single invoice.\n",
    "- **Structured Data Extraction:** Using a custom tool configuration to force the model to output structured data from invoices that follow the same layout.\n",
    "- **Generating Business Insights:** Aggregating data from multiple invoices to answer specific business questions.\n",
    "\n",
    "This notebook assumes you are running the code with proper AWS credentials (preferably using an IAM role) and that you have enabled Amazon Bedrock models (in us-west-2) in your account. For more details on setting up temporary AWS credentials and enabling models, please refer to the provided documentation links.\n",
    "\n",
    "**Notes:**\n",
    "- Make sure you are running this code using your AWS Credentials. This notebook assumes you are loading the credentials using an IAM role, however, you may use your access_key if you are not using IAM Roles. For more details about how to set temporaty AWS credentials please check [this link](https://docs.aws.amazon.com/IAM/latest/UserGuide/id_credentials_temp_use-resources.html).\n",
    "- Before using Amazon Bedrock models in this notebook you need to enable them in your account in us-west-2, for more details about the steps required to enabled the model please check [this link](https://docs.aws.amazon.com/bedrock/latest/userguide/model-access-modify.html).\n",
    "- This notebook uses Amazon Nova Pro as default, all [charges on-demand on request basis](https://aws.amazon.com/bedrock/pricing/).\n",
    "- Amazon Nova Pro will be used with the [Cross-Region Inference mode](https://docs.aws.amazon.com/bedrock/latest/userguide/cross-region-inference.html).\n",
    "- While this notebook uses us-west-2 (Oregon), Amazon Nova is available in a variety of AWS Regions. Check our [document pages](https://docs.aws.amazon.com/bedrock/latest/userguide/models-regions.html] for more details about the regions available."
   ]
  },
  {
   "cell_type": "markdown",
   "id": "6ce3c30c-2681-420f-81e1-6fcdb50e04df",
   "metadata": {},
   "source": [
    "## Installing requirements"
   ]
  },
  {
   "cell_type": "code",
   "execution_count": 1,
   "id": "23449ce6-c04e-4b7e-8d48-33da22ac296b",
   "metadata": {},
   "outputs": [
    {
     "name": "stdout",
     "output_type": "stream",
     "text": [
      "Note: you may need to restart the kernel to use updated packages.\n"
     ]
    }
   ],
   "source": [
    "%pip install pip setuptools packaging -U --quiet"
   ]
  },
  {
   "cell_type": "code",
   "execution_count": 2,
   "id": "bb60c421-5fbc-4660-8064-389cec9db1a4",
   "metadata": {},
   "outputs": [
    {
     "name": "stdout",
     "output_type": "stream",
     "text": [
      "Note: you may need to restart the kernel to use updated packages.\n"
     ]
    }
   ],
   "source": [
    "%pip install boto3 IPython --quiet"
   ]
  },
  {
   "cell_type": "markdown",
   "id": "f60f3a7c-af2f-46ec-8eff-2c5d6594541c",
   "metadata": {},
   "source": [
    "Lets import our modules:"
   ]
  },
  {
   "cell_type": "code",
   "execution_count": 3,
   "id": "5fe53db9-228b-4b94-869c-d2fc1a8daa93",
   "metadata": {},
   "outputs": [],
   "source": [
    "import boto3\n",
    "import logging\n",
    "from IPython.display import IFrame\n",
    "from botocore.exceptions import ClientError\n",
    "from pprint import pprint\n",
    "import json"
   ]
  },
  {
   "cell_type": "code",
   "execution_count": 4,
   "id": "c88a2d11-6a88-4631-9ee9-063eb57b3428",
   "metadata": {},
   "outputs": [],
   "source": [
    "logging.basicConfig(level=logging.INFO,\n",
    "                        format=\"%(levelname)s: %(message)s\")"
   ]
  },
  {
   "cell_type": "code",
   "execution_count": 5,
   "id": "f1d3f685-7aec-427e-96ff-63e90fd34973",
   "metadata": {},
   "outputs": [],
   "source": [
    "# Update this variable if you have enabled Amazon Nova in a different region\n",
    "region_name = \"us-west-2\""
   ]
  },
  {
   "cell_type": "markdown",
   "id": "99d16eae-caf8-43c4-a6f1-740624f1ec47",
   "metadata": {},
   "source": [
    "## 1. Summarizing Content: Extracting a brief summary and key insights from a single invoice.\n",
    "In this use case we will use Amazon Nova models to process and extract data from PDF invoices using the Bedrock Converse API."
   ]
  },
  {
   "cell_type": "markdown",
   "id": "2c5b4129-b30b-4579-80ca-3dfc1c7ee865",
   "metadata": {},
   "source": [
    "Here is our help function to load pdf and send requests to Amazon Bedrock using **Amazon Nova Pro**."
   ]
  },
  {
   "cell_type": "code",
   "execution_count": 6,
   "id": "c106f644-4f6b-4121-a606-b1f4fe19e08a",
   "metadata": {},
   "outputs": [],
   "source": [
    "def send_pdf_to_bedrock(prompt, model_id=\"us.amazon.nova-pro-v1:0\", pdf_file_path=None, tool_config=None):\n",
    "    \"\"\"\n",
    "    Sends a message to the AWS Bedrock Converse API for processing, optionally including a PDF document.\n",
    "    This function constructs a message that includes a text prompt and, if provided, a PDF document (as raw bytes)\n",
    "    read from the specified file system path. It then sends the message to the AWS Bedrock Converse API using the provided\n",
    "    model ID. Optionally, if a tool configuration is provided via the `tool_config` parameter, it is passed to the API call.\n",
    "    The API response, which includes the model's output message and associated metadata, is returned.\n",
    "    Parameters:\n",
    "        prompt (str): A text prompt that provides context or instructions for processing.\n",
    "        model_id (str): The identifier of the AWS Bedrock model to use for inference. This model must support document\n",
    "            inputs. If no model_id is provided, Amazon Nova Pro will be used.\n",
    "        pdf_file_path (str, optional): The file system path to the PDF document. If provided, the PDF will be read and\n",
    "            included in the message. Defaults to None.\n",
    "        tool_config (dict, optional): A dictionary specifying the tool configuration to be passed to the Converse API.\n",
    "            Defaults to None.\n",
    "    Returns:\n",
    "        dict or None: The JSON response from the Bedrock Converse API if the call is successful, containing the model's\n",
    "        output and metadata; returns None if an error occurs.\n",
    "    Raises:\n",
    "        ClientError: If there is an error invoking the AWS Bedrock Converse API.\n",
    "    \"\"\"\n",
    "    # Build the content list starting with the prompt\n",
    "    content_blocks = [{\"text\": prompt}]\n",
    "    # If a PDF file path is provided, read the file and add a document block\n",
    "    if pdf_file_path is not None:\n",
    "        with open(pdf_file_path, \"rb\") as f:\n",
    "            pdf_bytes = f.read()\n",
    "        content_blocks.append({\n",
    "            \"document\": {\n",
    "                \"name\": \"my_invoice_template\",  # Use a neutral name\n",
    "                \"format\": \"pdf\",  # Supported formats: pdf | csv | doc | docx | xls | xlsx | html | txt | md\n",
    "                \"source\": {\n",
    "                    \"bytes\": pdf_bytes\n",
    "                }\n",
    "            }\n",
    "        })\n",
    "    # Initialize the Bedrock runtime client\n",
    "    # Note: 'region_name' should be defined or replaced with your desired AWS region\n",
    "    bedrock_client = boto3.client(\"bedrock-runtime\", region_name=region_name)\n",
    "    # Construct the message with the content blocks\n",
    "    message = {\n",
    "        \"role\": \"user\",\n",
    "        \"content\": content_blocks\n",
    "    }\n",
    "    # Optional inference configuration parameters\n",
    "    inference_config = {\n",
    "        \"maxTokens\": 3000,\n",
    "        \"temperature\": 0\n",
    "    }\n",
    "    try:\n",
    "        # Build the parameters for the converse call\n",
    "        converse_params = {\n",
    "            \"modelId\": model_id,\n",
    "            \"messages\": [message],\n",
    "            \"inferenceConfig\": inference_config\n",
    "        }\n",
    "        # Include toolConfig if provided\n",
    "        if tool_config is not None:\n",
    "            converse_params[\"toolConfig\"] = tool_config\n",
    "        # Call the Converse API with the constructed parameters\n",
    "        response = bedrock_client.converse(**converse_params)\n",
    "        return response\n",
    "    except ClientError as e:\n",
    "        print(\"An error occurred:\", e)\n",
    "        return None"
   ]
  },
  {
   "cell_type": "markdown",
   "id": "aa91a056-d5cf-4e07-96a6-fb2f94ca508e",
   "metadata": {},
   "source": [
    "Here is how our test pdf looks like:"
   ]
  },
  {
   "cell_type": "code",
   "execution_count": 7,
   "id": "1401196d-f90b-4985-aa5a-9ab167e262c3",
   "metadata": {},
   "outputs": [
    {
     "data": {
      "text/html": [
       "\n",
       "        <iframe\n",
       "            width=\"600\"\n",
       "            height=\"900\"\n",
       "            src=\"invoices/test_invoice_0_1.pdf\"\n",
       "            frameborder=\"0\"\n",
       "            allowfullscreen\n",
       "            \n",
       "        ></iframe>\n",
       "        "
      ],
      "text/plain": [
       "<IPython.lib.display.IFrame at 0x7f14b409ffa0>"
      ]
     },
     "execution_count": 7,
     "metadata": {},
     "output_type": "execute_result"
    }
   ],
   "source": [
    "pdf_path = \"invoices/test_invoice_0_1.pdf\"\n",
    "IFrame(pdf_path, width=600, height=900)"
   ]
  },
  {
   "cell_type": "markdown",
   "id": "bac021ff-f309-44c3-a8b6-bd1488c723db",
   "metadata": {},
   "source": [
    "Lets extract a summary from one of our invoices:"
   ]
  },
  {
   "cell_type": "code",
   "execution_count": 8,
   "id": "450ad0bb-d16b-4d6b-8308-526551940edd",
   "metadata": {},
   "outputs": [
    {
     "name": "stderr",
     "output_type": "stream",
     "text": [
      "INFO: Found credentials from IAM Role: BaseNotebookInstanceEc2InstanceRole\n"
     ]
    },
    {
     "name": "stdout",
     "output_type": "stream",
     "text": [
      "- The invoice is from the Sunset Hotel.\n",
      "- Invoice number is 5331.\n",
      "- The guest's name is Thomas Johnson DDS.\n",
      "- The guest's address is 37618 Lee Keys, West Jenniferbury, MO 80214.\n",
      "- The date of issue is January 14, 2022.\n",
      "- There is 1 adult and 0 children staying.\n",
      "- The guest room costs $180.\n",
      "- Laundry service costs $15.\n",
      "- Dinner costs $70.\n",
      "- Breakfast costs $30.\n",
      "- Minibar costs $90.\n",
      "- Taxi costs $90.\n",
      "- Subtotal is $475.\n",
      "- Discounts amount to $22.\n",
      "- Taxes amount to $40.2.\n",
      "- The total amount due is $493.2.\n"
     ]
    }
   ],
   "source": [
    "prompt_text = \"Please summarize the content of this PDF and share your insights in a list format.\"\n",
    "\n",
    "result = send_pdf_to_bedrock(prompt=prompt_text, pdf_file_path=pdf_path)\n",
    "if result:\n",
    "    # Extract and print the text response from the model\n",
    "    output_message = result.get(\"output\", {}).get(\"message\", {})\n",
    "    for content in output_message.get(\"content\", []):\n",
    "        if \"text\" in content:\n",
    "            print(content[\"text\"])"
   ]
  },
  {
   "cell_type": "markdown",
   "id": "76ed63ad-6207-44c0-8956-d9561f4dd3af",
   "metadata": {},
   "source": [
    "## Structured Data Extraction: Using a custom tool configuration to force the model to output structured data from invoices that follow the same layout\n",
    "Amazon Nova Pro was able to extract all the information present in our sample invoice. However, let’s improve our workflow by extracting data from our invoices using a custom blueprint and producing structured output. For this approach, we will use a custom tool, which is ideal if you need to force your model to produce structured output. In this sample code, we assume that all invoices follow the same layout; however, you can modify the prompts to dynamically extract data as well. First, we will ask Amazon Nova to generate our tool schema:"
   ]
  },
  {
   "cell_type": "code",
   "execution_count": 9,
   "id": "19495802-f177-46cc-9107-85ef68ab7d7e",
   "metadata": {},
   "outputs": [],
   "source": [
    "prompt_text_tool_builder=\"\"\"\n",
    "You are an expert to generate toolConfig for AWS Converse API. Your response must be a valid compact single-line JSON data structure and must contain \n",
    "the required toolConfig for a converse API tool to extract structured data from documents like my_invoice_template.\n",
    "Here is a sample toolConfig, use my_invoice_template document to create the required toolConfig:\n",
    "toolConfig={\n",
    "        \"tools\": [\n",
    "            {\n",
    "                \"toolSpec\": {\n",
    "                    \"name\": \"weather\",\n",
    "                    \"description\": \"Use this tool if the request is to get the previous, current, or future weather for a country\",\n",
    "                    \"inputSchema\": {\n",
    "                        \"json\": {\n",
    "                            \"type\": \"object\",\n",
    "                            \"properties\": {\n",
    "                                \"country\": {\n",
    "                                    \"type\": \"string\"\n",
    "                                },\n",
    "                                \"dates\": {\n",
    "                                    \"type\": \"object\",\n",
    "                                    \"properties\": {\n",
    "                                        \"date_start\": {\n",
    "                                            \"type\": \"string\",\n",
    "                                            \"format\": \"date\"\n",
    "                                        },\n",
    "                                        \"date_end\": {\n",
    "                                            \"type\": \"string\",\n",
    "                                            \"format\": \"date\"\n",
    "                                        }\n",
    "                                    },\n",
    "                                    \"required\": [\n",
    "                                        \"date_start\",\n",
    "                                        \"date_end\"\n",
    "                                    ]\n",
    "                                }\n",
    "                            },\n",
    "                            \"required\": [\n",
    "                                \"country\",\n",
    "                                \"dates\"\n",
    "                            ]\n",
    "                        }\n",
    "                    }\n",
    "                }\n",
    "            }\n",
    "        ],\n",
    "        \"toolChoice\": {\n",
    "            \"auto\": {}\n",
    "        }\n",
    "    }\n",
    "\"\"\""
   ]
  },
  {
   "cell_type": "code",
   "execution_count": 10,
   "id": "ab49fe48-9ed7-469b-a4a4-5459f78d46c1",
   "metadata": {},
   "outputs": [
    {
     "name": "stdout",
     "output_type": "stream",
     "text": [
      "{\"tools\":[{\"toolSpec\":{\"name\":\"extract_invoice_data\",\"description\":\"Use this tool to extract structured data from a hotel invoice document.\",\"inputSchema\":{\"json\":{\"type\":\"object\",\"properties\":{\"invoice_number\":{\"type\":\"string\"},\"guest_name\":{\"type\":\"string\"},\"date_of_issue\":{\"type\":\"string\",\"format\":\"date\"},\"guest_address\":{\"type\":\"string\"},\"no_of_adults\":{\"type\":\"integer\"},\"no_of_children\":{\"type\":\"integer\"},\"others\":{\"type\":\"integer\"},\"items\":{\"type\":\"array\",\"items\":{\"type\":\"object\",\"properties\":{\"no\":{\"type\":\"integer\"},\"date\":{\"type\":\"string\",\"format\":\"date\"},\"description\":{\"type\":\"string\"},\"amount\":{\"type\":\"number\"}},\"required\":[\"no\",\"date\",\"description\",\"amount\"]}},\"subtotal\":{\"type\":\"number\"},\"discounts\":{\"type\":\"number\"},\"taxes\":{\"type\":\"number\"},\"total\":{\"type\":\"number\"}},\"required\":[\"invoice_number\",\"guest_name\",\"date_of_issue\",\"guest_address\",\"no_of_adults\",\"no_of_children\",\"others\",\"items\",\"subtotal\",\"discounts\",\"taxes\",\"total\"]}}}}],\"toolChoice\":{\"auto\":{}}}\n"
     ]
    }
   ],
   "source": [
    "result = send_pdf_to_bedrock(prompt=prompt_text_tool_builder, pdf_file_path=pdf_path)\n",
    "if result:\n",
    "    # Extract and print the text response from the model\n",
    "    output_message = result.get(\"output\", {}).get(\"message\", {})\n",
    "    for content in output_message.get(\"content\", []):\n",
    "        if \"text\" in content:\n",
    "            tools = content[\"text\"]\n",
    "            print(tools)"
   ]
  },
  {
   "cell_type": "markdown",
   "id": "37397dd9-4cb1-49ce-87d9-06ae5d0d0d9c",
   "metadata": {},
   "source": [
    "It is time to use our `send_pdf_to_bedrock` function again but this time adding our new tool."
   ]
  },
  {
   "cell_type": "code",
   "execution_count": 11,
   "id": "e1202fc3-674e-4199-a06c-0cd2a27e4ac7",
   "metadata": {},
   "outputs": [
    {
     "name": "stdout",
     "output_type": "stream",
     "text": [
      "{'date_of_issue': '2022-01-14',\n",
      " 'discounts': 22.0,\n",
      " 'guest_address': '37618 Lee Keys West Jenniferbury, MO 80214',\n",
      " 'guest_name': 'Thomas Johnson DDS',\n",
      " 'invoice_number': '5331',\n",
      " 'items': [{'amount': 180.0,\n",
      "            'date': '2022-01-14',\n",
      "            'description': 'Guest room',\n",
      "            'no': 1},\n",
      "           {'amount': 15.0,\n",
      "            'date': '2022-01-14',\n",
      "            'description': 'Laundry',\n",
      "            'no': 2},\n",
      "           {'amount': 70.0,\n",
      "            'date': '2022-01-14',\n",
      "            'description': 'Dinner',\n",
      "            'no': 3},\n",
      "           {'amount': 30.0,\n",
      "            'date': '2022-01-14',\n",
      "            'description': 'Breakfast',\n",
      "            'no': 4},\n",
      "           {'amount': 90.0,\n",
      "            'date': '2022-01-14',\n",
      "            'description': 'Minibar',\n",
      "            'no': 5},\n",
      "           {'amount': 90.0,\n",
      "            'date': '2022-01-14',\n",
      "            'description': 'Taxi',\n",
      "            'no': 6}],\n",
      " 'no_of_adults': 1,\n",
      " 'no_of_children': 0,\n",
      " 'others': 0,\n",
      " 'subtotal': 475.0,\n",
      " 'taxes': 40.2,\n",
      " 'total': 493.2}\n"
     ]
    }
   ],
   "source": [
    "prompt_text = \"Please summarize the content of this PDF and share your insights.\"\n",
    "document_list = []\n",
    "\n",
    "result = send_pdf_to_bedrock(prompt=prompt_text, pdf_file_path=pdf_path, tool_config=eval(tools))\n",
    "if result:\n",
    "    # Extract and print the text response from the model\n",
    "    output_message = result.get(\"output\", {}).get(\"message\", {})\n",
    "    for content in output_message.get(\"content\", []):\n",
    "        if \"toolUse\" in content:\n",
    "            pprint(content[\"toolUse\"][\"input\"])\n",
    "            # We will store the extracted information in our list\n",
    "            document_list.append(content[\"toolUse\"][\"input\"])"
   ]
  },
  {
   "cell_type": "markdown",
   "id": "cb0a5a98-97e6-470f-bd5a-fcece2f4c649",
   "metadata": {},
   "source": [
    "We will now extract the information from a second document using the same tool created by Nova, and add the document to our list."
   ]
  },
  {
   "cell_type": "code",
   "execution_count": 12,
   "id": "c3abe053-e7c1-4a71-985e-3c6e34be634d",
   "metadata": {},
   "outputs": [
    {
     "name": "stdout",
     "output_type": "stream",
     "text": [
      "{'date_of_issue': '2021-04-21',\n",
      " 'discounts': 24,\n",
      " 'guest_address': '73065 Amanda Forges Crossbyside, AL 81369',\n",
      " 'guest_name': 'Michaela Johns',\n",
      " 'invoice_number': '9582',\n",
      " 'items': [{'amount': 180,\n",
      "            'date': '2021-04-19',\n",
      "            'description': 'Guest room',\n",
      "            'no': 1},\n",
      "           {'amount': 30,\n",
      "            'date': '2021-04-19',\n",
      "            'description': 'Breakfast',\n",
      "            'no': 2},\n",
      "           {'amount': 180,\n",
      "            'date': '2021-04-20',\n",
      "            'description': 'Guest room',\n",
      "            'no': 3},\n",
      "           {'amount': 15,\n",
      "            'date': '2021-04-20',\n",
      "            'description': 'Laundry',\n",
      "            'no': 4},\n",
      "           {'amount': 70,\n",
      "            'date': '2021-04-20',\n",
      "            'description': 'Dinner',\n",
      "            'no': 5},\n",
      "           {'amount': 30,\n",
      "            'date': '2021-04-20',\n",
      "            'description': 'Breakfast',\n",
      "            'no': 6},\n",
      "           {'amount': 180,\n",
      "            'date': '2021-04-21',\n",
      "            'description': 'Guest room',\n",
      "            'no': 7},\n",
      "           {'amount': 30,\n",
      "            'date': '2021-04-21',\n",
      "            'description': 'Breakfast',\n",
      "            'no': 8},\n",
      "           {'amount': 70,\n",
      "            'date': '2021-04-21',\n",
      "            'description': 'Dinner',\n",
      "            'no': 9},\n",
      "           {'amount': 15,\n",
      "            'date': '2021-04-21',\n",
      "            'description': 'Laundry',\n",
      "            'no': 10}],\n",
      " 'no_of_adults': 1,\n",
      " 'no_of_children': 0,\n",
      " 'others': 0,\n",
      " 'subtotal': 800,\n",
      " 'taxes': 68.9,\n",
      " 'total': 844.9}\n"
     ]
    }
   ],
   "source": [
    "# here is a differenc invoice\n",
    "pdf_path=\"invoices/test_invoice_0_2.pdf\"\n",
    "\n",
    "result = send_pdf_to_bedrock(prompt=prompt_text, pdf_file_path=pdf_path, tool_config=eval(tools))\n",
    "if result:\n",
    "    # Extract and print the text response from the model\n",
    "    output_message = result.get(\"output\", {}).get(\"message\", {})\n",
    "    for content in output_message.get(\"content\", []):\n",
    "        if \"toolUse\" in content:\n",
    "            pprint(content[\"toolUse\"][\"input\"])\n",
    "            # We will store the extracted information in our list\n",
    "            document_list.append(content[\"toolUse\"][\"input\"])"
   ]
  },
  {
   "cell_type": "code",
   "execution_count": 13,
   "id": "a23d6f8e-d01c-47d3-98d7-3136ce64eec0",
   "metadata": {},
   "outputs": [
    {
     "data": {
      "text/html": [
       "\n",
       "        <iframe\n",
       "            width=\"600\"\n",
       "            height=\"900\"\n",
       "            src=\"invoices/test_invoice_0_2.pdf\"\n",
       "            frameborder=\"0\"\n",
       "            allowfullscreen\n",
       "            \n",
       "        ></iframe>\n",
       "        "
      ],
      "text/plain": [
       "<IPython.lib.display.IFrame at 0x7f14b40e9ff0>"
      ]
     },
     "execution_count": 13,
     "metadata": {},
     "output_type": "execute_result"
    }
   ],
   "source": [
    "IFrame(pdf_path, width=600, height=900)"
   ]
  },
  {
   "cell_type": "markdown",
   "id": "748e1ccc-dca4-4cca-9932-0614401990c1",
   "metadata": {},
   "source": [
    "We have two documents in our list now:"
   ]
  },
  {
   "cell_type": "code",
   "execution_count": 14,
   "id": "e83c28b7-5738-4cc3-975e-f561d05abc72",
   "metadata": {},
   "outputs": [
    {
     "name": "stdout",
     "output_type": "stream",
     "text": [
      "Document count: 2\n"
     ]
    }
   ],
   "source": [
    "print(f'Document count: {len(document_list)}')"
   ]
  },
  {
   "cell_type": "markdown",
   "id": "7ad202d6-47c2-4e5c-8c63-20c2b57c4ec5",
   "metadata": {},
   "source": [
    "## Generating Business Insights: Aggregating data from multiple invoices to answer specific business questions\n",
    "We have used Amazon Nova to create a custom blueprint using a tool for the Converse API and also extracted data from 2 documents using the same blueprint. We will interrogate our data and generate insights with the following questions:\n",
    "1. What guest spent the most in the hotel?\n",
    "2. What guest spent the least nights in the hotel?"
   ]
  },
  {
   "cell_type": "code",
   "execution_count": 15,
   "id": "dd68b00b-c6d6-483c-92c9-dfbca0fa65d6",
   "metadata": {},
   "outputs": [],
   "source": [
    "user_questions=\"\"\"\n",
    "1. What guest spent the most in the hotel?\n",
    "2. What guest spent the least nights in the hotel?\n",
    "\"\"\"\n",
    "\n",
    "prompt_extracting_insights=f\"\"\"\n",
    "You are a business analysist specialiased to extract information from invoices. You will be provided with a list of invoices, \n",
    "answer the user question using only information present in your list of invoices. Your response must be in raw text.\n",
    "User question: {user_questions}\n",
    "List of invoices: {document_list}\n",
    "\"\"\""
   ]
  },
  {
   "cell_type": "code",
   "execution_count": 17,
   "id": "51ce9cfd-10be-4b75-899d-8429715d6600",
   "metadata": {},
   "outputs": [
    {
     "name": "stdout",
     "output_type": "stream",
     "text": [
      "1. The guest who spent the most in the hotel is Michaela Johns with a total of 844.9.\n",
      "2. The guest who spent the least nights in the hotel is Thomas Johnson DDS with 1 night.\n"
     ]
    }
   ],
   "source": [
    "result = send_pdf_to_bedrock(prompt=prompt_extracting_insights)\n",
    "if result:\n",
    "    # Extract and print the text response from the model\n",
    "    output_message = result.get(\"output\", {}).get(\"message\", {})\n",
    "    for content in output_message.get(\"content\", []):\n",
    "        if \"text\" in content:\n",
    "            print(content[\"text\"])"
   ]
  }
 ],
 "metadata": {
  "kernelspec": {
   "display_name": "conda_pytorch_p310",
   "language": "python",
   "name": "conda_pytorch_p310"
  },
  "language_info": {
   "codemirror_mode": {
    "name": "ipython",
    "version": 3
   },
   "file_extension": ".py",
   "mimetype": "text/x-python",
   "name": "python",
   "nbconvert_exporter": "python",
   "pygments_lexer": "ipython3",
   "version": "3.10.14"
  }
 },
 "nbformat": 4,
 "nbformat_minor": 5
}
