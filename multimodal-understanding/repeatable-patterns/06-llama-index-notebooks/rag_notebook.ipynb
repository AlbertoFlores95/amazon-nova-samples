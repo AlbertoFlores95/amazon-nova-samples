{
 "cells": [
  {
   "cell_type": "markdown",
   "metadata": {},
   "source": [
    "# Building a (Very Simple) Vector Store from Scratch with Amazon Bedrock and Amazon Nova pro model\n",
    "\n",
    "In this tutorial, we show you how to build a simple in-memory vector store that can store documents along with metadata."
   ]
  },
  {
   "cell_type": "markdown",
   "metadata": {},
   "source": [
    "# Prerequisite\n",
    "Installing required packages"
   ]
  },
  {
   "cell_type": "code",
   "execution_count": null,
   "metadata": {},
   "outputs": [],
   "source": [
    "%pip install anthropic boto3==1.34.122 aioboto3==13.1.1"
   ]
  },
  {
   "cell_type": "markdown",
   "metadata": {},
   "source": [
    "# Downloading data"
   ]
  },
  {
   "cell_type": "code",
   "execution_count": null,
   "metadata": {},
   "outputs": [],
   "source": [
    "!curl --user-agent \"Mozilla\" -L \"https://arxiv.org/pdf/2307.09288.pdf\" -o \"data/llama2.pdf\""
   ]
  },
  {
   "cell_type": "markdown",
   "metadata": {},
   "source": [
    "# Building Simple in memory RAG\n",
    "Here we use BedockEmbedding class to create document embeddings using default bedrock embedding model and we use Amazon Nova pro model for text generation"
   ]
  },
  {
   "cell_type": "code",
   "execution_count": null,
   "metadata": {},
   "outputs": [],
   "source": [
    "from llama_index.core import SimpleDirectoryReader, VectorStoreIndex\n",
    "from llama_index.embeddings.bedrock import BedrockEmbedding\n",
    "# Load documents\n",
    "documents = SimpleDirectoryReader(\"data/\").load_data()\n",
    "\n",
    "# Create a vector store index\n",
    "index = VectorStoreIndex.from_documents(documents, embed_model=BedrockEmbedding())\n",
    "\n",
    "# Query the index\n",
    "response = index.as_query_engine(llm=Bedrock(model=\"us.amazon.nova-pro-v1:0\")).query(\"Can you tell me about the key concepts for safety finetuning\")\n",
    "\n",
    "# Print the response\n",
    "print(response)"
   ]
  }
 ],
 "metadata": {
  "kernelspec": {
   "display_name": "Python 3",
   "language": "python",
   "name": "python3"
  },
  "language_info": {
   "codemirror_mode": {
    "name": "ipython",
    "version": 3
   },
   "file_extension": ".py",
   "mimetype": "text/x-python",
   "name": "python",
   "nbconvert_exporter": "python",
   "pygments_lexer": "ipython3",
   "version": "3.9.6"
  }
 },
 "nbformat": 4,
 "nbformat_minor": 2
}
