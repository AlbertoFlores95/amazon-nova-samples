{
 "cells": [
  {
   "cell_type": "markdown",
   "id": "19edaa04-db56-4ad4-9ad8-b2b2674459f8",
   "metadata": {},
   "source": [
    "# Building Agentic Workflows with Strands Agents SDK\n",
    "\n",
    "Introducing [Strands Agents](https://github.com/strands-agents/sdk-python), an Open Source AI Agents SDK! This is a simple-to-use, code-first framework that takes a model-driven approach to building and running AI agents in just a few lines of code, scaling from simple to complex use cases. \n",
    "\n",
    "The core of Strands is a simple agentic loop that connects the model and tools together, like two strands of DNA. It's already powering production AI agents in key AWS services like Amazon Q CLI, AWS Glue, and VPC Reachability Analyzer. It includes 20+ built-in tools with support for thousands of Model Context Provider (MCP) servers. AWS is excited that Accenture, Anthropic, Meta, and others are joining with support and contributions.\n",
    "\n",
    "## Use Case\n",
    "In this lab, we will create a simple restaurant reservation agent with access to basic booking tools.\n",
    "\n",
    "![Agent Architecture](../images/strands_agent.png)\n",
    "\n",
    "## Notebook Walk-through\n",
    "\n",
    "In this notebook we will:\n",
    "1. Create an agent using Strands Agents SDK\n",
    "2. Understand Strands session handling\n",
    "3. Explore agent metrics\n",
    "4. Test the agent with realistic booking scenarios"
   ]
  },
  {
   "cell_type": "code",
   "execution_count": null,
   "id": "39508a41-5fc0-4abb-b7d3-13e63828cb29",
   "metadata": {},
   "outputs": [],
   "source": [
    "%store -r"
   ]
  },
  {
   "cell_type": "code",
   "execution_count": null,
   "id": "170259a7-b3ae-462a-a4dd-25f25693865c",
   "metadata": {},
   "outputs": [],
   "source": [
    "# Import necessary libraries\n",
    "from strands import Agent, tool\n",
    "from strands.models import BedrockModel\n",
    "from strands_tools import current_time\n",
    "import uuid\n",
    "import boto3\n",
    "import json\n",
    "import pandas as pd\n",
    "from agent import create_dynamodb"
   ]
  },
  {
   "cell_type": "code",
   "execution_count": null,
   "id": "6ab308d9-9cdd-4d2e-85f0-6cddbb2e5521",
   "metadata": {},
   "outputs": [],
   "source": [
    "# Setup DynamoDB table for restaurant bookings\n",
    "dynamodb = boto3.resource('dynamodb')\n",
    "table_name = 'restaurant_bookings'\n",
    "create_dynamodb(table_name)  # Create the table if it doesn't exist\n",
    "table = dynamodb.Table(table_name)"
   ]
  },
  {
   "cell_type": "code",
   "execution_count": null,
   "id": "b3334ab5-7029-41ed-b4d0-def8cdc65831",
   "metadata": {},
   "outputs": [],
   "source": [
    "# Helper function to retrieve all bookings from DynamoDB\n",
    "def selectAllFromDynamodb():\n",
    "    \"\"\"\n",
    "    Retrieves all items from the restaurant_bookings DynamoDB table.\n",
    "    \n",
    "    Returns:\n",
    "        pandas.DataFrame: A dataframe containing all booking records\n",
    "    \"\"\"\n",
    "    # Get the table object\n",
    "    table = dynamodb.Table(table_name)\n",
    "\n",
    "    # Scan the table and get all items\n",
    "    response = table.scan()\n",
    "    items = response['Items']\n",
    "\n",
    "    # Handle pagination if necessary\n",
    "    while 'LastEvaluatedKey' in response:\n",
    "        response = table.scan(ExclusiveStartKey=response['LastEvaluatedKey'])\n",
    "        items.extend(response['Items'])\n",
    "\n",
    "    # Convert to pandas DataFrame for easier viewing\n",
    "    items = pd.DataFrame(items)\n",
    "    return items"
   ]
  },
  {
   "cell_type": "code",
   "execution_count": null,
   "id": "1d01e0eb-c107-4b33-a53f-0e1fcc09fa74",
   "metadata": {},
   "outputs": [],
   "source": [
    "@tool\n",
    "def get_booking_details(booking_id: str) -> dict:\n",
    "    \"\"\"\n",
    "    Retrieve the details of a specific restaurant booking using its unique identifier.\n",
    "\n",
    "    This function queries the DynamoDB table to fetch the complete information\n",
    "    associated with a given booking ID. It's useful for retrieving the full\n",
    "    details of a reservation, including date, name, hour, and number of guests.\n",
    "\n",
    "    Args:\n",
    "        booking_id (str): The unique identifier of the booking to retrieve.\n",
    "                          This should be a string, typically an 8-character UUID.\n",
    "\n",
    "    Returns:\n",
    "        dict: A dictionary containing the booking details if found. The structure includes:\n",
    "              - booking_id (str): The unique identifier of the booking\n",
    "              - date (str): The date of the booking in YYYY-MM-DD format\n",
    "              - name (str): The name associated with the reservation\n",
    "              - hour (str): The time of the booking in HH:MM format\n",
    "              - num_guests (int): The number of guests for the booking\n",
    "              \n",
    "              If no booking is found, it returns a dictionary with a 'message' key\n",
    "              indicating that no booking was found.\n",
    "              In case of an error, it returns a dictionary with an 'error' key\n",
    "              containing the error message.\n",
    "\n",
    "    Raises:\n",
    "        Exception: If there's an error in accessing the DynamoDB table or processing the request.\n",
    "                   The error is caught and returned in the response dictionary.\n",
    "\n",
    "    Example:\n",
    "        >>> get_booking_details(\"12345678\")\n",
    "        {'booking_id': '12345678', 'date': '2023-05-15', 'name': 'John Doe', 'hour': '19:30', 'num_guests': 4}\n",
    "    \"\"\"\n",
    "    try:\n",
    "        response = table.get_item(Key={'booking_id': booking_id})\n",
    "        if 'Item' in response:\n",
    "            return response['Item']\n",
    "        else:\n",
    "            return {'message': f'No booking found with ID {booking_id}'}\n",
    "    except Exception as e:\n",
    "        print(e)\n",
    "        return {'error': str(e)}"
   ]
  },
  {
   "cell_type": "code",
   "execution_count": null,
   "id": "254c37ba-fee9-41ad-9f6a-216da9393810",
   "metadata": {},
   "outputs": [],
   "source": [
    "@tool\n",
    "def create_booking(date: str, name: str, hour: str, num_guests: int) -> dict:\n",
    "    \"\"\"\n",
    "    Create a new restaurant booking and store it in the DynamoDB table.\n",
    "\n",
    "    This function generates a unique booking ID and creates a new entry in the\n",
    "    DynamoDB table with the provided booking details. It's used to make new\n",
    "    reservations in the restaurant booking system.\n",
    "\n",
    "    Args:\n",
    "        date (str): The date of the booking in YYYY-MM-DD format.\n",
    "        name (str): The name to identify the reservation. Typically the guest's name.\n",
    "        hour (str): The time of the booking in HH:MM format.\n",
    "        num_guests (int): The number of guests for the booking.\n",
    "\n",
    "    Returns:\n",
    "        dict: A dictionary containing the newly created booking ID if successful.\n",
    "              The structure is:\n",
    "              - booking_id (str): The unique identifier for the new booking (8-character UUID)\n",
    "              \n",
    "              In case of an error, it returns a dictionary with an 'error' key\n",
    "              containing the error message.\n",
    "\n",
    "    Raises:\n",
    "        Exception: If there's an error in generating the UUID, accessing the DynamoDB table,\n",
    "                   or processing the request. The error is caught and returned in the response dictionary.\n",
    "\n",
    "    Example:\n",
    "        >>> create_booking(\"2023-05-15\", \"John Doe\", \"19:30\", 4)\n",
    "        {'booking_id': 'a1b2c3d4'}\n",
    "    \"\"\"\n",
    "    try:\n",
    "        booking_id = str(uuid.uuid4())[:8]\n",
    "        table.put_item(\n",
    "            Item={\n",
    "                'booking_id': booking_id,\n",
    "                'date': date,\n",
    "                'name': name,\n",
    "                'hour': hour,\n",
    "                'num_guests': num_guests\n",
    "            }\n",
    "        )\n",
    "        return {'booking_id': booking_id}\n",
    "    except Exception as e:\n",
    "        print(e)\n",
    "        return {'error': str(e)}"
   ]
  },
  {
   "cell_type": "code",
   "execution_count": null,
   "id": "e5b5dca5-a007-4977-8647-9471e72b839a",
   "metadata": {},
   "outputs": [],
   "source": [
    "@tool\n",
    "def delete_booking(booking_id: str) -> dict:\n",
    "    \"\"\"\n",
    "    Delete an existing restaurant booking from the DynamoDB table.\n",
    "\n",
    "    This function removes a booking entry from the database based on the provided\n",
    "    booking ID. It's used to cancel reservations in the restaurant booking system.\n",
    "\n",
    "    Args:\n",
    "        booking_id (str): The unique identifier of the booking to delete.\n",
    "                          This should be a string, typically an 8-character UUID.\n",
    "\n",
    "    Returns:\n",
    "        dict: A dictionary containing a message indicating the result of the operation.\n",
    "              If successful, the structure is:\n",
    "              - message (str): A success message with the deleted booking ID\n",
    "              \n",
    "              If the deletion fails (but doesn't raise an exception), it returns a\n",
    "              dictionary with a message indicating the failure.\n",
    "              \n",
    "              In case of an error, it returns a dictionary with an 'error' key\n",
    "              containing the error message.\n",
    "\n",
    "    Raises:\n",
    "        Exception: If there's an error in accessing the DynamoDB table or processing the request.\n",
    "                   The error is caught and returned in the response dictionary.\n",
    "\n",
    "    Example:\n",
    "        >>> delete_booking(\"a1b2c3d4\")\n",
    "        {'message': 'Booking with ID a1b2c3d4 deleted successfully'}\n",
    "    \"\"\"\n",
    "    try:\n",
    "        response = table.delete_item(Key={'booking_id': booking_id})\n",
    "        if response['ResponseMetadata']['HTTPStatusCode'] == 200:\n",
    "            return {'message': f'Booking with ID {booking_id} deleted successfully'}\n",
    "        else:\n",
    "            return {'message': f'Failed to delete booking with ID {booking_id}'}\n",
    "    except Exception as e:\n",
    "        return {'error': str(e)}\n"
   ]
  },
  {
   "cell_type": "code",
   "execution_count": null,
   "id": "6eefe5a2-46ff-46a5-a314-be4a76da68a2",
   "metadata": {},
   "outputs": [],
   "source": [
    "# Define the agent's system prompt (instructions)\n",
    "agent_instruction=\"\"\"\n",
    "## Role\n",
    "You are a ABC Restaurant Booking agent. You are in charge of restaurant reservations.\n",
    "\n",
    "## Instructions\n",
    "- Handle restaurant reservations inquiries and requests from users\n",
    "- Create new bookings when requested with appropriate details\n",
    "- Retrieve booking information when asked\n",
    "- Cancel reservations when requested\n",
    "- Be professional and courteous in all interactions\n",
    "\n",
    "## Output Requirements\n",
    "- When responding to the end user, don't output your thinking steps\n",
    "- Only give useful information to the end user\n",
    "- Confirm all successful bookings, changes, and cancellations clearly\n",
    "\"\"\""
   ]
  },
  {
   "cell_type": "code",
   "execution_count": null,
   "id": "f9b3f807-209b-407b-af03-2d5a994ea5f9",
   "metadata": {},
   "outputs": [],
   "source": [
    "# Initialize the Amazon Bedrock model\n",
    "model = BedrockModel(\n",
    "    model_id=\"us.amazon.nova-pro-v1:0\",  # Using Amazon Nova Pro model\n",
    "    max_tokens=3000,\n",
    "    temperature=1,\n",
    "    top_p=1,\n",
    "    additional_request_fields={\n",
    "        \"inferenceConfig\": {\n",
    "            \"topK\": 1,\n",
    "        },\n",
    "    }\n",
    ")\n",
    "\n",
    "# Create the Strands Agent with our defined tools\n",
    "agent = Agent(\n",
    "    model=model,\n",
    "    system_prompt=agent_instruction,\n",
    "    tools=[current_time, get_booking_details, create_booking, delete_booking],\n",
    "    callback_handler=None\n",
    ")"
   ]
  },
  {
   "cell_type": "code",
   "execution_count": null,
   "id": "77fbb9b1-e9b5-4126-b04b-3689e55ee067",
   "metadata": {},
   "outputs": [],
   "source": [
    "items = selectAllFromDynamodb()\n",
    "items"
   ]
  },
  {
   "cell_type": "markdown",
   "id": "e6acd4ad-d861-440d-bc5a-ec9d7d42da57",
   "metadata": {},
   "source": [
    "## Testing the Agent\n",
    "\n",
    "Now that we have created our restaurant booking agent with all the necessary tools, let's test it with some common booking scenarios.\n",
    "\n",
    "### Scenario 1: Creating a New Reservation\n",
    "\n",
    "First, let's test creating a new booking by having a user request a reservation."
   ]
  },
  {
   "cell_type": "code",
   "execution_count": null,
   "id": "b38de525-52f3-42ea-ab32-bf0b1b903b15",
   "metadata": {},
   "outputs": [],
   "source": [
    "# Send a booking request to our agent\n",
    "response = agent(\n",
    "    \"\"\"Hi, my name is Jane Doe.\n",
    "    I want to book a table for 2 tomorrow at 5pm.\n",
    "    \"\"\"\n",
    ")\n",
    "print(response)"
   ]
  },
  {
   "cell_type": "markdown",
   "id": "c5c4f1d2-9922-4186-8df6-7d9f56bae03a",
   "metadata": {},
   "source": [
    "### Verify Data Storage\n",
    "\n",
    "Let's verify that the booking was successfully added to our DynamoDB table:"
   ]
  },
  {
   "cell_type": "code",
   "execution_count": null,
   "id": "ee91a9ac-d4c0-4fe3-9483-94ced61b8884",
   "metadata": {},
   "outputs": [],
   "source": [
    "items = selectAllFromDynamodb()\n",
    "items"
   ]
  },
  {
   "cell_type": "markdown",
   "id": "be9b1cc8-655a-4090-9f88-10559515a600",
   "metadata": {},
   "source": [
    "## Understanding Strands Sessions & State Management\n",
    "\n",
    "Strands agents maintain conversation context, handle state management, and support persistent sessions across interactions.\n",
    "\n",
    "Key aspects of state management in Strands:\n",
    "\n",
    "1. **Conversation History**: The complete sequence of messages between user and agent\n",
    "2. **Tool State**: Information about tool executions and their results\n",
    "3. **Request State**: Contextual information maintained within a single request\n",
    "\n",
    "This state management allows the agent to maintain context across multiple interactions.\n",
    "\n",
    "Let's examine the conversation history to see how our agent is tracking the interaction:"
   ]
  },
  {
   "cell_type": "code",
   "execution_count": null,
   "id": "b0ec1e2b-3c41-4306-a63d-255acf49bc0b",
   "metadata": {},
   "outputs": [],
   "source": [
    "print(json.dumps(agent.messages, indent=2))"
   ]
  },
  {
   "cell_type": "markdown",
   "id": "a5bbf498-5e47-42d2-ab1a-9f7fde9d81ba",
   "metadata": {},
   "source": [
    "## Analyzing Agent Metrics\n",
    "\n",
    "Metrics are essential for understanding agent performance, optimizing behavior, and monitoring resource usage. The Strands Agents SDK provides comprehensive metrics tracking capabilities that give you visibility into:\n",
    "\n",
    "- Number of API calls made\n",
    "- Tokens used (input and output)\n",
    "- Response times\n",
    "- Tool usage statistics\n",
    "- Model interactions\n",
    "\n",
    "Let's examine the metrics from our agent's response:"
   ]
  },
  {
   "cell_type": "code",
   "execution_count": null,
   "id": "284837ae-e572-4b41-ba0c-1f6f444c39f5",
   "metadata": {},
   "outputs": [],
   "source": [
    "print(json.dumps(response.metrics.get_summary(), indent=2))"
   ]
  },
  {
   "cell_type": "markdown",
   "id": "cc1531bc-f99a-44a4-8a6d-c22a45d41ee0",
   "metadata": {},
   "source": [
    "### Scenario 2: Retrieving Booking Details\n",
    "\n",
    "Now let's test the agent's ability to retrieve booking information based on conversation context. The agent should be able to use the booking_id from the previous interaction."
   ]
  },
  {
   "cell_type": "code",
   "execution_count": null,
   "id": "5a3c6bdd-4799-4a75-8af8-13693aeec0a6",
   "metadata": {},
   "outputs": [],
   "source": [
    "response = agent(\"Wait, can you get the details about the reservation I just made?\")\n",
    "print(response)"
   ]
  },
  {
   "cell_type": "markdown",
   "id": "2ccdc035-ab70-4579-810d-772cc4dbfb73",
   "metadata": {},
   "source": [
    "### Scenario 3: Cancelling a Reservation\n",
    "\n",
    "Finally, let's test the agent's ability to cancel a reservation. The agent should be able to use the booking_id from the conversation context to delete the correct booking."
   ]
  },
  {
   "cell_type": "code",
   "execution_count": null,
   "id": "5eed55f3-b54c-4fc7-94dd-37bcc8bad0b0",
   "metadata": {},
   "outputs": [],
   "source": [
    "response = agent(\"Hmm, I changed my mind, can you cancel my reservation?\")\n",
    "print(response)"
   ]
  },
  {
   "cell_type": "markdown",
   "id": "42894243-4b8b-43eb-a6e7-31c40d298b05",
   "metadata": {},
   "source": [
    "### Verify Booking Deletion\n",
    "\n",
    "Let's check the DynamoDB table again to confirm that the booking was successfully deleted:"
   ]
  },
  {
   "cell_type": "code",
   "execution_count": null,
   "id": "4705adf7-a2e0-4f42-9a7e-8600d317681c",
   "metadata": {},
   "outputs": [],
   "source": [
    "items = selectAllFromDynamodb()\n",
    "items"
   ]
  },
  {
   "cell_type": "markdown",
   "id": "0nysw6wsh2n",
   "metadata": {},
   "source": [
    "## Conclusion\n",
    "\n",
    "In this lab, we've successfully built and tested a restaurant booking agent using the Strands Agents SDK. Let's summarize what we've learned:\n",
    "\n",
    "### Key Accomplishments\n",
    "1. **Agent Creation**: We created a functional AI agent that understands natural language requests and can perform booking operations\n",
    "2. **Tool Integration**: We implemented and integrated several custom tools for managing restaurant bookings:\n",
    "   - Creating new reservations\n",
    "   - Retrieving booking details\n",
    "   - Cancelling reservations\n",
    "3. **State Management**: We observed how Strands maintains conversation context across multiple interactions\n",
    "4. **Metrics Analysis**: We examined performance metrics that help optimize agent behavior\n",
    "\n",
    "### Next Steps\n",
    "\n",
    "The Strands Agents SDK provides a powerful, flexible foundation for building intelligent agents that can handle complex workflows while maintaining contextual awareness. For Strands Agents SDK deep dive, please refer [Strands Agents examples](https://github.com/strands-agents/samples/tree/main)"
   ]
  },
  {
   "cell_type": "code",
   "execution_count": null,
   "id": "0f4a0601-3949-4241-9ad0-ec99e79b0c30",
   "metadata": {},
   "outputs": [],
   "source": []
  }
 ],
 "metadata": {
  "kernelspec": {
   "display_name": "Python 3 (ipykernel)",
   "language": "python",
   "name": "python3"
  },
  "language_info": {
   "codemirror_mode": {
    "name": "ipython",
    "version": 3
   },
   "file_extension": ".py",
   "mimetype": "text/x-python",
   "name": "python",
   "nbconvert_exporter": "python",
   "pygments_lexer": "ipython3",
   "version": "3.12.9"
  }
 },
 "nbformat": 4,
 "nbformat_minor": 5
}
