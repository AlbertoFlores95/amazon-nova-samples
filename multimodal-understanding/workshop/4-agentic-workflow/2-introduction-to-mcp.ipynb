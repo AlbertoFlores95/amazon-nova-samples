{
 "cells": [
  {
   "cell_type": "markdown",
   "metadata": {},
   "source": [
    "# Introduction to Model Context Provider (MCP) Architecture\n",
    "\n",
    "In the previous notebook, we created a restaurant booking agent using the Strands Agents SDK with tools directly defined within our application. In this notebook, we'll evolve our architecture to use the Model Context Provider (MCP) pattern.\n",
    "\n",
    "## What is MCP?\n",
    "\n",
    "Model Context Provider (MCP) is a protocol that allows AI assistants to access external tools, data, and services through a standardized interface. The MCP architecture separates the concerns of:\n",
    "\n",
    "1. **Tool Implementation**: Specialized functionality exposed through an MCP server\n",
    "2. **Agent Orchestration**: The AI agent that uses these tools to accomplish tasks\n",
    "\n",
    "This separation offers several benefits:\n",
    "\n",
    "- **Modularity**: Tools can be developed and maintained independently from agents\n",
    "- **Reusability**: MCP servers can be used by multiple different agents and applications\n",
    "- **Scalability**: Tool collections can grow without modifying agent code\n",
    "- **Cross-Application Support**: Tools can be used across various AI applications supporting the MCP protocol\n",
    "\n",
    "## Our Implementation\n",
    "\n",
    "We've implemented our restaurant booking tools in a separate MCP server that exposes them via the MCP protocol. The agent connects to this server to use these tools. This architecture allows us to:\n",
    "\n",
    "1. Run the tools in a separate process\n",
    "2. Potentially reuse the tools across multiple agents\n",
    "3. Update the tools independently from the agent\n",
    "\n",
    "![Agent Architecture](../images/agent-with-mcp.png)\n",
    "\n",
    "In our updated implementation:\n",
    "\n",
    "- **restaurant_mcp_server.py**: Contains the tool implementations wrapped in an MCP server using FastMCP\n",
    "\n",
    "\n",
    "Let's explore this architecture!"
   ]
  },
  {
   "cell_type": "code",
   "execution_count": 4,
   "metadata": {
    "execution": {
     "iopub.execute_input": "2025-07-28T18:53:21.540525Z",
     "iopub.status.busy": "2025-07-28T18:53:21.540186Z",
     "iopub.status.idle": "2025-07-28T18:53:21.817295Z",
     "shell.execute_reply": "2025-07-28T18:53:21.816543Z",
     "shell.execute_reply.started": "2025-07-28T18:53:21.540501Z"
    }
   },
   "outputs": [],
   "source": [
    "import os\n",
    "import json\n",
    "import socket\n",
    "import subprocess\n",
    "import time\n",
    "from IPython.display import display, HTML\n",
    "import pandas as pd\n",
    "import uuid\n",
    "import boto3\n",
    "from typing import Dict, Any, Optional, List\n",
    "import pandas as pd\n",
    "from IPython.display import Markdown, display\n",
    "from utils import create_dynamodb, selectAllFromDynamodb"
   ]
  },
  {
   "cell_type": "code",
   "execution_count": 5,
   "metadata": {
    "execution": {
     "iopub.execute_input": "2025-07-28T18:53:24.298856Z",
     "iopub.status.busy": "2025-07-28T18:53:24.298251Z",
     "iopub.status.idle": "2025-07-28T18:53:24.359997Z",
     "shell.execute_reply": "2025-07-28T18:53:24.358915Z",
     "shell.execute_reply.started": "2025-07-28T18:53:24.298827Z"
    }
   },
   "outputs": [
    {
     "name": "stdout",
     "output_type": "stream",
     "text": [
      "Table restaurant_bookings already exists, skipping table creation step\n"
     ]
    }
   ],
   "source": [
    "# Setup DynamoDB table for restaurant bookings\n",
    "dynamodb = boto3.resource('dynamodb')\n",
    "table_name = 'restaurant_bookings'\n",
    "create_dynamodb(table_name)  # Create the table if it doesn't exist\n",
    "table = dynamodb.Table(table_name)"
   ]
  },
  {
   "cell_type": "markdown",
   "metadata": {},
   "source": [
    "## 1. How We Wrapped Tools in the MCP Server\n",
    "\n",
    "Let's take a look at how we implemented the MCP server. We used FastMCP, which makes it easy to wrap functions as tools and expose them via the MCP protocol."
   ]
  },
  {
   "cell_type": "code",
   "execution_count": 6,
   "metadata": {
    "execution": {
     "iopub.execute_input": "2025-07-28T18:53:28.836971Z",
     "iopub.status.busy": "2025-07-28T18:53:28.836538Z",
     "iopub.status.idle": "2025-07-28T18:53:28.845755Z",
     "shell.execute_reply": "2025-07-28T18:53:28.845033Z",
     "shell.execute_reply.started": "2025-07-28T18:53:28.836945Z"
    }
   },
   "outputs": [
    {
     "data": {
      "text/markdown": [
       "```import uuid\n",
       "import boto3\n",
       "import argparse\n",
       "from mcp.server.fastmcp import FastMCP\n",
       "from typing import Dict, Any\n",
       "\n",
       "# Initialize FastMCP server\n",
       "mcp = FastMCP(\"restaurant_booking\")\n",
       "\n",
       "# Parse command-line arguments\n",
       "parser = argparse.ArgumentParser(description=\"Restaurant Booking MCP Server\")\n",
       "parser.add_argument(\"--table-name\", help=\"DynamoDB table name\")\n",
       "args, unknown = parser.parse_known_args()\n",
       "\n",
       "# Create/get the DynamoDB table\n",
       "dynamodb = boto3.resource('dynamodb', region_name='us-west-2')\n",
       "\n",
       "# Get table name from environment variable, command-line argument, or use default\n",
       "table_name = args.table_name\n",
       "table = dynamodb.Table(table_name)\n",
       "\n",
       "\n",
       "@mcp.tool()\n",
       "def get_booking_details(booking_id: str) -> Dict[str, Any]:\n",
       "    \"\"\"\n",
       "    Retrieve the details of a specific restaurant booking using its unique identifier.\n",
       "    \n",
       "    Args:\n",
       "        booking_id: The unique identifier of the booking to retrieve.\n",
       "        \n",
       "    Returns:\n",
       "        The booking details if found, otherwise a message indicating no booking was found.\n",
       "    \"\"\"\n",
       "    try:\n",
       "        response = table.get_item(Key={'booking_id': booking_id})\n",
       "        if 'Item' in response:\n",
       "            return response['Item']\n",
       "        else:\n",
       "            return {'message': f'No booking found with ID {booking_id}'}\n",
       "    except Exception as e:\n",
       "        return {'error': str(e)}\n",
       "\n",
       "\n",
       "@mcp.tool()\n",
       "def create_booking(date: str, name: str, hour: str, num_guests: int) -> Dict[str, Any]:\n",
       "    \"\"\"\n",
       "    Create a new restaurant booking and store it in the DynamoDB table.\n",
       "    \n",
       "    Args:\n",
       "        date: The date of the booking in YYYY-MM-DD format.\n",
       "        name: The name to identify the reservation. Typically the guest's name.\n",
       "        hour: The time of the booking in HH:MM format.\n",
       "        num_guests: The number of guests for the booking.\n",
       "        \n",
       "    Returns:\n",
       "        A dictionary containing the booking ID of the newly created reservation.\n",
       "    \"\"\"\n",
       "    try:\n",
       "        booking_id = str(uuid.uuid4())[:8]\n",
       "        table.put_item(\n",
       "            Item={\n",
       "                'booking_id': booking_id,\n",
       "                'date': date,\n",
       "                'name': name,\n",
       "                'hour': hour,\n",
       "                'num_guests': num_guests\n",
       "            }\n",
       "        )\n",
       "        return {'booking_id': booking_id}\n",
       "    except Exception as e:\n",
       "        return {'error': str(e)}\n",
       "\n",
       "\n",
       "@mcp.tool()\n",
       "def delete_booking(booking_id: str) -> Dict[str, Any]:\n",
       "    \"\"\"\n",
       "    Delete an existing restaurant booking from the DynamoDB table.\n",
       "    \n",
       "    Args:\n",
       "        booking_id: The unique identifier of the booking to delete.\n",
       "        \n",
       "    Returns:\n",
       "        A message indicating whether the deletion was successful.\n",
       "    \"\"\"\n",
       "    try:\n",
       "        response = table.delete_item(Key={'booking_id': booking_id})\n",
       "        if response['ResponseMetadata']['HTTPStatusCode'] == 200:\n",
       "            return {'message': f'Booking with ID {booking_id} deleted successfully'}\n",
       "        else:\n",
       "            return {'message': f'Failed to delete booking with ID {booking_id}'}\n",
       "    except Exception as e:\n",
       "        return {'error': str(e)}\n",
       "\n",
       "\n",
       "@mcp.tool()\n",
       "def list_bookings() -> Dict[str, Any]:\n",
       "    \"\"\"\n",
       "    List all current restaurant bookings.\n",
       "    \n",
       "    Returns:\n",
       "        A dictionary containing a list of all bookings.\n",
       "    \"\"\"\n",
       "    try:\n",
       "        response = table.scan()\n",
       "        bookings = response.get('Items', [])\n",
       "        \n",
       "        # Handle pagination if necessary\n",
       "        while 'LastEvaluatedKey' in response:\n",
       "            response = table.scan(ExclusiveStartKey=response['LastEvaluatedKey'])\n",
       "            bookings.extend(response.get('Items', []))\n",
       "        \n",
       "        return {'bookings': bookings}\n",
       "    except Exception as e:\n",
       "        return {'error': str(e)}\n",
       "\n",
       "\n",
       "if __name__ == \"__main__\":\n",
       "    mcp.run(transport='stdio')```"
      ],
      "text/plain": [
       "<IPython.core.display.Markdown object>"
      ]
     },
     "metadata": {},
     "output_type": "display_data"
    }
   ],
   "source": [
    "# Display part of the MCP server implementation\n",
    "with open('restaurant_mcp_server.py', 'r') as f:\n",
    "    code = f.read()\n",
    "\n",
    "display(Markdown(f\"```{code}```\"))"
   ]
  },
  {
   "cell_type": "markdown",
   "metadata": {},
   "source": [
    "As you can see, wrapping a function as an MCP tool is simple with FastMCP:\n",
    "\n",
    "1. Create a FastMCP instance\n",
    "2. Decorate functions with `@mcp.tool()`\n",
    "3. Run the server with `mcp.run()`\n",
    "\n",
    "The MCP server automatically generates the schema for each tool based on the function signatures and docstrings."
   ]
  },
  {
   "cell_type": "markdown",
   "metadata": {},
   "source": [
    "## 2. Create MCP Client"
   ]
  },
  {
   "cell_type": "code",
   "execution_count": 7,
   "metadata": {
    "execution": {
     "iopub.execute_input": "2025-07-28T18:53:29.925875Z",
     "iopub.status.busy": "2025-07-28T18:53:29.925514Z",
     "iopub.status.idle": "2025-07-28T18:53:30.789565Z",
     "shell.execute_reply": "2025-07-28T18:53:30.788789Z",
     "shell.execute_reply.started": "2025-07-28T18:53:29.925849Z"
    }
   },
   "outputs": [],
   "source": [
    "from strands.tools.mcp import MCPClient\n",
    "from mcp import StdioServerParameters, stdio_client\n",
    "\n",
    "session = boto3.Session()\n",
    "credentials = session.get_credentials()\n",
    "creds = credentials.get_frozen_credentials()\n",
    "\n",
    "env = os.environ.copy()\n",
    "env[\"AWS_ACCESS_KEY_ID\"] = creds.access_key\n",
    "env[\"AWS_SECRET_ACCESS_KEY\"] = creds.secret_key\n",
    "env[\"AWS_SESSION_TOKEN\"] = creds.token\n",
    "env[\"AWS_DEFAULT_REGION\"] = \"us-west-2\"\n",
    "\n",
    "restaurant_mcp_client = MCPClient(\n",
    "    lambda: stdio_client(\n",
    "        StdioServerParameters(\n",
    "            command=\"python\", \n",
    "            args=[\"./restaurant_mcp_server.py\", \"--table-name\", table_name], \n",
    "            env=env\n",
    "        )\n",
    "    )\n",
    ")"
   ]
  },
  {
   "cell_type": "markdown",
   "metadata": {},
   "source": [
    "## 3. Set up the agent"
   ]
  },
  {
   "cell_type": "code",
   "execution_count": 8,
   "metadata": {
    "execution": {
     "iopub.execute_input": "2025-07-28T18:53:30.791238Z",
     "iopub.status.busy": "2025-07-28T18:53:30.790758Z",
     "iopub.status.idle": "2025-07-28T18:53:30.864016Z",
     "shell.execute_reply": "2025-07-28T18:53:30.863339Z",
     "shell.execute_reply.started": "2025-07-28T18:53:30.791204Z"
    }
   },
   "outputs": [],
   "source": [
    "# Define the agent's system prompt (instructions)\n",
    "from strands import Agent, tool\n",
    "from strands.models import BedrockModel\n",
    "\n",
    "agent_instruction=\"\"\"\n",
    "## Role\n",
    "You are a ABC Restaurant Booking agent. You are in charge of restaurant reservations.\n",
    "\n",
    "## Instructions\n",
    "- Handle restaurant reservations inquiries and requests from users\n",
    "- Create new bookings when requested with appropriate details\n",
    "- Retrieve booking information when asked\n",
    "- Cancel reservations when requested\n",
    "- Be professional and courteous in all interactions\n",
    "\n",
    "## Output Requirements\n",
    "- When responding to the end user, don't output your thinking steps\n",
    "- Only give useful information to the end user\n",
    "- Confirm all successful bookings, changes, and cancellations clearly\n",
    "\"\"\"\n",
    "\n",
    "# Initialize the Amazon Bedrock model\n",
    "model = BedrockModel(\n",
    "    model_id=\"us.amazon.nova-pro-v1:0\",  # Using Amazon Nova Pro model\n",
    "    max_tokens=3000,\n",
    "    temperature=1,\n",
    "    top_p=1,\n",
    "    additional_request_fields={\n",
    "        \"inferenceConfig\": {\n",
    "            \"topK\": 1,\n",
    "        },\n",
    "    }\n",
    ")"
   ]
  },
  {
   "cell_type": "markdown",
   "metadata": {},
   "source": [
    "## 4. Test the agent under the MCP client context"
   ]
  },
  {
   "cell_type": "code",
   "execution_count": 9,
   "metadata": {
    "execution": {
     "iopub.execute_input": "2025-07-28T18:53:31.607293Z",
     "iopub.status.busy": "2025-07-28T18:53:31.606743Z",
     "iopub.status.idle": "2025-07-28T18:53:35.392269Z",
     "shell.execute_reply": "2025-07-28T18:53:35.391344Z",
     "shell.execute_reply.started": "2025-07-28T18:53:31.607265Z"
    }
   },
   "outputs": [
    {
     "name": "stderr",
     "output_type": "stream",
     "text": [
      "[2025-07-28 18:53:32,524] p6867 {metrics.py:449} INFO - Creating Strands MetricsClient\n"
     ]
    },
    {
     "name": "stdout",
     "output_type": "stream",
     "text": [
      "Your booking has been successfully created. Your booking ID is 68ba7c30. Please keep this ID for any future reference or changes to your booking. Enjoy your meal at ABC Restaurant!\n",
      "\n"
     ]
    }
   ],
   "source": [
    "with restaurant_mcp_client:\n",
    "    tools = restaurant_mcp_client.list_tools_sync()\n",
    "\n",
    "    # Create the Strands Agent with our defined tools\n",
    "    agent = Agent(\n",
    "        model=model,\n",
    "        system_prompt=agent_instruction,\n",
    "        tools=[tools],\n",
    "        callback_handler=None\n",
    "    )\n",
    "\n",
    "    response = agent(\n",
    "        \"\"\"Hi, my name is Jane Doe.\n",
    "        I want to book a table for 2 tomorrow at 5pm.\n",
    "        \"\"\"\n",
    "    )\n",
    "    print(response)"
   ]
  },
  {
   "cell_type": "code",
   "execution_count": 10,
   "metadata": {
    "execution": {
     "iopub.execute_input": "2025-07-28T18:53:35.394160Z",
     "iopub.status.busy": "2025-07-28T18:53:35.393487Z",
     "iopub.status.idle": "2025-07-28T18:53:35.417338Z",
     "shell.execute_reply": "2025-07-28T18:53:35.416583Z",
     "shell.execute_reply.started": "2025-07-28T18:53:35.394127Z"
    }
   },
   "outputs": [
    {
     "data": {
      "text/html": [
       "<div>\n",
       "<style scoped>\n",
       "    .dataframe tbody tr th:only-of-type {\n",
       "        vertical-align: middle;\n",
       "    }\n",
       "\n",
       "    .dataframe tbody tr th {\n",
       "        vertical-align: top;\n",
       "    }\n",
       "\n",
       "    .dataframe thead th {\n",
       "        text-align: right;\n",
       "    }\n",
       "</style>\n",
       "<table border=\"1\" class=\"dataframe\">\n",
       "  <thead>\n",
       "    <tr style=\"text-align: right;\">\n",
       "      <th></th>\n",
       "      <th>num_guests</th>\n",
       "      <th>date</th>\n",
       "      <th>hour</th>\n",
       "      <th>booking_id</th>\n",
       "      <th>name</th>\n",
       "    </tr>\n",
       "  </thead>\n",
       "  <tbody>\n",
       "    <tr>\n",
       "      <th>0</th>\n",
       "      <td>2</td>\n",
       "      <td>2023-10-09</td>\n",
       "      <td>17:00</td>\n",
       "      <td>6b9b00d9</td>\n",
       "      <td>Jane Doe</td>\n",
       "    </tr>\n",
       "    <tr>\n",
       "      <th>1</th>\n",
       "      <td>2</td>\n",
       "      <td>2023-10-09</td>\n",
       "      <td>17:00</td>\n",
       "      <td>68ba7c30</td>\n",
       "      <td>Jane Doe</td>\n",
       "    </tr>\n",
       "  </tbody>\n",
       "</table>\n",
       "</div>"
      ],
      "text/plain": [
       "  num_guests        date   hour booking_id      name\n",
       "0          2  2023-10-09  17:00   6b9b00d9  Jane Doe\n",
       "1          2  2023-10-09  17:00   68ba7c30  Jane Doe"
      ]
     },
     "execution_count": 10,
     "metadata": {},
     "output_type": "execute_result"
    }
   ],
   "source": [
    "items = selectAllFromDynamodb(table_name)\n",
    "items"
   ]
  },
  {
   "cell_type": "code",
   "execution_count": 11,
   "metadata": {
    "execution": {
     "iopub.execute_input": "2025-07-28T18:54:23.459804Z",
     "iopub.status.busy": "2025-07-28T18:54:23.459305Z",
     "iopub.status.idle": "2025-07-28T18:54:27.041757Z",
     "shell.execute_reply": "2025-07-28T18:54:27.041015Z",
     "shell.execute_reply.started": "2025-07-28T18:54:23.459640Z"
    }
   },
   "outputs": [
    {
     "name": "stdout",
     "output_type": "stream",
     "text": [
      "Yes, there are reservations made under the name Jane Doe. Specifically, there are two reservations on October 9, 2023, at 17:00 for 2 guests each. The booking IDs are 6b9b00d9 and 68ba7c30.\n",
      "\n"
     ]
    }
   ],
   "source": [
    "with restaurant_mcp_client:\n",
    "    tools = restaurant_mcp_client.list_tools_sync()\n",
    "\n",
    "    # Create the Strands Agent with our defined tools\n",
    "    agent = Agent(\n",
    "        model=model,\n",
    "        system_prompt=agent_instruction,\n",
    "        tools=[tools],\n",
    "        callback_handler=None\n",
    "    )\n",
    "\n",
    "    response = agent(\n",
    "        \"\"\"Is there a reserversation made under the name Jane Doe?\"\"\"\n",
    "    )\n",
    "    print(response)"
   ]
  },
  {
   "cell_type": "markdown",
   "metadata": {},
   "source": [
    "# Conclusion\n",
    "\n",
    "In this notebook, we've explored how to use the Model Context Provider (MCP) architecture to build a restaurant booking agent. This approach demonstrates a more modular and scalable way to build AI agents, where tools are exposed through a standardized protocol.\n",
    "\n",
    "The FastMCP library makes it easy to wrap functions as tools and expose them via the MCP protocol. This allows us to focus on implementing the actual tool functionality without worrying about the details of the protocol.\n",
    "\n",
    "The MCP architecture is particularly valuable for complex applications where:\n",
    "- Multiple agents need to share tools\n",
    "- Tools need to be maintained independently from agents\n",
    "- New capabilities need to be added without changing agent code\n",
    "- Tools need to be reused across different AI applications"
   ]
  }
 ],
 "metadata": {
  "kernelspec": {
   "display_name": "Python 3 (ipykernel)",
   "language": "python",
   "name": "python3"
  },
  "language_info": {
   "codemirror_mode": {
    "name": "ipython",
    "version": 3
   },
   "file_extension": ".py",
   "mimetype": "text/x-python",
   "name": "python",
   "nbconvert_exporter": "python",
   "pygments_lexer": "ipython3",
   "version": "3.12.9"
  }
 },
 "nbformat": 4,
 "nbformat_minor": 4
}
